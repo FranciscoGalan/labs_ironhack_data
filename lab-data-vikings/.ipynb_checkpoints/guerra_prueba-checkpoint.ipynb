{
 "cells": [
  {
   "cell_type": "markdown",
   "id": "916a6ace-b017-4c36-b706-5a10d6562565",
   "metadata": {},
   "source": [
    "## Preparations"
   ]
  },
  {
   "cell_type": "code",
   "execution_count": 1,
   "id": "aad009f5-02c2-4eb4-b565-750f8e12f892",
   "metadata": {},
   "outputs": [],
   "source": [
    "from vikingsClases import *"
   ]
  },
  {
   "cell_type": "markdown",
   "id": "2456f78f-73e9-4c84-ac1f-1d8494f9153b",
   "metadata": {},
   "source": [
    "Creating some vikings and saxons to see if they work properly."
   ]
  },
  {
   "cell_type": "code",
   "execution_count": 2,
   "id": "3888edf4-720b-48bf-878b-541b4f66c87e",
   "metadata": {},
   "outputs": [
    {
     "name": "stdout",
     "output_type": "stream",
     "text": [
      "Olaf\n",
      "20\n",
      "15\n"
     ]
    },
    {
     "data": {
      "text/plain": [
       "'Odin Owns You All!'"
      ]
     },
     "execution_count": 2,
     "metadata": {},
     "output_type": "execute_result"
    }
   ],
   "source": [
    "vikingo = Viking('Olaf', 20, 15)\n",
    "print(vikingo.name)\n",
    "print(vikingo.health)\n",
    "print(vikingo.strength)\n",
    "vikingo.battleCry()"
   ]
  },
  {
   "cell_type": "code",
   "execution_count": 3,
   "id": "49798270-de67-44f3-800f-32f44a2a6736",
   "metadata": {},
   "outputs": [
    {
     "name": "stdout",
     "output_type": "stream",
     "text": [
      "30\n",
      "10\n"
     ]
    }
   ],
   "source": [
    "saxon = Saxon(30, 10)\n",
    "print(saxon.health)\n",
    "print(saxon.strength)"
   ]
  },
  {
   "cell_type": "markdown",
   "id": "8e124ddc-622e-4391-9920-430a925fd7b6",
   "metadata": {},
   "source": [
    "## War"
   ]
  },
  {
   "cell_type": "code",
   "execution_count": 4,
   "id": "b3053e24-a445-4f78-9fa5-c12dc8a4a235",
   "metadata": {},
   "outputs": [],
   "source": [
    "# Create War object\n",
    "guerra1 = War()"
   ]
  },
  {
   "cell_type": "markdown",
   "id": "837189d8-70ef-4ece-a0fb-a8f6b969fb17",
   "metadata": {},
   "source": [
    "Adding the viking army:"
   ]
  },
  {
   "cell_type": "code",
   "execution_count": 5,
   "id": "3db6e756-4f33-49fe-b2af-aa192b7e0f1e",
   "metadata": {},
   "outputs": [
    {
     "data": {
      "text/plain": [
       "[<vikingsClases.Viking at 0x23a0e611f10>,\n",
       " <vikingsClases.Viking at 0x23a0e611fa0>,\n",
       " <vikingsClases.Viking at 0x23a0e6110d0>,\n",
       " <vikingsClases.Viking at 0x23a0e611df0>,\n",
       " <vikingsClases.Viking at 0x23a0e611070>,\n",
       " <vikingsClases.Viking at 0x23a0e5d5340>,\n",
       " <vikingsClases.Viking at 0x23a0e625040>]"
      ]
     },
     "execution_count": 5,
     "metadata": {},
     "output_type": "execute_result"
    }
   ],
   "source": [
    "for i in range(0, 7):\n",
    "    guerra1.addViking(Viking('Erik', 20, 15))\n",
    "    \n",
    "guerra1.vikingArmy"
   ]
  },
  {
   "cell_type": "markdown",
   "id": "d0cede27-f1d3-4539-9c30-f4f657b0f208",
   "metadata": {},
   "source": [
    "Adding the saxon army:"
   ]
  },
  {
   "cell_type": "code",
   "execution_count": 6,
   "id": "13419979-bd79-45ea-bc6e-1c16144fb18b",
   "metadata": {},
   "outputs": [
    {
     "data": {
      "text/plain": [
       "[<vikingsClases.Saxon at 0x23a0e6256a0>,\n",
       " <vikingsClases.Saxon at 0x23a0e6256d0>,\n",
       " <vikingsClases.Saxon at 0x23a0e625760>,\n",
       " <vikingsClases.Saxon at 0x23a0e6257c0>,\n",
       " <vikingsClases.Saxon at 0x23a0e625820>,\n",
       " <vikingsClases.Saxon at 0x23a0e625880>,\n",
       " <vikingsClases.Saxon at 0x23a0e6258e0>]"
      ]
     },
     "execution_count": 6,
     "metadata": {},
     "output_type": "execute_result"
    }
   ],
   "source": [
    "for i in range(0, 7):\n",
    "    guerra1.addSaxon(Saxon(30, 10))\n",
    "    \n",
    "guerra1.saxonArmy"
   ]
  },
  {
   "cell_type": "markdown",
   "id": "e784f125-a985-4b01-b5b5-912eeda75d06",
   "metadata": {},
   "source": [
    "First attack by the vikings:"
   ]
  },
  {
   "cell_type": "code",
   "execution_count": 7,
   "id": "bd4e3b6e-dae4-4db7-b8f4-f1ec6b556105",
   "metadata": {},
   "outputs": [
    {
     "name": "stdout",
     "output_type": "stream",
     "text": [
      "Vikings and Saxons are still in the thick of battle.\n",
      "30\n",
      "15\n",
      "30\n",
      "30\n",
      "30\n",
      "30\n",
      "30\n"
     ]
    }
   ],
   "source": [
    "guerra1.vikingAttack()\n",
    "print(guerra1.showStatus())\n",
    "\n",
    "# Print the health of the saxon army to check if attack worked\n",
    "for i in guerra1.saxonArmy:\n",
    "    print(i.health)"
   ]
  },
  {
   "cell_type": "code",
   "execution_count": 8,
   "id": "0cca5cf9-0517-4764-986a-f168f1bd47fb",
   "metadata": {},
   "outputs": [
    {
     "name": "stdout",
     "output_type": "stream",
     "text": [
      "Vikings and Saxons are still in the thick of battle.\n",
      "20\n",
      "10\n",
      "20\n",
      "20\n",
      "20\n",
      "20\n",
      "20\n"
     ]
    }
   ],
   "source": [
    "guerra1.saxonAttack()\n",
    "print(guerra1.showStatus())\n",
    "\n",
    "for i in guerra1.vikingArmy:\n",
    "    print(i.health)"
   ]
  },
  {
   "cell_type": "markdown",
   "id": "e411bce4-401a-4045-bfed-4863b249f0ee",
   "metadata": {},
   "source": [
    "Continue the fight until there is a winner:"
   ]
  },
  {
   "cell_type": "code",
   "execution_count": 9,
   "id": "b07c82f8-d6c7-4117-8a4c-3122f77d7d15",
   "metadata": {},
   "outputs": [
    {
     "name": "stdout",
     "output_type": "stream",
     "text": [
      "Vikings have won the war of the century!\n"
     ]
    }
   ],
   "source": [
    "while True:\n",
    "    \n",
    "    if not guerra1.vikingArmy:\n",
    "        print(guerra1.showStatus())\n",
    "        break\n",
    "    \n",
    "    guerra1.vikingAttack()\n",
    "    \n",
    "    if not guerra1.saxonArmy:\n",
    "        print(guerra1.showStatus())\n",
    "        break \n",
    "         \n",
    "    guerra1.saxonAttack()\n",
    "    "
   ]
  }
 ],
 "metadata": {
  "kernelspec": {
   "display_name": "Python 3",
   "language": "python",
   "name": "python3"
  },
  "language_info": {
   "codemirror_mode": {
    "name": "ipython",
    "version": 3
   },
   "file_extension": ".py",
   "mimetype": "text/x-python",
   "name": "python",
   "nbconvert_exporter": "python",
   "pygments_lexer": "ipython3",
   "version": "3.8.8"
  }
 },
 "nbformat": 4,
 "nbformat_minor": 5
}
