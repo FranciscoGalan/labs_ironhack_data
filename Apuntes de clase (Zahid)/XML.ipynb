{
 "cells": [
  {
   "cell_type": "markdown",
   "id": "adfce661-d295-47f0-8e81-70d5ca0ebd15",
   "metadata": {},
   "source": [
    "# XML"
   ]
  },
  {
   "cell_type": "markdown",
   "id": "595f9cbb-8e3d-44e9-beaa-f4710c0ebe30",
   "metadata": {},
   "source": [
    "Trabajaremos con el formato XML (extensible markup language), que es típicamente lo que arroja un RSS. Sirve para almacenar información.\n",
    "\n",
    "Se parece al HTML, es decir, permite estructurar información. "
   ]
  },
  {
   "cell_type": "code",
   "execution_count": 1,
   "id": "8cb1dac8-3610-470d-aff9-3073f0b56b1b",
   "metadata": {},
   "outputs": [],
   "source": [
    "import re\n",
    "import requests\n",
    "import xml.etree.ElementTree as ET"
   ]
  },
  {
   "cell_type": "code",
   "execution_count": 5,
   "id": "d0c25002-10e7-4fad-9153-679c77daf0ab",
   "metadata": {},
   "outputs": [
    {
     "data": {
      "text/plain": [
       "200"
      ]
     },
     "execution_count": 5,
     "metadata": {},
     "output_type": "execute_result"
    }
   ],
   "source": [
    "respo = requests.get('https://www.inegi.org.mx/rss/noticias/xmlfeeds?p=2,1')\n",
    "respo.status_code"
   ]
  },
  {
   "cell_type": "code",
   "execution_count": 10,
   "id": "36ebe158-22a8-49dc-919f-2697720fb185",
   "metadata": {},
   "outputs": [
    {
     "data": {
      "text/plain": [
       "b'<rss version=\"2.0\" encoding=\"UTF-8\"><channel><description>Canal de noticias del INEGI</description><link>https://www.inegi.org.mx</link><title>INEGI Noticias</title><item><title>Indicadores Trimestrales de la Actividad Tur\\xc3\\xadstica</title><link>http://www.inegi.org.mx/app/saladeprensa/noticia.html?id=6922</link><description>En el segundo trimestre del a\\xc3\\xb1o en curso, el Indicador Trimestral del PIB Tur\\xc3\\xadstico registr\\xc3\\xb3 un aumento de 9.2%....</description><pubDate>Fri, 12 Nov 2021 00:00:00 GMT</pubDate></item><item><title>Indicador Mensual de la Actividad Industrial</title><link>http://www.inegi.org.mx/app/saladeprensa/noticia.html?id=6921</link><description>El Indicador Mensual de la Actividad Industrial (IMAI) disminuy\\xc3\\xb3 1.4% en t\\xc3\\xa9rminos reales....</description><pubDate>Thu, 11 Nov 2021 00:00:00 GMT</pubDate></item><item><title>Indicador Mensual de la Actividad Industrial por Entidad Federativa</title><link>http://www.inegi.org.mx/app/saladeprensa/noticia.html?id=6920</link><description'"
      ]
     },
     "execution_count": 10,
     "metadata": {},
     "output_type": "execute_result"
    }
   ],
   "source": [
    "noticias = respo.content\n",
    "noticias[:1000]"
   ]
  },
  {
   "cell_type": "code",
   "execution_count": 13,
   "id": "0d00ee6d-68ce-4828-a5c5-92dacb8a72c0",
   "metadata": {},
   "outputs": [
    {
     "data": {
      "text/plain": [
       "<Element 'rss' at 0x000002295FFBB220>"
      ]
     },
     "execution_count": 13,
     "metadata": {},
     "output_type": "execute_result"
    }
   ],
   "source": [
    "# Creamos un árbol de noticias\n",
    "tree = ET.fromstring(noticias)\n",
    "tree"
   ]
  },
  {
   "cell_type": "code",
   "execution_count": 41,
   "id": "c33233fb-97ba-4a29-91e4-e6cdf2d322ad",
   "metadata": {},
   "outputs": [
    {
     "data": {
      "text/plain": [
       "bytes"
      ]
     },
     "execution_count": 41,
     "metadata": {},
     "output_type": "execute_result"
    }
   ],
   "source": [
    "type(noticias)"
   ]
  },
  {
   "cell_type": "code",
   "execution_count": 45,
   "id": "d0224f93-146a-41d8-8d49-d8f8f0719e9a",
   "metadata": {},
   "outputs": [],
   "source": [
    "# Usamos el wb para escribir directo en bytes. Intentamos pasar los bytes\n",
    "# a string con .decode()\n",
    "with open('datos/noticias_inegi_13112021.xml', 'wb') as f:\n",
    "    f.write(noticias)"
   ]
  },
  {
   "cell_type": "code",
   "execution_count": 46,
   "id": "b47a5110-699e-436d-8e55-9c7b28694c7c",
   "metadata": {},
   "outputs": [],
   "source": [
    "tree2= ET.parse('datos/noticias_inegi_13112021.xml')"
   ]
  },
  {
   "cell_type": "code",
   "execution_count": 48,
   "id": "295e956d-0dab-4b95-b8b7-9dfda7debe29",
   "metadata": {},
   "outputs": [
    {
     "data": {
      "text/plain": [
       "<Element 'rss' at 0x00000229600DE4F0>"
      ]
     },
     "execution_count": 48,
     "metadata": {},
     "output_type": "execute_result"
    }
   ],
   "source": [
    "# La raíz del documento\n",
    "tree2.getroot()"
   ]
  },
  {
   "cell_type": "code",
   "execution_count": 49,
   "id": "df62cd13-6601-4023-ac32-3700ac1510b0",
   "metadata": {},
   "outputs": [
    {
     "data": {
      "text/plain": [
       "xml.etree.ElementTree.Element"
      ]
     },
     "execution_count": 49,
     "metadata": {},
     "output_type": "execute_result"
    }
   ],
   "source": [
    "type(tree)"
   ]
  },
  {
   "cell_type": "code",
   "execution_count": 50,
   "id": "94cdce09-864d-4e98-a8d4-5512a7b0c3a4",
   "metadata": {},
   "outputs": [
    {
     "data": {
      "text/plain": [
       "xml.etree.ElementTree.ElementTree"
      ]
     },
     "execution_count": 50,
     "metadata": {},
     "output_type": "execute_result"
    }
   ],
   "source": [
    "type(tree2)"
   ]
  },
  {
   "cell_type": "markdown",
   "id": "36978ca2-34dc-478d-9b43-85e6448d6602",
   "metadata": {},
   "source": [
    "Puedes ir comparando lo que vamos pidiendo desde [este enlace](https://www.inegi.org.mx/rss/noticias/xmlfeeds?p=2,1)"
   ]
  },
  {
   "cell_type": "code",
   "execution_count": 51,
   "id": "0c6ed58c-a152-490d-99a8-f985fa64ca15",
   "metadata": {},
   "outputs": [
    {
     "data": {
      "text/plain": [
       "{'version': '2.0', 'encoding': 'UTF-8'}"
      ]
     },
     "execution_count": 51,
     "metadata": {},
     "output_type": "execute_result"
    }
   ],
   "source": [
    "tree.attrib"
   ]
  },
  {
   "cell_type": "code",
   "execution_count": 53,
   "id": "f90c633f-cfef-4a08-8cb3-7a8a82836981",
   "metadata": {},
   "outputs": [
    {
     "data": {
      "text/plain": [
       "<Element 'channel' at 0x000002295FFBB860>"
      ]
     },
     "execution_count": 53,
     "metadata": {},
     "output_type": "execute_result"
    }
   ],
   "source": [
    "# Puedes ir accediendo a los elementos con los índices ej. [0][1]\n",
    "# Cada etiqueta que abre y cierra cuenta como un elemento\n",
    "tree[0]"
   ]
  },
  {
   "cell_type": "code",
   "execution_count": 54,
   "id": "6f56e286-562b-48f8-84e1-0b8d05e4c2a0",
   "metadata": {},
   "outputs": [],
   "source": [
    "channel = tree[0]"
   ]
  },
  {
   "cell_type": "code",
   "execution_count": 55,
   "id": "22d4f0a6-1992-4518-a8ad-59efd70292b7",
   "metadata": {},
   "outputs": [
    {
     "data": {
      "text/plain": [
       "<Element 'description' at 0x000002295FFBB6D0>"
      ]
     },
     "execution_count": 55,
     "metadata": {},
     "output_type": "execute_result"
    }
   ],
   "source": [
    "channel[0]"
   ]
  },
  {
   "cell_type": "code",
   "execution_count": 61,
   "id": "dc8be863-173e-419a-a481-e60108dc3a53",
   "metadata": {},
   "outputs": [
    {
     "name": "stdout",
     "output_type": "stream",
     "text": [
      "Indicadores Trimestrales de la Actividad Turística\n",
      "Indicador Mensual de la Actividad Industrial\n",
      "Indicador Mensual de la Actividad Industrial por Entidad Federativa\n",
      "Encuestas de Viajeros Internacionales\n",
      "Resultados del Registro Administrativo de la Industria Automotriz de Vehículos Pesados correspondientes a octubre de 2021\n",
      "Índice Nacional de Precios Productor\n",
      "Índice Nacional de Precios al Consumidor\n",
      "Resultados del Registro Administrativo de la Industria Automotriz de Vehículos Ligeros correspondiente a octubre de 2021\n",
      "Indicador Mensual del Consumo Privado en el Mercado Interior\n",
      "Indicador Mensual de la Inversión Fija Bruta en México\n",
      "Encuesta Nacional sobre las Finanzas de los Hogares (ENFIH) 2019\n",
      "Publicación de la Encuesta Nacional sobre las Finanzas de los Hogares (ENFIH) 2019\n",
      "Indicador Mensual Oportuno de la Actividad Manufacturera (IMOAM)\n",
      "Indicador de Confianza del Consumidor\n",
      "Avance de resultados del Registro Administrativo de la Industria Automotriz de Vehículos Ligeros (octubre de 2021)\n",
      "Sistema de Indicadores Cíclicos\n",
      "Indicador de Pedidos Manufactureros\n"
     ]
    }
   ],
   "source": [
    "for element in channel[3:20]:\n",
    "    print(element[0].text)"
   ]
  },
  {
   "cell_type": "code",
   "execution_count": 63,
   "id": "a1bf9467-6e55-4d5c-bc29-3ea4607c6063",
   "metadata": {},
   "outputs": [
    {
     "data": {
      "text/plain": [
       "<_elementtree._element_iterator at 0x2295ffacbd0>"
      ]
     },
     "execution_count": 63,
     "metadata": {},
     "output_type": "execute_result"
    }
   ],
   "source": [
    "# Iter es recursivo y me arroja todo lo que está dentro de algo\n",
    "tree.iter('description') # Aquí le pongo el tag que quiero"
   ]
  },
  {
   "cell_type": "code",
   "execution_count": 66,
   "id": "136b3c8f-7d32-4eef-bfc3-b3d54b2f6766",
   "metadata": {},
   "outputs": [
    {
     "data": {
      "text/plain": [
       "['Canal de noticias del INEGI',\n",
       " 'En el segundo trimestre del año en curso, el Indicador Trimestral del PIB Turístico registró un aumento de 9.2%....',\n",
       " 'El Indicador Mensual de la Actividad Industrial (IMAI) disminuyó 1.4% en términos reales....',\n",
       " 'Las entidades que mostraron los aumentos mensuales más importantes en su Actividad Industrial en términos reales fueron Tlaxcala, Nayarit, Puebla....',\n",
       " 'Durante septiembre de 2021 ingresaron al país 4,379,221 visitantes, de los cuales 2,456,216 fueron turistas internacionales....']"
      ]
     },
     "execution_count": 66,
     "metadata": {},
     "output_type": "execute_result"
    }
   ],
   "source": [
    "[x.text for x in tree.iter('description')][:5]"
   ]
  },
  {
   "cell_type": "code",
   "execution_count": null,
   "id": "f100da06-8ba3-4600-b1ff-f2e4b0cd8706",
   "metadata": {},
   "outputs": [],
   "source": []
  }
 ],
 "metadata": {
  "kernelspec": {
   "display_name": "Python 3",
   "language": "python",
   "name": "python3"
  },
  "language_info": {
   "codemirror_mode": {
    "name": "ipython",
    "version": 3
   },
   "file_extension": ".py",
   "mimetype": "text/x-python",
   "name": "python",
   "nbconvert_exporter": "python",
   "pygments_lexer": "ipython3",
   "version": "3.8.8"
  }
 },
 "nbformat": 4,
 "nbformat_minor": 5
}
