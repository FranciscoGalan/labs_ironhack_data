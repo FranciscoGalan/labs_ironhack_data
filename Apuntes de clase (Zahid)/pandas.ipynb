{
 "cells": [
  {
   "cell_type": "code",
   "execution_count": 1,
   "id": "0635ee92-014a-4f20-a642-5acde71a350f",
   "metadata": {},
   "outputs": [],
   "source": [
    "import pandas as pd\n",
    "import numpy as np\n",
    "import random"
   ]
  },
  {
   "cell_type": "code",
   "execution_count": 2,
   "id": "327cf29e-b39b-451f-9611-79db8e2182e6",
   "metadata": {},
   "outputs": [
    {
     "data": {
      "text/plain": [
       "'1.20.1'"
      ]
     },
     "execution_count": 2,
     "metadata": {},
     "output_type": "execute_result"
    }
   ],
   "source": [
    "pd.__version__\n",
    "np.__version__"
   ]
  },
  {
   "cell_type": "code",
   "execution_count": 3,
   "id": "ba10d016-97e8-49f7-bfce-8752c47d8726",
   "metadata": {},
   "outputs": [
    {
     "data": {
      "text/plain": [
       "array([85, 25, 49, 69, 19,  1, 20, 65, 29, 87])"
      ]
     },
     "execution_count": 3,
     "metadata": {},
     "output_type": "execute_result"
    }
   ],
   "source": [
    "data = np.random.randint(100, size=10)\n",
    "data"
   ]
  },
  {
   "cell_type": "code",
   "execution_count": 4,
   "id": "2ca4814b-0735-411b-b1c0-48394c57e624",
   "metadata": {},
   "outputs": [
    {
     "data": {
      "text/plain": [
       "0    85\n",
       "1    25\n",
       "2    49\n",
       "3    69\n",
       "4    19\n",
       "5     1\n",
       "6    20\n",
       "7    65\n",
       "8    29\n",
       "9    87\n",
       "dtype: int32"
      ]
     },
     "execution_count": 4,
     "metadata": {},
     "output_type": "execute_result"
    }
   ],
   "source": [
    "serie = pd.Series(data)\n",
    "serie"
   ]
  },
  {
   "cell_type": "code",
   "execution_count": 5,
   "id": "6dff7004-7656-4fe5-b238-5eb266d67f1a",
   "metadata": {},
   "outputs": [
    {
     "data": {
      "text/plain": [
       "19"
      ]
     },
     "execution_count": 5,
     "metadata": {},
     "output_type": "execute_result"
    }
   ],
   "source": [
    "serie[4]"
   ]
  },
  {
   "cell_type": "code",
   "execution_count": 6,
   "id": "48d7c631-f946-4547-a8a1-b17698799bc8",
   "metadata": {},
   "outputs": [
    {
     "data": {
      "text/plain": [
       "A_1     85\n",
       "A_2     25\n",
       "A_3     49\n",
       "A_4     69\n",
       "A_5     19\n",
       "A_6      1\n",
       "A_7     20\n",
       "A_8     65\n",
       "A_9     29\n",
       "A_10    87\n",
       "dtype: int32"
      ]
     },
     "execution_count": 6,
     "metadata": {},
     "output_type": "execute_result"
    }
   ],
   "source": [
    "# Puedes asignar un índice distinto\n",
    "pd.Series(data, index=[\"A_\" + str(i) for i in range(1, 11)])"
   ]
  },
  {
   "cell_type": "code",
   "execution_count": 7,
   "id": "4f207416-5ca0-4e0e-b81d-901f0fa7a228",
   "metadata": {},
   "outputs": [
    {
     "ename": "SyntaxError",
     "evalue": "closing parenthesis ']' does not match opening parenthesis '(' (<ipython-input-7-7e4b72886007>, line 1)",
     "output_type": "error",
     "traceback": [
      "\u001b[1;36m  File \u001b[1;32m\"<ipython-input-7-7e4b72886007>\"\u001b[1;36m, line \u001b[1;32m1\u001b[0m\n\u001b[1;33m    pd.Series(data, index=[i for i in range(random(1, 11)])\u001b[0m\n\u001b[1;37m                                                         ^\u001b[0m\n\u001b[1;31mSyntaxError\u001b[0m\u001b[1;31m:\u001b[0m closing parenthesis ']' does not match opening parenthesis '('\n"
     ]
    }
   ],
   "source": [
    "pd.Series(data, index=[i for i in range(random(1, 11)])"
   ]
  },
  {
   "cell_type": "code",
   "execution_count": 8,
   "id": "d99847ea-c000-4a05-9079-aededf77d3aa",
   "metadata": {},
   "outputs": [
    {
     "name": "stdout",
     "output_type": "stream",
     "text": [
      "[3, 2, 7, 4, 1, 6, 8, 5, 10, 9]\n"
     ]
    }
   ],
   "source": [
    "mylist = [i for i in range(1, 11)]\n",
    "random.shuffle(mylist)\n",
    "print(mylist)\n"
   ]
  },
  {
   "cell_type": "code",
   "execution_count": 9,
   "id": "ef9eb3e6-2553-4140-bc4a-77e3277e4a5a",
   "metadata": {},
   "outputs": [
    {
     "data": {
      "text/plain": [
       "array([[61, 22],\n",
       "       [55, 11],\n",
       "       [33, 89],\n",
       "       [37, 46],\n",
       "       [70, 20],\n",
       "       [15, 35],\n",
       "       [89, 46],\n",
       "       [30, 56],\n",
       "       [82, 69],\n",
       "       [51, 50]])"
      ]
     },
     "execution_count": 9,
     "metadata": {},
     "output_type": "execute_result"
    }
   ],
   "source": [
    "np.random.randint(100, size=(10, 2))\n"
   ]
  },
  {
   "cell_type": "code",
   "execution_count": 10,
   "id": "ad694bdb-a04a-451d-b3d9-ae77ce3d789e",
   "metadata": {},
   "outputs": [],
   "source": [
    "data = pd.DataFrame(np.random.randint(100, size=(10, 2)))"
   ]
  },
  {
   "cell_type": "code",
   "execution_count": 11,
   "id": "0c482115-2c29-4cef-8de3-f81fe4b48fa1",
   "metadata": {},
   "outputs": [],
   "source": [
    "data.columns = ['Renombre1', '2']"
   ]
  },
  {
   "cell_type": "code",
   "execution_count": 12,
   "id": "cac2ee35-d536-4ee3-98ef-1b3b718ba509",
   "metadata": {},
   "outputs": [
    {
     "data": {
      "text/html": [
       "<div>\n",
       "<style scoped>\n",
       "    .dataframe tbody tr th:only-of-type {\n",
       "        vertical-align: middle;\n",
       "    }\n",
       "\n",
       "    .dataframe tbody tr th {\n",
       "        vertical-align: top;\n",
       "    }\n",
       "\n",
       "    .dataframe thead th {\n",
       "        text-align: right;\n",
       "    }\n",
       "</style>\n",
       "<table border=\"1\" class=\"dataframe\">\n",
       "  <thead>\n",
       "    <tr style=\"text-align: right;\">\n",
       "      <th></th>\n",
       "      <th>Renombre1</th>\n",
       "      <th>2</th>\n",
       "    </tr>\n",
       "  </thead>\n",
       "  <tbody>\n",
       "    <tr>\n",
       "      <th>0</th>\n",
       "      <td>0</td>\n",
       "      <td>91</td>\n",
       "    </tr>\n",
       "    <tr>\n",
       "      <th>1</th>\n",
       "      <td>2</td>\n",
       "      <td>76</td>\n",
       "    </tr>\n",
       "    <tr>\n",
       "      <th>2</th>\n",
       "      <td>47</td>\n",
       "      <td>43</td>\n",
       "    </tr>\n",
       "    <tr>\n",
       "      <th>3</th>\n",
       "      <td>68</td>\n",
       "      <td>30</td>\n",
       "    </tr>\n",
       "    <tr>\n",
       "      <th>4</th>\n",
       "      <td>16</td>\n",
       "      <td>77</td>\n",
       "    </tr>\n",
       "  </tbody>\n",
       "</table>\n",
       "</div>"
      ],
      "text/plain": [
       "   Renombre1   2\n",
       "0          0  91\n",
       "1          2  76\n",
       "2         47  43\n",
       "3         68  30\n",
       "4         16  77"
      ]
     },
     "execution_count": 12,
     "metadata": {},
     "output_type": "execute_result"
    }
   ],
   "source": [
    "data.head()"
   ]
  },
  {
   "cell_type": "code",
   "execution_count": 13,
   "id": "e7dca326-34c1-46e2-bc53-ed826709fe5e",
   "metadata": {},
   "outputs": [
    {
     "data": {
      "text/plain": [
       "Type help() for interactive help, or help(object) for help about object."
      ]
     },
     "execution_count": 13,
     "metadata": {},
     "output_type": "execute_result"
    }
   ],
   "source": [
    "help"
   ]
  },
  {
   "cell_type": "markdown",
   "id": "46029450-ced1-4734-b37a-5dd84ec91305",
   "metadata": {},
   "source": [
    "Al .rename() hay que pasarle un \"map\", es decir, un diccionario. "
   ]
  },
  {
   "cell_type": "code",
   "execution_count": 14,
   "id": "9b5dae7f-8340-460d-a9ca-fb8470eeb7a9",
   "metadata": {},
   "outputs": [],
   "source": [
    "data.rename(columns = {\"Renombre1\": \"Edad_calamar\"}, inplace=True)"
   ]
  },
  {
   "cell_type": "code",
   "execution_count": 15,
   "id": "d797f21a-81dd-4e40-8b5b-9160c851b0f0",
   "metadata": {},
   "outputs": [
    {
     "data": {
      "text/html": [
       "<div>\n",
       "<style scoped>\n",
       "    .dataframe tbody tr th:only-of-type {\n",
       "        vertical-align: middle;\n",
       "    }\n",
       "\n",
       "    .dataframe tbody tr th {\n",
       "        vertical-align: top;\n",
       "    }\n",
       "\n",
       "    .dataframe thead th {\n",
       "        text-align: right;\n",
       "    }\n",
       "</style>\n",
       "<table border=\"1\" class=\"dataframe\">\n",
       "  <thead>\n",
       "    <tr style=\"text-align: right;\">\n",
       "      <th></th>\n",
       "      <th>Edad_calamar</th>\n",
       "      <th>2</th>\n",
       "    </tr>\n",
       "  </thead>\n",
       "  <tbody>\n",
       "    <tr>\n",
       "      <th>0</th>\n",
       "      <td>0</td>\n",
       "      <td>91</td>\n",
       "    </tr>\n",
       "    <tr>\n",
       "      <th>1</th>\n",
       "      <td>2</td>\n",
       "      <td>76</td>\n",
       "    </tr>\n",
       "    <tr>\n",
       "      <th>2</th>\n",
       "      <td>47</td>\n",
       "      <td>43</td>\n",
       "    </tr>\n",
       "    <tr>\n",
       "      <th>3</th>\n",
       "      <td>68</td>\n",
       "      <td>30</td>\n",
       "    </tr>\n",
       "    <tr>\n",
       "      <th>4</th>\n",
       "      <td>16</td>\n",
       "      <td>77</td>\n",
       "    </tr>\n",
       "  </tbody>\n",
       "</table>\n",
       "</div>"
      ],
      "text/plain": [
       "   Edad_calamar   2\n",
       "0             0  91\n",
       "1             2  76\n",
       "2            47  43\n",
       "3            68  30\n",
       "4            16  77"
      ]
     },
     "execution_count": 15,
     "metadata": {},
     "output_type": "execute_result"
    }
   ],
   "source": [
    "data.head()"
   ]
  },
  {
   "cell_type": "code",
   "execution_count": 16,
   "id": "a3366a45-4661-46ee-a2e5-3a9e51918b31",
   "metadata": {},
   "outputs": [
    {
     "ename": "TypeError",
     "evalue": "id() takes exactly one argument (0 given)",
     "output_type": "error",
     "traceback": [
      "\u001b[1;31m---------------------------------------------------------------------------\u001b[0m",
      "\u001b[1;31mTypeError\u001b[0m                                 Traceback (most recent call last)",
      "\u001b[1;32m<ipython-input-16-f30dbaa2f5af>\u001b[0m in \u001b[0;36m<module>\u001b[1;34m\u001b[0m\n\u001b[1;32m----> 1\u001b[1;33m \u001b[0mid\u001b[0m\u001b[1;33m(\u001b[0m\u001b[1;33m)\u001b[0m \u001b[1;31m# El identificador interno que Python le da a todo\u001b[0m\u001b[1;33m\u001b[0m\u001b[1;33m\u001b[0m\u001b[0m\n\u001b[0m",
      "\u001b[1;31mTypeError\u001b[0m: id() takes exactly one argument (0 given)"
     ]
    }
   ],
   "source": [
    "id() # El identificador interno que Python le da a todo"
   ]
  },
  {
   "cell_type": "code",
   "execution_count": null,
   "id": "d5f14875-268d-40d8-b3cc-7c6fdf04d20c",
   "metadata": {},
   "outputs": [],
   "source": [
    "lista_1 = ['Tesla', 'Muere']\n",
    "lista_2 = ['a', 'b']\n",
    "list(zip(lista_1, lista_2)) # Te crea unas tuplas agrupadas"
   ]
  },
  {
   "cell_type": "code",
   "execution_count": null,
   "id": "bdab411e-eebe-4ffd-ac85-04d8975443c3",
   "metadata": {},
   "outputs": [],
   "source": [
    "a = (\"John\", \"Charles\", \"Mike\")\n",
    "b = (\"Jenny\", \"Christy\", \"Monica\")\n",
    "\n",
    "x = zip(a, b)\n",
    "\n",
    "#use the tuple() function to display a readable version of the result:\n",
    "\n",
    "print(tuple(x))"
   ]
  },
  {
   "cell_type": "code",
   "execution_count": null,
   "id": "135668aa-b59b-49a7-aae1-2873ce168f19",
   "metadata": {},
   "outputs": [],
   "source": [
    "data = pd.DataFrame([[1,2,3], [2,3,4]])\n",
    "data"
   ]
  },
  {
   "cell_type": "code",
   "execution_count": null,
   "id": "9ae36988-8b75-415f-b962-df84bb11ee28",
   "metadata": {},
   "outputs": [],
   "source": [
    "data.T"
   ]
  },
  {
   "cell_type": "code",
   "execution_count": null,
   "id": "f5753a69-5898-4e7d-b5f5-2d7f75d2ad0f",
   "metadata": {},
   "outputs": [],
   "source": [
    "data.set_index(0, inplace=True) # Para pasar una columna que ya existe al índice"
   ]
  },
  {
   "cell_type": "code",
   "execution_count": null,
   "id": "25a7c93f-fe32-4e36-a086-b5c7c08557b0",
   "metadata": {},
   "outputs": [],
   "source": [
    "data"
   ]
  },
  {
   "cell_type": "code",
   "execution_count": null,
   "id": "a46b158d-a3c1-4a55-831a-94c378f77860",
   "metadata": {},
   "outputs": [],
   "source": [
    "data.reset_index(inplace=True) # Devuelve con la columna del índice a las columnas"
   ]
  },
  {
   "cell_type": "code",
   "execution_count": 17,
   "id": "ab01d446-3820-42ee-844e-894a72821c2a",
   "metadata": {},
   "outputs": [
    {
     "data": {
      "text/html": [
       "<div>\n",
       "<style scoped>\n",
       "    .dataframe tbody tr th:only-of-type {\n",
       "        vertical-align: middle;\n",
       "    }\n",
       "\n",
       "    .dataframe tbody tr th {\n",
       "        vertical-align: top;\n",
       "    }\n",
       "\n",
       "    .dataframe thead th {\n",
       "        text-align: right;\n",
       "    }\n",
       "</style>\n",
       "<table border=\"1\" class=\"dataframe\">\n",
       "  <thead>\n",
       "    <tr style=\"text-align: right;\">\n",
       "      <th></th>\n",
       "      <th>Edad_calamar</th>\n",
       "      <th>2</th>\n",
       "    </tr>\n",
       "  </thead>\n",
       "  <tbody>\n",
       "    <tr>\n",
       "      <th>0</th>\n",
       "      <td>0</td>\n",
       "      <td>91</td>\n",
       "    </tr>\n",
       "    <tr>\n",
       "      <th>1</th>\n",
       "      <td>2</td>\n",
       "      <td>76</td>\n",
       "    </tr>\n",
       "    <tr>\n",
       "      <th>2</th>\n",
       "      <td>47</td>\n",
       "      <td>43</td>\n",
       "    </tr>\n",
       "    <tr>\n",
       "      <th>3</th>\n",
       "      <td>68</td>\n",
       "      <td>30</td>\n",
       "    </tr>\n",
       "    <tr>\n",
       "      <th>4</th>\n",
       "      <td>16</td>\n",
       "      <td>77</td>\n",
       "    </tr>\n",
       "    <tr>\n",
       "      <th>5</th>\n",
       "      <td>99</td>\n",
       "      <td>9</td>\n",
       "    </tr>\n",
       "    <tr>\n",
       "      <th>6</th>\n",
       "      <td>12</td>\n",
       "      <td>64</td>\n",
       "    </tr>\n",
       "    <tr>\n",
       "      <th>7</th>\n",
       "      <td>53</td>\n",
       "      <td>3</td>\n",
       "    </tr>\n",
       "    <tr>\n",
       "      <th>8</th>\n",
       "      <td>47</td>\n",
       "      <td>15</td>\n",
       "    </tr>\n",
       "    <tr>\n",
       "      <th>9</th>\n",
       "      <td>32</td>\n",
       "      <td>28</td>\n",
       "    </tr>\n",
       "  </tbody>\n",
       "</table>\n",
       "</div>"
      ],
      "text/plain": [
       "   Edad_calamar   2\n",
       "0             0  91\n",
       "1             2  76\n",
       "2            47  43\n",
       "3            68  30\n",
       "4            16  77\n",
       "5            99   9\n",
       "6            12  64\n",
       "7            53   3\n",
       "8            47  15\n",
       "9            32  28"
      ]
     },
     "execution_count": 17,
     "metadata": {},
     "output_type": "execute_result"
    }
   ],
   "source": [
    "data"
   ]
  },
  {
   "cell_type": "code",
   "execution_count": 19,
   "id": "107e8546-01e1-4517-8de5-116dfc406fd7",
   "metadata": {},
   "outputs": [
    {
     "data": {
      "text/plain": [
       "index  Edad_calamar  2 \n",
       "0      0             91    1\n",
       "1      2             76    1\n",
       "2      47            43    1\n",
       "3      68            30    1\n",
       "4      16            77    1\n",
       "5      99            9     1\n",
       "6      12            64    1\n",
       "7      53            3     1\n",
       "8      47            15    1\n",
       "9      32            28    1\n",
       "dtype: int64"
      ]
     },
     "execution_count": 19,
     "metadata": {},
     "output_type": "execute_result"
    }
   ],
   "source": [
    "data.value_counts()"
   ]
  },
  {
   "cell_type": "markdown",
   "id": "6ba89b68-59c9-4f38-b87e-c4e7592b1c03",
   "metadata": {},
   "source": [
    "Si lo vuelves a pasar, te vuelve a poner otra columna"
   ]
  },
  {
   "cell_type": "code",
   "execution_count": 18,
   "id": "38e8f898-fc7a-41b3-bdcf-0cd13bb939e9",
   "metadata": {},
   "outputs": [
    {
     "data": {
      "text/html": [
       "<div>\n",
       "<style scoped>\n",
       "    .dataframe tbody tr th:only-of-type {\n",
       "        vertical-align: middle;\n",
       "    }\n",
       "\n",
       "    .dataframe tbody tr th {\n",
       "        vertical-align: top;\n",
       "    }\n",
       "\n",
       "    .dataframe thead th {\n",
       "        text-align: right;\n",
       "    }\n",
       "</style>\n",
       "<table border=\"1\" class=\"dataframe\">\n",
       "  <thead>\n",
       "    <tr style=\"text-align: right;\">\n",
       "      <th></th>\n",
       "      <th>index</th>\n",
       "      <th>Edad_calamar</th>\n",
       "      <th>2</th>\n",
       "    </tr>\n",
       "  </thead>\n",
       "  <tbody>\n",
       "    <tr>\n",
       "      <th>0</th>\n",
       "      <td>0</td>\n",
       "      <td>0</td>\n",
       "      <td>91</td>\n",
       "    </tr>\n",
       "    <tr>\n",
       "      <th>1</th>\n",
       "      <td>1</td>\n",
       "      <td>2</td>\n",
       "      <td>76</td>\n",
       "    </tr>\n",
       "    <tr>\n",
       "      <th>2</th>\n",
       "      <td>2</td>\n",
       "      <td>47</td>\n",
       "      <td>43</td>\n",
       "    </tr>\n",
       "    <tr>\n",
       "      <th>3</th>\n",
       "      <td>3</td>\n",
       "      <td>68</td>\n",
       "      <td>30</td>\n",
       "    </tr>\n",
       "    <tr>\n",
       "      <th>4</th>\n",
       "      <td>4</td>\n",
       "      <td>16</td>\n",
       "      <td>77</td>\n",
       "    </tr>\n",
       "    <tr>\n",
       "      <th>5</th>\n",
       "      <td>5</td>\n",
       "      <td>99</td>\n",
       "      <td>9</td>\n",
       "    </tr>\n",
       "    <tr>\n",
       "      <th>6</th>\n",
       "      <td>6</td>\n",
       "      <td>12</td>\n",
       "      <td>64</td>\n",
       "    </tr>\n",
       "    <tr>\n",
       "      <th>7</th>\n",
       "      <td>7</td>\n",
       "      <td>53</td>\n",
       "      <td>3</td>\n",
       "    </tr>\n",
       "    <tr>\n",
       "      <th>8</th>\n",
       "      <td>8</td>\n",
       "      <td>47</td>\n",
       "      <td>15</td>\n",
       "    </tr>\n",
       "    <tr>\n",
       "      <th>9</th>\n",
       "      <td>9</td>\n",
       "      <td>32</td>\n",
       "      <td>28</td>\n",
       "    </tr>\n",
       "  </tbody>\n",
       "</table>\n",
       "</div>"
      ],
      "text/plain": [
       "   index  Edad_calamar   2\n",
       "0      0             0  91\n",
       "1      1             2  76\n",
       "2      2            47  43\n",
       "3      3            68  30\n",
       "4      4            16  77\n",
       "5      5            99   9\n",
       "6      6            12  64\n",
       "7      7            53   3\n",
       "8      8            47  15\n",
       "9      9            32  28"
      ]
     },
     "execution_count": 18,
     "metadata": {},
     "output_type": "execute_result"
    }
   ],
   "source": [
    "data.reset_index(inplace=True)\n",
    "data"
   ]
  },
  {
   "cell_type": "markdown",
   "id": "fbeb591e-d36c-4cd7-939a-d1577ba04d5f",
   "metadata": {},
   "source": [
    "Pero si le pones \"drop\", ya no guarda el índice:"
   ]
  },
  {
   "cell_type": "code",
   "execution_count": null,
   "id": "b6d1ea0f-d73a-4753-9c9c-b7c06fb33562",
   "metadata": {},
   "outputs": [],
   "source": [
    "data.reset_index(drop=True, inplace=True)"
   ]
  },
  {
   "cell_type": "code",
   "execution_count": null,
   "id": "b2d27ba1-b68f-4acf-9dcb-2a150714b145",
   "metadata": {},
   "outputs": [],
   "source": [
    "data"
   ]
  },
  {
   "cell_type": "code",
   "execution_count": null,
   "id": "f888c084-ee34-46bc-a6b7-e1bf589b6126",
   "metadata": {},
   "outputs": [],
   "source": [
    "data_1 = pd.DataFrame(np.random.randint(10, size=(3, 2)), \n",
    "             columns = ['Primera', 'Segunda'])\n",
    "\n",
    "data_1"
   ]
  },
  {
   "cell_type": "code",
   "execution_count": null,
   "id": "7e59cb75-4894-47bb-bca0-d93a9542b3f0",
   "metadata": {},
   "outputs": [],
   "source": [
    "data_1['Primera']"
   ]
  },
  {
   "cell_type": "code",
   "execution_count": null,
   "id": "021346db-eca0-45ef-9241-45c0049add49",
   "metadata": {},
   "outputs": [],
   "source": [
    "# Lo que estoy haciendo aquí es pasarle una lista\n",
    "data_1[['Primera', 'Segunda']]"
   ]
  },
  {
   "cell_type": "code",
   "execution_count": null,
   "id": "e6957be6-2950-4c89-b086-b762266a3215",
   "metadata": {},
   "outputs": [],
   "source": [
    "# Si yo le paso sin los corchetes (o sea, sin que sea una lista), \n",
    "# me busca una columna que literal se llame \"('Primera', 'Segunda')\"\n",
    "data_1['Primera', 'Segunda']"
   ]
  },
  {
   "cell_type": "code",
   "execution_count": null,
   "id": "e450b7c4-c3fd-4ca0-895c-78f7cc113ef7",
   "metadata": {},
   "outputs": [],
   "source": [
    "data_1.Primera"
   ]
  },
  {
   "cell_type": "code",
   "execution_count": null,
   "id": "1d9cfc21-1142-46d3-891d-4e2c4ed463c9",
   "metadata": {},
   "outputs": [],
   "source": [
    "data_1"
   ]
  },
  {
   "cell_type": "code",
   "execution_count": null,
   "id": "f5bde744-1a9d-4fbd-b5a7-31bb2a076ed5",
   "metadata": {},
   "outputs": [],
   "source": [
    "data_1[['Primera', 'Segunda']].mean()"
   ]
  },
  {
   "cell_type": "code",
   "execution_count": null,
   "id": "b285ad6f-eed1-4068-a997-bad6bc47093d",
   "metadata": {},
   "outputs": [],
   "source": [
    "# Si quiero el promedio de todo pones .mean().mean()\n",
    "data_1[['Primera', 'Segunda']].mean().mean()"
   ]
  },
  {
   "cell_type": "code",
   "execution_count": null,
   "id": "efdb4c11-32a7-48e0-ab1b-883943baa218",
   "metadata": {},
   "outputs": [],
   "source": [
    "# Para sacar promedio por renglón\n",
    "data_1[['Primera', 'Segunda']].mean(axis=1)"
   ]
  },
  {
   "cell_type": "code",
   "execution_count": null,
   "id": "bc371dd8-f180-4f73-aaaa-46a09d2125e9",
   "metadata": {},
   "outputs": [],
   "source": [
    "data_1.Primera + data_1.Segunda"
   ]
  },
  {
   "cell_type": "code",
   "execution_count": null,
   "id": "0a6b80e9-7d2d-4c2c-bfd8-f2c3ecb5540c",
   "metadata": {},
   "outputs": [],
   "source": [
    "# Puedo agregar columnas al igual que con un diccionario en Python\n",
    "data_1['suma_cd_ac'] = data_1.Primera + data_1.Segunda\n",
    "data_1"
   ]
  },
  {
   "cell_type": "markdown",
   "id": "209a7264-902c-4182-b866-91dccd3a8e94",
   "metadata": {},
   "source": [
    "Con los atributos no puedes crear columnas"
   ]
  },
  {
   "cell_type": "code",
   "execution_count": null,
   "id": "15451897-53de-4e03-b1bb-cc98dc0ad6be",
   "metadata": {},
   "outputs": [],
   "source": [
    "data_1.nueva_columna = data_1.Primera + data_1.Segunda"
   ]
  },
  {
   "cell_type": "code",
   "execution_count": null,
   "id": "a892aadc-8f76-453e-9c0c-bca833c1a30f",
   "metadata": {},
   "outputs": [],
   "source": [
    "# Sí se guarda el atributo, pero no lo agrega al DataFrame\n",
    "data_1"
   ]
  },
  {
   "cell_type": "code",
   "execution_count": null,
   "id": "83e26e54-0c5e-4620-823f-cae35ab8baee",
   "metadata": {},
   "outputs": [],
   "source": []
  }
 ],
 "metadata": {
  "kernelspec": {
   "display_name": "Python 3",
   "language": "python",
   "name": "python3"
  },
  "language_info": {
   "codemirror_mode": {
    "name": "ipython",
    "version": 3
   },
   "file_extension": ".py",
   "mimetype": "text/x-python",
   "name": "python",
   "nbconvert_exporter": "python",
   "pygments_lexer": "ipython3",
   "version": "3.8.8"
  }
 },
 "nbformat": 4,
 "nbformat_minor": 5
}
