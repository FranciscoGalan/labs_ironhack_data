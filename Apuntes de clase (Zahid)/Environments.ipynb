{
 "cells": [
  {
   "cell_type": "markdown",
   "id": "9db5301c-ad4e-4311-87af-a680d3270f80",
   "metadata": {},
   "source": [
    "# Ambientes\n",
    "\n",
    "Los ambientes son útiles para conservar cierta configuración para proyectos en específico. Son, literal, una carpeta; si borro la carpeta borro el ambiente.\n",
    "\n",
    "De hecho, ya estoy trabajando en un ambiente. Cuando instalas Python o Anaconda, ya hay un ambiente base que se usa para todo. \n",
    "\n",
    "Un programa busca librerías en donde le dices. Si creas un nuevo ambiente, lo que hace tu programa es buscar primero en las librerías de ese ambiente.\n",
    "\n",
    "Para iniciar un ambiente, sigue estas instrucciones:\n",
    "\n",
    "https://conda.io/projects/conda/en/latest/user-guide/tasks/manage-environments.html#creating-an-environment-with-commands\n",
    "\n",
    "Es latoso escribir cada vez una sesión, entonces puedes crear un alias:\n",
    "- Escribes [un alias] = [todo lo que quieres escribir con poner el alias]\n",
    "\n",
    "Sin embargo, el alis solo se guarda con cada sesión que abres, por lo que cuando cierras la terminal se desactiva el alias. Para que quede permanente, debes agregar ese alias en .bashprofile, que es el archivo que siempre se ejecuta cuando activas un Bash."
   ]
  },
  {
   "cell_type": "code",
   "execution_count": null,
   "id": "21f5000e-9eb2-4eb8-b874-1389071f33ab",
   "metadata": {},
   "outputs": [],
   "source": []
  }
 ],
 "metadata": {
  "kernelspec": {
   "display_name": "Python 3",
   "language": "python",
   "name": "python3"
  },
  "language_info": {
   "codemirror_mode": {
    "name": "ipython",
    "version": 3
   },
   "file_extension": ".py",
   "mimetype": "text/x-python",
   "name": "python",
   "nbconvert_exporter": "python",
   "pygments_lexer": "ipython3",
   "version": "3.8.8"
  }
 },
 "nbformat": 4,
 "nbformat_minor": 5
}
