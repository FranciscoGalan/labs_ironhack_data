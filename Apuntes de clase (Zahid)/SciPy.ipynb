{
 "cells": [
  {
   "cell_type": "code",
   "execution_count": 12,
   "id": "832e1958-f9a3-48ee-bfe1-c5baf4bc01ab",
   "metadata": {},
   "outputs": [],
   "source": [
    "import statistics\n",
    "import numpy as np\n",
    "import pandas as pd\n",
    "import scipy.stats as stats\n",
    "import scipy\n",
    "import math\n",
    "# Otras rutas de Scipy: https://docs.scipy.org/doc/scipy/tutorial/index.html"
   ]
  },
  {
   "cell_type": "code",
   "execution_count": 6,
   "id": "f6457a22-6b00-44a9-8f0f-0fb0bc63858b",
   "metadata": {},
   "outputs": [
    {
     "data": {
      "text/plain": [
       "nan"
      ]
     },
     "execution_count": 6,
     "metadata": {},
     "output_type": "execute_result"
    }
   ],
   "source": [
    "# Formas de crear nan's. Tienen sutiles diferencias, pero para nosotros da igual\n",
    "np.nan\n",
    "math.nan\n",
    "float('nan')"
   ]
  },
  {
   "cell_type": "code",
   "execution_count": 19,
   "id": "7ceb93c0-5731-42cb-bc4e-6a196a116464",
   "metadata": {},
   "outputs": [],
   "source": [
    "lista = [5, 8, 9, 7, 3, 1]\n",
    "lista_nan = [5, 8, np.nan, 7, 3, 1]\n",
    "\n",
    "arr = np.array(lista)\n",
    "arr_nan = np.array(lista_nan)\n",
    "serie = pd.Series(lista)\n",
    "serie_nan = pd.Series(lista_nan)\n",
    "\n",
    "todos = {'lista':lista, 'lista_nan':lista_nan, 'arreglo':arr,\n",
    "         'arreglo_nan':arr_nan, 'serie':serie, 'serie_nan':serie_nan}"
   ]
  },
  {
   "cell_type": "code",
   "execution_count": 10,
   "id": "b1901792-3175-4e29-a265-c4f26617581a",
   "metadata": {},
   "outputs": [
    {
     "name": "stdout",
     "output_type": "stream",
     "text": [
      "lista\n",
      "5.5\n",
      "---------------\n",
      "lista_nan\n",
      "nan\n",
      "---------------\n",
      "arreglo\n",
      "5.5\n",
      "---------------\n",
      "arreglo_nan\n",
      "nan\n",
      "---------------\n",
      "serie\n",
      "5.5\n",
      "---------------\n",
      "serie_nan\n",
      "nan\n",
      "---------------\n"
     ]
    }
   ],
   "source": [
    "for key, val in todos.items():\n",
    "  print(key)\n",
    "  print(sum(val)/len(val))\n",
    "  print('-'*15)"
   ]
  },
  {
   "cell_type": "code",
   "execution_count": 14,
   "id": "961020c7-c587-45f2-8ece-bc525db1d95d",
   "metadata": {},
   "outputs": [
    {
     "name": "stdout",
     "output_type": "stream",
     "text": [
      "lista\n",
      "5.5\n",
      "---------------\n",
      "lista_nan\n",
      "nan\n",
      "---------------\n",
      "arreglo\n",
      "5\n",
      "---------------\n",
      "arreglo_nan\n",
      "nan\n",
      "---------------\n",
      "serie\n",
      "5.5\n",
      "---------------\n",
      "serie_nan\n",
      "nan\n",
      "---------------\n"
     ]
    }
   ],
   "source": [
    "for key, val in todos.items():\n",
    "  print(key)\n",
    "  print(statistics.mean(val))\n",
    "  print('-'*15)"
   ]
  },
  {
   "cell_type": "code",
   "execution_count": 13,
   "id": "9fb6dce6-0d43-4a0b-8d54-a23783211770",
   "metadata": {},
   "outputs": [
    {
     "name": "stdout",
     "output_type": "stream",
     "text": [
      "lista\n",
      "5.5\n",
      "---------------\n",
      "lista_nan\n",
      "nan\n",
      "---------------\n",
      "arreglo\n",
      "5.5\n",
      "---------------\n",
      "arreglo_nan\n",
      "nan\n",
      "---------------\n",
      "serie\n",
      "5.5\n",
      "---------------\n",
      "serie_nan\n",
      "4.8\n",
      "---------------\n"
     ]
    }
   ],
   "source": [
    "for key, val in todos.items():\n",
    "  print(key)\n",
    "  print(np.mean(val))\n",
    "  print('-'*15)"
   ]
  },
  {
   "cell_type": "markdown",
   "id": "af71bc95-93f3-41e7-b19f-11abbf174a68",
   "metadata": {},
   "source": [
    "## Mediana"
   ]
  },
  {
   "cell_type": "markdown",
   "id": "8889d149-38ee-41dc-8873-2fa2fbda9c77",
   "metadata": {},
   "source": [
    "NumPy no nos deja tener nulos al calcular la mediana. Sin embargo, podríamos usar np.nanmedian() para que hiciera como que ese NaN no existe. "
   ]
  },
  {
   "cell_type": "code",
   "execution_count": 20,
   "id": "6ee7c7e9-a1c3-42aa-a0a5-fb135f2e5bdb",
   "metadata": {},
   "outputs": [
    {
     "name": "stdout",
     "output_type": "stream",
     "text": [
      "lista\n",
      "6.0\n",
      "---------------\n",
      "lista_nan\n",
      "nan\n",
      "---------------\n",
      "arreglo\n",
      "6.0\n",
      "---------------\n",
      "arreglo_nan\n",
      "nan\n",
      "---------------\n",
      "serie\n",
      "6.0\n",
      "---------------\n",
      "serie_nan\n",
      "nan\n",
      "---------------\n"
     ]
    }
   ],
   "source": [
    "for key, val in todos.items():\n",
    "  print(key)\n",
    "  print(np.median(val))\n",
    "  print('-'*15)"
   ]
  },
  {
   "cell_type": "markdown",
   "id": "77403f46-27b0-4210-9493-e5ac359b3c54",
   "metadata": {},
   "source": [
    "## Moda"
   ]
  },
  {
   "cell_type": "code",
   "execution_count": 30,
   "id": "63ed1bdc-ea82-4007-9df8-f408257bfa36",
   "metadata": {},
   "outputs": [],
   "source": [
    "# Lista con una moda\n",
    "lista_sencilla = [1,2,3,1,6,1,7,1,54]\n",
    "\n",
    "# Lista con dos modas\n",
    "lista_doble = [1,2,1,2,1,2,6,2,6,1,98,345]"
   ]
  },
  {
   "cell_type": "code",
   "execution_count": 31,
   "id": "82fbf437-7789-44c0-983a-933979128e91",
   "metadata": {},
   "outputs": [
    {
     "data": {
      "text/plain": [
       "1"
      ]
     },
     "execution_count": 31,
     "metadata": {},
     "output_type": "execute_result"
    }
   ],
   "source": [
    "statistics.mode(lista_doble)"
   ]
  },
  {
   "cell_type": "code",
   "execution_count": 32,
   "id": "8b5f01bb-af6d-4825-8ed3-81707612e384",
   "metadata": {},
   "outputs": [
    {
     "data": {
      "text/plain": [
       "ModeResult(mode=array([1]), count=array([4]))"
      ]
     },
     "execution_count": 32,
     "metadata": {},
     "output_type": "execute_result"
    }
   ],
   "source": [
    "stats.mode(lista_sencilla)"
   ]
  },
  {
   "cell_type": "code",
   "execution_count": 33,
   "id": "66bb7d0b-9c10-4ec4-aaf3-e2945273eae7",
   "metadata": {},
   "outputs": [
    {
     "data": {
      "text/plain": [
       "ModeResult(mode=array([1]), count=array([4]))"
      ]
     },
     "execution_count": 33,
     "metadata": {},
     "output_type": "execute_result"
    }
   ],
   "source": [
    "stats.mode(lista_doble)"
   ]
  },
  {
   "cell_type": "markdown",
   "id": "c4e1fc03-db08-4dd6-9250-e9c6173046ff",
   "metadata": {},
   "source": [
    "En NumPy no existe la moda :("
   ]
  },
  {
   "cell_type": "markdown",
   "id": "4b784992-db66-465f-99f8-d46a451d35f5",
   "metadata": {},
   "source": [
    "## Distribuciones"
   ]
  },
  {
   "cell_type": "code",
   "execution_count": 54,
   "id": "9dd9ed88-a5f0-4b38-9730-9baef0147b3e",
   "metadata": {},
   "outputs": [
    {
     "data": {
      "text/plain": [
       "DescribeResult(nobs=6, minmax=(1, 9), mean=5.5, variance=9.5, skewness=-0.33670357262095774, kurtosis=-1.2890858725761773)"
      ]
     },
     "execution_count": 54,
     "metadata": {},
     "output_type": "execute_result"
    }
   ],
   "source": [
    "# Similar a la de pandas\n",
    "stats.describe(lista)"
   ]
  },
  {
   "cell_type": "code",
   "execution_count": 55,
   "id": "5d4d0f42-53cf-4858-bf4a-9a74f4f70a51",
   "metadata": {},
   "outputs": [],
   "source": [
    "# Parar hacer una distribución nomal, creo un objeto como este\n",
    "# Le pueo pasar la media y la desviación estándar\n",
    "# Por defecto la media es 0 y la desv. estándar es 1\n",
    "normal = stats.norm(4,5)"
   ]
  },
  {
   "cell_type": "code",
   "execution_count": 89,
   "id": "c69b0f15-327e-4d5f-bf4b-193fb6e7bc83",
   "metadata": {},
   "outputs": [
    {
     "data": {
      "text/plain": [
       "4.000000000000023"
      ]
     },
     "execution_count": 89,
     "metadata": {},
     "output_type": "execute_result"
    }
   ],
   "source": [
    "# .expect() es el valor esperado, que es la media\n",
    "normal.expect()"
   ]
  },
  {
   "cell_type": "code",
   "execution_count": 57,
   "id": "ae2e1dd4-9484-406f-95cd-05e5e0db6c8f",
   "metadata": {},
   "outputs": [
    {
     "data": {
      "text/plain": [
       "(-5.799819922700269, 13.79981992270027)"
      ]
     },
     "execution_count": 57,
     "metadata": {},
     "output_type": "execute_result"
    }
   ],
   "source": [
    "# Me dice el punto de intervalo de confianza, en el cual caen el 95% de mis datos\n",
    "normal.interval(0.95)"
   ]
  },
  {
   "cell_type": "code",
   "execution_count": 58,
   "id": "5c5e87f8-4c2c-4e77-84f5-8821bc11eef7",
   "metadata": {},
   "outputs": [
    {
     "data": {
      "text/plain": [
       "12.224268134757365"
      ]
     },
     "execution_count": 58,
     "metadata": {},
     "output_type": "execute_result"
    }
   ],
   "source": [
    "# Para sacar un intervalo específico \n",
    "# Otro intervalo de confianza con proba de 95% es (-infinito, 1.6448536269514729)\n",
    "normal.isf(0.05)"
   ]
  },
  {
   "cell_type": "code",
   "execution_count": 59,
   "id": "cee5918e-a360-45a6-946c-fd842a0f025d",
   "metadata": {},
   "outputs": [
    {
     "data": {
      "text/plain": [
       "0.0388372109966426"
      ]
     },
     "execution_count": 59,
     "metadata": {},
     "output_type": "execute_result"
    }
   ],
   "source": [
    "# Función de densidad (probability density function = pdf)\n",
    "# NO es la probabilidad de que tenga 10. Creo que es el punto más alto de la gráfica de la distribución normal. \n",
    "normal.pdf(10)"
   ]
  },
  {
   "cell_type": "code",
   "execution_count": 60,
   "id": "df342569-974c-431a-b6db-920d75cc2841",
   "metadata": {
    "tags": []
   },
   "outputs": [
    {
     "data": {
      "text/plain": [
       "0.8849303297782918"
      ]
     },
     "execution_count": 60,
     "metadata": {},
     "output_type": "execute_result"
    }
   ],
   "source": [
    "# Esta sí es la probabilidad de obtener un número menor o igual a 10\n",
    "normal.cdf(10)"
   ]
  },
  {
   "cell_type": "markdown",
   "id": "ce156b0f-77b3-4fe2-9ab6-9c19e61db46d",
   "metadata": {},
   "source": [
    "Grafiquemos"
   ]
  },
  {
   "cell_type": "code",
   "execution_count": 73,
   "id": "4576aac5-f2cd-4162-93f2-14fdcdb520d7",
   "metadata": {},
   "outputs": [],
   "source": [
    "import matplotlib.pyplot as plt\n",
    "import seaborn as sns"
   ]
  },
  {
   "cell_type": "code",
   "execution_count": 63,
   "id": "f265b8dd-e299-4c2d-b3cd-32c5e5505d47",
   "metadata": {},
   "outputs": [],
   "source": [
    "normal_std = stats.norm()"
   ]
  },
  {
   "cell_type": "code",
   "execution_count": 65,
   "id": "61cb3668-eebb-469b-a1cc-164199aa72fc",
   "metadata": {},
   "outputs": [
    {
     "data": {
      "text/plain": [
       "array([-3.00000000e+00, -2.90000000e+00, -2.80000000e+00, -2.70000000e+00,\n",
       "       -2.60000000e+00, -2.50000000e+00, -2.40000000e+00, -2.30000000e+00,\n",
       "       -2.20000000e+00, -2.10000000e+00, -2.00000000e+00, -1.90000000e+00,\n",
       "       -1.80000000e+00, -1.70000000e+00, -1.60000000e+00, -1.50000000e+00,\n",
       "       -1.40000000e+00, -1.30000000e+00, -1.20000000e+00, -1.10000000e+00,\n",
       "       -1.00000000e+00, -9.00000000e-01, -8.00000000e-01, -7.00000000e-01,\n",
       "       -6.00000000e-01, -5.00000000e-01, -4.00000000e-01, -3.00000000e-01,\n",
       "       -2.00000000e-01, -1.00000000e-01,  2.66453526e-15,  1.00000000e-01,\n",
       "        2.00000000e-01,  3.00000000e-01,  4.00000000e-01,  5.00000000e-01,\n",
       "        6.00000000e-01,  7.00000000e-01,  8.00000000e-01,  9.00000000e-01,\n",
       "        1.00000000e+00,  1.10000000e+00,  1.20000000e+00,  1.30000000e+00,\n",
       "        1.40000000e+00,  1.50000000e+00,  1.60000000e+00,  1.70000000e+00,\n",
       "        1.80000000e+00,  1.90000000e+00,  2.00000000e+00,  2.10000000e+00,\n",
       "        2.20000000e+00,  2.30000000e+00,  2.40000000e+00,  2.50000000e+00,\n",
       "        2.60000000e+00,  2.70000000e+00,  2.80000000e+00,  2.90000000e+00,\n",
       "        3.00000000e+00])"
      ]
     },
     "execution_count": 65,
     "metadata": {},
     "output_type": "execute_result"
    }
   ],
   "source": [
    "x = np.arange(-3, 3.01, 0.1)\n",
    "x"
   ]
  },
  {
   "cell_type": "code",
   "execution_count": 69,
   "id": "a787be6a-3e0a-4ace-9da4-0e0259a47d03",
   "metadata": {},
   "outputs": [
    {
     "data": {
      "text/plain": [
       "array([0.00443185, 0.00595253, 0.00791545, 0.01042093, 0.01358297,\n",
       "       0.0175283 , 0.02239453, 0.02832704, 0.03547459, 0.0439836 ,\n",
       "       0.05399097, 0.06561581, 0.07895016, 0.09404908, 0.11092083,\n",
       "       0.1295176 , 0.14972747, 0.17136859, 0.19418605, 0.21785218,\n",
       "       0.24197072, 0.26608525, 0.28969155, 0.31225393, 0.3332246 ,\n",
       "       0.35206533, 0.36827014, 0.38138782, 0.39104269, 0.39695255,\n",
       "       0.39894228, 0.39695255, 0.39104269, 0.38138782, 0.36827014,\n",
       "       0.35206533, 0.3332246 , 0.31225393, 0.28969155, 0.26608525,\n",
       "       0.24197072, 0.21785218, 0.19418605, 0.17136859, 0.14972747,\n",
       "       0.1295176 , 0.11092083, 0.09404908, 0.07895016, 0.06561581,\n",
       "       0.05399097, 0.0439836 , 0.03547459, 0.02832704, 0.02239453,\n",
       "       0.0175283 , 0.01358297, 0.01042093, 0.00791545, 0.00595253,\n",
       "       0.00443185])"
      ]
     },
     "execution_count": 69,
     "metadata": {},
     "output_type": "execute_result"
    }
   ],
   "source": [
    "# LE aplico esta función a cada punto, es decir, es la altura de cada punto. \n",
    "y = normal_std.pdf(x)\n",
    "y"
   ]
  },
  {
   "cell_type": "code",
   "execution_count": 72,
   "id": "f0e4aa93-1c3f-4357-9b5e-0214acf0cc70",
   "metadata": {},
   "outputs": [
    {
     "data": {
      "image/png": "[encoded data removed]",
      "text/plain": [
       "<Figure size 432x288 with 1 Axes>"
      ]
     },
     "metadata": {
      "needs_background": "light"
     },
     "output_type": "display_data"
    }
   ],
   "source": [
    "plt.plot(x, y);"
   ]
  },
  {
   "cell_type": "code",
   "execution_count": 82,
   "id": "81888082-ac72-4e45-b842-63b30a4179dc",
   "metadata": {},
   "outputs": [
    {
     "data": {
      "image/png": "[encoded data removed]",
      "text/plain": [
       "<Figure size 432x288 with 1 Axes>"
      ]
     },
     "metadata": {},
     "output_type": "display_data"
    }
   ],
   "source": [
    "sns.set_theme()\n",
    "sns.lineplot(x=x, y=y);"
   ]
  },
  {
   "cell_type": "code",
   "execution_count": 87,
   "id": "a89f22d7-4064-457a-8833-c4bd3616f979",
   "metadata": {},
   "outputs": [
    {
     "data": {
      "text/plain": [
       "array([ 0.49671415, -0.1382643 ,  0.64768854,  1.52302986, -0.23415337,\n",
       "       -0.23413696,  1.57921282,  0.76743473, -0.46947439,  0.54256004,\n",
       "       -0.46341769, -0.46572975,  0.24196227, -1.91328024, -1.72491783,\n",
       "       -0.56228753, -1.01283112,  0.31424733, -0.90802408, -1.4123037 ,\n",
       "        1.46564877, -0.2257763 ,  0.0675282 , -1.42474819, -0.54438272,\n",
       "        0.11092259, -1.15099358,  0.37569802, -0.60063869, -0.29169375,\n",
       "       -0.60170661,  1.85227818, -0.01349722, -1.05771093,  0.82254491,\n",
       "       -1.22084365,  0.2088636 , -1.95967012, -1.32818605,  0.19686124,\n",
       "        0.73846658,  0.17136828, -0.11564828, -0.3011037 , -1.47852199,\n",
       "       -0.71984421, -0.46063877,  1.05712223,  0.34361829, -1.76304016,\n",
       "        0.32408397, -0.38508228, -0.676922  ,  0.61167629,  1.03099952,\n",
       "        0.93128012, -0.83921752, -0.30921238,  0.33126343,  0.97554513,\n",
       "       -0.47917424, -0.18565898, -1.10633497, -1.19620662,  0.81252582,\n",
       "        1.35624003, -0.07201012,  1.0035329 ,  0.36163603, -0.64511975,\n",
       "        0.36139561,  1.53803657, -0.03582604,  1.56464366, -2.6197451 ,\n",
       "        0.8219025 ,  0.08704707, -0.29900735,  0.09176078, -1.98756891,\n",
       "       -0.21967189,  0.35711257,  1.47789404, -0.51827022, -0.8084936 ,\n",
       "       -0.50175704,  0.91540212,  0.32875111, -0.5297602 ,  0.51326743,\n",
       "        0.09707755,  0.96864499, -0.70205309, -0.32766215, -0.39210815,\n",
       "       -1.46351495,  0.29612028,  0.26105527,  0.00511346, -0.23458713])"
      ]
     },
     "execution_count": 87,
     "metadata": {},
     "output_type": "execute_result"
    }
   ],
   "source": [
    "# Puedo pedir una muestra\n",
    "normal_std.rvs(100, random_state=42) # El tamaño de mi muestra\n",
    "\n",
    "# Así simulo más o menos, sacar datos aleatorios de la distribución"
   ]
  },
  {
   "cell_type": "code",
   "execution_count": 90,
   "id": "6838d68e-7e60-477b-b09f-3df8398f5646",
   "metadata": {},
   "outputs": [],
   "source": [
    "# 500 clientes y cada uno tiene una probabilidad de comprar de 1/3\n",
    "binomial = stats.binom(500, 1/3)"
   ]
  },
  {
   "cell_type": "code",
   "execution_count": 91,
   "id": "1f98f8b6-a201-429e-8468-635930b78b19",
   "metadata": {},
   "outputs": [
    {
     "data": {
      "text/plain": [
       "166.6666666666417"
      ]
     },
     "execution_count": 91,
     "metadata": {},
     "output_type": "execute_result"
    }
   ],
   "source": [
    "# En promedio, cuántos clientes me comprarán (en otras palabras, cuál es \n",
    "# el valor esperado de que me compren)\n",
    "binomial.expect()"
   ]
  },
  {
   "cell_type": "code",
   "execution_count": 92,
   "id": "3d30621d-9b84-4f0a-98e3-72dff16e35bd",
   "metadata": {},
   "outputs": [
    {
     "data": {
      "text/plain": [
       "(146.0, 187.0)"
      ]
     },
     "execution_count": 92,
     "metadata": {},
     "output_type": "execute_result"
    }
   ],
   "source": [
    "# Cuántos clientes me comprarán con una probabilidad del 95%\n",
    "binomial.interval(0.95)"
   ]
  },
  {
   "cell_type": "code",
   "execution_count": 94,
   "id": "ecb68a50-e1d8-480b-8e94-ad693d1aa74e",
   "metadata": {},
   "outputs": [
    {
     "data": {
      "text/plain": [
       "0.03778719260640801"
      ]
     },
     "execution_count": 94,
     "metadata": {},
     "output_type": "execute_result"
    }
   ],
   "source": [
    "# Probability mass function\n",
    "# Qué tan probable es que me compren exactamente 166 personas\n",
    "binomial.pmf(166)"
   ]
  },
  {
   "cell_type": "markdown",
   "id": "29c35074-eb2d-430a-91a0-d2eb6444abf9",
   "metadata": {},
   "source": [
    "3% de prob de que me compren exactamente 166 personas"
   ]
  },
  {
   "cell_type": "code",
   "execution_count": 96,
   "id": "629f18fa-f192-457c-ac25-7a1bbedfef39",
   "metadata": {},
   "outputs": [
    {
     "data": {
      "text/plain": [
       "0.49579770091446485"
      ]
     },
     "execution_count": 96,
     "metadata": {},
     "output_type": "execute_result"
    }
   ],
   "source": [
    "# Probabilidad acumulada\n",
    "binomial.cdf(166)"
   ]
  },
  {
   "cell_type": "code",
   "execution_count": 98,
   "id": "f9775041-6433-4c59-98fc-91532dc74076",
   "metadata": {},
   "outputs": [
    {
     "data": {
      "text/plain": [
       "0.49579770091446485"
      ]
     },
     "execution_count": 98,
     "metadata": {},
     "output_type": "execute_result"
    }
   ],
   "source": [
    "# Sale igual qeu el anterior porque no me pueden comprar 166.99 personas, solo números enteros\n",
    "binomial.cdf(166.99999)"
   ]
  },
  {
   "cell_type": "code",
   "execution_count": 102,
   "id": "7a0ae104-7a4b-447d-b2c2-a2f592f15a98",
   "metadata": {},
   "outputs": [
    {
     "data": {
      "text/plain": [
       "array([  0,   1,   2,   3,   4,   5,   6,   7,   8,   9,  10,  11,  12,\n",
       "        13,  14,  15,  16,  17,  18,  19,  20,  21,  22,  23,  24,  25,\n",
       "        26,  27,  28,  29,  30,  31,  32,  33,  34,  35,  36,  37,  38,\n",
       "        39,  40,  41,  42,  43,  44,  45,  46,  47,  48,  49,  50,  51,\n",
       "        52,  53,  54,  55,  56,  57,  58,  59,  60,  61,  62,  63,  64,\n",
       "        65,  66,  67,  68,  69,  70,  71,  72,  73,  74,  75,  76,  77,\n",
       "        78,  79,  80,  81,  82,  83,  84,  85,  86,  87,  88,  89,  90,\n",
       "        91,  92,  93,  94,  95,  96,  97,  98,  99, 100, 101, 102, 103,\n",
       "       104, 105, 106, 107, 108, 109, 110, 111, 112, 113, 114, 115, 116,\n",
       "       117, 118, 119, 120, 121, 122, 123, 124, 125, 126, 127, 128, 129,\n",
       "       130, 131, 132, 133, 134, 135, 136, 137, 138, 139, 140, 141, 142,\n",
       "       143, 144, 145, 146, 147, 148, 149, 150, 151, 152, 153, 154, 155,\n",
       "       156, 157, 158, 159, 160, 161, 162, 163, 164, 165, 166, 167, 168,\n",
       "       169, 170, 171, 172, 173, 174, 175, 176, 177, 178, 179, 180, 181,\n",
       "       182, 183, 184, 185, 186, 187, 188, 189, 190, 191, 192, 193, 194,\n",
       "       195, 196, 197, 198, 199, 200, 201, 202, 203, 204, 205, 206, 207,\n",
       "       208, 209, 210, 211, 212, 213, 214, 215, 216, 217, 218, 219, 220,\n",
       "       221, 222, 223, 224, 225, 226, 227, 228, 229, 230, 231, 232, 233,\n",
       "       234, 235, 236, 237, 238, 239, 240, 241, 242, 243, 244, 245, 246,\n",
       "       247, 248, 249, 250, 251, 252, 253, 254, 255, 256, 257, 258, 259,\n",
       "       260, 261, 262, 263, 264, 265, 266, 267, 268, 269, 270, 271, 272,\n",
       "       273, 274, 275, 276, 277, 278, 279, 280, 281, 282, 283, 284, 285,\n",
       "       286, 287, 288, 289, 290, 291, 292, 293, 294, 295, 296, 297, 298,\n",
       "       299, 300, 301, 302, 303, 304, 305, 306, 307, 308, 309, 310, 311,\n",
       "       312, 313, 314, 315, 316, 317, 318, 319, 320, 321, 322, 323, 324,\n",
       "       325, 326, 327, 328, 329, 330, 331, 332, 333, 334, 335, 336, 337,\n",
       "       338, 339, 340, 341, 342, 343, 344, 345, 346, 347, 348, 349, 350,\n",
       "       351, 352, 353, 354, 355, 356, 357, 358, 359, 360, 361, 362, 363,\n",
       "       364, 365, 366, 367, 368, 369, 370, 371, 372, 373, 374, 375, 376,\n",
       "       377, 378, 379, 380, 381, 382, 383, 384, 385, 386, 387, 388, 389,\n",
       "       390, 391, 392, 393, 394, 395, 396, 397, 398, 399, 400, 401, 402,\n",
       "       403, 404, 405, 406, 407, 408, 409, 410, 411, 412, 413, 414, 415,\n",
       "       416, 417, 418, 419, 420, 421, 422, 423, 424, 425, 426, 427, 428,\n",
       "       429, 430, 431, 432, 433, 434, 435, 436, 437, 438, 439, 440, 441,\n",
       "       442, 443, 444, 445, 446, 447, 448, 449, 450, 451, 452, 453, 454,\n",
       "       455, 456, 457, 458, 459, 460, 461, 462, 463, 464, 465, 466, 467,\n",
       "       468, 469, 470, 471, 472, 473, 474, 475, 476, 477, 478, 479, 480,\n",
       "       481, 482, 483, 484, 485, 486, 487, 488, 489, 490, 491, 492, 493,\n",
       "       494, 495, 496, 497, 498, 499, 500])"
      ]
     },
     "execution_count": 102,
     "metadata": {},
     "output_type": "execute_result"
    }
   ],
   "source": [
    "# Vamos a ver el rango de personas que me pueden comprar y plotearlo\n",
    "x = np.arange(0, 501)\n",
    "x"
   ]
  },
  {
   "cell_type": "code",
   "execution_count": 104,
   "id": "8f036b31-df2c-479e-b63e-6eb8712ed836",
   "metadata": {},
   "outputs": [
    {
     "data": {
      "image/png": "[encoded data removed]",
      "text/plain": [
       "<Figure size 432x288 with 1 Axes>"
      ]
     },
     "metadata": {},
     "output_type": "display_data"
    }
   ],
   "source": [
    "plt.scatter(x, binomial.pmf(x));"
   ]
  },
  {
   "cell_type": "code",
   "execution_count": 106,
   "id": "bd6fbda6-1692-4bee-8a3b-657692ebe0d2",
   "metadata": {},
   "outputs": [
    {
     "data": {
      "image/png": "[encoded data removed]",
      "text/plain": [
       "<Figure size 432x288 with 1 Axes>"
      ]
     },
     "metadata": {},
     "output_type": "display_data"
    }
   ],
   "source": [
    "# Esa gráfica es así, por el pico anterior. De pronto sube mucho la probabilidad de que un valor caiga ahí\n",
    "plt.scatter(x, binomial.cdf(x));"
   ]
  },
  {
   "cell_type": "code",
   "execution_count": null,
   "id": "60267c04-25e7-403e-9060-569aa5558c22",
   "metadata": {},
   "outputs": [],
   "source": []
  }
 ],
 "metadata": {
  "kernelspec": {
   "display_name": "Python 3",
   "language": "python",
   "name": "python3"
  },
  "language_info": {
   "codemirror_mode": {
    "name": "ipython",
    "version": 3
   },
   "file_extension": ".py",
   "mimetype": "text/x-python",
   "name": "python",
   "nbconvert_exporter": "python",
   "pygments_lexer": "ipython3",
   "version": "3.8.8"
  }
 },
 "nbformat": 4,
 "nbformat_minor": 5
}
