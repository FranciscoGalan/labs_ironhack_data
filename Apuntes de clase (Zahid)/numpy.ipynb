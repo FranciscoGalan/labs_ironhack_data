{
 "cells": [
  {
   "cell_type": "markdown",
   "id": "5bb1460b-3724-428a-b9f8-e10e74a531c0",
   "metadata": {},
   "source": [
    "# Numpy"
   ]
  },
  {
   "cell_type": "markdown",
   "id": "d5210a50-9dfe-4753-97e5-9adc21822ea3",
   "metadata": {},
   "source": [
    "Texto"
   ]
  },
  {
   "cell_type": "code",
   "execution_count": 10,
   "id": "5b1bade6-ebbf-440b-aad0-4b5da31cfefb",
   "metadata": {},
   "outputs": [],
   "source": [
    "import numpy as np\n",
    "import pandas as pd"
   ]
  },
  {
   "cell_type": "code",
   "execution_count": 11,
   "id": "dc39860c-ba17-45dc-8cbf-bf0d9e64c6f2",
   "metadata": {},
   "outputs": [
    {
     "data": {
      "text/html": [
       "<div>\n",
       "<style scoped>\n",
       "    .dataframe tbody tr th:only-of-type {\n",
       "        vertical-align: middle;\n",
       "    }\n",
       "\n",
       "    .dataframe tbody tr th {\n",
       "        vertical-align: top;\n",
       "    }\n",
       "\n",
       "    .dataframe thead th {\n",
       "        text-align: right;\n",
       "    }\n",
       "</style>\n",
       "<table border=\"1\" class=\"dataframe\">\n",
       "  <thead>\n",
       "    <tr style=\"text-align: right;\">\n",
       "      <th></th>\n",
       "      <th>0</th>\n",
       "      <th>1</th>\n",
       "      <th>2</th>\n",
       "    </tr>\n",
       "  </thead>\n",
       "  <tbody>\n",
       "    <tr>\n",
       "      <th>0</th>\n",
       "      <td>1.0</td>\n",
       "      <td>1.0</td>\n",
       "      <td>1.0</td>\n",
       "    </tr>\n",
       "    <tr>\n",
       "      <th>1</th>\n",
       "      <td>1.0</td>\n",
       "      <td>1.0</td>\n",
       "      <td>1.0</td>\n",
       "    </tr>\n",
       "  </tbody>\n",
       "</table>\n",
       "</div>"
      ],
      "text/plain": [
       "     0    1    2\n",
       "0  1.0  1.0  1.0\n",
       "1  1.0  1.0  1.0"
      ]
     },
     "execution_count": 11,
     "metadata": {},
     "output_type": "execute_result"
    }
   ],
   "source": [
    "pd.DataFrame(np.ones((2, 3)))"
   ]
  },
  {
   "cell_type": "code",
   "execution_count": 7,
   "id": "c623bfec-d347-4f4e-818d-07b89b9fc079",
   "metadata": {},
   "outputs": [
    {
     "data": {
      "text/plain": [
       "array([[1., 1., 1.],\n",
       "       [1., 1., 1.]])"
      ]
     },
     "execution_count": 7,
     "metadata": {},
     "output_type": "execute_result"
    }
   ],
   "source": [
    "np.ones((2, 3))"
   ]
  },
  {
   "cell_type": "code",
   "execution_count": 12,
   "id": "bfcc1c6a-4d77-4375-88bc-5eafcaad63d1",
   "metadata": {},
   "outputs": [],
   "source": [
    "my_arr = np.arange(1_000_000)\n",
    "my_list = list(range(1_000_000))"
   ]
  },
  {
   "cell_type": "code",
   "execution_count": 41,
   "id": "bce2e83d-bf57-4a4d-bac9-2f8f4a0aa1de",
   "metadata": {},
   "outputs": [
    {
     "name": "stdout",
     "output_type": "stream",
     "text": [
      "Wall time: 26 ms\n"
     ]
    }
   ],
   "source": [
    "%time for _ in range(10): my_arr2 = my_arr * 2"
   ]
  },
  {
   "cell_type": "code",
   "execution_count": 42,
   "id": "bb652d57-11fc-4596-87e8-058dda0c1f9c",
   "metadata": {},
   "outputs": [
    {
     "name": "stdout",
     "output_type": "stream",
     "text": [
      "Wall time: 1.21 s\n"
     ]
    }
   ],
   "source": [
    "%time for _ in range(10): my_list2 = [x * 2 for x in my_list]"
   ]
  },
  {
   "cell_type": "markdown",
   "id": "8cb1d150-1434-4df9-b474-3250a3d1a8a0",
   "metadata": {},
   "source": [
    "## Creación de objetos"
   ]
  },
  {
   "cell_type": "code",
   "execution_count": 129,
   "id": "95be4cee-5ef4-48f2-852a-67341c6611dd",
   "metadata": {},
   "outputs": [
    {
     "data": {
      "text/plain": [
       "array([[[-0.329532  , -0.22742442,  0.61722264],\n",
       "        [ 2.21210455, -1.57542876,  2.62895663]],\n",
       "\n",
       "       [[-1.07026226, -0.09341155, -0.59112337],\n",
       "        [-0.24701735,  0.33303291,  0.97928691]]])"
      ]
     },
     "execution_count": 129,
     "metadata": {},
     "output_type": "execute_result"
    }
   ],
   "source": [
    "np.random.randn(2, 2, 3) # Para valores aleatorios"
   ]
  },
  {
   "cell_type": "code",
   "execution_count": 3,
   "id": "6dc87f30-24e4-4138-9610-4995a5f7491a",
   "metadata": {},
   "outputs": [
    {
     "data": {
      "text/plain": [
       "array([0., 0., 0., 0., 0.])"
      ]
     },
     "execution_count": 3,
     "metadata": {},
     "output_type": "execute_result"
    }
   ],
   "source": [
    "np.zeros(5)"
   ]
  },
  {
   "cell_type": "code",
   "execution_count": 9,
   "id": "745f6d7a-9052-46cc-8489-3c4065fba072",
   "metadata": {},
   "outputs": [
    {
     "data": {
      "text/plain": [
       "array([1., 1., 1., 1., 1., 1.])"
      ]
     },
     "execution_count": 9,
     "metadata": {},
     "output_type": "execute_result"
    }
   ],
   "source": [
    "np.ones(6)"
   ]
  },
  {
   "cell_type": "markdown",
   "id": "7474a1dc-b646-48c9-8649-57800c6cf86a",
   "metadata": {},
   "source": [
    "Para poner varias dimensiones le pones doble paréntesis (que es realmente pasarle una tupla)"
   ]
  },
  {
   "cell_type": "code",
   "execution_count": 10,
   "id": "c7a99b11-5ef0-4a9b-a7f9-75460a2e3ffd",
   "metadata": {},
   "outputs": [
    {
     "data": {
      "text/plain": [
       "array([[1., 1., 1.],\n",
       "       [1., 1., 1.]])"
      ]
     },
     "execution_count": 10,
     "metadata": {},
     "output_type": "execute_result"
    }
   ],
   "source": [
    "np.ones((2, 3))"
   ]
  },
  {
   "cell_type": "markdown",
   "id": "c77019d9-9038-4b47-a8c9-1fe7a9a5d8c9",
   "metadata": {},
   "source": [
    "np.empty no genera ceros como tal. Genera un array sin algún valor en particular."
   ]
  },
  {
   "cell_type": "code",
   "execution_count": 11,
   "id": "9fcbc790-3a64-41aa-97fb-7bc956e709f9",
   "metadata": {},
   "outputs": [
    {
     "data": {
      "text/plain": [
       "array([0., 0., 0., 0., 0.])"
      ]
     },
     "execution_count": 11,
     "metadata": {},
     "output_type": "execute_result"
    }
   ],
   "source": [
    "np.empty(5)"
   ]
  },
  {
   "cell_type": "markdown",
   "id": "e29975d1-37c8-4b8b-ae90-367057b9cd8b",
   "metadata": {},
   "source": [
    "¿Qué hace np.full? Te llena con el número que le pones afuera"
   ]
  },
  {
   "cell_type": "code",
   "execution_count": 14,
   "id": "d9bca11e-d9e3-4274-9b2d-b58d3c5b167f",
   "metadata": {},
   "outputs": [
    {
     "data": {
      "text/plain": [
       "array([[[4, 4, 4, 4, 4],\n",
       "        [4, 4, 4, 4, 4]],\n",
       "\n",
       "       [[4, 4, 4, 4, 4],\n",
       "        [4, 4, 4, 4, 4]]])"
      ]
     },
     "execution_count": 14,
     "metadata": {},
     "output_type": "execute_result"
    }
   ],
   "source": [
    "np.full((2, 2, 5), 4)"
   ]
  },
  {
   "cell_type": "markdown",
   "id": "3e0b7cdf-af30-48f2-805e-4098f3ea1d37",
   "metadata": {},
   "source": [
    "A np.array le puedes pasar un sequence-like object. Puedes pasar una lista, por ejemplo, o una lista de listas."
   ]
  },
  {
   "cell_type": "code",
   "execution_count": 20,
   "id": "1b7911c6-a408-4a71-9edf-7706d2033c4f",
   "metadata": {},
   "outputs": [
    {
     "data": {
      "text/plain": [
       "array([1, 2, 3, 4])"
      ]
     },
     "execution_count": 20,
     "metadata": {},
     "output_type": "execute_result"
    }
   ],
   "source": [
    "np.array([1, 2, 3, 4]) # Te permite transformar una lista a un array"
   ]
  },
  {
   "cell_type": "markdown",
   "id": "a59afd86-244e-4d78-95d1-270bd98e340c",
   "metadata": {},
   "source": [
    "Cuando transformas a un array, todos los elementos deben ser del mismo tipo. De lo contrario, todos (en el caso sigueinte) te los transforma a strings. "
   ]
  },
  {
   "cell_type": "code",
   "execution_count": 28,
   "id": "ac10d890-7951-4622-aa2e-46876a6f0a92",
   "metadata": {},
   "outputs": [
    {
     "data": {
      "text/plain": [
       "array([1, 2, 3])"
      ]
     },
     "execution_count": 28,
     "metadata": {},
     "output_type": "execute_result"
    }
   ],
   "source": [
    "np.array([1, 2, 3]) # Te permite transformar una lista a un array"
   ]
  },
  {
   "cell_type": "markdown",
   "id": "1ac06231-2645-460d-a063-4039b7e883ae",
   "metadata": {},
   "source": [
    "La versión en array de range en Python es np.arange:"
   ]
  },
  {
   "cell_type": "code",
   "execution_count": null,
   "id": "b593e1b9-44d4-4ef8-b26d-47526fc280fa",
   "metadata": {},
   "outputs": [],
   "source": [
    "\n",
    "a = np.arange(2, 11, 2) # Se parece mucho al range normal. \n",
    "a"
   ]
  },
  {
   "cell_type": "code",
   "execution_count": 32,
   "id": "6084a3f4-5dd3-4786-ba56-e12227e26565",
   "metadata": {},
   "outputs": [
    {
     "data": {
      "text/plain": [
       "(5,)"
      ]
     },
     "execution_count": 32,
     "metadata": {},
     "output_type": "execute_result"
    }
   ],
   "source": [
    "a.shape"
   ]
  },
  {
   "cell_type": "code",
   "execution_count": 39,
   "id": "2f0e92d8-4f32-48b0-9248-990f7c5576e5",
   "metadata": {},
   "outputs": [
    {
     "data": {
      "text/plain": [
       "dtype('int32')"
      ]
     },
     "execution_count": 39,
     "metadata": {},
     "output_type": "execute_result"
    }
   ],
   "source": [
    "a.dtype"
   ]
  },
  {
   "cell_type": "markdown",
   "id": "51312369-5eb3-4fa6-a6ba-89bef265f1bd",
   "metadata": {},
   "source": [
    "Le podemos agregar valores"
   ]
  },
  {
   "cell_type": "code",
   "execution_count": 52,
   "id": "f9c16b39-e8f7-4a34-a860-f39ed975e88f",
   "metadata": {},
   "outputs": [
    {
     "data": {
      "text/plain": [
       "array([ 2,  4,  6,  8, 10,  1,  2])"
      ]
     },
     "execution_count": 52,
     "metadata": {},
     "output_type": "execute_result"
    }
   ],
   "source": [
    "b = np.append(a, [1, 2])\n",
    "b"
   ]
  },
  {
   "cell_type": "code",
   "execution_count": null,
   "id": "fd4e5d05-4b7c-4aaa-b660-054b92bfbd01",
   "metadata": {},
   "outputs": [],
   "source": []
  },
  {
   "cell_type": "markdown",
   "id": "d6224b97-ec39-45d0-9430-86c40d211d99",
   "metadata": {},
   "source": [
    "Matrix de identidad"
   ]
  },
  {
   "cell_type": "code",
   "execution_count": 36,
   "id": "3641e4a4-59cb-4735-acea-1d690b94dfc4",
   "metadata": {},
   "outputs": [
    {
     "data": {
      "text/plain": [
       "array([[1., 0., 0., 0., 0.],\n",
       "       [0., 1., 0., 0., 0.],\n",
       "       [0., 0., 1., 0., 0.],\n",
       "       [0., 0., 0., 1., 0.],\n",
       "       [0., 0., 0., 0., 1.]])"
      ]
     },
     "execution_count": 36,
     "metadata": {},
     "output_type": "execute_result"
    }
   ],
   "source": [
    "np.identity(5)"
   ]
  },
  {
   "cell_type": "code",
   "execution_count": 38,
   "id": "ae9c9c9d-d8b7-435c-86a5-1ef23c421d2a",
   "metadata": {},
   "outputs": [
    {
     "data": {
      "text/plain": [
       "array([[0., 1., 0., 0., 0.],\n",
       "       [0., 0., 1., 0., 0.],\n",
       "       [0., 0., 0., 1., 0.],\n",
       "       [0., 0., 0., 0., 1.],\n",
       "       [0., 0., 0., 0., 0.]])"
      ]
     },
     "execution_count": 38,
     "metadata": {},
     "output_type": "execute_result"
    }
   ],
   "source": [
    "np.eye(5, 5, 1) #Le puedes mover la diagonal con unos. "
   ]
  },
  {
   "cell_type": "markdown",
   "id": "891b78f1-d067-4914-b097-9e6f1c12d423",
   "metadata": {},
   "source": [
    "## Transformaciones"
   ]
  },
  {
   "cell_type": "markdown",
   "id": "f59c7981-9ccc-4864-b365-29568c487660",
   "metadata": {},
   "source": [
    "Podemos agregar valores:"
   ]
  },
  {
   "cell_type": "code",
   "execution_count": 45,
   "id": "b719334b-b3a6-4c92-b4b4-66407285577d",
   "metadata": {},
   "outputs": [
    {
     "data": {
      "text/plain": [
       "array([ 2,  4,  6,  8, 10,  1,  2])"
      ]
     },
     "execution_count": 45,
     "metadata": {},
     "output_type": "execute_result"
    }
   ],
   "source": [
    "b = np.append(a, [1, 2])\n",
    "b"
   ]
  },
  {
   "cell_type": "markdown",
   "id": "7f40ff49-af78-4262-8e4f-bdc8d35df01f",
   "metadata": {},
   "source": [
    "O eliminar valores:"
   ]
  },
  {
   "cell_type": "code",
   "execution_count": 46,
   "id": "684e0bd1-14ff-4437-91c3-ba978db6dc50",
   "metadata": {},
   "outputs": [
    {
     "data": {
      "text/plain": [
       "array([ 2,  6,  8, 10])"
      ]
     },
     "execution_count": 46,
     "metadata": {},
     "output_type": "execute_result"
    }
   ],
   "source": [
    "np.delete(a, 1)"
   ]
  },
  {
   "cell_type": "markdown",
   "id": "2760016b-2c49-4ee3-9362-bb6f528df10f",
   "metadata": {},
   "source": [
    "Para modificar un valor en particular, especifico la coordenada:"
   ]
  },
  {
   "cell_type": "code",
   "execution_count": 53,
   "id": "5926fc46-9897-49de-825a-0ce6be092c39",
   "metadata": {},
   "outputs": [
    {
     "name": "stdout",
     "output_type": "stream",
     "text": [
      "[ 2  4  6  8 10  1  2]\n",
      "[ 1  4  6  8 10  1  2]\n"
     ]
    }
   ],
   "source": [
    "print(b)\n",
    "b[0] = 1\n",
    "print(b)"
   ]
  },
  {
   "cell_type": "markdown",
   "id": "eca062a1-2c5c-4370-8208-b2ab4b2f199f",
   "metadata": {},
   "source": [
    "También podría especificar un rango de coordenadas"
   ]
  },
  {
   "cell_type": "code",
   "execution_count": 66,
   "id": "2d71d41c-9d4b-4349-930e-cb900cc470e4",
   "metadata": {},
   "outputs": [
    {
     "data": {
      "text/plain": [
       "array([ 5, 11, 11, 11, 10,  1,  2])"
      ]
     },
     "execution_count": 66,
     "metadata": {},
     "output_type": "execute_result"
    }
   ],
   "source": [
    "b[1:4] = 11\n",
    "b"
   ]
  },
  {
   "cell_type": "markdown",
   "id": "d11b99c1-9d59-4123-a760-b3d29274d544",
   "metadata": {},
   "source": [
    "Igual, para acceder a un valor, ponemos la coordenada:"
   ]
  },
  {
   "cell_type": "code",
   "execution_count": 77,
   "id": "c9991ebf-7e69-41a2-9d84-1f80fe4e9c34",
   "metadata": {},
   "outputs": [
    {
     "data": {
      "text/plain": [
       "array([[1., 0., 0., 0., 0.],\n",
       "       [0., 1., 0., 0., 0.],\n",
       "       [0., 0., 1., 0., 0.],\n",
       "       [0., 0., 0., 1., 0.],\n",
       "       [0., 0., 0., 0., 1.]])"
      ]
     },
     "execution_count": 77,
     "metadata": {},
     "output_type": "execute_result"
    }
   ],
   "source": [
    "rat = np.identity(5)\n",
    "rat"
   ]
  },
  {
   "cell_type": "code",
   "execution_count": 88,
   "id": "266a5397-1103-4882-8bed-1c6a0a22d493",
   "metadata": {},
   "outputs": [
    {
     "name": "stdout",
     "output_type": "stream",
     "text": [
      "1.0\n",
      "0.0\n"
     ]
    }
   ],
   "source": [
    "print(rat[0][0])\n",
    "print(rat[1][0])"
   ]
  },
  {
   "cell_type": "code",
   "execution_count": 90,
   "id": "acf65411-6c22-4b99-bf9c-08066224a6f1",
   "metadata": {},
   "outputs": [
    {
     "name": "stdout",
     "output_type": "stream",
     "text": [
      "1.0\n",
      "0.0\n",
      "[0. 0. 1. 0.]\n"
     ]
    }
   ],
   "source": [
    "print(rat[0, 0]) # Es equivalente a lo que venía antes.\n",
    "print(rat[1, 0])\n",
    "print(rat[2, 0:4])"
   ]
  },
  {
   "cell_type": "markdown",
   "id": "f244ce6c-0a92-4884-a5b2-c0795ef73d8d",
   "metadata": {},
   "source": [
    "Podemos haer copias para evitar modificar el original:"
   ]
  },
  {
   "cell_type": "code",
   "execution_count": 54,
   "id": "dab50439-3732-4222-85d7-9082fd0eab1e",
   "metadata": {},
   "outputs": [],
   "source": [
    "c = b.copy()"
   ]
  },
  {
   "cell_type": "code",
   "execution_count": 55,
   "id": "e5d0755d-0030-447b-b09d-3c5594aa0196",
   "metadata": {},
   "outputs": [
    {
     "name": "stdout",
     "output_type": "stream",
     "text": [
      "[ 5  4  6  8 10  1  2]\n"
     ]
    }
   ],
   "source": [
    "d = b\n",
    "d[0] = 5\n",
    "print(b)"
   ]
  },
  {
   "cell_type": "markdown",
   "id": "a7332333-68c6-4ad6-b0cd-ca1123bd28f2",
   "metadata": {},
   "source": [
    "Para cambiar el tipo de datos en el array usamos array.astype('float'). Esto siempre te crea una copia."
   ]
  },
  {
   "cell_type": "code",
   "execution_count": 64,
   "id": "b48fdc18-2b88-44b4-8bfd-ba7805a9b024",
   "metadata": {},
   "outputs": [
    {
     "data": {
      "text/plain": [
       "array([ 1,  4,  6,  8, 10,  1,  2])"
      ]
     },
     "execution_count": 64,
     "metadata": {},
     "output_type": "execute_result"
    }
   ],
   "source": [
    "c.astype('int')"
   ]
  },
  {
   "cell_type": "markdown",
   "id": "f106ae85-b227-4f82-b62d-3febe01e7997",
   "metadata": {},
   "source": [
    "Para cambiar las dimensiones de array usamos array.reshape(). Esta forma tiene que \"concordar\" con los datos que tenemos."
   ]
  },
  {
   "cell_type": "code",
   "execution_count": 108,
   "id": "7c447042-2590-4ebb-8e07-94950ca48a57",
   "metadata": {},
   "outputs": [],
   "source": [
    "aa = np.array([[1, 456, 8, 7, 3, 23, 1], [1, 2, 234, 345, 1, 1, 1]])"
   ]
  },
  {
   "cell_type": "code",
   "execution_count": 110,
   "id": "08ba7e86-d3a9-4da6-b25d-313cf8b0cc7a",
   "metadata": {},
   "outputs": [
    {
     "data": {
      "text/plain": [
       "array([[  1, 456],\n",
       "       [  8,   7],\n",
       "       [  3,  23],\n",
       "       [  1,   1],\n",
       "       [  2, 234],\n",
       "       [345,   1],\n",
       "       [  1,   1]])"
      ]
     },
     "execution_count": 110,
     "metadata": {},
     "output_type": "execute_result"
    }
   ],
   "source": [
    "aa.reshape(7, 2)"
   ]
  },
  {
   "cell_type": "markdown",
   "id": "0edaea37-db90-4363-9bd6-0893576e4b5b",
   "metadata": {},
   "source": [
    "Podríamos también usar transpose:"
   ]
  },
  {
   "cell_type": "code",
   "execution_count": 112,
   "id": "4ac24eb3-afab-4ce7-a8de-82f541e364f3",
   "metadata": {},
   "outputs": [
    {
     "data": {
      "text/plain": [
       "array([[  1,   1],\n",
       "       [456,   2],\n",
       "       [  8, 234],\n",
       "       [  7, 345],\n",
       "       [  3,   1],\n",
       "       [ 23,   1],\n",
       "       [  1,   1]])"
      ]
     },
     "execution_count": 112,
     "metadata": {},
     "output_type": "execute_result"
    }
   ],
   "source": [
    "aa.transpose()"
   ]
  },
  {
   "cell_type": "code",
   "execution_count": 113,
   "id": "e6f89ebe-2677-457d-b97a-2ced8a126abf",
   "metadata": {},
   "outputs": [
    {
     "data": {
      "text/plain": [
       "array([[  1,   1],\n",
       "       [456,   2],\n",
       "       [  8, 234],\n",
       "       [  7, 345],\n",
       "       [  3,   1],\n",
       "       [ 23,   1],\n",
       "       [  1,   1]])"
      ]
     },
     "execution_count": 113,
     "metadata": {},
     "output_type": "execute_result"
    }
   ],
   "source": [
    "aa.T"
   ]
  },
  {
   "cell_type": "markdown",
   "id": "2ce5d28c-65b3-4fb6-9789-47a7a914b0df",
   "metadata": {},
   "source": [
    "Para aplanar todos los valores usamos array.flatten()"
   ]
  },
  {
   "cell_type": "code",
   "execution_count": 91,
   "id": "8dc4643a-df73-4aa8-9c66-670205bb2036",
   "metadata": {},
   "outputs": [
    {
     "data": {
      "text/plain": [
       "array([[1., 0., 0., 0., 0.],\n",
       "       [0., 1., 0., 0., 0.],\n",
       "       [0., 0., 1., 0., 0.],\n",
       "       [0., 0., 0., 1., 0.],\n",
       "       [0., 0., 0., 0., 1.]])"
      ]
     },
     "execution_count": 91,
     "metadata": {},
     "output_type": "execute_result"
    }
   ],
   "source": [
    "rat"
   ]
  },
  {
   "cell_type": "code",
   "execution_count": 92,
   "id": "8a3d0f93-9073-4578-832b-472872ce1f2f",
   "metadata": {},
   "outputs": [
    {
     "data": {
      "text/plain": [
       "array([1., 0., 0., 0., 0., 0., 1., 0., 0., 0., 0., 0., 1., 0., 0., 0., 0.,\n",
       "       0., 1., 0., 0., 0., 0., 0., 1.])"
      ]
     },
     "execution_count": 92,
     "metadata": {},
     "output_type": "execute_result"
    }
   ],
   "source": [
    "rat.flatten()"
   ]
  },
  {
   "cell_type": "markdown",
   "id": "7db4f306-f7cd-4cec-9da3-17e9019c6f7a",
   "metadata": {},
   "source": [
    "## Operaciones"
   ]
  },
  {
   "cell_type": "code",
   "execution_count": 62,
   "id": "31ac9b86-b800-428d-888b-e6025dc38a59",
   "metadata": {},
   "outputs": [
    {
     "data": {
      "text/plain": [
       "array([[1, 2, 3],\n",
       "       [4, 5, 6]])"
      ]
     },
     "execution_count": 62,
     "metadata": {},
     "output_type": "execute_result"
    }
   ],
   "source": [
    "arr = np.array([[1, 2, 3], [4, 5, 6]])\n",
    "arr"
   ]
  },
  {
   "cell_type": "code",
   "execution_count": 63,
   "id": "b75a222e-4768-473f-86e4-5debb02b65c0",
   "metadata": {},
   "outputs": [
    {
     "data": {
      "text/plain": [
       "array([[ 0,  4,  1],\n",
       "       [ 7,  2, 12]])"
      ]
     },
     "execution_count": 63,
     "metadata": {},
     "output_type": "execute_result"
    }
   ],
   "source": [
    "arr2 = np.array([[0, 4, 1], [7, 2, 12]])\n",
    "arr2"
   ]
  },
  {
   "cell_type": "markdown",
   "id": "73f4cebb-67dd-436e-ae22-ef46cc2a5257",
   "metadata": {},
   "source": [
    "Comparaciones entre arrays te dan booleans"
   ]
  },
  {
   "cell_type": "code",
   "execution_count": 59,
   "id": "c6bf1d45-474c-4673-bdc5-ed49f8f673aa",
   "metadata": {},
   "outputs": [
    {
     "data": {
      "text/plain": [
       "array([[ True, False,  True],\n",
       "       [False,  True, False]])"
      ]
     },
     "execution_count": 59,
     "metadata": {},
     "output_type": "execute_result"
    }
   ],
   "source": [
    "arr > arr2"
   ]
  },
  {
   "cell_type": "markdown",
   "id": "d2d18d73-6326-4872-a741-a319084c12e9",
   "metadata": {},
   "source": [
    "Operaciones entre arrays de mismo tamaño se hacen element-wise"
   ]
  },
  {
   "cell_type": "code",
   "execution_count": 60,
   "id": "f29b9ea1-85f3-4266-9a86-abb54c58f33a",
   "metadata": {},
   "outputs": [
    {
     "data": {
      "text/plain": [
       "array([[ 1,  6,  4],\n",
       "       [11,  7, 18]])"
      ]
     },
     "execution_count": 60,
     "metadata": {},
     "output_type": "execute_result"
    }
   ],
   "source": [
    "arr + arr2"
   ]
  },
  {
   "cell_type": "markdown",
   "id": "318ef0ff-36ff-4450-8e7d-c28c24685adf",
   "metadata": {},
   "source": [
    "Puedes sacar otras cifras estadísticas:"
   ]
  },
  {
   "cell_type": "code",
   "execution_count": 122,
   "id": "7afe87f8-9fdb-4217-8447-0c1465fb2a9a",
   "metadata": {},
   "outputs": [
    {
     "name": "stdout",
     "output_type": "stream",
     "text": [
      "3.5\n",
      "1.707825127659933\n",
      "1\n",
      "0\n",
      "5\n"
     ]
    }
   ],
   "source": [
    "print(np.mean(arr))\n",
    "print(np.std(arr))\n",
    "print(np.min(arr))\n",
    "print(np.argmin(arr)) # Te dice la posición del valor mínimo\n",
    "print(np.argmax(arr))"
   ]
  },
  {
   "cell_type": "code",
   "execution_count": 130,
   "id": "6cbf3357-17bf-4bb0-90ee-cda8e6bd1ad5",
   "metadata": {},
   "outputs": [
    {
     "data": {
      "text/plain": [
       "array([[ 0.70848885, -1.09986907, -1.09651228],\n",
       "       [ 0.08055364,  0.36999867,  0.45238082]])"
      ]
     },
     "execution_count": 130,
     "metadata": {},
     "output_type": "execute_result"
    }
   ],
   "source": [
    "np.random.randn(2, 3)"
   ]
  },
  {
   "cell_type": "markdown",
   "id": "9629c4a7-99ee-4bb0-b732-d7e12957fede",
   "metadata": {},
   "source": [
    "Un equivalente al IF es el np.where. Pones (condición, resultado si sí, resultado si no)."
   ]
  },
  {
   "cell_type": "code",
   "execution_count": 132,
   "id": "fca7be2a-a2b8-4173-ab6d-ac02cd369e19",
   "metadata": {},
   "outputs": [
    {
     "data": {
      "text/plain": [
       "array([ 2,  4,  6,  8, 10])"
      ]
     },
     "execution_count": 132,
     "metadata": {},
     "output_type": "execute_result"
    }
   ],
   "source": [
    "a"
   ]
  },
  {
   "cell_type": "code",
   "execution_count": 133,
   "id": "af512048-fa19-4a39-96ec-a93cc0975564",
   "metadata": {},
   "outputs": [
    {
     "data": {
      "text/plain": [
       "array(['Pequeño', 'Pequeño', 'Grande', 'Grande', 'Grande'], dtype='<U7')"
      ]
     },
     "execution_count": 133,
     "metadata": {},
     "output_type": "execute_result"
    }
   ],
   "source": [
    "np.where( a <= 5, 'Pequeño', 'Grande')"
   ]
  },
  {
   "cell_type": "code",
   "execution_count": 134,
   "id": "01ae37d0-0936-426a-9abd-b2746e23c6ac",
   "metadata": {},
   "outputs": [
    {
     "name": "stdout",
     "output_type": "stream",
     "text": [
      "14\n",
      "4\n"
     ]
    }
   ],
   "source": [
    "a = 14\n",
    "b = 4\n",
    "  \n",
    "print(b and a) # print_stat1\n",
    "print(b & a) # print_stat2"
   ]
  },
  {
   "cell_type": "code",
   "execution_count": null,
   "id": "6b98497b-9431-4da9-9f4e-c7f6f070707b",
   "metadata": {},
   "outputs": [],
   "source": [
    "A"
   ]
  }
 ],
 "metadata": {
  "kernelspec": {
   "display_name": "Python 3",
   "language": "python",
   "name": "python3"
  },
  "language_info": {
   "codemirror_mode": {
    "name": "ipython",
    "version": 3
   },
   "file_extension": ".py",
   "mimetype": "text/x-python",
   "name": "python",
   "nbconvert_exporter": "python",
   "pygments_lexer": "ipython3",
   "version": "3.8.8"
  }
 },
 "nbformat": 4,
 "nbformat_minor": 5
}
