{
 "cells": [
  {
   "cell_type": "markdown",
   "id": "0daf6b0d-6715-4ecf-a62e-2ea396cbb1bd",
   "metadata": {},
   "source": [
    "# Error handling"
   ]
  },
  {
   "cell_type": "code",
   "execution_count": 2,
   "id": "3eec3ae2-062d-4fed-a116-317e1925ba60",
   "metadata": {},
   "outputs": [],
   "source": [
    "numero = 'sgua'"
   ]
  },
  {
   "cell_type": "markdown",
   "id": "072442c5-14bb-475b-972b-0f7a4f5d52aa",
   "metadata": {},
   "source": [
    "Uso de **raise**"
   ]
  },
  {
   "cell_type": "code",
   "execution_count": 3,
   "id": "a6500444-4e10-4a26-b3d0-545b59f61168",
   "metadata": {},
   "outputs": [
    {
     "ename": "TypeError",
     "evalue": "No pongas un string!",
     "output_type": "error",
     "traceback": [
      "\u001b[1;31m---------------------------------------------------------------------------\u001b[0m",
      "\u001b[1;31mTypeError\u001b[0m                                 Traceback (most recent call last)",
      "\u001b[1;32m<ipython-input-3-a2c4f4694a24>\u001b[0m in \u001b[0;36m<module>\u001b[1;34m\u001b[0m\n\u001b[0;32m      1\u001b[0m \u001b[1;32mif\u001b[0m \u001b[0mtype\u001b[0m\u001b[1;33m(\u001b[0m\u001b[0mnumero\u001b[0m\u001b[1;33m)\u001b[0m \u001b[1;33m==\u001b[0m \u001b[0mstr\u001b[0m\u001b[1;33m:\u001b[0m\u001b[1;33m\u001b[0m\u001b[1;33m\u001b[0m\u001b[0m\n\u001b[1;32m----> 2\u001b[1;33m     \u001b[1;32mraise\u001b[0m \u001b[0mTypeError\u001b[0m\u001b[1;33m(\u001b[0m\u001b[1;34m'No pongas un string!'\u001b[0m\u001b[1;33m)\u001b[0m\u001b[1;33m\u001b[0m\u001b[1;33m\u001b[0m\u001b[0m\n\u001b[0m\u001b[0;32m      3\u001b[0m     \u001b[1;31m# raise Exception\u001b[0m\u001b[1;33m\u001b[0m\u001b[1;33m\u001b[0m\u001b[1;33m\u001b[0m\u001b[0m\n\u001b[0;32m      4\u001b[0m     \u001b[1;31m#\u001b[0m\u001b[1;33m\u001b[0m\u001b[1;33m\u001b[0m\u001b[1;33m\u001b[0m\u001b[0m\n",
      "\u001b[1;31mTypeError\u001b[0m: No pongas un string!"
     ]
    }
   ],
   "source": [
    "if type(numero) == str:\n",
    "    raise TypeError('No pongas un string!')\n",
    "    # raise Exception\n",
    "    # "
   ]
  },
  {
   "cell_type": "markdown",
   "id": "66770107-7e72-45f6-9def-95053ac32445",
   "metadata": {},
   "source": [
    "Uso de **assert**"
   ]
  },
  {
   "cell_type": "code",
   "execution_count": null,
   "id": "d31ec193-725c-4b6d-be0c-b32371267d8c",
   "metadata": {},
   "outputs": [],
   "source": [
    "# Assert alza una excepción si se tiene False\n",
    "assert type(2) == int"
   ]
  },
  {
   "cell_type": "code",
   "execution_count": null,
   "id": "61aeec92-0b3b-4e17-8dcb-076f6c399b1e",
   "metadata": {},
   "outputs": [],
   "source": [
    "assert type('a') == int, 'El tipo no es un número'"
   ]
  },
  {
   "cell_type": "markdown",
   "id": "01ac78ba-bbe0-4b9c-98ad-9c48f1634880",
   "metadata": {},
   "source": [
    "Para cachar excepciones con **try-except**"
   ]
  },
  {
   "cell_type": "code",
   "execution_count": null,
   "id": "201d4d68-409a-417f-8e67-255c8ac5b3f1",
   "metadata": {},
   "outputs": [],
   "source": [
    "\n",
    "try:\n",
    "    numero = input('Pásame un número')\n",
    "    print(int(numero))\n",
    "    \n",
    "except Exception as ef:\n",
    "    print(f'El error es este: {ef}')"
   ]
  },
  {
   "cell_type": "markdown",
   "id": "a75f6b7f-8688-482e-a30e-e6192398000a",
   "metadata": {},
   "source": [
    "Uso de **else** y **finally**"
   ]
  },
  {
   "cell_type": "markdown",
   "id": "c4cfe1d5-f87e-490f-92c8-849ef99e824c",
   "metadata": {},
   "source": [
    "Else significa que si el try funcionó, entonces haz lo del else.\n",
    "\n",
    "Finally corre siempre independientemente de qué pasó."
   ]
  },
  {
   "cell_type": "code",
   "execution_count": null,
   "id": "540e803e-cb40-497e-97da-87e9d7452eb2",
   "metadata": {},
   "outputs": [],
   "source": [
    "for i in range (2):\n",
    "    print('iniciando...')\n",
    "    break\n",
    "\n",
    "print('hi')"
   ]
  },
  {
   "cell_type": "code",
   "execution_count": 3,
   "id": "e9335397-6aed-40ec-8e90-2c1b3be4c71b",
   "metadata": {},
   "outputs": [
    {
     "name": "stdin",
     "output_type": "stream",
     "text": [
      "dame un numero 123\n"
     ]
    },
    {
     "name": "stdout",
     "output_type": "stream",
     "text": [
      "127\n",
      "Si me diste un numero!!\n",
      "Saliendo brou ahi nos vemos\n",
      "Esto siempre corre, es imparable\n"
     ]
    }
   ],
   "source": [
    "while True:\n",
    "    try:\n",
    "        numero = input(\"dame un numero\")\n",
    "        print(int(numero) + 4)\n",
    "    \n",
    "    except Exception as ef:\n",
    "        print(f\"No me pasaste un numero\\n{ef}\")\n",
    "    \n",
    "    else: # Se ejecuta tras el try (si es que pasó)\n",
    "        print(\"Si me diste un numero!!\")\n",
    "        print(\"Saliendo brou ahi nos vemos\")\n",
    "        break\n",
    "    \n",
    "    finally: # Siempre se ejecuta\n",
    "        print(\"Esto siempre corre, es imparable\")\n",
    "    \n",
    "    print(\"Mm pues aqui seguimos\") #Se ejecuta a menos que haya antes un return o un break\n"
   ]
  },
  {
   "cell_type": "code",
   "execution_count": null,
   "id": "9d58c3ce-711a-4fa3-a148-114337404cdb",
   "metadata": {},
   "outputs": [],
   "source": []
  }
 ],
 "metadata": {
  "kernelspec": {
   "display_name": "Python 3",
   "language": "python",
   "name": "python3"
  },
  "language_info": {
   "codemirror_mode": {
    "name": "ipython",
    "version": 3
   },
   "file_extension": ".py",
   "mimetype": "text/x-python",
   "name": "python",
   "nbconvert_exporter": "python",
   "pygments_lexer": "ipython3",
   "version": "3.8.8"
  }
 },
 "nbformat": 4,
 "nbformat_minor": 5
}
