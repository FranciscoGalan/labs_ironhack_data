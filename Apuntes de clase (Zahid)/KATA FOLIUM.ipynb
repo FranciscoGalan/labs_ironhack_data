{
 "cells": [
  {
   "cell_type": "markdown",
   "metadata": {
    "id": "jAL2JbYwK1VR"
   },
   "source": [
    "## **UFO Question**\n",
    "\n",
    "Our data science team has predicted that the Earth is going to be invaded by an alien force in the next years. Our only hope is to replicate a device that can block all alien technology in a radius of ~300km. Sadly, the device was sold in 2004 to an anonymous buyer to protect her hometown and we don't know how contact her again. We know that the device has been active since 2004 in one city in the USA, and we want to know where to start our search. We've loaded a dataset called ​ufo.csv​. This dataset contains over 80,000 reports of UFO sightings over the last century (all of them verified by the ESA). Using this dataset, try to guess the city in which the device has been hidden.\n"
   ]
  },
  {
   "cell_type": "code",
   "execution_count": 3,
   "metadata": {
    "id": "GuSPL2PlK-_P"
   },
   "outputs": [],
   "source": [
    "#imports\n",
    "import pandas as pd\n",
    "import numpy as np\n",
    "import folium"
   ]
  },
  {
   "cell_type": "code",
   "execution_count": 4,
   "metadata": {
    "colab": {
     "base_uri": "https://localhost:8080/",
     "height": 289
    },
    "executionInfo": {
     "elapsed": 1487,
     "status": "ok",
     "timestamp": 1607529020452,
     "user": {
      "displayName": "Reynaldo Mendez",
      "photoUrl": "",
      "userId": "04510863612371387617"
     },
     "user_tz": 360
    },
    "id": "ewMX1C_zLR0s",
    "outputId": "84ad28d9-b81b-4195-fbdc-d4473cd75aba"
   },
   "outputs": [
    {
     "data": {
      "text/html": [
       "<div>\n",
       "<style scoped>\n",
       "    .dataframe tbody tr th:only-of-type {\n",
       "        vertical-align: middle;\n",
       "    }\n",
       "\n",
       "    .dataframe tbody tr th {\n",
       "        vertical-align: top;\n",
       "    }\n",
       "\n",
       "    .dataframe thead th {\n",
       "        text-align: right;\n",
       "    }\n",
       "</style>\n",
       "<table border=\"1\" class=\"dataframe\">\n",
       "  <thead>\n",
       "    <tr style=\"text-align: right;\">\n",
       "      <th></th>\n",
       "      <th>datetime</th>\n",
       "      <th>city</th>\n",
       "      <th>state</th>\n",
       "      <th>country</th>\n",
       "      <th>shape</th>\n",
       "      <th>duration</th>\n",
       "      <th>total_time</th>\n",
       "      <th>comments</th>\n",
       "      <th>date_posted</th>\n",
       "      <th>latitude</th>\n",
       "      <th>longitude</th>\n",
       "      <th>year</th>\n",
       "      <th>distance</th>\n",
       "    </tr>\n",
       "  </thead>\n",
       "  <tbody>\n",
       "    <tr>\n",
       "      <th>0</th>\n",
       "      <td>10/10/1949 20:30</td>\n",
       "      <td>san marcos</td>\n",
       "      <td>tx</td>\n",
       "      <td>us</td>\n",
       "      <td>cylinder</td>\n",
       "      <td>2700.0</td>\n",
       "      <td>45 minutes</td>\n",
       "      <td>This event took place in early fall around 194...</td>\n",
       "      <td>4/27/2004</td>\n",
       "      <td>29.883056</td>\n",
       "      <td>-97.941111</td>\n",
       "      <td>2004</td>\n",
       "      <td>1242.667772</td>\n",
       "    </tr>\n",
       "    <tr>\n",
       "      <th>1</th>\n",
       "      <td>10/10/1949 21:00</td>\n",
       "      <td>lackland afb</td>\n",
       "      <td>tx</td>\n",
       "      <td>NaN</td>\n",
       "      <td>light</td>\n",
       "      <td>7200.0</td>\n",
       "      <td>1-2 hrs</td>\n",
       "      <td>1949 Lackland AFB&amp;#44 TX.  Lights racing acros...</td>\n",
       "      <td>12/16/2005</td>\n",
       "      <td>29.384210</td>\n",
       "      <td>-98.581082</td>\n",
       "      <td>2005</td>\n",
       "      <td>1325.486319</td>\n",
       "    </tr>\n",
       "    <tr>\n",
       "      <th>2</th>\n",
       "      <td>10/10/1955 17:00</td>\n",
       "      <td>chester (uk/england)</td>\n",
       "      <td>NaN</td>\n",
       "      <td>gb</td>\n",
       "      <td>circle</td>\n",
       "      <td>20.0</td>\n",
       "      <td>20 seconds</td>\n",
       "      <td>Green/Orange circular disc over Chester&amp;#44 En...</td>\n",
       "      <td>1/21/2008</td>\n",
       "      <td>53.200000</td>\n",
       "      <td>-2.916667</td>\n",
       "      <td>2008</td>\n",
       "      <td>6515.416577</td>\n",
       "    </tr>\n",
       "    <tr>\n",
       "      <th>3</th>\n",
       "      <td>10/10/1956 21:00</td>\n",
       "      <td>edna</td>\n",
       "      <td>tx</td>\n",
       "      <td>us</td>\n",
       "      <td>circle</td>\n",
       "      <td>20.0</td>\n",
       "      <td>1/2 hour</td>\n",
       "      <td>My older brother and twin sister were leaving ...</td>\n",
       "      <td>1/17/2004</td>\n",
       "      <td>28.978333</td>\n",
       "      <td>-96.645833</td>\n",
       "      <td>2004</td>\n",
       "      <td>1211.971352</td>\n",
       "    </tr>\n",
       "    <tr>\n",
       "      <th>4</th>\n",
       "      <td>10/10/1960 20:00</td>\n",
       "      <td>kaneohe</td>\n",
       "      <td>hi</td>\n",
       "      <td>us</td>\n",
       "      <td>light</td>\n",
       "      <td>900.0</td>\n",
       "      <td>15 minutes</td>\n",
       "      <td>AS a Marine 1st Lt. flying an FJ4B fighter/att...</td>\n",
       "      <td>1/22/2004</td>\n",
       "      <td>21.418056</td>\n",
       "      <td>-157.803611</td>\n",
       "      <td>2004</td>\n",
       "      <td>6960.923396</td>\n",
       "    </tr>\n",
       "  </tbody>\n",
       "</table>\n",
       "</div>"
      ],
      "text/plain": [
       "           datetime                  city state country     shape  duration  \\\n",
       "0  10/10/1949 20:30            san marcos    tx      us  cylinder    2700.0   \n",
       "1  10/10/1949 21:00          lackland afb    tx     NaN     light    7200.0   \n",
       "2  10/10/1955 17:00  chester (uk/england)   NaN      gb    circle      20.0   \n",
       "3  10/10/1956 21:00                  edna    tx      us    circle      20.0   \n",
       "4  10/10/1960 20:00               kaneohe    hi      us     light     900.0   \n",
       "\n",
       "   total_time                                           comments date_posted  \\\n",
       "0  45 minutes  This event took place in early fall around 194...   4/27/2004   \n",
       "1     1-2 hrs  1949 Lackland AFB&#44 TX.  Lights racing acros...  12/16/2005   \n",
       "2  20 seconds  Green/Orange circular disc over Chester&#44 En...   1/21/2008   \n",
       "3    1/2 hour  My older brother and twin sister were leaving ...   1/17/2004   \n",
       "4  15 minutes  AS a Marine 1st Lt. flying an FJ4B fighter/att...   1/22/2004   \n",
       "\n",
       "    latitude   longitude  year     distance  \n",
       "0  29.883056  -97.941111  2004  1242.667772  \n",
       "1  29.384210  -98.581082  2005  1325.486319  \n",
       "2  53.200000   -2.916667  2008  6515.416577  \n",
       "3  28.978333  -96.645833  2004  1211.971352  \n",
       "4  21.418056 -157.803611  2004  6960.923396  "
      ]
     },
     "execution_count": 4,
     "metadata": {},
     "output_type": "execute_result"
    }
   ],
   "source": [
    "#import data\n",
    "data = pd.read_csv(\"https://raw.githubusercontent.com/ironhack-datalabs/datamex1019/master/module-2/lab-ufo/ufo.csv\", index_col=\"Unnamed: 0\")\n",
    "data.head()"
   ]
  },
  {
   "cell_type": "code",
   "execution_count": 5,
   "metadata": {
    "id": "iQrEmFHGMX5j"
   },
   "outputs": [
    {
     "name": "stdout",
     "output_type": "stream",
     "text": [
      "<class 'pandas.core.frame.DataFrame'>\n",
      "Int64Index: 78509 entries, 0 to 80331\n",
      "Data columns (total 13 columns):\n",
      " #   Column       Non-Null Count  Dtype  \n",
      "---  ------       --------------  -----  \n",
      " 0   datetime     78509 non-null  object \n",
      " 1   city         78509 non-null  object \n",
      " 2   state        72714 non-null  object \n",
      " 3   country      68947 non-null  object \n",
      " 4   shape        76599 non-null  object \n",
      " 5   duration     78509 non-null  float64\n",
      " 6   total_time   78509 non-null  object \n",
      " 7   comments     78495 non-null  object \n",
      " 8   date_posted  78509 non-null  object \n",
      " 9   latitude     78509 non-null  float64\n",
      " 10  longitude    78509 non-null  float64\n",
      " 11  year         78509 non-null  int64  \n",
      " 12  distance     78509 non-null  float64\n",
      "dtypes: float64(4), int64(1), object(8)\n",
      "memory usage: 8.4+ MB\n"
     ]
    }
   ],
   "source": [
    "#Select data (filter)\n",
    "data.info()"
   ]
  },
  {
   "cell_type": "code",
   "execution_count": 16,
   "metadata": {},
   "outputs": [
    {
     "data": {
      "text/plain": [
       "0        [10/10/1949, 20:30]\n",
       "1        [10/10/1949, 21:00]\n",
       "2        [10/10/1955, 17:00]\n",
       "3        [10/10/1956, 21:00]\n",
       "4        [10/10/1960, 20:00]\n",
       "                ...         \n",
       "80326      [9/9/2013, 21:00]\n",
       "80328      [9/9/2013, 22:00]\n",
       "80329      [9/9/2013, 22:00]\n",
       "80330      [9/9/2013, 22:20]\n",
       "80331      [9/9/2013, 23:00]\n",
       "Name: datetime, Length: 78509, dtype: object"
      ]
     },
     "execution_count": 16,
     "metadata": {},
     "output_type": "execute_result"
    }
   ],
   "source": [
    "data.datetime.str.split(' ')"
   ]
  },
  {
   "cell_type": "code",
   "execution_count": null,
   "metadata": {},
   "outputs": [],
   "source": []
  },
  {
   "cell_type": "code",
   "execution_count": null,
   "metadata": {
    "id": "mjADQMVBMwke"
   },
   "outputs": [],
   "source": [
    "#Find the city"
   ]
  }
 ],
 "metadata": {
  "colab": {
   "name": "KATA FOLIUM.ipynb",
   "provenance": [
    {
     "file_id": "1AhZH6f_aEM4yVc0JCXsYtC0ZcBNkFn_G",
     "timestamp": 1607531267494
    }
   ]
  },
  "kernelspec": {
   "display_name": "Python 3",
   "language": "python",
   "name": "python3"
  },
  "language_info": {
   "codemirror_mode": {
    "name": "ipython",
    "version": 3
   },
   "file_extension": ".py",
   "mimetype": "text/x-python",
   "name": "python",
   "nbconvert_exporter": "python",
   "pygments_lexer": "ipython3",
   "version": "3.8.8"
  }
 },
 "nbformat": 4,
 "nbformat_minor": 4
}
