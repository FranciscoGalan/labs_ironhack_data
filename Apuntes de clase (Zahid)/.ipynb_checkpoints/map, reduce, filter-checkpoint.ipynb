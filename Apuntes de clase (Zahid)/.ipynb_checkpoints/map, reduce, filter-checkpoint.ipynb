{
 "cells": [
  {
   "cell_type": "markdown",
   "id": "2072a817-8473-4741-abe9-7e42883f1aa6",
   "metadata": {},
   "source": [
    "# Map"
   ]
  },
  {
   "cell_type": "code",
   "execution_count": 1,
   "id": "a4129972-0f67-480f-8648-92c34fc65723",
   "metadata": {},
   "outputs": [],
   "source": [
    "cuadrado = lambda numero: numero**2 "
   ]
  },
  {
   "cell_type": "code",
   "execution_count": 3,
   "id": "45dc4e63-2793-4493-902c-a1c9e3ca164d",
   "metadata": {},
   "outputs": [
    {
     "data": {
      "text/plain": [
       "16"
      ]
     },
     "execution_count": 3,
     "metadata": {},
     "output_type": "execute_result"
    }
   ],
   "source": [
    "cuadrado(4)"
   ]
  },
  {
   "cell_type": "code",
   "execution_count": 7,
   "id": "1403db47-2963-4667-9455-6062645f5bc5",
   "metadata": {},
   "outputs": [
    {
     "data": {
      "text/plain": [
       "[4, 9, 119025, 49, 9604, 54756, 273529, 64]"
      ]
     },
     "execution_count": 7,
     "metadata": {},
     "output_type": "execute_result"
    }
   ],
   "source": [
    "lista = [2,3,345,7,98,234,523,8]\n",
    "\n",
    "lista_cuadrada = [cuadrado(num) for num in lista]\n",
    "lista_cuadrada"
   ]
  },
  {
   "cell_type": "code",
   "execution_count": 8,
   "id": "3b615e84-e11d-4a1d-a96e-eebf29776e13",
   "metadata": {
    "collapsed": true,
    "jupyter": {
     "outputs_hidden": true
    },
    "tags": []
   },
   "outputs": [
    {
     "name": "stdout",
     "output_type": "stream",
     "text": [
      "Help on class map in module builtins:\n",
      "\n",
      "class map(object)\n",
      " |  map(func, *iterables) --> map object\n",
      " |  \n",
      " |  Make an iterator that computes the function using arguments from\n",
      " |  each of the iterables.  Stops when the shortest iterable is exhausted.\n",
      " |  \n",
      " |  Methods defined here:\n",
      " |  \n",
      " |  __getattribute__(self, name, /)\n",
      " |      Return getattr(self, name).\n",
      " |  \n",
      " |  __iter__(self, /)\n",
      " |      Implement iter(self).\n",
      " |  \n",
      " |  __next__(self, /)\n",
      " |      Implement next(self).\n",
      " |  \n",
      " |  __reduce__(...)\n",
      " |      Return state information for pickling.\n",
      " |  \n",
      " |  ----------------------------------------------------------------------\n",
      " |  Static methods defined here:\n",
      " |  \n",
      " |  __new__(*args, **kwargs) from builtins.type\n",
      " |      Create and return a new object.  See help(type) for accurate signature.\n",
      "\n"
     ]
    }
   ],
   "source": [
    "help(map)"
   ]
  },
  {
   "cell_type": "code",
   "execution_count": 17,
   "id": "828727a9-4018-48be-99c1-bc7f03ff2f13",
   "metadata": {},
   "outputs": [
    {
     "data": {
      "text/plain": [
       "4"
      ]
     },
     "execution_count": 17,
     "metadata": {},
     "output_type": "execute_result"
    }
   ],
   "source": [
    "mi_mapa = map(cuadrado, lista)\n",
    "\n",
    "next(mi_mapa) #Recuerda que un map es un iterator"
   ]
  },
  {
   "cell_type": "code",
   "execution_count": 18,
   "id": "786d28c4-38b3-4b2e-946c-ae9b3e084d53",
   "metadata": {},
   "outputs": [
    {
     "data": {
      "text/plain": [
       "[9, 119025, 49, 9604, 54756, 273529, 64]"
      ]
     },
     "execution_count": 18,
     "metadata": {},
     "output_type": "execute_result"
    }
   ],
   "source": [
    "resultado = list(mi_mapa) #Aguas cuando lo generas, porque ya consumiste tu iterator de map\n",
    "\n",
    "resultado\n",
    "\n",
    "# El equivalente de map en pandas es df.apply()"
   ]
  },
  {
   "cell_type": "code",
   "execution_count": 21,
   "id": "43396a4c-73a4-4f19-a110-86ecd346a69a",
   "metadata": {},
   "outputs": [],
   "source": [
    "funcion_rara = lambda num_int, num_str: num_int if int(num_int) % 2 == 0 else num_str"
   ]
  },
  {
   "cell_type": "code",
   "execution_count": 24,
   "id": "565e2fc5-b423-4033-b939-d07120fab74c",
   "metadata": {},
   "outputs": [
    {
     "data": {
      "text/plain": [
       "'5'"
      ]
     },
     "execution_count": 24,
     "metadata": {},
     "output_type": "execute_result"
    }
   ],
   "source": [
    "funcion_rara(5, '5')"
   ]
  },
  {
   "cell_type": "code",
   "execution_count": null,
   "id": "d93e5aa4-ac2a-4282-97ca-cacd3101f514",
   "metadata": {},
   "outputs": [],
   "source": [
    "cambios = {'M': 'M',\n",
    "          'F': 'F',\n",
    "          'MASCULINO': 'M',\n",
    "          'FEMENINO'}"
   ]
  },
  {
   "cell_type": "markdown",
   "id": "bddec958-a1b9-4787-ba13-d78760345875",
   "metadata": {},
   "source": [
    "# Filter"
   ]
  },
  {
   "cell_type": "markdown",
   "id": "b1da568b-9dcb-4c29-bcf3-522ed0deef06",
   "metadata": {},
   "source": [
    "Deja pasar lo que arroje una función como True; lo de False no pasa."
   ]
  },
  {
   "cell_type": "code",
   "execution_count": null,
   "id": "51fd7e57-781f-44ec-b3b2-3e8120934605",
   "metadata": {},
   "outputs": [],
   "source": [
    "filter() #Recibe una función boolean que arroje True o False"
   ]
  },
  {
   "cell_type": "code",
   "execution_count": 26,
   "id": "ba16de79-a512-46cf-a296-cbd87b4b54bb",
   "metadata": {},
   "outputs": [
    {
     "data": {
      "text/plain": [
       "False"
      ]
     },
     "execution_count": 26,
     "metadata": {},
     "output_type": "execute_result"
    }
   ],
   "source": [
    "\"ejemplo\".isupper()"
   ]
  },
  {
   "cell_type": "code",
   "execution_count": 27,
   "id": "25c76630-9976-471c-9ac9-25bd73a2b00a",
   "metadata": {},
   "outputs": [
    {
     "data": {
      "text/plain": [
       "False"
      ]
     },
     "execution_count": 27,
     "metadata": {},
     "output_type": "execute_result"
    }
   ],
   "source": [
    "\"ejemplo\" == \"ejemplo\".upper()"
   ]
  },
  {
   "cell_type": "code",
   "execution_count": 34,
   "id": "fb9d1763-dae4-4aa8-a30c-c5ac9643f68c",
   "metadata": {},
   "outputs": [],
   "source": [
    "caps_check = lambda string: string.isupper()"
   ]
  },
  {
   "cell_type": "code",
   "execution_count": 37,
   "id": "389bbc50-f113-4d43-9a51-37f73831c267",
   "metadata": {},
   "outputs": [
    {
     "data": {
      "text/plain": [
       "True"
      ]
     },
     "execution_count": 37,
     "metadata": {},
     "output_type": "execute_result"
    }
   ],
   "source": [
    "caps_check('HO+A')"
   ]
  },
  {
   "cell_type": "code",
   "execution_count": 41,
   "id": "448a9681-8c54-4163-b8e2-be59f99aed29",
   "metadata": {},
   "outputs": [],
   "source": [
    "columna_falsa = ['a', 'A', 'hola', 'HOASD', 'Hooia']"
   ]
  },
  {
   "cell_type": "code",
   "execution_count": 43,
   "id": "29517585-4f06-4086-bc15-07a4c7efec22",
   "metadata": {},
   "outputs": [
    {
     "data": {
      "text/plain": [
       "['A', 'HOASD']"
      ]
     },
     "execution_count": 43,
     "metadata": {},
     "output_type": "execute_result"
    }
   ],
   "source": [
    "list(filter(caps_check, columna_falsa))"
   ]
  },
  {
   "cell_type": "code",
   "execution_count": 44,
   "id": "f7874b9c-dc30-40ae-b8a0-4401143a245f",
   "metadata": {},
   "outputs": [
    {
     "data": {
      "text/plain": [
       "True"
      ]
     },
     "execution_count": 44,
     "metadata": {},
     "output_type": "execute_result"
    }
   ],
   "source": [
    "str.isupper(\"HOLA JOVEN\")"
   ]
  },
  {
   "cell_type": "code",
   "execution_count": 46,
   "id": "7fa9e867-baef-4490-8d9d-20964c264cd0",
   "metadata": {},
   "outputs": [
    {
     "data": {
      "text/plain": [
       "[True, 3]"
      ]
     },
     "execution_count": 46,
     "metadata": {},
     "output_type": "execute_result"
    }
   ],
   "source": [
    "list(filter(None, [True, False, 3]))"
   ]
  },
  {
   "cell_type": "code",
   "execution_count": 48,
   "id": "a0a8269d-28e5-4870-bbd1-639ba70b49b1",
   "metadata": {},
   "outputs": [
    {
     "data": {
      "text/plain": [
       "False"
      ]
     },
     "execution_count": 48,
     "metadata": {},
     "output_type": "execute_result"
    }
   ],
   "source": [
    "3 == True"
   ]
  },
  {
   "cell_type": "code",
   "execution_count": null,
   "id": "3438cab1-d64d-4dc2-b566-52c7e688bc97",
   "metadata": {},
   "outputs": [],
   "source": [
    "filter"
   ]
  },
  {
   "cell_type": "markdown",
   "id": "3147d316-9e5e-4816-aa51-7a2eb45aa854",
   "metadata": {},
   "source": [
    "# Reduce"
   ]
  },
  {
   "cell_type": "markdown",
   "id": "62446e6d-0478-4a5e-b17c-d0470e3f8664",
   "metadata": {},
   "source": [
    "Es como un factorial: toma dos valores, saca el resultado, toma el resultado y el tercer valor, and so on."
   ]
  },
  {
   "cell_type": "code",
   "execution_count": null,
   "id": "4fca57eb-13b4-4b6f-bcff-6aef7bc3cda4",
   "metadata": {},
   "outputs": [],
   "source": []
  },
  {
   "cell_type": "markdown",
   "id": "73f9a56d-37f3-4d6c-9928-79f366958b8d",
   "metadata": {},
   "source": [
    "$!5 = x + 2$ # Puedes poner así expresiones como matemáticas"
   ]
  },
  {
   "cell_type": "code",
   "execution_count": 49,
   "id": "91c4af85-715f-4fd3-98bc-dc8c213c81aa",
   "metadata": {},
   "outputs": [],
   "source": [
    "reduce()"
   ]
  },
  {
   "cell_type": "code",
   "execution_count": 52,
   "id": "d30f36e5-cc64-407b-89f8-58504750a9bc",
   "metadata": {},
   "outputs": [],
   "source": [
    "multiplicar = lambda num1, num2: num1 * num2"
   ]
  },
  {
   "cell_type": "code",
   "execution_count": 53,
   "id": "11e9c4f3-f029-4b3a-ba2d-a0298a38fffd",
   "metadata": {},
   "outputs": [
    {
     "data": {
      "text/plain": [
       "1390279101120"
      ]
     },
     "execution_count": 53,
     "metadata": {},
     "output_type": "execute_result"
    }
   ],
   "source": [
    "reduce(multiplicar, lista)"
   ]
  },
  {
   "cell_type": "code",
   "execution_count": 55,
   "id": "6139a348-05ba-47c4-b4a0-1c3d583619a1",
   "metadata": {},
   "outputs": [],
   "source": [
    "from math import factorial"
   ]
  },
  {
   "cell_type": "code",
   "execution_count": 56,
   "id": "67490e70-baec-4fc8-8524-010db3db0adf",
   "metadata": {},
   "outputs": [
    {
     "data": {
      "text/plain": [
       "120"
      ]
     },
     "execution_count": 56,
     "metadata": {},
     "output_type": "execute_result"
    }
   ],
   "source": [
    "factorial(5)"
   ]
  },
  {
   "cell_type": "code",
   "execution_count": 80,
   "id": "43a1d188-cd3b-4456-b10c-211bac115ca6",
   "metadata": {
    "tags": []
   },
   "outputs": [
    {
     "data": {
      "text/plain": [
       "5040"
      ]
     },
     "execution_count": 80,
     "metadata": {},
     "output_type": "execute_result"
    }
   ],
   "source": [
    "reduce(multiplicar, range(1, 8))"
   ]
  },
  {
   "cell_type": "code",
   "execution_count": 58,
   "id": "de590a88-3218-475e-a481-6ff0139e2822",
   "metadata": {},
   "outputs": [
    {
     "data": {
      "text/plain": [
       "range(0, 8)"
      ]
     },
     "execution_count": 58,
     "metadata": {},
     "output_type": "execute_result"
    }
   ],
   "source": []
  },
  {
   "cell_type": "code",
   "execution_count": null,
   "id": "c85fcffd-2aac-457c-bff2-a2946d61e691",
   "metadata": {},
   "outputs": [],
   "source": []
  }
 ],
 "metadata": {
  "kernelspec": {
   "display_name": "Python 3",
   "language": "python",
   "name": "python3"
  },
  "language_info": {
   "codemirror_mode": {
    "name": "ipython",
    "version": 3
   },
   "file_extension": ".py",
   "mimetype": "text/x-python",
   "name": "python",
   "nbconvert_exporter": "python",
   "pygments_lexer": "ipython3",
   "version": "3.8.8"
  }
 },
 "nbformat": 4,
 "nbformat_minor": 5
}
