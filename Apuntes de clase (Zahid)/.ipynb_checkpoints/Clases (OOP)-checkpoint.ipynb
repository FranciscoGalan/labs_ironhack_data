{
 "cells": [
  {
   "cell_type": "markdown",
   "id": "832e32c7-c073-46a1-83a8-d9ced647fb96",
   "metadata": {},
   "source": [
    "# Clases (Object-Oriented Programming)"
   ]
  },
  {
   "cell_type": "markdown",
   "id": "549fcf19-b220-4002-8c3f-56acc39fb7bc",
   "metadata": {},
   "source": [
    "Atributo: una variable asociada a una clase o instancia \n",
    "\n",
    "Método: una función asociada a una clase o instancia"
   ]
  },
  {
   "cell_type": "code",
   "execution_count": 4,
   "id": "56850551-3fa1-4e63-a2e8-0f970155dbbd",
   "metadata": {},
   "outputs": [],
   "source": [
    "class Dog(): # Mayúscula por convención\n",
    "            # Los paréntesis no son obligatorios\n",
    "    #propiedades\n",
    "    pass"
   ]
  },
  {
   "cell_type": "code",
   "execution_count": 5,
   "id": "5ca38d66-12de-4c1c-9965-100b902dd9d7",
   "metadata": {},
   "outputs": [],
   "source": [
    "perro1 = Dog() #una instancia de mi clase"
   ]
  },
  {
   "cell_type": "code",
   "execution_count": 6,
   "id": "cc345e3b-91dc-4a2d-a616-4f91c6999fd2",
   "metadata": {},
   "outputs": [
    {
     "data": {
      "text/plain": [
       "'Firulais'"
      ]
     },
     "execution_count": 6,
     "metadata": {},
     "output_type": "execute_result"
    }
   ],
   "source": [
    "perro1.nombre = 'Firulais' #Le agregué un atributo, aun si antes no lo puse en la clase\n",
    "perro1.nombre"
   ]
  },
  {
   "cell_type": "code",
   "execution_count": 7,
   "id": "bbc35e86-6f9a-4bba-b970-c1c1368969a6",
   "metadata": {},
   "outputs": [
    {
     "data": {
      "text/plain": [
       "'Chanfi'"
      ]
     },
     "execution_count": 7,
     "metadata": {},
     "output_type": "execute_result"
    }
   ],
   "source": [
    "perro2 = Dog()\n",
    "perro2.nombre = 'Chanfi'\n",
    "perro2.nombre"
   ]
  },
  {
   "cell_type": "code",
   "execution_count": 8,
   "id": "8bafd3a0-b7bc-4cb8-ad2c-96296ffd83e8",
   "metadata": {},
   "outputs": [
    {
     "data": {
      "text/plain": [
       "['cochino', 'amable', 'amarillo']"
      ]
     },
     "execution_count": 8,
     "metadata": {},
     "output_type": "execute_result"
    }
   ],
   "source": [
    "perro1.cualidades = ['cochino', 'amable', 'amarillo'] # Le agregué una lista como atributo\n",
    "perro1.cualidades"
   ]
  },
  {
   "cell_type": "code",
   "execution_count": 9,
   "id": "57552680-add5-4781-957c-489ee6e438af",
   "metadata": {},
   "outputs": [],
   "source": [
    "class Perro: \n",
    "    tipo = 'can'\n",
    "    patas = 4"
   ]
  },
  {
   "cell_type": "code",
   "execution_count": 10,
   "id": "cfc46622-3b07-4720-84ce-d6c16230c7ea",
   "metadata": {},
   "outputs": [
    {
     "data": {
      "text/plain": [
       "type"
      ]
     },
     "execution_count": 10,
     "metadata": {},
     "output_type": "execute_result"
    }
   ],
   "source": [
    "can1 = Perro # Si no pongo paréntesis, estoy referenciando a la clase misma.\n",
    "            # No estoy creando un nuevo objeto\n",
    "type(can1)"
   ]
  },
  {
   "cell_type": "code",
   "execution_count": 11,
   "id": "fcfb1392-68af-4c27-8716-555bd16ecac2",
   "metadata": {},
   "outputs": [
    {
     "data": {
      "text/plain": [
       "__main__.Perro"
      ]
     },
     "execution_count": 11,
     "metadata": {},
     "output_type": "execute_result"
    }
   ],
   "source": [
    "can2 = Perro() # Ponemos los paréntesis porque quizá después le pasemos información, aunque \n",
    "                # no es 100% necesario. \n",
    "type(can2)"
   ]
  },
  {
   "cell_type": "markdown",
   "id": "5e15e6df-81ef-4bf1-ac70-f700f5f61e99",
   "metadata": {},
   "source": [
    "## Constructores\n",
    "\n",
    "A constructor is a special kind of method that Python calls when it instantiates an object. \n",
    "\n",
    "Un **método**, a su vez, es una función que es parte de una clase. "
   ]
  },
  {
   "cell_type": "code",
   "execution_count": 12,
   "id": "92c1aa20-295a-4df4-877a-f692d337eec4",
   "metadata": {},
   "outputs": [],
   "source": [
    "class Perro(): \n",
    "    tipo = 'can'\n",
    "    patas = 4\n",
    "    \n",
    "    def __init__(self, nombre, edad, manchas=True):\n",
    "        self.nombre = nombre\n",
    "        self.edad = edad\n",
    "        self.manchas = manchas\n",
    "        self.comida = \"croquetas\" #Ojo: no lo pasé como parámetro\n",
    "        \n",
    "    def decir_nombre(self):\n",
    "        print(self.nombre)\n",
    "        \n",
    "    def renombrar_perro(self, nuevo_nombre):\n",
    "        self.nombre = nuevo_nombre"
   ]
  },
  {
   "cell_type": "code",
   "execution_count": 22,
   "id": "bf513627-9c46-41b0-ab6e-e4b56c085cf7",
   "metadata": {},
   "outputs": [],
   "source": [
    "class Perro_chihuahueño(Perro):\n",
    "    pass"
   ]
  },
  {
   "cell_type": "code",
   "execution_count": 24,
   "id": "7516094b-77bf-4457-a9d9-d52e3d6c1dea",
   "metadata": {},
   "outputs": [],
   "source": [
    "prueba = Perro_chihuahueño('Juan', 23)"
   ]
  },
  {
   "cell_type": "code",
   "execution_count": 25,
   "id": "7450312c-2594-4333-8572-3664f14477a9",
   "metadata": {},
   "outputs": [
    {
     "data": {
      "text/plain": [
       "'croquetas'"
      ]
     },
     "execution_count": 25,
     "metadata": {},
     "output_type": "execute_result"
    }
   ],
   "source": [
    "prueba.comida"
   ]
  },
  {
   "cell_type": "code",
   "execution_count": 13,
   "id": "482a6e1f-2cd2-4bd7-8a33-0bf6d4933ef2",
   "metadata": {},
   "outputs": [
    {
     "name": "stdout",
     "output_type": "stream",
     "text": [
      "Teo\n",
      "4\n",
      "croquetas\n"
     ]
    }
   ],
   "source": [
    "perrihijo = Perro(\"Teo\", 1)\n",
    "print(perrihijo.nombre)\n",
    "print(perrihijo.patas)\n",
    "print(perrihijo.comida)"
   ]
  },
  {
   "cell_type": "code",
   "execution_count": 14,
   "id": "9861b3d1-7fd8-43bb-a6ca-a470c2641973",
   "metadata": {},
   "outputs": [
    {
     "name": "stdout",
     "output_type": "stream",
     "text": [
      "Teo\n",
      "Achu\n"
     ]
    }
   ],
   "source": [
    "perrihijo.decir_nombre()\n",
    "perrihijo.renombrar_perro('Achu')\n",
    "perrihijo.decir_nombre()"
   ]
  },
  {
   "cell_type": "code",
   "execution_count": 15,
   "id": "0a0a133c-8d41-4dee-b5db-8ba4e05c6411",
   "metadata": {},
   "outputs": [
    {
     "name": "stdout",
     "output_type": "stream",
     "text": [
      "Achu\n"
     ]
    }
   ],
   "source": [
    "# También podrías llamar un método desde la clase, aunque es raro\n",
    "Perro.decir_nombre(perrihijo)"
   ]
  },
  {
   "cell_type": "code",
   "execution_count": 16,
   "id": "e317dd2a-68e4-4ff4-b109-e71637222749",
   "metadata": {},
   "outputs": [
    {
     "data": {
      "text/plain": [
       "'DIAGONAL INVERTIDO'"
      ]
     },
     "execution_count": 16,
     "metadata": {},
     "output_type": "execute_result"
    }
   ],
   "source": [
    "# Los strings también son una clase, por lo que podemos hacer lo mismo\n",
    "ejemplo = 'Diagonal invertido'\n",
    "\n",
    "#Podemos ejecutar el método desde la clase\n",
    "str.upper(ejemplo)"
   ]
  },
  {
   "cell_type": "code",
   "execution_count": 17,
   "id": "4d9cec29-c467-4cc2-b910-6f8de15074b6",
   "metadata": {},
   "outputs": [
    {
     "data": {
      "text/plain": [
       "'DIAGONAL INVERTIDO'"
      ]
     },
     "execution_count": 17,
     "metadata": {},
     "output_type": "execute_result"
    }
   ],
   "source": [
    "# O pedir el método desde la instancia\n",
    "ejemplo.upper()"
   ]
  },
  {
   "cell_type": "markdown",
   "id": "6d33eae3-0fd5-4d03-a2bc-26bf0875b8cd",
   "metadata": {},
   "source": [
    "## Inheritance (escribir una clase con base en otra clase)"
   ]
  },
  {
   "cell_type": "markdown",
   "id": "6b89d3bc-4cef-4deb-b85a-8350ef09c078",
   "metadata": {},
   "source": [
    "Cuando quiero que herede, sí tengo que poner los paréntesis al crear mi clase.\n",
    "\n",
    "La nueva clase va a heredar todos los atributos y métodos de la clase original."
   ]
  },
  {
   "cell_type": "code",
   "execution_count": null,
   "id": "d78bc1f0-83c3-4044-b9b7-1797a1695a05",
   "metadata": {},
   "outputs": [],
   "source": []
  },
  {
   "cell_type": "code",
   "execution_count": 18,
   "id": "f2db8cfd-8f3a-4439-8cf6-b8e31f5ab90b",
   "metadata": {},
   "outputs": [],
   "source": [
    "class Perro_chihuahueño(Perro):\n",
    "    \n",
    "    def __init__(self, nombre, edad, manchas): \n",
    "        super().__init__(nombre, edad, manchas) #Una forma de hacerlo"
   ]
  },
  {
   "cell_type": "code",
   "execution_count": 19,
   "id": "852083f5-bbab-4fb2-a3b9-0d5e04ef4a5c",
   "metadata": {},
   "outputs": [],
   "source": [
    "class Perro_labrador(Perro):\n",
    "    \n",
    "    def __init__(self, nombre, edad, manchas):\n",
    "        Mascota.__init__(nombre, edad, manchas) # Otra forma de hacerlo"
   ]
  },
  {
   "cell_type": "code",
   "execution_count": 20,
   "id": "1f2fa3d4-9761-45bc-b06b-fa93a55f81f0",
   "metadata": {},
   "outputs": [
    {
     "data": {
      "text/plain": [
       "{'nombre': 'Achu', 'edad': 1, 'manchas': True, 'comida': 'croquetas'}"
      ]
     },
     "execution_count": 20,
     "metadata": {},
     "output_type": "execute_result"
    }
   ],
   "source": [
    "# Para acceder a todos los atributos de un objeto\n",
    "perrihijo.__dict__"
   ]
  },
  {
   "cell_type": "code",
   "execution_count": 21,
   "id": "9f845707-4bc7-4aea-b121-ee2d75a8366f",
   "metadata": {},
   "outputs": [],
   "source": [
    "class Perro_perro_chihuahueño(Perro_chihuahueño):\n",
    "    \n",
    "    def __init__(self, nombre, edad, manchas): \n",
    "        super().super().__init__(nombre, edad, manchas) #Una forma de hacerlo"
   ]
  },
  {
   "cell_type": "code",
   "execution_count": null,
   "id": "cad27dd2-5fb8-4c1d-9fcf-172b11a5351d",
   "metadata": {},
   "outputs": [],
   "source": []
  },
  {
   "cell_type": "code",
   "execution_count": null,
   "id": "6357dc07-7160-4a40-b9e4-75ee81706d7f",
   "metadata": {},
   "outputs": [],
   "source": []
  },
  {
   "cell_type": "code",
   "execution_count": null,
   "id": "f67bac71-8b5a-46c9-b58e-b4e51adfdb48",
   "metadata": {},
   "outputs": [],
   "source": []
  },
  {
   "cell_type": "code",
   "execution_count": null,
   "id": "b6b40dd4-7559-453f-9683-2495424fe51b",
   "metadata": {},
   "outputs": [],
   "source": []
  },
  {
   "cell_type": "code",
   "execution_count": null,
   "id": "110918a8-2b25-4ccf-83ef-85204a6a9540",
   "metadata": {},
   "outputs": [],
   "source": []
  },
  {
   "cell_type": "code",
   "execution_count": null,
   "id": "9dbb207a-5705-4f62-bb3d-b399ff587a56",
   "metadata": {},
   "outputs": [],
   "source": []
  },
  {
   "cell_type": "code",
   "execution_count": null,
   "id": "617d401c-9531-4eca-b71c-4bee9dba0681",
   "metadata": {},
   "outputs": [],
   "source": []
  },
  {
   "cell_type": "code",
   "execution_count": null,
   "id": "45a32385-b512-4d52-8441-38836d923871",
   "metadata": {},
   "outputs": [],
   "source": []
  },
  {
   "cell_type": "code",
   "execution_count": null,
   "id": "652c718d-07a3-439d-9c49-d5f2a7d1f898",
   "metadata": {},
   "outputs": [],
   "source": []
  },
  {
   "cell_type": "code",
   "execution_count": null,
   "id": "6bf5c10d-d84d-4170-88de-7cf9540289d7",
   "metadata": {},
   "outputs": [],
   "source": []
  }
 ],
 "metadata": {
  "kernelspec": {
   "display_name": "Python 3",
   "language": "python",
   "name": "python3"
  },
  "language_info": {
   "codemirror_mode": {
    "name": "ipython",
    "version": 3
   },
   "file_extension": ".py",
   "mimetype": "text/x-python",
   "name": "python",
   "nbconvert_exporter": "python",
   "pygments_lexer": "ipython3",
   "version": "3.8.8"
  }
 },
 "nbformat": 4,
 "nbformat_minor": 5
}
