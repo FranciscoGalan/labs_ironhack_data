{
 "cells": [
  {
   "cell_type": "code",
   "execution_count": 1,
   "id": "88b3cb39-56be-4e45-8eef-94fe662dbf3b",
   "metadata": {},
   "outputs": [],
   "source": [
    "import pandas as pd\n",
    "import requests\n",
    "from bs4 import BeautifulSoup\n",
    "\n",
    "# Libro Web Scraping\n",
    "## Esta librería ya está integrada en Python\n",
    "\n",
    "from urllib.request import urlopen"
   ]
  },
  {
   "cell_type": "markdown",
   "id": "e55f336a-a8b4-4420-9b2e-b40541ae186a",
   "metadata": {},
   "source": [
    "Para saber qué puedes scrapear y qué no, googlea \"robots.txt\" más el nombre del sitio web. Ahí te indica qué sí puedes scrapear y qué. Ejemplo: [Página del INEGI](https://inegi.org.mx/robots.txt)"
   ]
  },
  {
   "cell_type": "code",
   "execution_count": 2,
   "id": "830177ec-b4b0-420a-ab37-1c4156125b50",
   "metadata": {},
   "outputs": [],
   "source": [
    "url = 'https://www.inegi.org.mx/'\n",
    "info = requests.get(url)"
   ]
  },
  {
   "cell_type": "code",
   "execution_count": 3,
   "id": "5099e0f2-b81e-44d4-8e6d-f7880596cd19",
   "metadata": {},
   "outputs": [
    {
     "data": {
      "text/plain": [
       "requests.models.Response"
      ]
     },
     "execution_count": 3,
     "metadata": {},
     "output_type": "execute_result"
    }
   ],
   "source": [
    "type(info)"
   ]
  },
  {
   "cell_type": "code",
   "execution_count": 23,
   "id": "fca4d71b-6d84-45b5-830b-b184c2e0dd83",
   "metadata": {},
   "outputs": [
    {
     "data": {
      "text/plain": [
       "b'<!DOCTYPE html>\\r\\n<html lang=\"es\">\\r\\n<head>\\r\\n    <title>Instituto Nacional de Estad\\xc3\\xadstica y Geograf\\xc3\\xada (INEGI)</title>\\r\\n    <meta charset=\"UTF-8\">\\r\\n    <meta name=\"keywords\" content=\"estad\\xc3\\xadstica, geograf\\xc3\\xada\">\\r\\n    <meta name=\"robots\" content=\"index, follow\">\\r\\n    <meta name=\"description\" content=\"P\\xc3'"
      ]
     },
     "execution_count": 23,
     "metadata": {},
     "output_type": "execute_result"
    }
   ],
   "source": [
    "# La versión del libro de web scraping\n",
    "info_v2 = urlopen(url)\n",
    "info_v2.read()[:300]"
   ]
  },
  {
   "cell_type": "code",
   "execution_count": 7,
   "id": "cde36bd5-96ab-4c25-aaaa-ad3063cc0e6b",
   "metadata": {},
   "outputs": [
    {
     "data": {
      "text/plain": [
       "200"
      ]
     },
     "execution_count": 7,
     "metadata": {},
     "output_type": "execute_result"
    }
   ],
   "source": [
    "# ¿Fue exitoso?\n",
    "info.status_code"
   ]
  },
  {
   "cell_type": "code",
   "execution_count": 11,
   "id": "44187e43-02e2-4129-8b30-086a5ea9ae77",
   "metadata": {},
   "outputs": [
    {
     "data": {
      "text/plain": [
       "b'<!DOCTYPE html>\\r\\n<html lang=\"es\">\\r\\n<head>\\r\\n    <title>Instituto Nacional de Estad\\xc3\\xadstica y Geograf\\xc3\\xada (INEGI)</title>\\r\\n    <meta charset=\"UTF-8\">\\r\\n    <meta name=\"keywords\" content=\"estad\\xc3\\xadstica, geograf\\xc3\\xada\">\\r\\n    <meta name=\"robots\" content=\"index, follow\">\\r\\n    <meta name=\"description\" content=\"P\\xc3\\xa1gina oficial del INEGI donde se ofrece informaci\\xc3\\xb3n estad\\xc3\\xadstica, geogr\\xc3\\xa1fica y econ\\xc3\\xb3mica a nivel nacional y por entidad federativa. Informaci\\xc3\\xb3n generada por el Instituto y otras dependencias del gobierno nacional.\">\\r\\n    <meta name=\"robots\" content=\"index, follow\">\\r\\n    <meta name=\"author\" conte'"
      ]
     },
     "execution_count": 11,
     "metadata": {},
     "output_type": "execute_result"
    }
   ],
   "source": [
    "# Display del contenido\n",
    "info.content[:600]"
   ]
  },
  {
   "cell_type": "code",
   "execution_count": 28,
   "id": "830319cc-83f8-45bd-814e-c1745ae88930",
   "metadata": {},
   "outputs": [],
   "source": [
    "# Para que se vea más bonito\n",
    "# El parser (analizador) es por defecto, creo, lxml\n",
    "soup = BeautifulSoup(info.content, 'lxml') "
   ]
  },
  {
   "cell_type": "markdown",
   "id": "0657050d-466e-4e2d-98f2-85503be98661",
   "metadata": {},
   "source": [
    "# Búsqueda de tags"
   ]
  },
  {
   "cell_type": "code",
   "execution_count": 29,
   "id": "358084f6-4e63-436e-a401-5cc36568f1ec",
   "metadata": {},
   "outputs": [
    {
     "data": {
      "text/plain": [
       "<h1 style=\"display:none\">Instituto Nacional de Estadística y Geografía (INEGI)</h1>"
      ]
     },
     "execution_count": 29,
     "metadata": {},
     "output_type": "execute_result"
    }
   ],
   "source": [
    "# El primer h1 que se encuentre\n",
    "# Traer todo hasta que cierre el tag\n",
    "soup.h1"
   ]
  },
  {
   "cell_type": "code",
   "execution_count": 31,
   "id": "ca0585c6-d8c5-4b6e-8a94-682417dcd6e5",
   "metadata": {},
   "outputs": [
    {
     "data": {
      "text/plain": [
       "<p>Las medidas derivadas de la emergencia sanitaria han afectado en distinta manera los programas de información del INEGI. En caso de existir impactos en calidad, cobertura o de otra índole en ellos, se darán a conocer en las Notas Técnicas que acompañan su publicación.</p>"
      ]
     },
     "execution_count": 31,
     "metadata": {},
     "output_type": "execute_result"
    }
   ],
   "source": [
    "# El primer p que se encuentre\n",
    "soup.p"
   ]
  },
  {
   "cell_type": "code",
   "execution_count": 35,
   "id": "714a8bb1-db8b-49b2-af30-5685d452009b",
   "metadata": {},
   "outputs": [
    {
     "data": {
      "text/plain": [
       "<head>\n",
       "<title>Instituto Nacional de Estadística y Geografía (INEGI)</title>\n",
       "<meta charset=\"utf-8\"/>\n",
       "<meta content=\"estadística, geografía\" name=\"keywords\"/>\n",
       "<meta content=\"index, follow\" name=\"robots\"/>\n",
       "<meta content=\"Página oficial del INEGI donde se ofrece información estadística, geográfica y económica a nivel nacional y por entidad federativa. Información generada por el Instituto y otras dependencias del gobierno nacional.\" name=\"description\"/>\n",
       "<meta content=\"index, follow\" name=\"robots\"/>\n",
       "<meta content=\"Instituto Nacional de Estadística y Geografía. INEGI\" name=\"author\"/>\n",
       "<meta content=\"/default.html\" name=\"dc.identificier\"/>\n",
       "<meta content=\"Instituto Nacional de Estadística y Geografía. INEGI\" name=\"dc.title\"/>\n",
       "<meta content=\"estadística, geografía\" name=\"dc.subject\"/>\n",
       "<meta content=\"Página oficial del INEGI donde se ofrece información estadística, geográfica y económica a nivel nacional y por entidad federativa. Información generada por el Instituto y otras dependencias del gobierno nacional\" name=\"dc.description\"/>\n",
       "<meta content=\"Instituto Nacional de Estadística y Geografía. INEGI\" name=\"dc.publisher\"/>\n",
       "<meta content=\"\" name=\"dc.date\"/>\n",
       "<meta content=\" \" name=\"dc.issued\"/>\n",
       "<meta content=\" \" name=\"dc.modified\"/>\n",
       "<meta content=\"\" name=\"dc.source\"/>\n",
       "<meta content=\"text/html\" name=\"dc.format\"/>\n",
       "<meta content=\"es\" name=\"dc.language\"/>\n",
       "<meta content=\"\" name=\"dc.relation\"/>\n",
       "<meta content=\"Estados Unidos Mexicanos\" name=\"dc.spatial\"/>\n",
       "<meta content=\"\" name=\"dc.subject\"/>\n",
       "<link href=\"/estilos/bootstrap/bootstrap.min.css\" id=\"estBoos\" rel=\"stylesheet\"/>\n",
       "<link href=\"/estilos/home/homescritorio_v2.min.css\" rel=\"stylesheet\"/>\n",
       "<link href=\"/estilos/home/hometablet_v2.min.css\" media=\"(min-width:768px) and (max-width:991px)\" rel=\"stylesheet\"/>\n",
       "<link href=\"/estilos/home/homemovil_v2.min.css\" media=\"(max-width:767px)\" rel=\"stylesheet\"/>\n",
       "<style>\n",
       "        .covid1 {\n",
       "            height: 124px\n",
       "        }\n",
       "\n",
       "        .covid2 {\n",
       "            height: 185px\n",
       "        }\n",
       "\n",
       "        .covid__left-p {\n",
       "            padding-right: 4px\n",
       "        }\n",
       "\n",
       "        .covid__right-g {\n",
       "            padding-left: 0;\n",
       "            margin-left: 0;\n",
       "            padding-right: 11px;\n",
       "        }\n",
       "\n",
       "        .covid__right-g-dos {\n",
       "            margin-left: -7px;\n",
       "            padding-right: 8px;\n",
       "            padding-left: 0;\n",
       "        }\n",
       "\n",
       "        .covid__trans {\n",
       "            width: 100%;\n",
       "            background: rgba(1, 116, 197, .5);\n",
       "        }\n",
       "\n",
       "        .covid__enl-r {\n",
       "            min-height: 149px;\n",
       "            text-align: center\n",
       "        }\n",
       "\n",
       "        .covid__tit-r {\n",
       "            padding-top: 18%;\n",
       "            padding-left: 40px;\n",
       "            padding-right: 40px;\n",
       "            margin-bottom: 0\n",
       "        }\n",
       "\n",
       "        .covid__gen_l {\n",
       "            background: #0174c5;\n",
       "            padding: 10px;\n",
       "            margin-bottom: 4px;\n",
       "            color: #fff;\n",
       "            min-height: 129px\n",
       "        }\n",
       "\n",
       "        .covid__per {\n",
       "            font-size: 2em\n",
       "        }\n",
       "\n",
       "        @media(min-width:768px) and (max-width:991px) {\n",
       "            .covid__enl-r {\n",
       "                min-height: 150px\n",
       "            }\n",
       "\n",
       "            .covid__tit-r {\n",
       "                padding-top: 15%\n",
       "            }\n",
       "\n",
       "            .covid__right-g {\n",
       "                padding-left: 15px;\n",
       "                padding-right: 4px;\n",
       "            }\n",
       "\n",
       "            .covid__right-g-dos {\n",
       "                margin-left: 0;\n",
       "                padding-right: 15px;\n",
       "            }\n",
       "\n",
       "            .covid__left-p {\n",
       "                padding-right: 15px\n",
       "            }\n",
       "        }\n",
       "\n",
       "        @media(max-width:767px) {\n",
       "\n",
       "            .covid1 {\n",
       "                height: inherit;\n",
       "                width: 100%\n",
       "            }\n",
       "\n",
       "            .covid2 {\n",
       "                height: inherit;\n",
       "                width: 100%\n",
       "            }\n",
       "\n",
       "\n",
       "\n",
       "            .covid__left-p {\n",
       "                padding-right: 15px;\n",
       "            }\n",
       "\n",
       "            .covid__right-g {\n",
       "                padding-left: 15px;\n",
       "                margin-left: 0;\n",
       "                padding-right: 15px;\n",
       "            }\n",
       "\n",
       "            .covid__right-g-dos {\n",
       "                margin-left: 0;\n",
       "                padding-right: 15px;\n",
       "                padding-left: 15px;\n",
       "            }\n",
       "\n",
       "            .covid__trans {\n",
       "                background: #3586bf;\n",
       "            }\n",
       "\n",
       "            .covid__gen_l {\n",
       "                margin-bottom: 2px\n",
       "            }\n",
       "\n",
       "            .covid__enl-r {\n",
       "                min-height: inherit;\n",
       "                text-align: left;\n",
       "                padding: 10px 6px;\n",
       "            }\n",
       "\n",
       "            .covid__tit-r {\n",
       "                padding: 0;\n",
       "            }\n",
       "\n",
       "            .covid__per {\n",
       "                font-size: 1.3em;\n",
       "                display: inline\n",
       "            }\n",
       "\n",
       "            .covid__tit-r {\n",
       "                display: inline\n",
       "            }\n",
       "        }\n",
       "    </style>\n",
       "</head>"
      ]
     },
     "execution_count": 35,
     "metadata": {},
     "output_type": "execute_result"
    }
   ],
   "source": [
    "# El primer head\n",
    "soup.head"
   ]
  },
  {
   "cell_type": "code",
   "execution_count": 57,
   "id": "3e9ef5a4-0491-4941-982c-e46ae7e584bf",
   "metadata": {},
   "outputs": [
    {
     "data": {
      "text/plain": [
       "'\\nInstituto Nacional de Estadística y Geografía (INEGI)\\n\\n\\n\\n\\n\\n\\n\\n\\n\\n\\n\\n\\n\\n\\n\\n\\n\\n\\n\\n\\n\\n\\n\\n\\n\\n'"
      ]
     },
     "execution_count": 57,
     "metadata": {},
     "output_type": "execute_result"
    }
   ],
   "source": [
    "# Hay métodos para traer ciertas cosas\n",
    "\n",
    "# Text busca el texto dentro de ese tag y sus hijos\n",
    "soup.head.text"
   ]
  },
  {
   "cell_type": "code",
   "execution_count": 40,
   "id": "67af59b3-8668-4a53-8049-f63c76bec4e8",
   "metadata": {},
   "outputs": [],
   "source": [
    "# String te trae solo el texto en ese tag.\n",
    "soup.head.string\n",
    "\n",
    "# No arroja nada porqu eno hay texto en este tag (aunque sí en los hijos)"
   ]
  },
  {
   "cell_type": "code",
   "execution_count": 41,
   "id": "51dfe0ab-3d43-4652-b588-570c04889cae",
   "metadata": {},
   "outputs": [
    {
     "data": {
      "text/plain": [
       "'\\n\\nInstituto Nacional de Estadística y Geografía (INEGI)\\n\\n\\n\\n\\n\\n\\n\\n\\n\\n\\n\\n\\n\\n\\n\\n\\n\\n\\n\\n\\n\\n\\n\\n\\n\\n\\n\\nInstituto Nacional de Estadística y Geografía (INEGI)\\n\\n\\n\\n\\n\\n\\nAviso COVID-19\\n\\nLas medidas derivadas de la emergencia sanitaria han afectado en distinta manera los programas de información del INEGI. En caso de existir impactos en calidad, cobertura o de otra índole en ellos, se darán a conocer en las Notas Técnicas que acompañan su publicación.\\n\\n\\n\\n\\n\\n\\n\\r\\n                                Perspectiva en cifras\\r\\n                            \\nCOVID-19\\n\\n\\n\\n\\n\\n\\n\\n\\n\\r\\n                                Visualizador analítico para el COVID-19\\r\\n                            \\n\\n\\n\\n\\n\\n\\n\\n\\n\\n\\n\\n\\n\\n\\n\\n\\n\\n\\n\\n\\n\\n\\n\\n\\n\\n\\n\\n\\n\\n\\n\\n\\n\\n\\n\\n\\n\\n\\n\\n\\n\\n\\n\\n\\n\\n\\n\\n\\n\\n\\n\\n\\n\\n\\n\\n\\n\\n\\n\\n\\n\\n\\n\\n\\n\\n\\n\\n\\n\\n\\n\\n\\n\\n\\n\\n\\nTemas\\n\\n\\nAgricultura, ganadería y pesca\\n\\n\\n\\n\\nCatastro y Gestión Territorial\\n\\n\\n\\n\\nComercio\\n\\n\\n\\n\\nComercio exterior\\n\\n\\n\\n\\n\\nConstrucción\\r\\n                    \\n\\n\\n\\n\\nEducación\\n\\n\\n\\n\\nEmpleo y ocupación\\n\\n\\n\\n\\nEmpresas y establecimientos\\n\\n\\n\\n\\nGobierno\\n\\n\\n\\n\\nHogares y Vivienda\\n\\n\\n\\n\\nImágenes del territorio\\n\\n\\n\\n\\nManufacturas\\n\\n\\n\\n\\nMapas\\n\\n\\n\\n\\nMarco Geodésico\\n\\n\\n\\n\\nMarco Geoestadístico\\n\\n\\n\\n\\nMedio ambiente\\n\\n\\n\\n\\nMinería\\n\\n\\n\\n\\nPIB y Cuentas Nacionales\\n\\n\\n\\n\\nPoblación\\n\\n\\n\\n\\nPrecios\\n\\n\\n\\n\\nSalud y Seguridad Social\\n\\n\\n\\n\\nSeguridad pública y justicia\\n\\n\\n\\n\\nServicios no financieros\\n\\n\\n\\n\\nTecnologías de la información y comunicaciones\\n\\n\\n\\n\\nTransporte\\n\\n\\n\\n\\nTurismo\\n\\n\\n\\n\\n\\n\\nMéxico en cifras\\nConsulta nacional, estatal, municipal y localidad\\n\\n\\n\\n\\n\\n\\nChiapas\\n\\n\\nOaxaca\\n\\n\\nGuerrero\\n\\n\\nTabasco\\n\\n\\nMichoacán de Ocampo\\n\\n\\nPuebla\\n\\n\\nMorelos\\n\\n\\nMéxico\\n\\n\\nColima\\n\\n\\nCampeche\\n\\n\\nJalisco\\n\\n\\nCiudad de México\\n\\n\\nTlaxcala\\n\\n\\nHidalgo\\n\\n\\nGuanajuato\\n\\n\\nQuerétaro\\n\\n\\nYucatán\\n\\n\\nZacatecas\\n\\n\\nSan Luis Potosí\\n\\n\\nVeracruz de Ignacio de la Llave\\n\\n\\nAguascalientes\\n\\n\\nQuintana Roo\\n\\n\\nNayarit\\n\\n\\nTamaulipas\\n\\n\\nDurango\\n\\n\\nNuevo León\\n\\n\\nCoahuila de Zaragoza\\n\\n\\nSinaloa\\n\\n\\nChihuahua\\n\\n\\nBaja California Sur\\n\\n\\nBaja California\\n\\n\\nSonora\\n\\n\\n\\n\\n\\nSeleccione la entidad en el mapa o en la siguiente lista:\\nSeleccione la entidad en la siguiente lista:\\n\\n\\n\\r\\n                                            Selecciona una entidad\\r\\n                                        \\n\\n\\n\\r\\n                                                ▽\\r\\n                                            \\nIr\\n\\n\\nEstados Unidos Mexicanos\\nAguascalientes\\nBaja California\\nBaja California Sur\\nCampeche\\nCoahuila de Zaragoza\\nColima\\nChiapas\\nChihuahua\\nCiudad de México\\nDurango\\nGuanajuato\\nGuerrero\\nHidalgo\\nJalisco\\nMéxico\\nMichoacán de Ocampo\\nMorelos\\nNayarit\\nNuevo León\\nOaxaca\\nPuebla\\nQuerétaro\\nQuintana Roo\\nSan Luis Potosí\\nSinaloa\\nSonora\\nTabasco\\nTamaulipas\\nTlaxcala\\nVeracruz de Ignacio de la Llave\\nYucatán\\nZacatecas\\n\\n\\n\\n\\n\\n\\n\\n\\n\\n\\nLo más buscado\\n\\n\\n\\n\\n\\n\\n\\n\\r\\n                        Noticias / Sala de prensa\\r\\n                        Ver más\\n\\n\\n\\n\\n\\n\\n\\n\\n\\n\\n\\n\\n\\n\\n\\n\\n\\n\\n\\n\\n\\n\\n\\n\\n\\n\\n\\n\\n\\n\\n  \\n\\n\\n\\n\\n\\n\\n\\n  \\n\\n\\n\\n\\n\\n\\n\\n  \\n\\n\\n\\n\\n\\n\\n\\n\\n\\n\\n\\n\\n\\r\\n                        Calendario de difusión\\r\\n                        Ver más\\n\\n\\n\\n\\n\\n\\n\\nDe interés\\n\\n\\n\\n\\n\\n\\n\\n\\nCenso2020.mx\\n\\n\\n\\n\\n\\n\\n\\n\\n\\n\\n\\n\\n\\n\\n\\n\\n\\n\\n\\n\\n\\n\\n\\n\\n\\n\\n\\n\\n\\n\\nMetodologías en consulta\\n\\n\\n\\n\\n\\n\\n\\n\\n\\n\\n\\n\\n\\n\\n\\nPara el informante\\n\\n\\n\\n\\n\\n\\n\\n\\nOperativos en campo\\nVerifica la identidad del personal del INEGI que visita tu vivienda o establecimiento.\\r\\n                                    \\n\\n\\n\\n\\n\\n\\n\\n\\n\\n\\n\\nCaptación de información en línea\\nCaptura la información de tu establecimiento en cuestionarios electrónicos.\\r\\n                                    \\n\\n\\n\\n\\n\\n\\n\\n\\nTransparencia\\n\\n\\n\\n\\n\\n\\n\\n\\n\\n\\n\\n\\n\\n\\n\\n\\n\\n\\n\\n\\n\\n\\n\\n\\n\\n\\n\\n\\n\\n\\n\\n'"
      ]
     },
     "execution_count": 41,
     "metadata": {},
     "output_type": "execute_result"
    }
   ],
   "source": [
    "soup.text"
   ]
  },
  {
   "cell_type": "markdown",
   "id": "c2fbf24f-ce87-4894-946e-417cdcc5d000",
   "metadata": {},
   "source": [
    "### Otro ejemplo"
   ]
  },
  {
   "cell_type": "code",
   "execution_count": 58,
   "id": "f745d625-49e8-4f57-9fdb-4dc360df7a3f",
   "metadata": {},
   "outputs": [],
   "source": [
    "contenido = \"\"\"<!DOCTYPE html>\n",
    "<html>\n",
    "<head>\n",
    "<title>Page Title</title>\n",
    "</head>\n",
    "<body>\n",
    "\n",
    "<h1>This is a Heading</h1>\n",
    "<p>This is a paragraph.</p>\n",
    "<h1> Otro heading </h1>\n",
    "<b class=\"boldest\" id=\"elId\">Extremely bold</b><p></p>\n",
    "<p class=\"body\"></p>\n",
    "<a class=\"indicador__enlace indicador__enlace-alto\" id=\"enlIn3\" href=\"/programas/ce/2019/\" aria-label=\"Personal ocupado total. Universo total 36,038,272 Número de personas 2019 consulta información\">\n",
    "<h2 class=\"indicador__enlace__titulo indicador__enlace__titulo-margen h5\">\n",
    "<strong><span class=\"indDato floDato\" id=\"va_ind3\"> 36,038,272</span></strong>\n",
    "</h2>\n",
    "</a>\n",
    "</body>\n",
    "</html>\n",
    "\"\"\""
   ]
  },
  {
   "cell_type": "code",
   "execution_count": 59,
   "id": "f23ecacb-4804-472d-9edd-fca99e92c19e",
   "metadata": {},
   "outputs": [],
   "source": [
    "cont = BeautifulSoup(contenido, 'lxml')"
   ]
  },
  {
   "cell_type": "code",
   "execution_count": 60,
   "id": "51c06ea2-df21-4c8a-9b3e-581e1995c89b",
   "metadata": {},
   "outputs": [
    {
     "data": {
      "text/plain": [
       "'\\nPage Title\\n'"
      ]
     },
     "execution_count": 60,
     "metadata": {},
     "output_type": "execute_result"
    }
   ],
   "source": [
    "cont.head.text"
   ]
  },
  {
   "cell_type": "code",
   "execution_count": 61,
   "id": "e3ae40ba-3698-422f-953a-2193c8e1a21b",
   "metadata": {},
   "outputs": [
    {
     "data": {
      "text/plain": [
       "'Page Title'"
      ]
     },
     "execution_count": 61,
     "metadata": {},
     "output_type": "execute_result"
    }
   ],
   "source": [
    "cont.title.string"
   ]
  },
  {
   "cell_type": "code",
   "execution_count": 63,
   "id": "28d80542-69f2-4ae1-9d6b-3f50a9e4fa22",
   "metadata": {},
   "outputs": [
    {
     "data": {
      "text/plain": [
       "'Extremely bold'"
      ]
     },
     "execution_count": 63,
     "metadata": {},
     "output_type": "execute_result"
    }
   ],
   "source": [
    "cont.b.text"
   ]
  },
  {
   "cell_type": "code",
   "execution_count": 69,
   "id": "e6c12bd4-cdc7-4124-a91e-7c7c3223c59f",
   "metadata": {},
   "outputs": [
    {
     "data": {
      "text/plain": [
       "'Extremely bold'"
      ]
     },
     "execution_count": 69,
     "metadata": {},
     "output_type": "execute_result"
    }
   ],
   "source": [
    "# Creo que es igual al anterior\n",
    "cont.b.get_text()"
   ]
  },
  {
   "cell_type": "code",
   "execution_count": 67,
   "id": "bb2ae317-e6f5-4b2a-bde0-c1a3103371b1",
   "metadata": {},
   "outputs": [
    {
     "data": {
      "text/plain": [
       "'elId'"
      ]
     },
     "execution_count": 67,
     "metadata": {},
     "output_type": "execute_result"
    }
   ],
   "source": [
    "cont.b['id']"
   ]
  },
  {
   "cell_type": "code",
   "execution_count": 71,
   "id": "1ed92027-c8d4-48bf-8d3e-ad46253cdb3f",
   "metadata": {},
   "outputs": [
    {
     "data": {
      "text/plain": [
       "[<p>This is a paragraph.</p>, <p></p>, <p class=\"body\"></p>]"
      ]
     },
     "execution_count": 71,
     "metadata": {},
     "output_type": "execute_result"
    }
   ],
   "source": [
    "# Regresa todos los valores de p\n",
    "cont.find_all('p')"
   ]
  },
  {
   "cell_type": "code",
   "execution_count": 73,
   "id": "ee4f3806-4a90-46fe-aa32-84ce4d2b93c8",
   "metadata": {},
   "outputs": [
    {
     "data": {
      "text/plain": [
       "[<p class=\"body\"></p>]"
      ]
     },
     "execution_count": 73,
     "metadata": {},
     "output_type": "execute_result"
    }
   ],
   "source": [
    "# Así me busca todas las clases que vienen con body\n",
    "## Se pone class_ porque es palabra reservada\n",
    "cont.find_all(class_='body')"
   ]
  },
  {
   "cell_type": "code",
   "execution_count": 74,
   "id": "b678aaf1-e3dd-4e3d-ab21-bb1ba54009c5",
   "metadata": {},
   "outputs": [
    {
     "data": {
      "text/plain": [
       "[<p class=\"body\"></p>]"
      ]
     },
     "execution_count": 74,
     "metadata": {},
     "output_type": "execute_result"
    }
   ],
   "source": [
    "cont.select(\".body\")"
   ]
  },
  {
   "cell_type": "code",
   "execution_count": null,
   "id": "0fcab497-c4ca-4b36-9b91-ff776a82586b",
   "metadata": {},
   "outputs": [],
   "source": [
    "cont.select(\".body\")"
   ]
  },
  {
   "cell_type": "markdown",
   "id": "cf47f055-b553-40d7-96b9-c7dd6ce65a14",
   "metadata": {},
   "source": [
    "Volvemos con la página del INEGI"
   ]
  },
  {
   "cell_type": "code",
   "execution_count": 85,
   "id": "90e928ab-d95e-4508-88eb-1d47200f4472",
   "metadata": {},
   "outputs": [
    {
     "ename": "AttributeError",
     "evalue": "ResultSet object has no attribute 'get_text'. You're probably treating a list of elements like a single element. Did you call find_all() when you meant to call find()?",
     "output_type": "error",
     "traceback": [
      "\u001b[1;31m---------------------------------------------------------------------------\u001b[0m",
      "\u001b[1;31mAttributeError\u001b[0m                            Traceback (most recent call last)",
      "\u001b[1;32m<ipython-input-85-c44c62b0f096>\u001b[0m in \u001b[0;36m<module>\u001b[1;34m\u001b[0m\n\u001b[0;32m      1\u001b[0m \u001b[1;31m# Para encontrar una etiqueta con una clase\u001b[0m\u001b[1;33m\u001b[0m\u001b[1;33m\u001b[0m\u001b[1;33m\u001b[0m\u001b[0m\n\u001b[0;32m      2\u001b[0m \u001b[0mtags_a\u001b[0m \u001b[1;33m=\u001b[0m \u001b[0msoup\u001b[0m\u001b[1;33m.\u001b[0m\u001b[0mfind_all\u001b[0m\u001b[1;33m(\u001b[0m\u001b[1;34m'a'\u001b[0m\u001b[1;33m)\u001b[0m\u001b[1;33m\u001b[0m\u001b[1;33m\u001b[0m\u001b[0m\n\u001b[1;32m----> 3\u001b[1;33m \u001b[0mtags_a\u001b[0m\u001b[1;33m.\u001b[0m\u001b[0mget_text\u001b[0m\u001b[1;33m(\u001b[0m\u001b[1;33m)\u001b[0m\u001b[1;33m\u001b[0m\u001b[1;33m\u001b[0m\u001b[0m\n\u001b[0m\u001b[0;32m      4\u001b[0m \u001b[1;33m\u001b[0m\u001b[0m\n\u001b[0;32m      5\u001b[0m \u001b[1;31m# Otra forma de hacerlo\u001b[0m\u001b[1;33m\u001b[0m\u001b[1;33m\u001b[0m\u001b[1;33m\u001b[0m\u001b[0m\n",
      "\u001b[1;32m~\\anaconda3\\lib\\site-packages\\bs4\\element.py\u001b[0m in \u001b[0;36m__getattr__\u001b[1;34m(self, key)\u001b[0m\n\u001b[0;32m   2171\u001b[0m     \u001b[1;32mdef\u001b[0m \u001b[0m__getattr__\u001b[0m\u001b[1;33m(\u001b[0m\u001b[0mself\u001b[0m\u001b[1;33m,\u001b[0m \u001b[0mkey\u001b[0m\u001b[1;33m)\u001b[0m\u001b[1;33m:\u001b[0m\u001b[1;33m\u001b[0m\u001b[1;33m\u001b[0m\u001b[0m\n\u001b[0;32m   2172\u001b[0m         \u001b[1;34m\"\"\"Raise a helpful exception to explain a common code fix.\"\"\"\u001b[0m\u001b[1;33m\u001b[0m\u001b[1;33m\u001b[0m\u001b[0m\n\u001b[1;32m-> 2173\u001b[1;33m         raise AttributeError(\n\u001b[0m\u001b[0;32m   2174\u001b[0m             \u001b[1;34m\"ResultSet object has no attribute '%s'. You're probably treating a list of elements like a single element. Did you call find_all() when you meant to call find()?\"\u001b[0m \u001b[1;33m%\u001b[0m \u001b[0mkey\u001b[0m\u001b[1;33m\u001b[0m\u001b[1;33m\u001b[0m\u001b[0m\n\u001b[0;32m   2175\u001b[0m         )\n",
      "\u001b[1;31mAttributeError\u001b[0m: ResultSet object has no attribute 'get_text'. You're probably treating a list of elements like a single element. Did you call find_all() when you meant to call find()?"
     ]
    }
   ],
   "source": [
    "# Para encontrar una etiqueta con una clase\n",
    "tags_a = soup.find_all('a')\n",
    "tags_a.get_text()\n",
    "\n",
    "# Otra forma de hacerlo "
   ]
  },
  {
   "cell_type": "code",
   "execution_count": 89,
   "id": "a96b4eff-740d-4170-942c-da0fef909f0a",
   "metadata": {},
   "outputs": [
    {
     "data": {
      "text/plain": [
       "['\\n\\r\\n                                Perspectiva en cifras\\r\\n                            \\nCOVID-19\\n',\n",
       " '\\n\\r\\n                                Visualizador analítico para el COVID-19\\r\\n                            \\n',\n",
       " '\\n\\n\\n\\n\\n\\n\\n\\n\\n',\n",
       " '\\n\\n\\n\\n\\n\\n\\n\\n\\n',\n",
       " '\\n\\n\\n\\n\\n\\n\\n\\n\\n',\n",
       " '\\n\\n\\n\\n\\n\\n\\n\\n\\n',\n",
       " 'Agricultura, ganadería y pesca',\n",
       " 'Catastro y Gestión Territorial',\n",
       " 'Comercio',\n",
       " 'Comercio exterior',\n",
       " '\\nConstrucción\\r\\n                    ',\n",
       " 'Educación',\n",
       " 'Empleo y ocupación',\n",
       " 'Empresas y establecimientos',\n",
       " 'Gobierno',\n",
       " 'Hogares y Vivienda',\n",
       " 'Imágenes del territorio',\n",
       " 'Manufacturas',\n",
       " 'Mapas',\n",
       " 'Marco Geodésico',\n",
       " 'Marco Geoestadístico',\n",
       " 'Medio ambiente',\n",
       " 'Minería',\n",
       " 'PIB y Cuentas Nacionales',\n",
       " 'Población',\n",
       " 'Precios',\n",
       " 'Salud y Seguridad Social',\n",
       " 'Seguridad pública y justicia',\n",
       " 'Servicios no financieros',\n",
       " 'Tecnologías de la información y comunicaciones',\n",
       " 'Transporte',\n",
       " 'Turismo',\n",
       " 'Ver más',\n",
       " '  ',\n",
       " '',\n",
       " '  ',\n",
       " '',\n",
       " '  ',\n",
       " '',\n",
       " 'Ver más',\n",
       " '\\n\\n\\n\\n\\n\\n\\nCenso2020.mx\\n\\n',\n",
       " '\\n\\n',\n",
       " '\\n\\n',\n",
       " '\\n\\n\\n\\n\\n\\n\\n\\n\\nMetodologías en consulta\\n\\n\\n\\n',\n",
       " '\\n\\n\\n\\n\\n\\n\\nOperativos en campo\\nVerifica la identidad del personal del INEGI que visita tu vivienda o establecimiento.\\r\\n                                    \\n\\n',\n",
       " '\\n\\n\\n\\n\\n\\n\\nCaptación de información en línea\\nCaptura la información de tu establecimiento en cuestionarios electrónicos.\\r\\n                                    \\n\\n',\n",
       " '\\n\\n\\n\\n\\n',\n",
       " '\\n\\n\\n\\n\\n',\n",
       " '\\n\\n\\n\\n\\n']"
      ]
     },
     "execution_count": 89,
     "metadata": {},
     "output_type": "execute_result"
    }
   ],
   "source": [
    "[x.get_text() for x in tags_a]"
   ]
  },
  {
   "cell_type": "markdown",
   "id": "abac8ab0-c609-44ab-8d47-ffa9271fd86f",
   "metadata": {},
   "source": [
    "## Con la página de wikipedia"
   ]
  },
  {
   "cell_type": "code",
   "execution_count": 101,
   "id": "7d01523a-0ebc-4133-a804-694241789ca1",
   "metadata": {},
   "outputs": [
    {
     "data": {
      "text/plain": [
       "200"
      ]
     },
     "execution_count": 101,
     "metadata": {},
     "output_type": "execute_result"
    }
   ],
   "source": [
    "messi = requests.get('https://es.wikipedia.org/wiki/Lionel_Messi')\n",
    "messi.status_code"
   ]
  },
  {
   "cell_type": "code",
   "execution_count": 102,
   "id": "13d86fe3-6a40-4605-97c4-1e9f678fac3b",
   "metadata": {},
   "outputs": [],
   "source": [
    "soup = BeautifulSoup(messi.content, 'lxml')"
   ]
  },
  {
   "cell_type": "code",
   "execution_count": 108,
   "id": "199fe7cf-6cf5-41f7-815f-e39da686b7b0",
   "metadata": {},
   "outputs": [
    {
     "data": {
      "text/plain": [
       "<li class=\"toclevel-1 tocsection-2\"><a href=\"#Trayectoria\"><span class=\"tocnumber\">2</span> <span class=\"toctext\">Trayectoria</span></a>\n",
       "<ul>\n",
       "<li class=\"toclevel-2 tocsection-3\"><a href=\"#Categorías_inferiores\"><span class=\"tocnumber\">2.1</span> <span class=\"toctext\">Categorías inferiores</span></a>\n",
       "<ul>\n",
       "<li class=\"toclevel-3 tocsection-4\"><a href=\"#Newell's_Old_Boys_(1994-1999)\"><span class=\"tocnumber\">2.1.1</span> <span class=\"toctext\">Newell's Old Boys (1994-1999)</span></a></li>\n",
       "<li class=\"toclevel-3 tocsection-5\"><a href=\"#F._C._Barcelona_(2000-2005)\"><span class=\"tocnumber\">2.1.2</span> <span class=\"toctext\">F. C. Barcelona (2000-2005)</span></a></li>\n",
       "</ul>\n",
       "</li>\n",
       "<li class=\"toclevel-2 tocsection-6\"><a href=\"#Fútbol_Club_Barcelona\"><span class=\"tocnumber\">2.2</span> <span class=\"toctext\">Fútbol Club Barcelona</span></a>\n",
       "<ul>\n",
       "<li class=\"toclevel-3 tocsection-7\"><a href=\"#Debut_y_primeros_años\"><span class=\"tocnumber\">2.2.1</span> <span class=\"toctext\">Debut y primeros años</span></a></li>\n",
       "<li class=\"toclevel-3 tocsection-8\"><a href=\"#Titularidad_y_consagración_en_la_élite\"><span class=\"tocnumber\">2.2.2</span> <span class=\"toctext\">Titularidad y consagración en la élite</span></a></li>\n",
       "<li class=\"toclevel-3 tocsection-9\"><a href=\"#Despedida_del_Barcelona\"><span class=\"tocnumber\">2.2.3</span> <span class=\"toctext\">Despedida del Barcelona</span></a></li>\n",
       "</ul>\n",
       "</li>\n",
       "<li class=\"toclevel-2 tocsection-10\"><a href=\"#Paris_Saint-Germain\"><span class=\"tocnumber\">2.3</span> <span class=\"toctext\">Paris Saint-Germain</span></a></li>\n",
       "</ul>\n",
       "</li>"
      ]
     },
     "execution_count": 108,
     "metadata": {},
     "output_type": "execute_result"
    }
   ],
   "source": [
    "segmento = soup.find_all('li', {'class': 'toclevel-1 tocsection-2'})[0]\n",
    "segmento"
   ]
  },
  {
   "cell_type": "markdown",
   "id": "e94ceb2c-2ea6-4201-9737-ce0140ce6001",
   "metadata": {},
   "source": [
    "Zaid prefiere por mucho usar .select(), puesto que puedes usar lo de CSS dinner dentro de tu búsqueda."
   ]
  },
  {
   "cell_type": "code",
   "execution_count": 112,
   "id": "94b8c383-b4a3-43ea-bd6b-f72ef842c7a8",
   "metadata": {},
   "outputs": [
    {
     "data": {
      "text/plain": [
       "[<li class=\"toclevel-2 tocsection-3\"><a href=\"#Categorías_inferiores\"><span class=\"tocnumber\">2.1</span> <span class=\"toctext\">Categorías inferiores</span></a>\n",
       " <ul>\n",
       " <li class=\"toclevel-3 tocsection-4\"><a href=\"#Newell's_Old_Boys_(1994-1999)\"><span class=\"tocnumber\">2.1.1</span> <span class=\"toctext\">Newell's Old Boys (1994-1999)</span></a></li>\n",
       " <li class=\"toclevel-3 tocsection-5\"><a href=\"#F._C._Barcelona_(2000-2005)\"><span class=\"tocnumber\">2.1.2</span> <span class=\"toctext\">F. C. Barcelona (2000-2005)</span></a></li>\n",
       " </ul>\n",
       " </li>,\n",
       " <li class=\"toclevel-3 tocsection-4\"><a href=\"#Newell's_Old_Boys_(1994-1999)\"><span class=\"tocnumber\">2.1.1</span> <span class=\"toctext\">Newell's Old Boys (1994-1999)</span></a></li>,\n",
       " <li class=\"toclevel-3 tocsection-5\"><a href=\"#F._C._Barcelona_(2000-2005)\"><span class=\"tocnumber\">2.1.2</span> <span class=\"toctext\">F. C. Barcelona (2000-2005)</span></a></li>,\n",
       " <li class=\"toclevel-2 tocsection-6\"><a href=\"#Fútbol_Club_Barcelona\"><span class=\"tocnumber\">2.2</span> <span class=\"toctext\">Fútbol Club Barcelona</span></a>\n",
       " <ul>\n",
       " <li class=\"toclevel-3 tocsection-7\"><a href=\"#Debut_y_primeros_años\"><span class=\"tocnumber\">2.2.1</span> <span class=\"toctext\">Debut y primeros años</span></a></li>\n",
       " <li class=\"toclevel-3 tocsection-8\"><a href=\"#Titularidad_y_consagración_en_la_élite\"><span class=\"tocnumber\">2.2.2</span> <span class=\"toctext\">Titularidad y consagración en la élite</span></a></li>\n",
       " <li class=\"toclevel-3 tocsection-9\"><a href=\"#Despedida_del_Barcelona\"><span class=\"tocnumber\">2.2.3</span> <span class=\"toctext\">Despedida del Barcelona</span></a></li>\n",
       " </ul>\n",
       " </li>,\n",
       " <li class=\"toclevel-3 tocsection-7\"><a href=\"#Debut_y_primeros_años\"><span class=\"tocnumber\">2.2.1</span> <span class=\"toctext\">Debut y primeros años</span></a></li>,\n",
       " <li class=\"toclevel-3 tocsection-8\"><a href=\"#Titularidad_y_consagración_en_la_élite\"><span class=\"tocnumber\">2.2.2</span> <span class=\"toctext\">Titularidad y consagración en la élite</span></a></li>,\n",
       " <li class=\"toclevel-3 tocsection-9\"><a href=\"#Despedida_del_Barcelona\"><span class=\"tocnumber\">2.2.3</span> <span class=\"toctext\">Despedida del Barcelona</span></a></li>,\n",
       " <li class=\"toclevel-2 tocsection-10\"><a href=\"#Paris_Saint-Germain\"><span class=\"tocnumber\">2.3</span> <span class=\"toctext\">Paris Saint-Germain</span></a></li>]"
      ]
     },
     "execution_count": 112,
     "metadata": {},
     "output_type": "execute_result"
    }
   ],
   "source": [
    "segmento.select('li')"
   ]
  },
  {
   "cell_type": "code",
   "execution_count": 110,
   "id": "5fe9fbbb-d9f9-4650-86df-c34f9478dabe",
   "metadata": {},
   "outputs": [
    {
     "data": {
      "text/plain": [
       "\"2 Trayectoria\\n\\n2.1 Categorías inferiores\\n\\n2.1.1 Newell's Old Boys (1994-1999)\\n2.1.2 F. C. Barcelona (2000-2005)\\n\\n\\n2.2 Fútbol Club Barcelona\\n\\n2.2.1 Debut y primeros años\\n2.2.2 Titularidad y consagración en la élite\\n2.2.3 Despedida del Barcelona\\n\\n\\n2.3 Paris Saint-Germain\\n\\n\""
      ]
     },
     "execution_count": 110,
     "metadata": {},
     "output_type": "execute_result"
    }
   ],
   "source": [
    "segmento.text"
   ]
  },
  {
   "cell_type": "code",
   "execution_count": 107,
   "id": "5a2489a2-4df7-4f31-8f73-5eff982dd4cf",
   "metadata": {},
   "outputs": [
    {
     "ename": "IndexError",
     "evalue": "list index out of range",
     "output_type": "error",
     "traceback": [
      "\u001b[1;31m---------------------------------------------------------------------------\u001b[0m",
      "\u001b[1;31mIndexError\u001b[0m                                Traceback (most recent call last)",
      "\u001b[1;32m<ipython-input-107-5c761599c5b4>\u001b[0m in \u001b[0;36m<module>\u001b[1;34m\u001b[0m\n\u001b[1;32m----> 1\u001b[1;33m \u001b[0msoup\u001b[0m\u001b[1;33m.\u001b[0m\u001b[0mfind_all\u001b[0m\u001b[1;33m(\u001b[0m\u001b[1;34m'li'\u001b[0m\u001b[1;33m,\u001b[0m \u001b[0mclass_\u001b[0m\u001b[1;33m=\u001b[0m\u001b[1;34m'toclevel-1 tosection-2'\u001b[0m\u001b[1;33m)\u001b[0m\u001b[1;33m[\u001b[0m\u001b[1;36m0\u001b[0m\u001b[1;33m]\u001b[0m\u001b[1;33m\u001b[0m\u001b[1;33m\u001b[0m\u001b[0m\n\u001b[0m",
      "\u001b[1;31mIndexError\u001b[0m: list index out of range"
     ]
    }
   ],
   "source": [
    "soup.find_all('li', class_='toclevel-1 tosection-2')"
   ]
  },
  {
   "cell_type": "code",
   "execution_count": 113,
   "id": "d78e8661-fb7c-492a-ae46-e621959437dd",
   "metadata": {},
   "outputs": [],
   "source": [
    "tablas = pd.read_html('https://es.wikipedia.org/wiki/Lionel_Messi')"
   ]
  },
  {
   "cell_type": "code",
   "execution_count": 126,
   "id": "08cc80cb-64f6-451f-9d46-6d9c9a9d7de1",
   "metadata": {},
   "outputs": [
    {
     "data": {
      "text/plain": [
       "[                                         Lionel Messi  \\\n",
       " 0                                 Medallista olímpico   \n",
       " 1   Messi con Argentina en la Copa Mundial de Fútb...   \n",
       " 2                                    Datos personales   \n",
       " 3                                     Nombre completo   \n",
       " 4                                Nombre de nacimiento   \n",
       " 5                                            Apodo(s)   \n",
       " 6                                          Nacimiento   \n",
       " 7                                    Nacionalidad(es)   \n",
       " 8                                              Altura   \n",
       " 9                                                Peso   \n",
       " 10                                             Pareja   \n",
       " 11                                  Carrera deportiva   \n",
       " 12                                            Deporte   \n",
       " 13                                   Club profesional   \n",
       " 14                                    Debut deportivo   \n",
       " 15                                               Club   \n",
       " 16                                               Liga   \n",
       " 17                                           Posición   \n",
       " 18                                         Dorsal(es)   \n",
       " 19                                    Goles en clubes   \n",
       " 20                                 Selección nacional   \n",
       " 21                                          Selección   \n",
       " 22                                              Debut   \n",
       " 23                                         Dorsal(es)   \n",
       " 24                                      Part. (goles)   \n",
       " 25                                        Trayectoria   \n",
       " 26  F. C. Barcelona (2004-21) Paris Saint-Germain ...   \n",
       " 27  Medallero Fútbol masculino  Argentina Copa Mun...   \n",
       " 28                                                NaN   \n",
       " 29                                   Fútbol masculino   \n",
       " 30                                          Argentina   \n",
       " 31                             Copa Mundial de Fútbol   \n",
       " 32                                              Plata   \n",
       " 33                                       Copa América   \n",
       " 34                                              Plata   \n",
       " 35                                              Plata   \n",
       " 36                                              Plata   \n",
       " 37                                             Bronce   \n",
       " 38                                                Oro   \n",
       " 39                                Copa Mundial Sub-20   \n",
       " 40                                                Oro   \n",
       " 41                                Sudamericano Sub-20   \n",
       " 42                                             Bronce   \n",
       " 43                                   Juegos Olímpicos   \n",
       " 44                                                Oro   \n",
       " 45                                 Página web oficial   \n",
       " 46                         [editar datos en Wikidata]   \n",
       " \n",
       "                                        Lionel Messi.1  \\\n",
       " 0                                 Medallista olímpico   \n",
       " 1   Messi con Argentina en la Copa Mundial de Fútb...   \n",
       " 2                                    Datos personales   \n",
       " 3                  Lionel Andrés Messi Cuccittini[1]​   \n",
       " 4                             Lionel Andrés Messi[2]​   \n",
       " 5              La pulga,[3]​ El Mesías,[4]​ D10S.[5]​   \n",
       " 6   Rosario (Santa Fe, Argentina)24 de junio de 19...   \n",
       " 7                          ArgentinaEspañola[nota 1]​   \n",
       " 8                                1,69 m (5 ′ 7 ″)[6]​   \n",
       " 9                                      67 kg (147 lb)   \n",
       " 10                  Antonela Roccuzzo (m. desde 2017)   \n",
       " 11                                  Carrera deportiva   \n",
       " 12                                             Fútbol   \n",
       " 13                                   Club profesional   \n",
       " 14             16 de octubre de 2004(F. C. Barcelona)   \n",
       " 15                      Paris Saint-Germain F. C.[7]​   \n",
       " 16                                            Ligue 1   \n",
       " 17                            DelanteroCentrocampista   \n",
       " 18                                                 30   \n",
       " 19                                   675 (786 PJ)[8]​   \n",
       " 20                                 Selección nacional   \n",
       " 21                                          Argentina   \n",
       " 22                               17 de agosto de 2005   \n",
       " 23                                                 10   \n",
       " 24                                           156 (80)   \n",
       " 25                                        Trayectoria   \n",
       " 26  F. C. Barcelona (2004-21) Paris Saint-Germain ...   \n",
       " 27  Medallero Fútbol masculino  Argentina Copa Mun...   \n",
       " 28                                                NaN   \n",
       " 29                                   Fútbol masculino   \n",
       " 30                                          Argentina   \n",
       " 31                             Copa Mundial de Fútbol   \n",
       " 32                                        Brasil 2014   \n",
       " 33                                       Copa América   \n",
       " 34                                     Venezuela 2007   \n",
       " 35                                         Chile 2015   \n",
       " 36                                Estados Unidos 2016   \n",
       " 37                                        Brasil 2019   \n",
       " 38                                        Brasil 2021   \n",
       " 39                                Copa Mundial Sub-20   \n",
       " 40                                  Países Bajos 2005   \n",
       " 41                                Sudamericano Sub-20   \n",
       " 42                                      Colombia 2005   \n",
       " 43                                   Juegos Olímpicos   \n",
       " 44                                         Pekín 2008   \n",
       " 45                                 Página web oficial   \n",
       " 46                         [editar datos en Wikidata]   \n",
       " \n",
       "                                        Lionel Messi.2        Unnamed: 3  \n",
       " 0                                 Medallista olímpico               NaN  \n",
       " 1   Messi con Argentina en la Copa Mundial de Fútb...               NaN  \n",
       " 2                                    Datos personales               NaN  \n",
       " 3                  Lionel Andrés Messi Cuccittini[1]​               NaN  \n",
       " 4                             Lionel Andrés Messi[2]​               NaN  \n",
       " 5              La pulga,[3]​ El Mesías,[4]​ D10S.[5]​               NaN  \n",
       " 6   Rosario (Santa Fe, Argentina)24 de junio de 19...               NaN  \n",
       " 7                          ArgentinaEspañola[nota 1]​               NaN  \n",
       " 8                                1,69 m (5 ′ 7 ″)[6]​               NaN  \n",
       " 9                                      67 kg (147 lb)               NaN  \n",
       " 10                  Antonela Roccuzzo (m. desde 2017)               NaN  \n",
       " 11                                  Carrera deportiva               NaN  \n",
       " 12                                             Fútbol               NaN  \n",
       " 13                                   Club profesional               NaN  \n",
       " 14             16 de octubre de 2004(F. C. Barcelona)               NaN  \n",
       " 15                      Paris Saint-Germain F. C.[7]​               NaN  \n",
       " 16                                            Ligue 1               NaN  \n",
       " 17                            DelanteroCentrocampista               NaN  \n",
       " 18                                                 30               NaN  \n",
       " 19                                   675 (786 PJ)[8]​               NaN  \n",
       " 20                                 Selección nacional               NaN  \n",
       " 21                                          Argentina               NaN  \n",
       " 22                               17 de agosto de 2005               NaN  \n",
       " 23                                                 10               NaN  \n",
       " 24                                           156 (80)               NaN  \n",
       " 25                                        Trayectoria               NaN  \n",
       " 26  F. C. Barcelona (2004-21) Paris Saint-Germain ...               NaN  \n",
       " 27  Medallero Fútbol masculino  Argentina Copa Mun...               NaN  \n",
       " 28                                                NaN               NaN  \n",
       " 29                                   Fútbol masculino  Fútbol masculino  \n",
       " 30                                          Argentina         Argentina  \n",
       " 31                             Copa Mundial de Fútbol               NaN  \n",
       " 32                                             Fútbol               NaN  \n",
       " 33                                       Copa América               NaN  \n",
       " 34                                             Fútbol               NaN  \n",
       " 35                                             Fútbol               NaN  \n",
       " 36                                             Fútbol               NaN  \n",
       " 37                                             Fútbol               NaN  \n",
       " 38                                             Fútbol               NaN  \n",
       " 39                                Copa Mundial Sub-20               NaN  \n",
       " 40                                             Fútbol               NaN  \n",
       " 41                                Sudamericano Sub-20               NaN  \n",
       " 42                                             Fútbol               NaN  \n",
       " 43                                   Juegos Olímpicos               NaN  \n",
       " 44                                             Fútbol               NaN  \n",
       " 45                                 Página web oficial               NaN  \n",
       " 46                         [editar datos en Wikidata]               NaN  ,\n",
       "                          0                       1                       2  \\\n",
       " 0                      NaN                     NaN                     NaN   \n",
       " 1         Fútbol masculino        Fútbol masculino        Fútbol masculino   \n",
       " 2                Argentina               Argentina               Argentina   \n",
       " 3   Copa Mundial de Fútbol  Copa Mundial de Fútbol  Copa Mundial de Fútbol   \n",
       " 4                    Plata             Brasil 2014                  Fútbol   \n",
       " 5             Copa América            Copa América            Copa América   \n",
       " 6                    Plata          Venezuela 2007                  Fútbol   \n",
       " 7                    Plata              Chile 2015                  Fútbol   \n",
       " 8                    Plata     Estados Unidos 2016                  Fútbol   \n",
       " 9                   Bronce             Brasil 2019                  Fútbol   \n",
       " 10                     Oro             Brasil 2021                  Fútbol   \n",
       " 11     Copa Mundial Sub-20     Copa Mundial Sub-20     Copa Mundial Sub-20   \n",
       " 12                     Oro       Países Bajos 2005                  Fútbol   \n",
       " 13     Sudamericano Sub-20     Sudamericano Sub-20     Sudamericano Sub-20   \n",
       " 14                  Bronce           Colombia 2005                  Fútbol   \n",
       " 15        Juegos Olímpicos        Juegos Olímpicos        Juegos Olímpicos   \n",
       " 16                     Oro              Pekín 2008                  Fútbol   \n",
       " \n",
       "                    3  \n",
       " 0                NaN  \n",
       " 1   Fútbol masculino  \n",
       " 2          Argentina  \n",
       " 3                NaN  \n",
       " 4                NaN  \n",
       " 5                NaN  \n",
       " 6                NaN  \n",
       " 7                NaN  \n",
       " 8                NaN  \n",
       " 9                NaN  \n",
       " 10               NaN  \n",
       " 11               NaN  \n",
       " 12               NaN  \n",
       " 13               NaN  \n",
       " 14               NaN  \n",
       " 15               NaN  \n",
       " 16               NaN  ]"
      ]
     },
     "execution_count": 126,
     "metadata": {},
     "output_type": "execute_result"
    }
   ],
   "source": [
    "# Regresa todas las tablas del DataFrame\n",
    "tablas[:2]"
   ]
  },
  {
   "cell_type": "code",
   "execution_count": 128,
   "id": "30fbbefd-8b5f-41b6-bebf-2f36fdd4c63c",
   "metadata": {},
   "outputs": [
    {
     "data": {
      "text/html": [
       "<div>\n",
       "<style scoped>\n",
       "    .dataframe tbody tr th:only-of-type {\n",
       "        vertical-align: middle;\n",
       "    }\n",
       "\n",
       "    .dataframe tbody tr th {\n",
       "        vertical-align: top;\n",
       "    }\n",
       "\n",
       "    .dataframe thead th {\n",
       "        text-align: right;\n",
       "    }\n",
       "</style>\n",
       "<table border=\"1\" class=\"dataframe\">\n",
       "  <thead>\n",
       "    <tr style=\"text-align: right;\">\n",
       "      <th></th>\n",
       "      <th>Lionel Messi</th>\n",
       "      <th>Lionel Messi.1</th>\n",
       "      <th>Lionel Messi.2</th>\n",
       "      <th>Unnamed: 3</th>\n",
       "    </tr>\n",
       "  </thead>\n",
       "  <tbody>\n",
       "    <tr>\n",
       "      <th>0</th>\n",
       "      <td>Medallista olímpico</td>\n",
       "      <td>Medallista olímpico</td>\n",
       "      <td>Medallista olímpico</td>\n",
       "      <td>NaN</td>\n",
       "    </tr>\n",
       "    <tr>\n",
       "      <th>1</th>\n",
       "      <td>Messi con Argentina en la Copa Mundial de Fútb...</td>\n",
       "      <td>Messi con Argentina en la Copa Mundial de Fútb...</td>\n",
       "      <td>Messi con Argentina en la Copa Mundial de Fútb...</td>\n",
       "      <td>NaN</td>\n",
       "    </tr>\n",
       "    <tr>\n",
       "      <th>2</th>\n",
       "      <td>Datos personales</td>\n",
       "      <td>Datos personales</td>\n",
       "      <td>Datos personales</td>\n",
       "      <td>NaN</td>\n",
       "    </tr>\n",
       "    <tr>\n",
       "      <th>3</th>\n",
       "      <td>Nombre completo</td>\n",
       "      <td>Lionel Andrés Messi Cuccittini[1]​</td>\n",
       "      <td>Lionel Andrés Messi Cuccittini[1]​</td>\n",
       "      <td>NaN</td>\n",
       "    </tr>\n",
       "    <tr>\n",
       "      <th>4</th>\n",
       "      <td>Nombre de nacimiento</td>\n",
       "      <td>Lionel Andrés Messi[2]​</td>\n",
       "      <td>Lionel Andrés Messi[2]​</td>\n",
       "      <td>NaN</td>\n",
       "    </tr>\n",
       "    <tr>\n",
       "      <th>5</th>\n",
       "      <td>Apodo(s)</td>\n",
       "      <td>La pulga,[3]​ El Mesías,[4]​ D10S.[5]​</td>\n",
       "      <td>La pulga,[3]​ El Mesías,[4]​ D10S.[5]​</td>\n",
       "      <td>NaN</td>\n",
       "    </tr>\n",
       "    <tr>\n",
       "      <th>6</th>\n",
       "      <td>Nacimiento</td>\n",
       "      <td>Rosario (Santa Fe, Argentina)24 de junio de 19...</td>\n",
       "      <td>Rosario (Santa Fe, Argentina)24 de junio de 19...</td>\n",
       "      <td>NaN</td>\n",
       "    </tr>\n",
       "    <tr>\n",
       "      <th>7</th>\n",
       "      <td>Nacionalidad(es)</td>\n",
       "      <td>ArgentinaEspañola[nota 1]​</td>\n",
       "      <td>ArgentinaEspañola[nota 1]​</td>\n",
       "      <td>NaN</td>\n",
       "    </tr>\n",
       "    <tr>\n",
       "      <th>8</th>\n",
       "      <td>Altura</td>\n",
       "      <td>1,69 m (5 ′ 7 ″)[6]​</td>\n",
       "      <td>1,69 m (5 ′ 7 ″)[6]​</td>\n",
       "      <td>NaN</td>\n",
       "    </tr>\n",
       "    <tr>\n",
       "      <th>9</th>\n",
       "      <td>Peso</td>\n",
       "      <td>67 kg (147 lb)</td>\n",
       "      <td>67 kg (147 lb)</td>\n",
       "      <td>NaN</td>\n",
       "    </tr>\n",
       "  </tbody>\n",
       "</table>\n",
       "</div>"
      ],
      "text/plain": [
       "                                        Lionel Messi  \\\n",
       "0                                Medallista olímpico   \n",
       "1  Messi con Argentina en la Copa Mundial de Fútb...   \n",
       "2                                   Datos personales   \n",
       "3                                    Nombre completo   \n",
       "4                               Nombre de nacimiento   \n",
       "5                                           Apodo(s)   \n",
       "6                                         Nacimiento   \n",
       "7                                   Nacionalidad(es)   \n",
       "8                                             Altura   \n",
       "9                                               Peso   \n",
       "\n",
       "                                      Lionel Messi.1  \\\n",
       "0                                Medallista olímpico   \n",
       "1  Messi con Argentina en la Copa Mundial de Fútb...   \n",
       "2                                   Datos personales   \n",
       "3                 Lionel Andrés Messi Cuccittini[1]​   \n",
       "4                            Lionel Andrés Messi[2]​   \n",
       "5             La pulga,[3]​ El Mesías,[4]​ D10S.[5]​   \n",
       "6  Rosario (Santa Fe, Argentina)24 de junio de 19...   \n",
       "7                         ArgentinaEspañola[nota 1]​   \n",
       "8                               1,69 m (5 ′ 7 ″)[6]​   \n",
       "9                                     67 kg (147 lb)   \n",
       "\n",
       "                                      Lionel Messi.2 Unnamed: 3  \n",
       "0                                Medallista olímpico        NaN  \n",
       "1  Messi con Argentina en la Copa Mundial de Fútb...        NaN  \n",
       "2                                   Datos personales        NaN  \n",
       "3                 Lionel Andrés Messi Cuccittini[1]​        NaN  \n",
       "4                            Lionel Andrés Messi[2]​        NaN  \n",
       "5             La pulga,[3]​ El Mesías,[4]​ D10S.[5]​        NaN  \n",
       "6  Rosario (Santa Fe, Argentina)24 de junio de 19...        NaN  \n",
       "7                         ArgentinaEspañola[nota 1]​        NaN  \n",
       "8                               1,69 m (5 ′ 7 ″)[6]​        NaN  \n",
       "9                                     67 kg (147 lb)        NaN  "
      ]
     },
     "execution_count": 128,
     "metadata": {},
     "output_type": "execute_result"
    }
   ],
   "source": [
    "tablas[0].head(10)"
   ]
  },
  {
   "cell_type": "markdown",
   "id": "4b198098-6dc6-497f-8f70-21809847f429",
   "metadata": {},
   "source": [
    "Búsquedas con CSS Selector"
   ]
  },
  {
   "cell_type": "code",
   "execution_count": null,
   "id": "071fca29-c3a8-4554-b14f-bc8daa3e1ef9",
   "metadata": {},
   "outputs": [],
   "source": [
    "#soup.select(\"li.toclevel-1.tocsection-2\")[0]\n",
    "\n",
    "#"
   ]
  },
  {
   "cell_type": "markdown",
   "id": "30e7de7c-9e12-42be-8274-ca7a0d0849a3",
   "metadata": {},
   "source": [
    "# Selenium"
   ]
  },
  {
   "cell_type": "code",
   "execution_count": 12,
   "id": "422947d4-1fb1-413e-9dfd-493889c4b124",
   "metadata": {},
   "outputs": [],
   "source": [
    "import sys\n",
    "from selenium import webdriver\n",
    "from selenium.webdriver.common.keys import Keys\n",
    "from selenium.webdriver.common.action_chains import ActionChains\n",
    "from selenium.webdriver.support.ui import WebDriverWait\n",
    "from selenium.webdriver.support import expected_conditions as EC"
   ]
  },
  {
   "cell_type": "code",
   "execution_count": 4,
   "id": "819ec19e-0dbb-49a0-84d9-5616fe16216a",
   "metadata": {},
   "outputs": [],
   "source": [
    "driver = webdriver.Firefox()"
   ]
  },
  {
   "cell_type": "code",
   "execution_count": 6,
   "id": "6e1da470-471d-4a1c-aa8b-68f6985671f1",
   "metadata": {},
   "outputs": [],
   "source": [
    "driver.get(\"https://www.twitter.com\")"
   ]
  },
  {
   "cell_type": "code",
   "execution_count": 9,
   "id": "787cfc08-4bb9-48a3-9cc5-1bdd311632d2",
   "metadata": {},
   "outputs": [],
   "source": [
    "content = driver.page_source\n",
    "soup = BeautifulSoup(content)"
   ]
  },
  {
   "cell_type": "code",
   "execution_count": null,
   "id": "cea47145-cdb9-498d-b975-1431310e3d59",
   "metadata": {},
   "outputs": [],
   "source": [
    "WebDriverWait(driver, 5).until(EC.) # Le pones el tiempo que quieres esperar hasta que un elemento aparezca"
   ]
  },
  {
   "cell_type": "code",
   "execution_count": 10,
   "id": "caa6dce4-aff2-4589-97c1-adde37f67c52",
   "metadata": {},
   "outputs": [],
   "source": [
    "driver.quit()"
   ]
  },
  {
   "cell_type": "markdown",
   "id": "5827766f-34b8-4c1d-8104-7786ce9b5a1c",
   "metadata": {},
   "source": [
    "---"
   ]
  },
  {
   "cell_type": "code",
   "execution_count": null,
   "id": "4a15986f-0eac-4a99-8409-83bc65711a7a",
   "metadata": {},
   "outputs": [],
   "source": [
    "driver.get(\"https://sale.aliexpress.com/es/__pc/global_selection_pc.htm?spm=a2g0o.home.01002.3.39a670e51lwa26\")"
   ]
  },
  {
   "cell_type": "code",
   "execution_count": null,
   "id": "f666e466-bca5-4fe1-b5b4-8b12df28f8d8",
   "metadata": {},
   "outputs": [],
   "source": [
    "driver.find_element() # Dale TAB. Es como de lo CSS"
   ]
  },
  {
   "cell_type": "code",
   "execution_count": null,
   "id": "80a3cd9f-1ca6-46ae-b5b4-47e0dfb848c3",
   "metadata": {},
   "outputs": [],
   "source": [
    "caja = driver.find_element(by='id',value=\"search-key\")"
   ]
  },
  {
   "cell_type": "code",
   "execution_count": null,
   "id": "a9a1e283-bc65-4d10-b1f0-37c4a02c654d",
   "metadata": {},
   "outputs": [],
   "source": [
    "# Action chains encadena acciones\n",
    "# El .perform() ya realiza la acción de lo de keys.\n",
    "# END es para llegar al final de la página\n",
    "ActionChains(driver).send_keys(Keys.END).perform()"
   ]
  },
  {
   "cell_type": "code",
   "execution_count": null,
   "id": "409e11ac-5cf1-4909-a31c-e4502c1de30d",
   "metadata": {},
   "outputs": [],
   "source": [
    "caja.clear()"
   ]
  },
  {
   "cell_type": "code",
   "execution_count": null,
   "id": "1d96edcc-445e-46b1-9b6a-f5b1eef1d98e",
   "metadata": {},
   "outputs": [],
   "source": [
    "caja.send_keys(\"Celulares\") # Para teclear algo en la página"
   ]
  },
  {
   "cell_type": "code",
   "execution_count": null,
   "id": "01c4e342-8167-4daa-b91e-0a05e552564f",
   "metadata": {},
   "outputs": [],
   "source": [
    "caja.send_keys(Keys.RETURN) # Para dar enter en la página"
   ]
  },
  {
   "cell_type": "code",
   "execution_count": null,
   "id": "5f05e8fa-a34c-4609-9b43-cce2a0e509f3",
   "metadata": {},
   "outputs": [],
   "source": [
    "driver.quit()"
   ]
  },
  {
   "cell_type": "markdown",
   "id": "a4bc5e27-f20b-48e4-9e99-dbb773f7765d",
   "metadata": {},
   "source": [
    "# ¡Para las **credenciales**! Gran forma de protegerte online"
   ]
  },
  {
   "cell_type": "code",
   "execution_count": 30,
   "id": "9fb09bef-1621-4ddf-976a-dd378740ee9c",
   "metadata": {},
   "outputs": [],
   "source": [
    "from configparser import ConfigParser"
   ]
  },
  {
   "cell_type": "code",
   "execution_count": 24,
   "id": "40d800aa-5658-4ea6-858f-907684d8d6c7",
   "metadata": {},
   "outputs": [],
   "source": [
    "parser = ConfigParser()"
   ]
  },
  {
   "cell_type": "code",
   "execution_count": 25,
   "id": "40228c11-980c-4171-bad6-2b3f4c010470",
   "metadata": {},
   "outputs": [
    {
     "data": {
      "text/plain": [
       "['untitled.txt']"
      ]
     },
     "execution_count": 25,
     "metadata": {},
     "output_type": "execute_result"
    }
   ],
   "source": [
    "parser.read(\"untitled.txt\")"
   ]
  },
  {
   "cell_type": "code",
   "execution_count": 29,
   "id": "31929594-f5da-410f-8087-1d84e825c26e",
   "metadata": {},
   "outputs": [
    {
     "data": {
      "text/plain": [
       "'usuario123'"
      ]
     },
     "execution_count": 29,
     "metadata": {},
     "output_type": "execute_result"
    }
   ],
   "source": [
    "parser.get(\"Credentials\", \"usuario\")"
   ]
  },
  {
   "cell_type": "markdown",
   "id": "ec6006d2-04be-40c5-bcd5-05980e331a43",
   "metadata": {},
   "source": [
    "# Twitter"
   ]
  },
  {
   "cell_type": "code",
   "execution_count": 27,
   "id": "6796abc2-2787-49eb-8dca-d02db7e4827d",
   "metadata": {},
   "outputs": [],
   "source": [
    "driver = webdriver.Firefox()"
   ]
  },
  {
   "cell_type": "code",
   "execution_count": 28,
   "id": "75850b3d-1217-4776-a3f8-b254aee342d3",
   "metadata": {},
   "outputs": [],
   "source": [
    "driver.get('https://Twitter.com')"
   ]
  },
  {
   "cell_type": "code",
   "execution_count": null,
   "id": "6f438b8d-54fe-41d0-bd05-986eab13eb8c",
   "metadata": {},
   "outputs": [],
   "source": [
    "driver.find_element(By.CSS_SELECTOR, 'Aquí tu búsqueda')"
   ]
  }
 ],
 "metadata": {
  "kernelspec": {
   "display_name": "Python 3",
   "language": "python",
   "name": "python3"
  },
  "language_info": {
   "codemirror_mode": {
    "name": "ipython",
    "version": 3
   },
   "file_extension": ".py",
   "mimetype": "text/x-python",
   "name": "python",
   "nbconvert_exporter": "python",
   "pygments_lexer": "ipython3",
   "version": "3.8.8"
  }
 },
 "nbformat": 4,
 "nbformat_minor": 5
}
