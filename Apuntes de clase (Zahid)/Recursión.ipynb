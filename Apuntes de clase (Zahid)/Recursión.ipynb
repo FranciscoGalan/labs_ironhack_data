{
 "cells": [
  {
   "cell_type": "markdown",
   "id": "521a8bcf-9dbb-45c7-a684-14361931a224",
   "metadata": {},
   "source": [
    "# Recursión"
   ]
  },
  {
   "cell_type": "code",
   "execution_count": 24,
   "id": "7af56e62-6f1d-4a36-8447-426d4095b794",
   "metadata": {},
   "outputs": [],
   "source": [
    "import time\n",
    "\n",
    "def cuenta_regresiva(numero):\n",
    "    if numero <= 0:\n",
    "        print(\"¡Fin!\")\n",
    "    \n",
    "    else:\n",
    "        print(numero)\n",
    "        time.sleep(1)\n",
    "        cuenta_regresiva(numero-1)"
   ]
  },
  {
   "cell_type": "code",
   "execution_count": 25,
   "id": "fd391a99-bc27-4ed7-9ef9-244e76b8c3d4",
   "metadata": {},
   "outputs": [
    {
     "name": "stdout",
     "output_type": "stream",
     "text": [
      "5\n",
      "4\n",
      "3\n",
      "2\n",
      "1\n",
      "¡Fin!\n"
     ]
    }
   ],
   "source": [
    "cuenta_regresiva(5)"
   ]
  },
  {
   "cell_type": "code",
   "execution_count": 20,
   "id": "4fd12129-ac7f-4be5-bbb2-608e12c9befd",
   "metadata": {},
   "outputs": [],
   "source": [
    "def print_n(s, n):\n",
    "    if n <= 0:\n",
    "        return\n",
    "    print(s)\n",
    "    print_n(s, n-1)"
   ]
  },
  {
   "cell_type": "code",
   "execution_count": 22,
   "id": "5d822b80-7a8f-4eb2-bfbd-703e1414e44c",
   "metadata": {},
   "outputs": [
    {
     "name": "stdout",
     "output_type": "stream",
     "text": [
      "hola \n",
      "hola \n",
      "hola \n",
      "hola \n",
      "hola \n"
     ]
    }
   ],
   "source": [
    "print_n('hola ', 5)"
   ]
  },
  {
   "cell_type": "markdown",
   "id": "4dd84990-76b9-4a02-b96b-3dbbd25d19dd",
   "metadata": {},
   "source": [
    "## De [esta kata](https://www.codewars.com/kata/522551eee9abb932420004a0/python)"
   ]
  },
  {
   "cell_type": "code",
   "execution_count": null,
   "id": "eac324d0-d692-4a55-95d4-9c9d63ff2ae1",
   "metadata": {},
   "outputs": [],
   "source": [
    "def fibo(nth):\n",
    "    if nth == 0:\n",
    "        return 0\n",
    "    \n",
    "    elif nth == 1:\n",
    "        return 1\n",
    "    \n",
    "    elif nth > 1:\n",
    "        return (0 + 1)"
   ]
  },
  {
   "cell_type": "code",
   "execution_count": 23,
   "id": "13c75e2b-a8e0-4c09-8aab-93ff302d52fc",
   "metadata": {},
   "outputs": [],
   "source": [
    "def respuesta_usuario():\n",
    "  respuesta = input(\"¿Tienes hambre?\")\n",
    "  if respuesta.lower() in ('si', 'no'):\n",
    "    return respuesta\n"
   ]
  },
  {
   "cell_type": "code",
   "execution_count": null,
   "id": "488e1467-ed86-45d1-a2e1-8b1e52a669ef",
   "metadata": {},
   "outputs": [],
   "source": [
    "def fibonacci(limite):\n",
    "    zero_fibo = 0\n",
    "    first_fibo = 1\n",
    "    \n",
    "    if num_actual > limite:\n",
    "        return num_actual\n",
    "    \n",
    "    else:\n",
    "        num_actual + 1\n",
    "        "
   ]
  },
  {
   "cell_type": "code",
   "execution_count": 16,
   "id": "5be07d1d-6a3e-41b7-a2db-70e079ce8107",
   "metadata": {},
   "outputs": [],
   "source": [
    "a = 0\n",
    "b = 1\n",
    "\n",
    "fibo = [a, b, (a + b), (b + (a + b)), (a + b) + ( (b + (a + b))) ,]"
   ]
  },
  {
   "cell_type": "code",
   "execution_count": 17,
   "id": "89a4e644-2cec-4579-81bb-9fb3e8ccf83d",
   "metadata": {},
   "outputs": [
    {
     "data": {
      "text/plain": [
       "[0, 1, 1, 2, 3]"
      ]
     },
     "execution_count": 17,
     "metadata": {},
     "output_type": "execute_result"
    }
   ],
   "source": [
    "fibo"
   ]
  },
  {
   "cell_type": "code",
   "execution_count": 27,
   "id": "e93c6aef-7658-4025-9058-77c39bd9900f",
   "metadata": {},
   "outputs": [
    {
     "data": {
      "text/plain": [
       "1"
      ]
     },
     "execution_count": 27,
     "metadata": {},
     "output_type": "execute_result"
    }
   ],
   "source": [
    "initial_fibo()"
   ]
  },
  {
   "cell_type": "code",
   "execution_count": 52,
   "id": "684f5225-03ba-4af6-bb74-82636450131e",
   "metadata": {},
   "outputs": [],
   "source": [
    "def nth_fibo(n):\n",
    "    if n == 1:\n",
    "        return 0\n",
    "    \n",
    "    elif n == 2:\n",
    "        return 1\n",
    "    \n",
    "    elif n > 2:\n",
    "        return nth_fibo(n-1) + nth_fibo(n-2)"
   ]
  },
  {
   "cell_type": "code",
   "execution_count": 61,
   "id": "a01eb741-8dc6-4592-86f8-71ff5b351b9c",
   "metadata": {},
   "outputs": [
    {
     "data": {
      "text/plain": [
       "13"
      ]
     },
     "execution_count": 61,
     "metadata": {},
     "output_type": "execute_result"
    }
   ],
   "source": [
    "nth_fibo(8)"
   ]
  },
  {
   "cell_type": "code",
   "execution_count": 94,
   "id": "39909506-2403-422c-a192-a28d810f02dc",
   "metadata": {},
   "outputs": [
    {
     "data": {
      "text/plain": [
       "[0, 1, 2, 3]"
      ]
     },
     "execution_count": 94,
     "metadata": {},
     "output_type": "execute_result"
    }
   ],
   "source": [
    "list(range(4))"
   ]
  },
  {
   "cell_type": "code",
   "execution_count": 86,
   "id": "90aa9446-1cd5-4e1b-92b7-3cc624752833",
   "metadata": {},
   "outputs": [
    {
     "name": "stdout",
     "output_type": "stream",
     "text": [
      "8\n",
      "7\n",
      "6\n",
      "5\n",
      "4\n"
     ]
    }
   ],
   "source": [
    "signature = [0, 0, 0, 1]\n",
    "n = 10\n",
    "for i in reversed(range(len(signature), n-1)):\n",
    "    print(i)"
   ]
  },
  {
   "cell_type": "code",
   "execution_count": 117,
   "id": "a8e64883-1e17-40f1-ac86-e532a186d983",
   "metadata": {},
   "outputs": [
    {
     "name": "stdout",
     "output_type": "stream",
     "text": [
      "1\n",
      "2\n",
      "3\n",
      "4\n"
     ]
    }
   ],
   "source": [
    "a_list = [0, 1, 1, 4]\n",
    "for i in range(len(a_list)):\n",
    "    print(i + 1)"
   ]
  },
  {
   "cell_type": "markdown",
   "id": "d1a3eb6a-7c49-436d-8df2-ac5dc0e62d9a",
   "metadata": {},
   "source": [
    "## De [esta kata](https://www.codewars.com/kata/556e0fccc392c527f20000c5/python)"
   ]
  },
  {
   "cell_type": "code",
   "execution_count": 120,
   "id": "c6859fec-7044-4b58-abea-92eadc8ac88b",
   "metadata": {},
   "outputs": [],
   "source": [
    "def Xbonacci(signature, n):\n",
    "    if n <= 0:\n",
    "        return 0 \n",
    "    \n",
    "    if n <= len(signature):\n",
    "        return signature[n-1]\n",
    "        \n",
    "    else:\n",
    "        on_going_total = 0\n",
    "        for i in range(len(signature)):\n",
    "            on_going_total += Xbonacci(signature, n - (i + 1))\n",
    "        return on_going_total"
   ]
  },
  {
   "cell_type": "code",
   "execution_count": 125,
   "id": "8d3ce85b-d6fb-4297-96cd-9e4eee18e775",
   "metadata": {},
   "outputs": [
    {
     "data": {
      "text/plain": [
       "86"
      ]
     },
     "execution_count": 125,
     "metadata": {},
     "output_type": "execute_result"
    }
   ],
   "source": [
    "Xbonacci([0, 1, 1, 4], 9)"
   ]
  }
 ],
 "metadata": {
  "kernelspec": {
   "display_name": "Python 3",
   "language": "python",
   "name": "python3"
  },
  "language_info": {
   "codemirror_mode": {
    "name": "ipython",
    "version": 3
   },
   "file_extension": ".py",
   "mimetype": "text/x-python",
   "name": "python",
   "nbconvert_exporter": "python",
   "pygments_lexer": "ipython3",
   "version": "3.8.8"
  }
 },
 "nbformat": 4,
 "nbformat_minor": 5
}
