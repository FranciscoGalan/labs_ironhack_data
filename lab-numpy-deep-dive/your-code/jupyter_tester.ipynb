{
 "cells": [
  {
   "cell_type": "code",
   "execution_count": 1,
   "id": "97e784f5-007d-49a5-a5e1-d0cb145286ea",
   "metadata": {},
   "outputs": [],
   "source": [
    "import numpy as np"
   ]
  },
  {
   "cell_type": "code",
   "execution_count": 2,
   "id": "4aebe9e2-8698-40ea-b900-d6ac94428aab",
   "metadata": {},
   "outputs": [
    {
     "data": {
      "text/plain": [
       "'1.20.1'"
      ]
     },
     "execution_count": 2,
     "metadata": {},
     "output_type": "execute_result"
    }
   ],
   "source": [
    "np.__version__"
   ]
  },
  {
   "cell_type": "code",
   "execution_count": 3,
   "id": "114a1428-1379-4dbd-99f4-dc22ac04fdcb",
   "metadata": {},
   "outputs": [
    {
     "name": "stdout",
     "output_type": "stream",
     "text": [
      "blas_mkl_info:\n",
      "    libraries = ['mkl_rt']\n",
      "    library_dirs = ['C:/Users/franpc/anaconda3\\\\Library\\\\lib']\n",
      "    define_macros = [('SCIPY_MKL_H', None), ('HAVE_CBLAS', None)]\n",
      "    include_dirs = ['C:/Users/franpc/anaconda3\\\\Library\\\\include']\n",
      "blas_opt_info:\n",
      "    libraries = ['mkl_rt']\n",
      "    library_dirs = ['C:/Users/franpc/anaconda3\\\\Library\\\\lib']\n",
      "    define_macros = [('SCIPY_MKL_H', None), ('HAVE_CBLAS', None)]\n",
      "    include_dirs = ['C:/Users/franpc/anaconda3\\\\Library\\\\include']\n",
      "lapack_mkl_info:\n",
      "    libraries = ['mkl_rt']\n",
      "    library_dirs = ['C:/Users/franpc/anaconda3\\\\Library\\\\lib']\n",
      "    define_macros = [('SCIPY_MKL_H', None), ('HAVE_CBLAS', None)]\n",
      "    include_dirs = ['C:/Users/franpc/anaconda3\\\\Library\\\\include']\n",
      "lapack_opt_info:\n",
      "    libraries = ['mkl_rt']\n",
      "    library_dirs = ['C:/Users/franpc/anaconda3\\\\Library\\\\lib']\n",
      "    define_macros = [('SCIPY_MKL_H', None), ('HAVE_CBLAS', None)]\n",
      "    include_dirs = ['C:/Users/franpc/anaconda3\\\\Library\\\\include']\n"
     ]
    }
   ],
   "source": [
    "np.show_config()"
   ]
  },
  {
   "cell_type": "code",
   "execution_count": 4,
   "id": "290b2dcb-2324-4351-bdde-b602485c1d42",
   "metadata": {},
   "outputs": [
    {
     "data": {
      "text/plain": [
       "(2, 3, 5)"
      ]
     },
     "execution_count": 4,
     "metadata": {},
     "output_type": "execute_result"
    }
   ],
   "source": [
    "# Generates random number based on a range \n",
    "np.random.randint(0, 99, size=(2, 3, 5)).shape # The 0-99 is the range"
   ]
  },
  {
   "cell_type": "code",
   "execution_count": 5,
   "id": "eb9949b0-c4aa-439f-bbff-d0336d5da697",
   "metadata": {},
   "outputs": [
    {
     "data": {
      "text/plain": [
       "(2, 3, 5)"
      ]
     },
     "execution_count": 5,
     "metadata": {},
     "output_type": "execute_result"
    }
   ],
   "source": [
    "np.random.randn(2, 3, 5).shape # Generates random number with the specified shape from a normal distribution"
   ]
  },
  {
   "cell_type": "code",
   "execution_count": 6,
   "id": "c87e508d-e71f-4e41-be88-be887cfd2b80",
   "metadata": {},
   "outputs": [
    {
     "data": {
      "text/plain": [
       "(2, 3, 5)"
      ]
     },
     "execution_count": 6,
     "metadata": {},
     "output_type": "execute_result"
    }
   ],
   "source": [
    "# Generates random number with the specified shape from a uniform distribution over [0, 1)\n",
    "np.random.rand(2, 3, 5).shape"
   ]
  },
  {
   "cell_type": "code",
   "execution_count": 7,
   "id": "62d4a1f9-8286-483c-854a-6fac668a15f3",
   "metadata": {},
   "outputs": [
    {
     "data": {
      "text/plain": [
       "(2, 3, 5)"
      ]
     },
     "execution_count": 7,
     "metadata": {},
     "output_type": "execute_result"
    }
   ],
   "source": [
    "np.random.random((2,3,5)).shape"
   ]
  },
  {
   "cell_type": "code",
   "execution_count": 8,
   "id": "78aba2ab-a92b-4692-b7b8-4866d0a06c07",
   "metadata": {},
   "outputs": [
    {
     "data": {
      "text/plain": [
       "array([[[78,  9, 29, 14, 21],\n",
       "        [46, 35, 36, 95,  2],\n",
       "        [ 6, 86, 66, 12, 82]],\n",
       "\n",
       "       [[ 5, 90, 65, 42, 75],\n",
       "        [69, 76, 74, 67,  1],\n",
       "        [59, 57, 94, 33, 72]]])"
      ]
     },
     "execution_count": 8,
     "metadata": {},
     "output_type": "execute_result"
    }
   ],
   "source": [
    "# Generates random number based on a range \n",
    "a = np.random.randint(0, 99, size=(2, 3, 5)) # The 0-99 is the range\n",
    "a"
   ]
  },
  {
   "cell_type": "code",
   "execution_count": 9,
   "id": "77d43575-48a9-4666-b8c2-1156c07bd59a",
   "metadata": {},
   "outputs": [
    {
     "name": "stdout",
     "output_type": "stream",
     "text": [
      "[[[78  9 29 14 21]\n",
      "  [46 35 36 95  2]\n",
      "  [ 6 86 66 12 82]]\n",
      "\n",
      " [[ 5 90 65 42 75]\n",
      "  [69 76 74 67  1]\n",
      "  [59 57 94 33 72]]]\n"
     ]
    }
   ],
   "source": [
    "print(a)"
   ]
  },
  {
   "cell_type": "code",
   "execution_count": 10,
   "id": "e20decac-bc30-443e-8eab-6363de0f963f",
   "metadata": {},
   "outputs": [
    {
     "data": {
      "text/plain": [
       "array([[[1., 1., 1.],\n",
       "        [1., 1., 1.]],\n",
       "\n",
       "       [[1., 1., 1.],\n",
       "        [1., 1., 1.]],\n",
       "\n",
       "       [[1., 1., 1.],\n",
       "        [1., 1., 1.]],\n",
       "\n",
       "       [[1., 1., 1.],\n",
       "        [1., 1., 1.]],\n",
       "\n",
       "       [[1., 1., 1.],\n",
       "        [1., 1., 1.]]])"
      ]
     },
     "execution_count": 10,
     "metadata": {},
     "output_type": "execute_result"
    }
   ],
   "source": [
    "np.ones((5, 2, 3))"
   ]
  },
  {
   "cell_type": "code",
   "execution_count": 11,
   "id": "6e43225c-fc21-49ee-98ae-ecdc052184b8",
   "metadata": {},
   "outputs": [
    {
     "data": {
      "text/plain": [
       "array([[[1, 1, 1],\n",
       "        [1, 1, 1]],\n",
       "\n",
       "       [[1, 1, 1],\n",
       "        [1, 1, 1]],\n",
       "\n",
       "       [[1, 1, 1],\n",
       "        [1, 1, 1]],\n",
       "\n",
       "       [[1, 1, 1],\n",
       "        [1, 1, 1]],\n",
       "\n",
       "       [[1, 1, 1],\n",
       "        [1, 1, 1]]])"
      ]
     },
     "execution_count": 11,
     "metadata": {},
     "output_type": "execute_result"
    }
   ],
   "source": [
    "\n",
    "np.full((5, 2, 3),1)"
   ]
  },
  {
   "cell_type": "code",
   "execution_count": 12,
   "id": "30197ed7-af51-4472-a450-113b1937db5c",
   "metadata": {},
   "outputs": [
    {
     "data": {
      "text/plain": [
       "array([[[1, 1, 1],\n",
       "        [1, 1, 1]],\n",
       "\n",
       "       [[1, 1, 1],\n",
       "        [1, 1, 1]],\n",
       "\n",
       "       [[1, 1, 1],\n",
       "        [1, 1, 1]],\n",
       "\n",
       "       [[1, 1, 1],\n",
       "        [1, 1, 1]],\n",
       "\n",
       "       [[1, 1, 1],\n",
       "        [1, 1, 1]]])"
      ]
     },
     "execution_count": 12,
     "metadata": {},
     "output_type": "execute_result"
    }
   ],
   "source": [
    "np.random.randint(1, 2, size=(5, 2, 3))"
   ]
  },
  {
   "cell_type": "code",
   "execution_count": 13,
   "id": "364dc122-76a4-4c75-b8ee-0fd97f537247",
   "metadata": {},
   "outputs": [
    {
     "data": {
      "text/plain": [
       "30"
      ]
     },
     "execution_count": 13,
     "metadata": {},
     "output_type": "execute_result"
    }
   ],
   "source": [
    "a.size"
   ]
  },
  {
   "cell_type": "code",
   "execution_count": 14,
   "id": "9039652d-ae5f-4087-b8e6-f36bc96da4dc",
   "metadata": {},
   "outputs": [
    {
     "data": {
      "text/plain": [
       "(2, 3, 5)"
      ]
     },
     "execution_count": 14,
     "metadata": {},
     "output_type": "execute_result"
    }
   ],
   "source": [
    "a.shape"
   ]
  },
  {
   "cell_type": "code",
   "execution_count": 20,
   "id": "65e88d6e-29cc-4915-9b71-756a477ebe52",
   "metadata": {},
   "outputs": [],
   "source": [
    "b = np.random.randint(1, 2, size=(5, 2, 3))"
   ]
  },
  {
   "cell_type": "code",
   "execution_count": 21,
   "id": "c0e652dd-72c9-4735-a04a-856e660e62f9",
   "metadata": {},
   "outputs": [
    {
     "data": {
      "text/plain": [
       "array([[[1, 1, 1, 1, 1],\n",
       "        [1, 1, 1, 1, 1],\n",
       "        [1, 1, 1, 1, 1]],\n",
       "\n",
       "       [[1, 1, 1, 1, 1],\n",
       "        [1, 1, 1, 1, 1],\n",
       "        [1, 1, 1, 1, 1]]])"
      ]
     },
     "execution_count": 21,
     "metadata": {},
     "output_type": "execute_result"
    }
   ],
   "source": [
    "b.reshape(2,3,5)"
   ]
  },
  {
   "cell_type": "code",
   "execution_count": 29,
   "id": "e097bc36-4340-4f47-a8b0-f749ee6cc648",
   "metadata": {},
   "outputs": [
    {
     "data": {
      "text/plain": [
       "array([[[1, 1, 1, 1, 1],\n",
       "        [1, 1, 1, 1, 1],\n",
       "        [1, 1, 1, 1, 1]],\n",
       "\n",
       "       [[1, 1, 1, 1, 1],\n",
       "        [1, 1, 1, 1, 1],\n",
       "        [1, 1, 1, 1, 1]]])"
      ]
     },
     "execution_count": 29,
     "metadata": {},
     "output_type": "execute_result"
    }
   ],
   "source": [
    "c = b.reshape(2,3,5)\n",
    "c"
   ]
  },
  {
   "cell_type": "code",
   "execution_count": 30,
   "id": "f9ff2ad5-97ab-4956-81b0-c6d6c5dc2279",
   "metadata": {},
   "outputs": [
    {
     "name": "stdout",
     "output_type": "stream",
     "text": [
      "(2, 3, 5)\n",
      "(2, 3, 5)\n"
     ]
    }
   ],
   "source": [
    "print(a.shape)\n",
    "print(c.shape)"
   ]
  },
  {
   "cell_type": "code",
   "execution_count": 31,
   "id": "9b901976-855a-4d50-b49b-6913613d135d",
   "metadata": {},
   "outputs": [
    {
     "data": {
      "text/plain": [
       "array([[[79, 10, 30, 15, 22],\n",
       "        [47, 36, 37, 96,  3],\n",
       "        [ 7, 87, 67, 13, 83]],\n",
       "\n",
       "       [[ 6, 91, 66, 43, 76],\n",
       "        [70, 77, 75, 68,  2],\n",
       "        [60, 58, 95, 34, 73]]])"
      ]
     },
     "execution_count": 31,
     "metadata": {},
     "output_type": "execute_result"
    }
   ],
   "source": [
    "d = a + c\n",
    "d"
   ]
  },
  {
   "cell_type": "code",
   "execution_count": 32,
   "id": "2c7b104f-fe8e-42f9-ac74-a5f935b6d184",
   "metadata": {},
   "outputs": [
    {
     "name": "stdout",
     "output_type": "stream",
     "text": [
      "a:  [[[78  9 29 14 21]\n",
      "  [46 35 36 95  2]\n",
      "  [ 6 86 66 12 82]]\n",
      "\n",
      " [[ 5 90 65 42 75]\n",
      "  [69 76 74 67  1]\n",
      "  [59 57 94 33 72]]]\n",
      "d:  [[[79 10 30 15 22]\n",
      "  [47 36 37 96  3]\n",
      "  [ 7 87 67 13 83]]\n",
      "\n",
      " [[ 6 91 66 43 76]\n",
      "  [70 77 75 68  2]\n",
      "  [60 58 95 34 73]]]\n"
     ]
    }
   ],
   "source": [
    "print('a: ', a)\n",
    "print('d: ', d)"
   ]
  },
  {
   "cell_type": "code",
   "execution_count": 33,
   "id": "3b24ab2c-39bf-48b9-b91c-6271daaf3652",
   "metadata": {},
   "outputs": [
    {
     "data": {
      "text/plain": [
       "array([[[78,  9, 29, 14, 21],\n",
       "        [46, 35, 36, 95,  2],\n",
       "        [ 6, 86, 66, 12, 82]],\n",
       "\n",
       "       [[ 5, 90, 65, 42, 75],\n",
       "        [69, 76, 74, 67,  1],\n",
       "        [59, 57, 94, 33, 72]]])"
      ]
     },
     "execution_count": 33,
     "metadata": {},
     "output_type": "execute_result"
    }
   ],
   "source": [
    "e = a * c\n",
    "e"
   ]
  },
  {
   "cell_type": "code",
   "execution_count": 34,
   "id": "7ca65fab-2671-4441-b848-ae6b09264059",
   "metadata": {},
   "outputs": [
    {
     "name": "stdout",
     "output_type": "stream",
     "text": [
      "[[[ True  True  True  True  True]\n",
      "  [ True  True  True  True  True]\n",
      "  [ True  True  True  True  True]]\n",
      "\n",
      " [[ True  True  True  True  True]\n",
      "  [ True  True  True  True  True]\n",
      "  [ True  True  True  True  True]]]\n"
     ]
    }
   ],
   "source": [
    "print(a == e)"
   ]
  },
  {
   "cell_type": "code",
   "execution_count": 35,
   "id": "4ffdd9ac-e906-4238-a18f-a3d2821ce57c",
   "metadata": {},
   "outputs": [
    {
     "name": "stdout",
     "output_type": "stream",
     "text": [
      "96\n",
      "2\n",
      "50.86666666666667\n"
     ]
    }
   ],
   "source": [
    "d_max = np.max(d)\n",
    "print(d_max)\n",
    "\n",
    "d_min = np.min(d)\n",
    "print(d_min)\n",
    "\n",
    "d_mean = np.mean(d)\n",
    "print(d_mean)"
   ]
  },
  {
   "cell_type": "code",
   "execution_count": 56,
   "id": "da2517d1-d08b-4c01-8054-c54db6f65e58",
   "metadata": {},
   "outputs": [
    {
     "data": {
      "text/plain": [
       "array([[[ 75.,  25.,  25.,  25.,  25.],\n",
       "        [ 25.,  25.,  25., 100.,  25.],\n",
       "        [ 25.,  75.,  75.,  25.,  75.]],\n",
       "\n",
       "       [[ 25.,  75.,  75.,  25.,  75.],\n",
       "        [ 75.,  75.,  75.,  75.,   0.],\n",
       "        [ 75.,  75.,  75.,  25.,  75.]]])"
      ]
     },
     "execution_count": 56,
     "metadata": {},
     "output_type": "execute_result"
    }
   ],
   "source": [
    "f = np.empty((2, 3, 5))\n",
    "f"
   ]
  },
  {
   "cell_type": "code",
   "execution_count": 57,
   "id": "d0c29e36-a657-4ae6-9164-3b1a53ddf408",
   "metadata": {},
   "outputs": [],
   "source": [
    "for d1 in range(len(f)):\n",
    "    for d2 in range(len(f[d1])):        \n",
    "        for d3 in range(len(f[d1, d2])):\n",
    "           \n",
    "            d_value = d[d1, d2, d3] \n",
    "\n",
    "            if d_min < d_value < d_mean:\n",
    "                f[d1, d2, d3]  = 25\n",
    "\n",
    "            elif d_value == d_mean:\n",
    "                f[d1, d2, d3] = 50\n",
    "\n",
    "            elif d_mean < d_value < d_max:\n",
    "                f[d1, d2, d3] = 75\n",
    "\n",
    "            elif d_value == d_min:\n",
    "                f[d1, d2, d3] = 0\n",
    "\n",
    "            elif d_value == d_max:\n",
    "                f[d1, d2, d3] = 100"
   ]
  },
  {
   "cell_type": "code",
   "execution_count": 58,
   "id": "ff8e9460-3d05-4d6a-9b6a-6a8caa436ccf",
   "metadata": {},
   "outputs": [
    {
     "data": {
      "text/plain": [
       "array([[[ 75.,  25.,  25.,  25.,  25.],\n",
       "        [ 25.,  25.,  25., 100.,  25.],\n",
       "        [ 25.,  75.,  75.,  25.,  75.]],\n",
       "\n",
       "       [[ 25.,  75.,  75.,  25.,  75.],\n",
       "        [ 75.,  75.,  75.,  75.,   0.],\n",
       "        [ 75.,  75.,  75.,  25.,  75.]]])"
      ]
     },
     "execution_count": 58,
     "metadata": {},
     "output_type": "execute_result"
    }
   ],
   "source": [
    "f"
   ]
  },
  {
   "cell_type": "code",
   "execution_count": 39,
   "id": "9751daff-1287-422d-9f98-1a56afafc690",
   "metadata": {},
   "outputs": [
    {
     "name": "stdout",
     "output_type": "stream",
     "text": [
      "d:  [[[79 10 30 15 22]\n",
      "  [47 36 37 96  3]\n",
      "  [ 7 87 67 13 83]]\n",
      "\n",
      " [[ 6 91 66 43 76]\n",
      "  [70 77 75 68  2]\n",
      "  [60 58 95 34 73]]]\n",
      "f:  [[[ 75.  25.  25.  25.  25.]\n",
      "  [ 25.  25.  25. 100.  25.]\n",
      "  [ 25.  75.  75.  25.  75.]]\n",
      "\n",
      " [[ 25.  75.  75.  25.  75.]\n",
      "  [ 75.  75.  75.  75.   0.]\n",
      "  [ 75.  75.  75.  25.  75.]]]\n"
     ]
    }
   ],
   "source": [
    "print('d: ', d)\n",
    "print('f: ', f)"
   ]
  },
  {
   "cell_type": "code",
   "execution_count": 40,
   "id": "32c3d4fc-37f7-45aa-9420-4684b8d99f14",
   "metadata": {},
   "outputs": [
    {
     "data": {
      "text/plain": [
       "array([[[ 75.,  25.,  25.,  25.,  25.],\n",
       "        [ 25.,  25.,  25., 100.,  25.],\n",
       "        [ 25.,  75.,  75.,  25.,  75.]],\n",
       "\n",
       "       [[ 25.,  75.,  75.,  25.,  75.],\n",
       "        [ 75.,  75.,  75.,  75.,   0.],\n",
       "        [ 75.,  75.,  75.,  25.,  75.]]])"
      ]
     },
     "execution_count": 40,
     "metadata": {},
     "output_type": "execute_result"
    }
   ],
   "source": [
    "f"
   ]
  },
  {
   "cell_type": "code",
   "execution_count": 62,
   "id": "dcc9c41f-abe5-4e1c-9fcd-05a4394d996e",
   "metadata": {},
   "outputs": [],
   "source": [
    "g = np.empty((2, 3, 5), dtype='str')\n",
    "\n",
    "for d1 in range(len(g)):\n",
    "    for d2 in range(len(g[d1])):        \n",
    "        for d3 in range(len(g[d1, d2])):\n",
    "           \n",
    "            d_value = d[d1, d2, d3]  \n",
    "\n",
    "            if d_min < d_value < d_mean:\n",
    "                g[d1, d2, d3] = 'B'\n",
    "\n",
    "            elif d_value == d_mean:\n",
    "                g[d1, d2, d3] = 'C'\n",
    "\n",
    "            elif d_mean < d_value < d_max:\n",
    "                g[d1, d2, d3] = 'D'\n",
    "\n",
    "            elif d_value == d_min:\n",
    "                g[d1, d2, d3] = 'A'\n",
    "\n",
    "            elif d_value == d_max:\n",
    "                g[d1, d2, d3] = 'E'"
   ]
  },
  {
   "cell_type": "code",
   "execution_count": 63,
   "id": "2463f969-6bd9-4caf-8e9e-5e036a4e7790",
   "metadata": {},
   "outputs": [
    {
     "data": {
      "text/plain": [
       "array([[['D', 'B', 'B', 'B', 'B'],\n",
       "        ['B', 'B', 'B', 'E', 'B'],\n",
       "        ['B', 'D', 'D', 'B', 'D']],\n",
       "\n",
       "       [['B', 'D', 'D', 'B', 'D'],\n",
       "        ['D', 'D', 'D', 'D', 'A'],\n",
       "        ['D', 'D', 'D', 'B', 'D']]], dtype='<U1')"
      ]
     },
     "execution_count": 63,
     "metadata": {},
     "output_type": "execute_result"
    }
   ],
   "source": [
    "g"
   ]
  },
  {
   "cell_type": "code",
   "execution_count": null,
   "id": "4aa9c988-8eb8-4a8e-b60c-c1ecc3c887f8",
   "metadata": {},
   "outputs": [],
   "source": []
  },
  {
   "cell_type": "code",
   "execution_count": null,
   "id": "96a61d98-b827-4b1d-98d7-d9c9ca3f125c",
   "metadata": {},
   "outputs": [],
   "source": []
  },
  {
   "cell_type": "code",
   "execution_count": null,
   "id": "fc1ff175-037b-4d47-8b04-78350166e988",
   "metadata": {},
   "outputs": [],
   "source": []
  },
  {
   "cell_type": "code",
   "execution_count": null,
   "id": "14d48a2b-d3fc-49af-8234-9efb243e0df0",
   "metadata": {},
   "outputs": [],
   "source": []
  },
  {
   "cell_type": "code",
   "execution_count": null,
   "id": "4dfdba4e-1775-4be7-9d83-e3f080273c64",
   "metadata": {},
   "outputs": [],
   "source": []
  },
  {
   "cell_type": "code",
   "execution_count": null,
   "id": "61a1f455-a326-4958-b553-3f07c71c7d47",
   "metadata": {},
   "outputs": [],
   "source": []
  },
  {
   "cell_type": "code",
   "execution_count": null,
   "id": "1c22b313-b4d0-4a71-b5ca-9960e26114a3",
   "metadata": {},
   "outputs": [],
   "source": []
  },
  {
   "cell_type": "code",
   "execution_count": null,
   "id": "09528a94-a4f1-45c8-ad2e-bae25a14ba59",
   "metadata": {},
   "outputs": [],
   "source": []
  },
  {
   "cell_type": "code",
   "execution_count": null,
   "id": "6df9cc9c-a0aa-4a65-a998-b44bdbbcfaff",
   "metadata": {},
   "outputs": [],
   "source": []
  },
  {
   "cell_type": "code",
   "execution_count": null,
   "id": "b28d4fdd-fb4b-46d8-aaec-4923b7c4cd61",
   "metadata": {},
   "outputs": [],
   "source": []
  },
  {
   "cell_type": "code",
   "execution_count": null,
   "id": "b0fb8153-41ef-45c4-93b6-e10d6c6cb951",
   "metadata": {},
   "outputs": [],
   "source": []
  },
  {
   "cell_type": "code",
   "execution_count": null,
   "id": "2ef56694-d50a-40df-96ab-f23ae3b7e3c0",
   "metadata": {},
   "outputs": [],
   "source": []
  },
  {
   "cell_type": "code",
   "execution_count": null,
   "id": "33b2b549-d954-470e-9e4d-fedb9d1764fe",
   "metadata": {},
   "outputs": [],
   "source": []
  }
 ],
 "metadata": {
  "kernelspec": {
   "display_name": "Python 3",
   "language": "python",
   "name": "python3"
  },
  "language_info": {
   "codemirror_mode": {
    "name": "ipython",
    "version": 3
   },
   "file_extension": ".py",
   "mimetype": "text/x-python",
   "name": "python",
   "nbconvert_exporter": "python",
   "pygments_lexer": "ipython3",
   "version": "3.8.8"
  }
 },
 "nbformat": 4,
 "nbformat_minor": 5
}
