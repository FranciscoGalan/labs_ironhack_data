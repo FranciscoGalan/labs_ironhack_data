{
 "cells": [
  {
   "cell_type": "code",
   "execution_count": 1,
   "id": "97e784f5-007d-49a5-a5e1-d0cb145286ea",
   "metadata": {},
   "outputs": [],
   "source": [
    "import numpy as np"
   ]
  },
  {
   "cell_type": "code",
   "execution_count": 3,
   "id": "4aebe9e2-8698-40ea-b900-d6ac94428aab",
   "metadata": {},
   "outputs": [
    {
     "data": {
      "text/plain": [
       "'1.20.1'"
      ]
     },
     "execution_count": 3,
     "metadata": {},
     "output_type": "execute_result"
    }
   ],
   "source": [
    "np.__version__"
   ]
  },
  {
   "cell_type": "code",
   "execution_count": null,
   "id": "114a1428-1379-4dbd-99f4-dc22ac04fdcb",
   "metadata": {},
   "outputs": [],
   "source": [
    "np.show_config()"
   ]
  },
  {
   "cell_type": "code",
   "execution_count": 32,
   "id": "290b2dcb-2324-4351-bdde-b602485c1d42",
   "metadata": {},
   "outputs": [
    {
     "data": {
      "text/plain": [
       "(2, 3, 5)"
      ]
     },
     "execution_count": 32,
     "metadata": {},
     "output_type": "execute_result"
    }
   ],
   "source": [
    "# Generates random number based on a range \n",
    "np.random.randint(0, 99, size=(2, 3, 5)).shape # The 0-99 is the range"
   ]
  },
  {
   "cell_type": "code",
   "execution_count": 31,
   "id": "eb9949b0-c4aa-439f-bbff-d0336d5da697",
   "metadata": {},
   "outputs": [
    {
     "data": {
      "text/plain": [
       "(2, 3, 5)"
      ]
     },
     "execution_count": 31,
     "metadata": {},
     "output_type": "execute_result"
    }
   ],
   "source": [
    "np.random.randn(2, 3, 5).shape # Generates random number with the specified shape from a normal distribution"
   ]
  },
  {
   "cell_type": "code",
   "execution_count": 30,
   "id": "c87e508d-e71f-4e41-be88-be887cfd2b80",
   "metadata": {},
   "outputs": [
    {
     "data": {
      "text/plain": [
       "(2, 3, 5)"
      ]
     },
     "execution_count": 30,
     "metadata": {},
     "output_type": "execute_result"
    }
   ],
   "source": [
    "# Generates random number with the specified shape from a uniform distribution over [0, 1)\n",
    "np.random.rand(2, 3, 5).shape"
   ]
  },
  {
   "cell_type": "code",
   "execution_count": 29,
   "id": "62d4a1f9-8286-483c-854a-6fac668a15f3",
   "metadata": {},
   "outputs": [
    {
     "data": {
      "text/plain": [
       "(2, 3, 5)"
      ]
     },
     "execution_count": 29,
     "metadata": {},
     "output_type": "execute_result"
    }
   ],
   "source": [
    "np.random.random((2,3,5)).shape"
   ]
  },
  {
   "cell_type": "code",
   "execution_count": 35,
   "id": "78aba2ab-a92b-4692-b7b8-4866d0a06c07",
   "metadata": {},
   "outputs": [
    {
     "data": {
      "text/plain": [
       "array([[[96, 95, 51, 52, 77],\n",
       "        [82, 32, 58, 63, 80],\n",
       "        [10, 34, 82,  5, 41]],\n",
       "\n",
       "       [[ 0, 70, 87, 77, 98],\n",
       "        [13, 30, 42, 23,  4],\n",
       "        [27, 42, 93, 51, 97]]])"
      ]
     },
     "execution_count": 35,
     "metadata": {},
     "output_type": "execute_result"
    }
   ],
   "source": [
    "# Generates random number based on a range \n",
    "a = np.random.randint(0, 99, size=(2, 3, 5)) # The 0-99 is the range\n",
    "a"
   ]
  },
  {
   "cell_type": "code",
   "execution_count": 36,
   "id": "77d43575-48a9-4666-b8c2-1156c07bd59a",
   "metadata": {},
   "outputs": [
    {
     "name": "stdout",
     "output_type": "stream",
     "text": [
      "[[[96 95 51 52 77]\n",
      "  [82 32 58 63 80]\n",
      "  [10 34 82  5 41]]\n",
      "\n",
      " [[ 0 70 87 77 98]\n",
      "  [13 30 42 23  4]\n",
      "  [27 42 93 51 97]]]\n"
     ]
    }
   ],
   "source": [
    "print(a)"
   ]
  },
  {
   "cell_type": "code",
   "execution_count": 37,
   "id": "e20decac-bc30-443e-8eab-6363de0f963f",
   "metadata": {},
   "outputs": [
    {
     "data": {
      "text/plain": [
       "array([[[1., 1., 1.],\n",
       "        [1., 1., 1.]],\n",
       "\n",
       "       [[1., 1., 1.],\n",
       "        [1., 1., 1.]],\n",
       "\n",
       "       [[1., 1., 1.],\n",
       "        [1., 1., 1.]],\n",
       "\n",
       "       [[1., 1., 1.],\n",
       "        [1., 1., 1.]],\n",
       "\n",
       "       [[1., 1., 1.],\n",
       "        [1., 1., 1.]]])"
      ]
     },
     "execution_count": 37,
     "metadata": {},
     "output_type": "execute_result"
    }
   ],
   "source": [
    "np.ones((5, 2, 3))"
   ]
  },
  {
   "cell_type": "code",
   "execution_count": 41,
   "id": "6e43225c-fc21-49ee-98ae-ecdc052184b8",
   "metadata": {},
   "outputs": [
    {
     "data": {
      "text/plain": [
       "array([[[1, 1, 1],\n",
       "        [1, 1, 1]],\n",
       "\n",
       "       [[1, 1, 1],\n",
       "        [1, 1, 1]],\n",
       "\n",
       "       [[1, 1, 1],\n",
       "        [1, 1, 1]],\n",
       "\n",
       "       [[1, 1, 1],\n",
       "        [1, 1, 1]],\n",
       "\n",
       "       [[1, 1, 1],\n",
       "        [1, 1, 1]]])"
      ]
     },
     "execution_count": 41,
     "metadata": {},
     "output_type": "execute_result"
    }
   ],
   "source": [
    "\n",
    "np.full((5, 2, 3),1)"
   ]
  },
  {
   "cell_type": "code",
   "execution_count": 42,
   "id": "30197ed7-af51-4472-a450-113b1937db5c",
   "metadata": {},
   "outputs": [
    {
     "data": {
      "text/plain": [
       "array([[[1, 1, 1],\n",
       "        [1, 1, 1]],\n",
       "\n",
       "       [[1, 1, 1],\n",
       "        [1, 1, 1]],\n",
       "\n",
       "       [[1, 1, 1],\n",
       "        [1, 1, 1]],\n",
       "\n",
       "       [[1, 1, 1],\n",
       "        [1, 1, 1]],\n",
       "\n",
       "       [[1, 1, 1],\n",
       "        [1, 1, 1]]])"
      ]
     },
     "execution_count": 42,
     "metadata": {},
     "output_type": "execute_result"
    }
   ],
   "source": [
    "np.random.randint(1, 2, size=(5, 2, 3))"
   ]
  },
  {
   "cell_type": "code",
   "execution_count": 43,
   "id": "364dc122-76a4-4c75-b8ee-0fd97f537247",
   "metadata": {},
   "outputs": [
    {
     "data": {
      "text/plain": [
       "30"
      ]
     },
     "execution_count": 43,
     "metadata": {},
     "output_type": "execute_result"
    }
   ],
   "source": [
    "a.size"
   ]
  },
  {
   "cell_type": "code",
   "execution_count": 44,
   "id": "9039652d-ae5f-4087-b8e6-f36bc96da4dc",
   "metadata": {},
   "outputs": [
    {
     "data": {
      "text/plain": [
       "(2, 3, 5)"
      ]
     },
     "execution_count": 44,
     "metadata": {},
     "output_type": "execute_result"
    }
   ],
   "source": [
    "a.shape"
   ]
  },
  {
   "cell_type": "code",
   "execution_count": 45,
   "id": "354a2f18-99ab-4e68-9c9c-b55de29fbd76",
   "metadata": {},
   "outputs": [
    {
     "data": {
      "text/plain": [
       "array([[[1, 1, 1, 1, 1],\n",
       "        [1, 1, 1, 1, 1],\n",
       "        [1, 1, 1, 1, 1]],\n",
       "\n",
       "       [[1, 1, 1, 1, 1],\n",
       "        [1, 1, 1, 1, 1],\n",
       "        [1, 1, 1, 1, 1]]])"
      ]
     },
     "execution_count": 45,
     "metadata": {},
     "output_type": "execute_result"
    }
   ],
   "source": [
    "b.transpose()"
   ]
  },
  {
   "cell_type": "code",
   "execution_count": 46,
   "id": "c0e652dd-72c9-4735-a04a-856e660e62f9",
   "metadata": {},
   "outputs": [
    {
     "data": {
      "text/plain": [
       "array([[[1, 1, 1, 1, 1],\n",
       "        [1, 1, 1, 1, 1],\n",
       "        [1, 1, 1, 1, 1]],\n",
       "\n",
       "       [[1, 1, 1, 1, 1],\n",
       "        [1, 1, 1, 1, 1],\n",
       "        [1, 1, 1, 1, 1]]])"
      ]
     },
     "execution_count": 46,
     "metadata": {},
     "output_type": "execute_result"
    }
   ],
   "source": [
    "b.reshape(2,3,5)"
   ]
  },
  {
   "cell_type": "code",
   "execution_count": 50,
   "id": "e097bc36-4340-4f47-a8b0-f749ee6cc648",
   "metadata": {},
   "outputs": [
    {
     "data": {
      "text/plain": [
       "array([[[1, 1, 1, 1, 1],\n",
       "        [1, 1, 1, 1, 1],\n",
       "        [1, 1, 1, 1, 1]],\n",
       "\n",
       "       [[1, 1, 1, 1, 1],\n",
       "        [1, 1, 1, 1, 1],\n",
       "        [1, 1, 1, 1, 1]]])"
      ]
     },
     "execution_count": 50,
     "metadata": {},
     "output_type": "execute_result"
    }
   ],
   "source": [
    "c = b.T\n",
    "c"
   ]
  },
  {
   "cell_type": "code",
   "execution_count": 51,
   "id": "f9ff2ad5-97ab-4956-81b0-c6d6c5dc2279",
   "metadata": {},
   "outputs": [
    {
     "name": "stdout",
     "output_type": "stream",
     "text": [
      "(2, 3, 5)\n",
      "(2, 3, 5)\n"
     ]
    }
   ],
   "source": [
    "print(a.shape)\n",
    "print(c.shape)"
   ]
  },
  {
   "cell_type": "code",
   "execution_count": 52,
   "id": "9b901976-855a-4d50-b49b-6913613d135d",
   "metadata": {},
   "outputs": [
    {
     "data": {
      "text/plain": [
       "array([[[97, 96, 52, 53, 78],\n",
       "        [83, 33, 59, 64, 81],\n",
       "        [11, 35, 83,  6, 42]],\n",
       "\n",
       "       [[ 1, 71, 88, 78, 99],\n",
       "        [14, 31, 43, 24,  5],\n",
       "        [28, 43, 94, 52, 98]]])"
      ]
     },
     "execution_count": 52,
     "metadata": {},
     "output_type": "execute_result"
    }
   ],
   "source": [
    "d = a + c\n",
    "d"
   ]
  },
  {
   "cell_type": "code",
   "execution_count": 53,
   "id": "2c7b104f-fe8e-42f9-ac74-a5f935b6d184",
   "metadata": {},
   "outputs": [
    {
     "name": "stdout",
     "output_type": "stream",
     "text": [
      "a:  [[[96 95 51 52 77]\n",
      "  [82 32 58 63 80]\n",
      "  [10 34 82  5 41]]\n",
      "\n",
      " [[ 0 70 87 77 98]\n",
      "  [13 30 42 23  4]\n",
      "  [27 42 93 51 97]]]\n",
      "d:  [[[97 96 52 53 78]\n",
      "  [83 33 59 64 81]\n",
      "  [11 35 83  6 42]]\n",
      "\n",
      " [[ 1 71 88 78 99]\n",
      "  [14 31 43 24  5]\n",
      "  [28 43 94 52 98]]]\n"
     ]
    }
   ],
   "source": [
    "print('a: ', a)\n",
    "print('d: ', d)"
   ]
  },
  {
   "cell_type": "code",
   "execution_count": 55,
   "id": "3b24ab2c-39bf-48b9-b91c-6271daaf3652",
   "metadata": {},
   "outputs": [
    {
     "data": {
      "text/plain": [
       "array([[[96, 95, 51, 52, 77],\n",
       "        [82, 32, 58, 63, 80],\n",
       "        [10, 34, 82,  5, 41]],\n",
       "\n",
       "       [[ 0, 70, 87, 77, 98],\n",
       "        [13, 30, 42, 23,  4],\n",
       "        [27, 42, 93, 51, 97]]])"
      ]
     },
     "execution_count": 55,
     "metadata": {},
     "output_type": "execute_result"
    }
   ],
   "source": [
    "e = a * c\n",
    "e"
   ]
  },
  {
   "cell_type": "code",
   "execution_count": 56,
   "id": "7ca65fab-2671-4441-b848-ae6b09264059",
   "metadata": {},
   "outputs": [
    {
     "name": "stdout",
     "output_type": "stream",
     "text": [
      "[[[ True  True  True  True  True]\n",
      "  [ True  True  True  True  True]\n",
      "  [ True  True  True  True  True]]\n",
      "\n",
      " [[ True  True  True  True  True]\n",
      "  [ True  True  True  True  True]\n",
      "  [ True  True  True  True  True]]]\n"
     ]
    }
   ],
   "source": [
    "print(a == e)"
   ]
  },
  {
   "cell_type": "code",
   "execution_count": 57,
   "id": "4ffdd9ac-e906-4238-a18f-a3d2821ce57c",
   "metadata": {},
   "outputs": [
    {
     "name": "stdout",
     "output_type": "stream",
     "text": [
      "99\n",
      "1\n",
      "54.733333333333334\n"
     ]
    }
   ],
   "source": [
    "d_max = np.max(d)\n",
    "print(d_max)\n",
    "\n",
    "d_min = np.min(d)\n",
    "print(d_min)\n",
    "\n",
    "d_mean = np.mean(d)\n",
    "print(d_mean)"
   ]
  },
  {
   "cell_type": "code",
   "execution_count": 60,
   "id": "da2517d1-d08b-4c01-8054-c54db6f65e58",
   "metadata": {},
   "outputs": [
    {
     "data": {
      "text/plain": [
       "array([[[1., 1., 1., 1., 1.],\n",
       "        [1., 1., 1., 1., 1.],\n",
       "        [1., 1., 1., 1., 1.]],\n",
       "\n",
       "       [[1., 1., 1., 1., 1.],\n",
       "        [1., 1., 1., 1., 1.],\n",
       "        [1., 1., 1., 1., 1.]]])"
      ]
     },
     "execution_count": 60,
     "metadata": {},
     "output_type": "execute_result"
    }
   ],
   "source": [
    "f = np.empty((2, 3, 5))\n",
    "f"
   ]
  },
  {
   "cell_type": "code",
   "execution_count": 61,
   "id": "d0c29e36-a657-4ae6-9164-3b1a53ddf408",
   "metadata": {},
   "outputs": [],
   "source": [
    "for x in range(2):\n",
    "    for y in range(3):        \n",
    "        for z in range(5):\n",
    "           \n",
    "            d_value = d[x, y, z] \n",
    "\n",
    "            if d_min < d_value < d_mean:\n",
    "                f[x, y, z] = 25\n",
    "\n",
    "            elif d_value == d_mean:\n",
    "                f[x, y, z] = 50\n",
    "\n",
    "            elif d_mean < d_value < d_max:\n",
    "                f[x, y, z] = 75\n",
    "\n",
    "            elif d_value == d_min:\n",
    "                f[x, y, z] = 0\n",
    "\n",
    "            elif d_value == d_max:\n",
    "                f[x, y, z] = 100"
   ]
  },
  {
   "cell_type": "code",
   "execution_count": 62,
   "id": "ff8e9460-3d05-4d6a-9b6a-6a8caa436ccf",
   "metadata": {},
   "outputs": [
    {
     "data": {
      "text/plain": [
       "array([[[ 75.,  75.,  25.,  25.,  75.],\n",
       "        [ 75.,  25.,  75.,  75.,  75.],\n",
       "        [ 25.,  25.,  75.,  25.,  25.]],\n",
       "\n",
       "       [[  0.,  75.,  75.,  75., 100.],\n",
       "        [ 25.,  25.,  25.,  25.,  25.],\n",
       "        [ 25.,  25.,  75.,  25.,  75.]]])"
      ]
     },
     "execution_count": 62,
     "metadata": {},
     "output_type": "execute_result"
    }
   ],
   "source": [
    "f"
   ]
  },
  {
   "cell_type": "code",
   "execution_count": 63,
   "id": "9751daff-1287-422d-9f98-1a56afafc690",
   "metadata": {},
   "outputs": [
    {
     "name": "stdout",
     "output_type": "stream",
     "text": [
      "d:  [[[97 96 52 53 78]\n",
      "  [83 33 59 64 81]\n",
      "  [11 35 83  6 42]]\n",
      "\n",
      " [[ 1 71 88 78 99]\n",
      "  [14 31 43 24  5]\n",
      "  [28 43 94 52 98]]]\n",
      "f:  [[[ 75.  75.  25.  25.  75.]\n",
      "  [ 75.  25.  75.  75.  75.]\n",
      "  [ 25.  25.  75.  25.  25.]]\n",
      "\n",
      " [[  0.  75.  75.  75. 100.]\n",
      "  [ 25.  25.  25.  25.  25.]\n",
      "  [ 25.  25.  75.  25.  75.]]]\n"
     ]
    }
   ],
   "source": [
    "print('d: ', d)\n",
    "print('f: ', f)"
   ]
  },
  {
   "cell_type": "code",
   "execution_count": 65,
   "id": "32c3d4fc-37f7-45aa-9420-4684b8d99f14",
   "metadata": {},
   "outputs": [
    {
     "data": {
      "text/plain": [
       "array([[[ 75.,  75.,  25.,  25.,  75.],\n",
       "        [ 75.,  25.,  75.,  75.,  75.],\n",
       "        [ 25.,  25.,  75.,  25.,  25.]],\n",
       "\n",
       "       [[  0.,  75.,  75.,  75., 100.],\n",
       "        [ 25.,  25.,  25.,  25.,  25.],\n",
       "        [ 25.,  25.,  75.,  25.,  75.]]])"
      ]
     },
     "execution_count": 65,
     "metadata": {},
     "output_type": "execute_result"
    }
   ],
   "source": [
    "f"
   ]
  },
  {
   "cell_type": "code",
   "execution_count": 68,
   "id": "dcc9c41f-abe5-4e1c-9fcd-05a4394d996e",
   "metadata": {},
   "outputs": [],
   "source": [
    "g = np.empty((2, 3, 5), dtype='str')\n",
    "\n",
    "for x in range(2):\n",
    "    for y in range(3):        \n",
    "        for z in range(5):\n",
    "           \n",
    "            d_value = d[x, y, z] \n",
    "\n",
    "            if d_min < d_value < d_mean:\n",
    "                g[x, y, z] = 'B'\n",
    "\n",
    "            elif d_value == d_mean:\n",
    "                g[x, y, z] = 'C'\n",
    "\n",
    "            elif d_mean < d_value < d_max:\n",
    "                g[x, y, z] = 'D'\n",
    "\n",
    "            elif d_value == d_min:\n",
    "                g[x, y, z] = 'A'\n",
    "\n",
    "            elif d_value == d_max:\n",
    "                g[x, y, z] = 'E'"
   ]
  },
  {
   "cell_type": "code",
   "execution_count": 69,
   "id": "2463f969-6bd9-4caf-8e9e-5e036a4e7790",
   "metadata": {},
   "outputs": [
    {
     "data": {
      "text/plain": [
       "array([[['D', 'D', 'B', 'B', 'D'],\n",
       "        ['D', 'B', 'D', 'D', 'D'],\n",
       "        ['B', 'B', 'D', 'B', 'B']],\n",
       "\n",
       "       [['A', 'D', 'D', 'D', 'E'],\n",
       "        ['B', 'B', 'B', 'B', 'B'],\n",
       "        ['B', 'B', 'D', 'B', 'D']]], dtype='<U1')"
      ]
     },
     "execution_count": 69,
     "metadata": {},
     "output_type": "execute_result"
    }
   ],
   "source": [
    "g"
   ]
  },
  {
   "cell_type": "code",
   "execution_count": null,
   "id": "4aa9c988-8eb8-4a8e-b60c-c1ecc3c887f8",
   "metadata": {},
   "outputs": [],
   "source": []
  }
 ],
 "metadata": {
  "kernelspec": {
   "display_name": "Python 3",
   "language": "python",
   "name": "python3"
  },
  "language_info": {
   "codemirror_mode": {
    "name": "ipython",
    "version": 3
   },
   "file_extension": ".py",
   "mimetype": "text/x-python",
   "name": "python",
   "nbconvert_exporter": "python",
   "pygments_lexer": "ipython3",
   "version": "3.8.8"
  }
 },
 "nbformat": 4,
 "nbformat_minor": 5
}
