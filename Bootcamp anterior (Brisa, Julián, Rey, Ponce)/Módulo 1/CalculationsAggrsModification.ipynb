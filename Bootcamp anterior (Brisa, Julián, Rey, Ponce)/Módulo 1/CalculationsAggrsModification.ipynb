{
 "cells": [
  {
   "cell_type": "code",
   "execution_count": 1,
   "metadata": {
    "collapsed": true
   },
   "outputs": [
    {
     "data": {
      "text/plain": "               Make                Model  Year  Engine Displacement  \\\n0        AM General    DJ Po Vehicle 2WD  1984                  2.5   \n1        AM General     FJ8c Post Office  1984                  4.2   \n2        AM General  Post Office DJ5 2WD  1985                  2.5   \n3        AM General  Post Office DJ8 2WD  1985                  4.2   \n4  ASC Incorporated                  GNX  1987                  3.8   \n\n   Cylinders     Transmission        Drivetrain                Vehicle Class  \\\n0        4.0  Automatic 3-spd     2-Wheel Drive  Special Purpose Vehicle 2WD   \n1        6.0  Automatic 3-spd     2-Wheel Drive  Special Purpose Vehicle 2WD   \n2        4.0  Automatic 3-spd  Rear-Wheel Drive  Special Purpose Vehicle 2WD   \n3        6.0  Automatic 3-spd  Rear-Wheel Drive  Special Purpose Vehicle 2WD   \n4        6.0  Automatic 4-spd  Rear-Wheel Drive                 Midsize Cars   \n\n  Fuel Type  Fuel Barrels/Year  City MPG  Highway MPG  Combined MPG  \\\n0   Regular          19.388824        18           17            17   \n1   Regular          25.354615        13           13            13   \n2   Regular          20.600625        16           17            16   \n3   Regular          25.354615        13           13            13   \n4   Premium          20.600625        14           21            16   \n\n   CO2 Emission Grams/Mile  Fuel Cost/Year  \n0               522.764706            1950  \n1               683.615385            2550  \n2               555.437500            2100  \n3               683.615385            2550  \n4               555.437500            2550  ",
      "text/html": "<div>\n<style scoped>\n    .dataframe tbody tr th:only-of-type {\n        vertical-align: middle;\n    }\n\n    .dataframe tbody tr th {\n        vertical-align: top;\n    }\n\n    .dataframe thead th {\n        text-align: right;\n    }\n</style>\n<table border=\"1\" class=\"dataframe\">\n  <thead>\n    <tr style=\"text-align: right;\">\n      <th></th>\n      <th>Make</th>\n      <th>Model</th>\n      <th>Year</th>\n      <th>Engine Displacement</th>\n      <th>Cylinders</th>\n      <th>Transmission</th>\n      <th>Drivetrain</th>\n      <th>Vehicle Class</th>\n      <th>Fuel Type</th>\n      <th>Fuel Barrels/Year</th>\n      <th>City MPG</th>\n      <th>Highway MPG</th>\n      <th>Combined MPG</th>\n      <th>CO2 Emission Grams/Mile</th>\n      <th>Fuel Cost/Year</th>\n    </tr>\n  </thead>\n  <tbody>\n    <tr>\n      <th>0</th>\n      <td>AM General</td>\n      <td>DJ Po Vehicle 2WD</td>\n      <td>1984</td>\n      <td>2.5</td>\n      <td>4.0</td>\n      <td>Automatic 3-spd</td>\n      <td>2-Wheel Drive</td>\n      <td>Special Purpose Vehicle 2WD</td>\n      <td>Regular</td>\n      <td>19.388824</td>\n      <td>18</td>\n      <td>17</td>\n      <td>17</td>\n      <td>522.764706</td>\n      <td>1950</td>\n    </tr>\n    <tr>\n      <th>1</th>\n      <td>AM General</td>\n      <td>FJ8c Post Office</td>\n      <td>1984</td>\n      <td>4.2</td>\n      <td>6.0</td>\n      <td>Automatic 3-spd</td>\n      <td>2-Wheel Drive</td>\n      <td>Special Purpose Vehicle 2WD</td>\n      <td>Regular</td>\n      <td>25.354615</td>\n      <td>13</td>\n      <td>13</td>\n      <td>13</td>\n      <td>683.615385</td>\n      <td>2550</td>\n    </tr>\n    <tr>\n      <th>2</th>\n      <td>AM General</td>\n      <td>Post Office DJ5 2WD</td>\n      <td>1985</td>\n      <td>2.5</td>\n      <td>4.0</td>\n      <td>Automatic 3-spd</td>\n      <td>Rear-Wheel Drive</td>\n      <td>Special Purpose Vehicle 2WD</td>\n      <td>Regular</td>\n      <td>20.600625</td>\n      <td>16</td>\n      <td>17</td>\n      <td>16</td>\n      <td>555.437500</td>\n      <td>2100</td>\n    </tr>\n    <tr>\n      <th>3</th>\n      <td>AM General</td>\n      <td>Post Office DJ8 2WD</td>\n      <td>1985</td>\n      <td>4.2</td>\n      <td>6.0</td>\n      <td>Automatic 3-spd</td>\n      <td>Rear-Wheel Drive</td>\n      <td>Special Purpose Vehicle 2WD</td>\n      <td>Regular</td>\n      <td>25.354615</td>\n      <td>13</td>\n      <td>13</td>\n      <td>13</td>\n      <td>683.615385</td>\n      <td>2550</td>\n    </tr>\n    <tr>\n      <th>4</th>\n      <td>ASC Incorporated</td>\n      <td>GNX</td>\n      <td>1987</td>\n      <td>3.8</td>\n      <td>6.0</td>\n      <td>Automatic 4-spd</td>\n      <td>Rear-Wheel Drive</td>\n      <td>Midsize Cars</td>\n      <td>Premium</td>\n      <td>20.600625</td>\n      <td>14</td>\n      <td>21</td>\n      <td>16</td>\n      <td>555.437500</td>\n      <td>2550</td>\n    </tr>\n  </tbody>\n</table>\n</div>"
     },
     "execution_count": 1,
     "metadata": {},
     "output_type": "execute_result"
    }
   ],
   "source": [
    "import pandas as pd\n",
    "\n",
    "data = pd.read_csv('data/vehicles/vehicles.csv')\n",
    "data.head()\n",
    "\n"
   ]
  },
  {
   "cell_type": "code",
   "execution_count": 2,
   "outputs": [
    {
     "data": {
      "text/plain": "Index(['Make', 'Model', 'Year', 'Engine Displacement', 'Cylinders',\n       'Transmission', 'Drivetrain', 'Vehicle Class', 'Fuel Type',\n       'Fuel Barrels/Year', 'City MPG', 'Highway MPG', 'Combined MPG',\n       'CO2 Emission Grams/Mile', 'Fuel Cost/Year'],\n      dtype='object')"
     },
     "execution_count": 2,
     "metadata": {},
     "output_type": "execute_result"
    }
   ],
   "source": [
    "data.columns"
   ],
   "metadata": {
    "collapsed": false,
    "pycharm": {
     "name": "#%%\n"
    }
   }
  },
  {
   "cell_type": "code",
   "execution_count": 3,
   "outputs": [
    {
     "data": {
      "text/plain": "Index(['Manufacturer', 'Model', 'Year', 'Displacement', 'Cylinders',\n       'Transmission', 'Drivetrain', 'Vehicle Class', 'Fuel Type',\n       'Fuel Barrels/Year', 'City MPG', 'Highway MPG', 'Combined MPG',\n       'CO2 Emission Grams/Mile', 'Fuel Cost/Year'],\n      dtype='object')"
     },
     "execution_count": 3,
     "metadata": {},
     "output_type": "execute_result"
    }
   ],
   "source": [
    "data.columns = ['Manufacturer','Model','Year','Displacement',\n",
    "                'Cylinders','Transmission','Drivetrain',\n",
    "                'Vehicle Class','Fuel Type','Fuel Barrels/Year',\n",
    "                'City MPG','Highway MPG','Combined MPG',\n",
    "                'CO2 Emission Grams/Mile','Fuel Cost/Year']\n",
    "data.columns"
   ],
   "metadata": {
    "collapsed": false,
    "pycharm": {
     "name": "#%%\n"
    }
   }
  },
  {
   "cell_type": "code",
   "execution_count": 4,
   "outputs": [
    {
     "data": {
      "text/plain": "Index(['Make', 'Model', 'Year', 'Engine Displacement', 'Cylinders',\n       'Transmission', 'Drivetrain', 'Vehicle Class', 'Fuel Type',\n       'Fuel Barrels/Year', 'City MPG', 'Highway MPG', 'Combined MPG',\n       'CO2 Emission Grams/Mile', 'Fuel Cost/Year'],\n      dtype='object')"
     },
     "execution_count": 4,
     "metadata": {},
     "output_type": "execute_result"
    }
   ],
   "source": [
    "data = data.rename(columns={'Manufacturer':'Make',\n",
    "                            'Displacement':'Engine Displacement'})\n",
    "data.columns"
   ],
   "metadata": {
    "collapsed": false,
    "pycharm": {
     "name": "#%%\n"
    }
   }
  },
  {
   "cell_type": "code",
   "execution_count": 5,
   "outputs": [
    {
     "data": {
      "text/plain": "   Year              Make                Model                Vehicle Class  \\\n0  1984        AM General    DJ Po Vehicle 2WD  Special Purpose Vehicle 2WD   \n1  1984        AM General     FJ8c Post Office  Special Purpose Vehicle 2WD   \n2  1985        AM General  Post Office DJ5 2WD  Special Purpose Vehicle 2WD   \n3  1985        AM General  Post Office DJ8 2WD  Special Purpose Vehicle 2WD   \n4  1987  ASC Incorporated                  GNX                 Midsize Cars   \n\n      Transmission        Drivetrain Fuel Type  Cylinders  \\\n0  Automatic 3-spd     2-Wheel Drive   Regular        4.0   \n1  Automatic 3-spd     2-Wheel Drive   Regular        6.0   \n2  Automatic 3-spd  Rear-Wheel Drive   Regular        4.0   \n3  Automatic 3-spd  Rear-Wheel Drive   Regular        6.0   \n4  Automatic 4-spd  Rear-Wheel Drive   Premium        6.0   \n\n   Engine Displacement  Fuel Barrels/Year  City MPG  Highway MPG  \\\n0                  2.5          19.388824        18           17   \n1                  4.2          25.354615        13           13   \n2                  2.5          20.600625        16           17   \n3                  4.2          25.354615        13           13   \n4                  3.8          20.600625        14           21   \n\n   Combined MPG  CO2 Emission Grams/Mile  Fuel Cost/Year  \n0            17               522.764706            1950  \n1            13               683.615385            2550  \n2            16               555.437500            2100  \n3            13               683.615385            2550  \n4            16               555.437500            2550  ",
      "text/html": "<div>\n<style scoped>\n    .dataframe tbody tr th:only-of-type {\n        vertical-align: middle;\n    }\n\n    .dataframe tbody tr th {\n        vertical-align: top;\n    }\n\n    .dataframe thead th {\n        text-align: right;\n    }\n</style>\n<table border=\"1\" class=\"dataframe\">\n  <thead>\n    <tr style=\"text-align: right;\">\n      <th></th>\n      <th>Year</th>\n      <th>Make</th>\n      <th>Model</th>\n      <th>Vehicle Class</th>\n      <th>Transmission</th>\n      <th>Drivetrain</th>\n      <th>Fuel Type</th>\n      <th>Cylinders</th>\n      <th>Engine Displacement</th>\n      <th>Fuel Barrels/Year</th>\n      <th>City MPG</th>\n      <th>Highway MPG</th>\n      <th>Combined MPG</th>\n      <th>CO2 Emission Grams/Mile</th>\n      <th>Fuel Cost/Year</th>\n    </tr>\n  </thead>\n  <tbody>\n    <tr>\n      <th>0</th>\n      <td>1984</td>\n      <td>AM General</td>\n      <td>DJ Po Vehicle 2WD</td>\n      <td>Special Purpose Vehicle 2WD</td>\n      <td>Automatic 3-spd</td>\n      <td>2-Wheel Drive</td>\n      <td>Regular</td>\n      <td>4.0</td>\n      <td>2.5</td>\n      <td>19.388824</td>\n      <td>18</td>\n      <td>17</td>\n      <td>17</td>\n      <td>522.764706</td>\n      <td>1950</td>\n    </tr>\n    <tr>\n      <th>1</th>\n      <td>1984</td>\n      <td>AM General</td>\n      <td>FJ8c Post Office</td>\n      <td>Special Purpose Vehicle 2WD</td>\n      <td>Automatic 3-spd</td>\n      <td>2-Wheel Drive</td>\n      <td>Regular</td>\n      <td>6.0</td>\n      <td>4.2</td>\n      <td>25.354615</td>\n      <td>13</td>\n      <td>13</td>\n      <td>13</td>\n      <td>683.615385</td>\n      <td>2550</td>\n    </tr>\n    <tr>\n      <th>2</th>\n      <td>1985</td>\n      <td>AM General</td>\n      <td>Post Office DJ5 2WD</td>\n      <td>Special Purpose Vehicle 2WD</td>\n      <td>Automatic 3-spd</td>\n      <td>Rear-Wheel Drive</td>\n      <td>Regular</td>\n      <td>4.0</td>\n      <td>2.5</td>\n      <td>20.600625</td>\n      <td>16</td>\n      <td>17</td>\n      <td>16</td>\n      <td>555.437500</td>\n      <td>2100</td>\n    </tr>\n    <tr>\n      <th>3</th>\n      <td>1985</td>\n      <td>AM General</td>\n      <td>Post Office DJ8 2WD</td>\n      <td>Special Purpose Vehicle 2WD</td>\n      <td>Automatic 3-spd</td>\n      <td>Rear-Wheel Drive</td>\n      <td>Regular</td>\n      <td>6.0</td>\n      <td>4.2</td>\n      <td>25.354615</td>\n      <td>13</td>\n      <td>13</td>\n      <td>13</td>\n      <td>683.615385</td>\n      <td>2550</td>\n    </tr>\n    <tr>\n      <th>4</th>\n      <td>1987</td>\n      <td>ASC Incorporated</td>\n      <td>GNX</td>\n      <td>Midsize Cars</td>\n      <td>Automatic 4-spd</td>\n      <td>Rear-Wheel Drive</td>\n      <td>Premium</td>\n      <td>6.0</td>\n      <td>3.8</td>\n      <td>20.600625</td>\n      <td>14</td>\n      <td>21</td>\n      <td>16</td>\n      <td>555.437500</td>\n      <td>2550</td>\n    </tr>\n  </tbody>\n</table>\n</div>"
     },
     "execution_count": 5,
     "metadata": {},
     "output_type": "execute_result"
    }
   ],
   "source": [
    "column_order = ['Year','Make','Model','Vehicle Class',\n",
    "                'Transmission','Drivetrain','Fuel Type',\n",
    "                'Cylinders','Engine Displacement','Fuel Barrels/Year',\n",
    "                'City MPG','Highway MPG','Combined MPG',\n",
    "                'CO2 Emission Grams/Mile','Fuel Cost/Year']\n",
    "data = data[column_order]\n",
    "data.head()"
   ],
   "metadata": {
    "collapsed": false,
    "pycharm": {
     "name": "#%%\n"
    }
   }
  },
  {
   "cell_type": "code",
   "execution_count": 6,
   "outputs": [
    {
     "data": {
      "text/plain": "       Year  Make         Model Vehicle Class     Transmission  \\\n11442  1986  Ford  Aerostar Van          Vans  Automatic 4-spd   \n11450  1988  Ford  Aerostar Van          Vans  Automatic 4-spd   \n11452  1989  Ford  Aerostar Van          Vans  Automatic 4-spd   \n11456  1990  Ford  Aerostar Van          Vans  Automatic 4-spd   \n11459  1991  Ford  Aerostar Van          Vans  Automatic 4-spd   \n\n             Drivetrain Fuel Type  Cylinders  Engine Displacement  \\\n11442  Rear-Wheel Drive   Regular        6.0                  2.8   \n11450  Rear-Wheel Drive   Regular        6.0                  3.0   \n11452  Rear-Wheel Drive   Regular        6.0                  3.0   \n11456  Rear-Wheel Drive   Regular        6.0                  4.0   \n11459  Rear-Wheel Drive   Regular        6.0                  4.0   \n\n       Fuel Barrels/Year  City MPG  Highway MPG  Combined MPG  \\\n11442          19.388824        15           21            17   \n11450          19.388824        15           20            17   \n11452          19.388824        15           21            17   \n11456          19.388824        15           20            17   \n11459          19.388824        15           20            17   \n\n       CO2 Emission Grams/Mile  Fuel Cost/Year  \n11442               522.764706            1950  \n11450               522.764706            1950  \n11452               522.764706            1950  \n11456               522.764706            1950  \n11459               522.764706            1950  ",
      "text/html": "<div>\n<style scoped>\n    .dataframe tbody tr th:only-of-type {\n        vertical-align: middle;\n    }\n\n    .dataframe tbody tr th {\n        vertical-align: top;\n    }\n\n    .dataframe thead th {\n        text-align: right;\n    }\n</style>\n<table border=\"1\" class=\"dataframe\">\n  <thead>\n    <tr style=\"text-align: right;\">\n      <th></th>\n      <th>Year</th>\n      <th>Make</th>\n      <th>Model</th>\n      <th>Vehicle Class</th>\n      <th>Transmission</th>\n      <th>Drivetrain</th>\n      <th>Fuel Type</th>\n      <th>Cylinders</th>\n      <th>Engine Displacement</th>\n      <th>Fuel Barrels/Year</th>\n      <th>City MPG</th>\n      <th>Highway MPG</th>\n      <th>Combined MPG</th>\n      <th>CO2 Emission Grams/Mile</th>\n      <th>Fuel Cost/Year</th>\n    </tr>\n  </thead>\n  <tbody>\n    <tr>\n      <th>11442</th>\n      <td>1986</td>\n      <td>Ford</td>\n      <td>Aerostar Van</td>\n      <td>Vans</td>\n      <td>Automatic 4-spd</td>\n      <td>Rear-Wheel Drive</td>\n      <td>Regular</td>\n      <td>6.0</td>\n      <td>2.8</td>\n      <td>19.388824</td>\n      <td>15</td>\n      <td>21</td>\n      <td>17</td>\n      <td>522.764706</td>\n      <td>1950</td>\n    </tr>\n    <tr>\n      <th>11450</th>\n      <td>1988</td>\n      <td>Ford</td>\n      <td>Aerostar Van</td>\n      <td>Vans</td>\n      <td>Automatic 4-spd</td>\n      <td>Rear-Wheel Drive</td>\n      <td>Regular</td>\n      <td>6.0</td>\n      <td>3.0</td>\n      <td>19.388824</td>\n      <td>15</td>\n      <td>20</td>\n      <td>17</td>\n      <td>522.764706</td>\n      <td>1950</td>\n    </tr>\n    <tr>\n      <th>11452</th>\n      <td>1989</td>\n      <td>Ford</td>\n      <td>Aerostar Van</td>\n      <td>Vans</td>\n      <td>Automatic 4-spd</td>\n      <td>Rear-Wheel Drive</td>\n      <td>Regular</td>\n      <td>6.0</td>\n      <td>3.0</td>\n      <td>19.388824</td>\n      <td>15</td>\n      <td>21</td>\n      <td>17</td>\n      <td>522.764706</td>\n      <td>1950</td>\n    </tr>\n    <tr>\n      <th>11456</th>\n      <td>1990</td>\n      <td>Ford</td>\n      <td>Aerostar Van</td>\n      <td>Vans</td>\n      <td>Automatic 4-spd</td>\n      <td>Rear-Wheel Drive</td>\n      <td>Regular</td>\n      <td>6.0</td>\n      <td>4.0</td>\n      <td>19.388824</td>\n      <td>15</td>\n      <td>20</td>\n      <td>17</td>\n      <td>522.764706</td>\n      <td>1950</td>\n    </tr>\n    <tr>\n      <th>11459</th>\n      <td>1991</td>\n      <td>Ford</td>\n      <td>Aerostar Van</td>\n      <td>Vans</td>\n      <td>Automatic 4-spd</td>\n      <td>Rear-Wheel Drive</td>\n      <td>Regular</td>\n      <td>6.0</td>\n      <td>4.0</td>\n      <td>19.388824</td>\n      <td>15</td>\n      <td>20</td>\n      <td>17</td>\n      <td>522.764706</td>\n      <td>1950</td>\n    </tr>\n  </tbody>\n</table>\n</div>"
     },
     "execution_count": 6,
     "metadata": {},
     "output_type": "execute_result"
    }
   ],
   "source": [
    "filtered = data[(data['Make']=='Ford') &\n",
    "                (data['Cylinders']>=6) &\n",
    "                (data['Combined MPG'] < 18)]\n",
    "filtered.head()\n"
   ],
   "metadata": {
    "collapsed": false,
    "pycharm": {
     "name": "#%%\n"
    }
   }
  },
  {
   "cell_type": "code",
   "execution_count": 7,
   "outputs": [],
   "source": [
    "mpg_labels = ['Very Low', 'Low', 'Moderate', 'High', 'Very High']\n"
   ],
   "metadata": {
    "collapsed": false,
    "pycharm": {
     "name": "#%%\n"
    }
   }
  },
  {
   "cell_type": "code",
   "execution_count": 8,
   "outputs": [
    {
     "data": {
      "text/plain": "0         Low\n1    Very Low\n2    Very Low\n3    Very Low\n4    Very Low\n5         Low\n6         Low\n7         Low\n8         Low\n9         Low\nName: Combined MPG, dtype: category\nCategories (5, object): [Very Low < Low < Moderate < High < Very High]"
     },
     "execution_count": 8,
     "metadata": {},
     "output_type": "execute_result"
    }
   ],
   "source": [
    "bins = pd.cut(data['Combined MPG'],5, labels=mpg_labels)\n",
    "bins.head(10)\n"
   ],
   "metadata": {
    "collapsed": false,
    "pycharm": {
     "name": "#%%\n"
    }
   }
  },
  {
   "cell_type": "code",
   "execution_count": 9,
   "outputs": [
    {
     "data": {
      "text/plain": "Low          23444\nVery Low      9137\nModerate      3052\nHigh           275\nVery High       44\nName: Combined MPG, dtype: int64"
     },
     "execution_count": 9,
     "metadata": {},
     "output_type": "execute_result"
    }
   ],
   "source": [
    "bins.value_counts()\n",
    "\n"
   ],
   "metadata": {
    "collapsed": false,
    "pycharm": {
     "name": "#%%\n"
    }
   }
  },
  {
   "cell_type": "code",
   "execution_count": 10,
   "outputs": [
    {
     "data": {
      "text/plain": "0         Low\n1    Very Low\n2    Very Low\n3    Very Low\n4    Very Low\n5        High\n6        High\n7    Moderate\n8        High\n9        High\nName: Combined MPG, dtype: category\nCategories (5, object): [Very Low < Low < Moderate < High < Very High]"
     },
     "execution_count": 10,
     "metadata": {},
     "output_type": "execute_result"
    }
   ],
   "source": [
    "bins = pd.qcut(data['Combined MPG'],5, labels=mpg_labels)\n",
    "bins.head(10)\n",
    "\n"
   ],
   "metadata": {
    "collapsed": false,
    "pycharm": {
     "name": "#%%\n"
    }
   }
  },
  {
   "cell_type": "code",
   "execution_count": 11,
   "outputs": [
    {
     "data": {
      "text/plain": "Moderate     9533\nVery Low     9137\nLow          5979\nVery High    5716\nHigh         5587\nName: Combined MPG, dtype: int64"
     },
     "execution_count": 11,
     "metadata": {},
     "output_type": "execute_result"
    }
   ],
   "source": [
    "bins.value_counts()\n",
    "\n"
   ],
   "metadata": {
    "collapsed": false,
    "pycharm": {
     "name": "#%%\n"
    }
   }
  },
  {
   "cell_type": "code",
   "execution_count": 12,
   "outputs": [
    {
     "data": {
      "text/plain": "0         Low\n1    Very Low\n2         Low\n3    Very Low\n4         Low\nName: Combined MPG, dtype: category\nCategories (5, object): [Very Low < Low < Moderate < High < Very High]"
     },
     "execution_count": 12,
     "metadata": {},
     "output_type": "execute_result"
    }
   ],
   "source": [
    "cutoffs = [7,14,21,23,30,40]\n",
    "bins = pd.cut(data['Combined MPG'],cutoffs, labels=mpg_labels)\n",
    "bins.head()"
   ],
   "metadata": {
    "collapsed": false,
    "pycharm": {
     "name": "#%%\n"
    }
   }
  },
  {
   "cell_type": "code",
   "execution_count": 13,
   "outputs": [
    {
     "data": {
      "text/plain": "Low          20068\nHigh          6046\nVery Low      4576\nModerate      4041\nVery High     1069\nName: Combined MPG, dtype: int64"
     },
     "execution_count": 13,
     "metadata": {},
     "output_type": "execute_result"
    }
   ],
   "source": [
    "bins.value_counts()\n",
    "\n"
   ],
   "metadata": {
    "collapsed": false,
    "pycharm": {
     "name": "#%%\n"
    }
   }
  },
  {
   "cell_type": "code",
   "execution_count": 31,
   "outputs": [
    {
     "data": {
      "text/plain": "High         10292\nVery Low      9137\nVery High     7262\nLow           5979\nModerate      3282\nName: Combined MPG, dtype: int64"
     },
     "execution_count": 31,
     "metadata": {},
     "output_type": "execute_result"
    }
   ],
   "source": [
    "cutoffs = [0, .25, .33,.5, .75, 1.]\n",
    "bins, limits = pd.qcut(data['Combined MPG'], q=cutoffs, labels=mpg_labels, retbins=True)\n",
    "resultados = pd.DataFrame(zip(limits, mpg_labels), columns=['Limites', 'Etiqueta'])\n",
    "bins.value_counts()"
   ],
   "metadata": {
    "collapsed": false,
    "pycharm": {
     "name": "#%%\n"
    }
   }
  },
  {
   "cell_type": "code",
   "execution_count": 14,
   "outputs": [
    {
     "data": {
      "text/plain": "   2-Wheel Drive  2-Wheel Drive, Front  4-Wheel Drive  \\\n0              1                     0              0   \n1              1                     0              0   \n2              0                     0              0   \n3              0                     0              0   \n4              0                     0              0   \n\n   4-Wheel or All-Wheel Drive  All-Wheel Drive  Front-Wheel Drive  \\\n0                           0                0                  0   \n1                           0                0                  0   \n2                           0                0                  0   \n3                           0                0                  0   \n4                           0                0                  0   \n\n   Part-time 4-Wheel Drive  Rear-Wheel Drive  \n0                        0                 0  \n1                        0                 0  \n2                        0                 1  \n3                        0                 1  \n4                        0                 1  ",
      "text/html": "<div>\n<style scoped>\n    .dataframe tbody tr th:only-of-type {\n        vertical-align: middle;\n    }\n\n    .dataframe tbody tr th {\n        vertical-align: top;\n    }\n\n    .dataframe thead th {\n        text-align: right;\n    }\n</style>\n<table border=\"1\" class=\"dataframe\">\n  <thead>\n    <tr style=\"text-align: right;\">\n      <th></th>\n      <th>2-Wheel Drive</th>\n      <th>2-Wheel Drive, Front</th>\n      <th>4-Wheel Drive</th>\n      <th>4-Wheel or All-Wheel Drive</th>\n      <th>All-Wheel Drive</th>\n      <th>Front-Wheel Drive</th>\n      <th>Part-time 4-Wheel Drive</th>\n      <th>Rear-Wheel Drive</th>\n    </tr>\n  </thead>\n  <tbody>\n    <tr>\n      <th>0</th>\n      <td>1</td>\n      <td>0</td>\n      <td>0</td>\n      <td>0</td>\n      <td>0</td>\n      <td>0</td>\n      <td>0</td>\n      <td>0</td>\n    </tr>\n    <tr>\n      <th>1</th>\n      <td>1</td>\n      <td>0</td>\n      <td>0</td>\n      <td>0</td>\n      <td>0</td>\n      <td>0</td>\n      <td>0</td>\n      <td>0</td>\n    </tr>\n    <tr>\n      <th>2</th>\n      <td>0</td>\n      <td>0</td>\n      <td>0</td>\n      <td>0</td>\n      <td>0</td>\n      <td>0</td>\n      <td>0</td>\n      <td>1</td>\n    </tr>\n    <tr>\n      <th>3</th>\n      <td>0</td>\n      <td>0</td>\n      <td>0</td>\n      <td>0</td>\n      <td>0</td>\n      <td>0</td>\n      <td>0</td>\n      <td>1</td>\n    </tr>\n    <tr>\n      <th>4</th>\n      <td>0</td>\n      <td>0</td>\n      <td>0</td>\n      <td>0</td>\n      <td>0</td>\n      <td>0</td>\n      <td>0</td>\n      <td>1</td>\n    </tr>\n  </tbody>\n</table>\n</div>"
     },
     "execution_count": 14,
     "metadata": {},
     "output_type": "execute_result"
    }
   ],
   "source": [
    "#One hot encoding\n",
    "drivetrain = pd.get_dummies(data['Drivetrain'])\n",
    "drivetrain.head()"
   ],
   "metadata": {
    "collapsed": false,
    "pycharm": {
     "name": "#%%\n"
    }
   }
  },
  {
   "cell_type": "code",
   "execution_count": 27,
   "outputs": [],
   "source": [
    "avg_mpg = data.groupby('Make', as_index=False).agg({'Combined MPG':'mean'})\n",
    "avg_mpg.columns = ['Manufacturer', 'Avg_MPG']\n"
   ],
   "metadata": {
    "collapsed": false,
    "pycharm": {
     "name": "#%%\n"
    }
   }
  },
  {
   "cell_type": "code",
   "execution_count": 28,
   "outputs": [
    {
     "data": {
      "text/plain": "   Year              Make                Model                Vehicle Class  \\\n0  1984        AM General    DJ Po Vehicle 2WD  Special Purpose Vehicle 2WD   \n1  1984        AM General     FJ8c Post Office  Special Purpose Vehicle 2WD   \n2  1985        AM General  Post Office DJ5 2WD  Special Purpose Vehicle 2WD   \n3  1985        AM General  Post Office DJ8 2WD  Special Purpose Vehicle 2WD   \n4  1987  ASC Incorporated                  GNX                 Midsize Cars   \n5  1997             Acura          2.2CL/3.0CL              Subcompact Cars   \n6  1997             Acura          2.2CL/3.0CL              Subcompact Cars   \n7  1997             Acura          2.2CL/3.0CL              Subcompact Cars   \n8  1998             Acura          2.3CL/3.0CL              Subcompact Cars   \n9  1998             Acura          2.3CL/3.0CL              Subcompact Cars   \n\n      Transmission         Drivetrain Fuel Type  Cylinders  \\\n0  Automatic 3-spd      2-Wheel Drive   Regular        4.0   \n1  Automatic 3-spd      2-Wheel Drive   Regular        6.0   \n2  Automatic 3-spd   Rear-Wheel Drive   Regular        4.0   \n3  Automatic 3-spd   Rear-Wheel Drive   Regular        6.0   \n4  Automatic 4-spd   Rear-Wheel Drive   Premium        6.0   \n5  Automatic 4-spd  Front-Wheel Drive   Regular        4.0   \n6     Manual 5-spd  Front-Wheel Drive   Regular        4.0   \n7  Automatic 4-spd  Front-Wheel Drive   Regular        6.0   \n8  Automatic 4-spd  Front-Wheel Drive   Regular        4.0   \n9     Manual 5-spd  Front-Wheel Drive   Regular        4.0   \n\n   Engine Displacement  Fuel Barrels/Year  City MPG  Highway MPG  \\\n0                  2.5          19.388824        18           17   \n1                  4.2          25.354615        13           13   \n2                  2.5          20.600625        16           17   \n3                  4.2          25.354615        13           13   \n4                  3.8          20.600625        14           21   \n5                  2.2          14.982273        20           26   \n6                  2.2          13.733750        22           28   \n7                  3.0          16.480500        18           26   \n8                  2.3          14.982273        19           27   \n9                  2.3          13.733750        21           29   \n\n   Combined MPG  CO2 Emission Grams/Mile  Fuel Cost/Year      Manufacturer  \\\n0            17               522.764706            1950        AM General   \n1            13               683.615385            2550        AM General   \n2            16               555.437500            2100        AM General   \n3            13               683.615385            2550        AM General   \n4            16               555.437500            2550  ASC Incorporated   \n5            22               403.954545            1500             Acura   \n6            24               370.291667            1400             Acura   \n7            20               444.350000            1650             Acura   \n8            22               403.954545            1500             Acura   \n9            24               370.291667            1400             Acura   \n\n     Avg_MPG  \n0  14.750000  \n1  14.750000  \n2  14.750000  \n3  14.750000  \n4  16.000000  \n5  21.506623  \n6  21.506623  \n7  21.506623  \n8  21.506623  \n9  21.506623  ",
      "text/html": "<div>\n<style scoped>\n    .dataframe tbody tr th:only-of-type {\n        vertical-align: middle;\n    }\n\n    .dataframe tbody tr th {\n        vertical-align: top;\n    }\n\n    .dataframe thead th {\n        text-align: right;\n    }\n</style>\n<table border=\"1\" class=\"dataframe\">\n  <thead>\n    <tr style=\"text-align: right;\">\n      <th></th>\n      <th>Year</th>\n      <th>Make</th>\n      <th>Model</th>\n      <th>Vehicle Class</th>\n      <th>Transmission</th>\n      <th>Drivetrain</th>\n      <th>Fuel Type</th>\n      <th>Cylinders</th>\n      <th>Engine Displacement</th>\n      <th>Fuel Barrels/Year</th>\n      <th>City MPG</th>\n      <th>Highway MPG</th>\n      <th>Combined MPG</th>\n      <th>CO2 Emission Grams/Mile</th>\n      <th>Fuel Cost/Year</th>\n      <th>Manufacturer</th>\n      <th>Avg_MPG</th>\n    </tr>\n  </thead>\n  <tbody>\n    <tr>\n      <th>0</th>\n      <td>1984</td>\n      <td>AM General</td>\n      <td>DJ Po Vehicle 2WD</td>\n      <td>Special Purpose Vehicle 2WD</td>\n      <td>Automatic 3-spd</td>\n      <td>2-Wheel Drive</td>\n      <td>Regular</td>\n      <td>4.0</td>\n      <td>2.5</td>\n      <td>19.388824</td>\n      <td>18</td>\n      <td>17</td>\n      <td>17</td>\n      <td>522.764706</td>\n      <td>1950</td>\n      <td>AM General</td>\n      <td>14.750000</td>\n    </tr>\n    <tr>\n      <th>1</th>\n      <td>1984</td>\n      <td>AM General</td>\n      <td>FJ8c Post Office</td>\n      <td>Special Purpose Vehicle 2WD</td>\n      <td>Automatic 3-spd</td>\n      <td>2-Wheel Drive</td>\n      <td>Regular</td>\n      <td>6.0</td>\n      <td>4.2</td>\n      <td>25.354615</td>\n      <td>13</td>\n      <td>13</td>\n      <td>13</td>\n      <td>683.615385</td>\n      <td>2550</td>\n      <td>AM General</td>\n      <td>14.750000</td>\n    </tr>\n    <tr>\n      <th>2</th>\n      <td>1985</td>\n      <td>AM General</td>\n      <td>Post Office DJ5 2WD</td>\n      <td>Special Purpose Vehicle 2WD</td>\n      <td>Automatic 3-spd</td>\n      <td>Rear-Wheel Drive</td>\n      <td>Regular</td>\n      <td>4.0</td>\n      <td>2.5</td>\n      <td>20.600625</td>\n      <td>16</td>\n      <td>17</td>\n      <td>16</td>\n      <td>555.437500</td>\n      <td>2100</td>\n      <td>AM General</td>\n      <td>14.750000</td>\n    </tr>\n    <tr>\n      <th>3</th>\n      <td>1985</td>\n      <td>AM General</td>\n      <td>Post Office DJ8 2WD</td>\n      <td>Special Purpose Vehicle 2WD</td>\n      <td>Automatic 3-spd</td>\n      <td>Rear-Wheel Drive</td>\n      <td>Regular</td>\n      <td>6.0</td>\n      <td>4.2</td>\n      <td>25.354615</td>\n      <td>13</td>\n      <td>13</td>\n      <td>13</td>\n      <td>683.615385</td>\n      <td>2550</td>\n      <td>AM General</td>\n      <td>14.750000</td>\n    </tr>\n    <tr>\n      <th>4</th>\n      <td>1987</td>\n      <td>ASC Incorporated</td>\n      <td>GNX</td>\n      <td>Midsize Cars</td>\n      <td>Automatic 4-spd</td>\n      <td>Rear-Wheel Drive</td>\n      <td>Premium</td>\n      <td>6.0</td>\n      <td>3.8</td>\n      <td>20.600625</td>\n      <td>14</td>\n      <td>21</td>\n      <td>16</td>\n      <td>555.437500</td>\n      <td>2550</td>\n      <td>ASC Incorporated</td>\n      <td>16.000000</td>\n    </tr>\n    <tr>\n      <th>5</th>\n      <td>1997</td>\n      <td>Acura</td>\n      <td>2.2CL/3.0CL</td>\n      <td>Subcompact Cars</td>\n      <td>Automatic 4-spd</td>\n      <td>Front-Wheel Drive</td>\n      <td>Regular</td>\n      <td>4.0</td>\n      <td>2.2</td>\n      <td>14.982273</td>\n      <td>20</td>\n      <td>26</td>\n      <td>22</td>\n      <td>403.954545</td>\n      <td>1500</td>\n      <td>Acura</td>\n      <td>21.506623</td>\n    </tr>\n    <tr>\n      <th>6</th>\n      <td>1997</td>\n      <td>Acura</td>\n      <td>2.2CL/3.0CL</td>\n      <td>Subcompact Cars</td>\n      <td>Manual 5-spd</td>\n      <td>Front-Wheel Drive</td>\n      <td>Regular</td>\n      <td>4.0</td>\n      <td>2.2</td>\n      <td>13.733750</td>\n      <td>22</td>\n      <td>28</td>\n      <td>24</td>\n      <td>370.291667</td>\n      <td>1400</td>\n      <td>Acura</td>\n      <td>21.506623</td>\n    </tr>\n    <tr>\n      <th>7</th>\n      <td>1997</td>\n      <td>Acura</td>\n      <td>2.2CL/3.0CL</td>\n      <td>Subcompact Cars</td>\n      <td>Automatic 4-spd</td>\n      <td>Front-Wheel Drive</td>\n      <td>Regular</td>\n      <td>6.0</td>\n      <td>3.0</td>\n      <td>16.480500</td>\n      <td>18</td>\n      <td>26</td>\n      <td>20</td>\n      <td>444.350000</td>\n      <td>1650</td>\n      <td>Acura</td>\n      <td>21.506623</td>\n    </tr>\n    <tr>\n      <th>8</th>\n      <td>1998</td>\n      <td>Acura</td>\n      <td>2.3CL/3.0CL</td>\n      <td>Subcompact Cars</td>\n      <td>Automatic 4-spd</td>\n      <td>Front-Wheel Drive</td>\n      <td>Regular</td>\n      <td>4.0</td>\n      <td>2.3</td>\n      <td>14.982273</td>\n      <td>19</td>\n      <td>27</td>\n      <td>22</td>\n      <td>403.954545</td>\n      <td>1500</td>\n      <td>Acura</td>\n      <td>21.506623</td>\n    </tr>\n    <tr>\n      <th>9</th>\n      <td>1998</td>\n      <td>Acura</td>\n      <td>2.3CL/3.0CL</td>\n      <td>Subcompact Cars</td>\n      <td>Manual 5-spd</td>\n      <td>Front-Wheel Drive</td>\n      <td>Regular</td>\n      <td>4.0</td>\n      <td>2.3</td>\n      <td>13.733750</td>\n      <td>21</td>\n      <td>29</td>\n      <td>24</td>\n      <td>370.291667</td>\n      <td>1400</td>\n      <td>Acura</td>\n      <td>21.506623</td>\n    </tr>\n  </tbody>\n</table>\n</div>"
     },
     "execution_count": 28,
     "metadata": {},
     "output_type": "execute_result"
    }
   ],
   "source": [
    "data = pd.merge(left=data, right=avg_mpg, left_on='Make', right_on='Manufacturer')\n",
    "data.head(10)"
   ],
   "metadata": {
    "collapsed": false,
    "pycharm": {
     "name": "#%%\n"
    }
   }
  },
  {
   "cell_type": "code",
   "execution_count": 30,
   "outputs": [],
   "source": [
    "lexus = data[data['Make']=='Lexus']\n",
    "ford = data[data['Make']=='Ford']"
   ],
   "metadata": {
    "collapsed": false,
    "pycharm": {
     "name": "#%%\n"
    }
   }
  },
  {
   "cell_type": "code",
   "execution_count": 31,
   "outputs": [],
   "source": [
    "lexus_ford = pd.concat([lexus, ford], axis=0)\n",
    "\n"
   ],
   "metadata": {
    "collapsed": false,
    "pycharm": {
     "name": "#%%\n"
    }
   }
  },
  {
   "cell_type": "code",
   "execution_count": 32,
   "outputs": [],
   "source": [
    "melted = pd.melt(data, id_vars=['Year','Make','Model'],\n",
    "                 value_vars=['City MPG','Highway MPG','Combined MPG'])\n",
    "\n"
   ],
   "metadata": {
    "collapsed": false,
    "pycharm": {
     "name": "#%%\n"
    }
   }
  },
  {
   "cell_type": "code",
   "execution_count": 35,
   "outputs": [
    {
     "data": {
      "text/plain": "<pandas.core.groupby.generic.DataFrameGroupBy object at 0x7fa751ec6160>"
     },
     "execution_count": 35,
     "metadata": {},
     "output_type": "execute_result"
    }
   ],
   "source": [
    "import numpy as np\n",
    "\n",
    "vehicles = pd.read_csv('data/vehicles/vehicles.csv')\n",
    "vehicles.groupby(['Transmission'])"
   ],
   "metadata": {
    "collapsed": false,
    "pycharm": {
     "name": "#%%\n"
    }
   }
  },
  {
   "cell_type": "code",
   "execution_count": 36,
   "outputs": [
    {
     "name": "stderr",
     "output_type": "stream",
     "text": [
      "<ipython-input-36-70c946001bf1>:1: FutureWarning: Indexing with multiple keys (implicitly converted to a tuple of keys) will be deprecated, use a list instead.\n",
      "  vehicles.groupby(['Transmission'])['Highway MPG', 'City MPG', 'Combined MPG'].mean()\n"
     ]
    },
    {
     "data": {
      "text/plain": "                                  Highway MPG   City MPG  Combined MPG\nTransmission                                                          \nAuto (AV)                           40.000000  35.000000     37.000000\nAuto (AV-S6)                        25.000000  22.000000     23.000000\nAuto (AV-S8)                        22.000000  20.000000     21.000000\nAuto(A1)                            37.000000  41.000000     39.000000\nAuto(AM-S6)                         32.978261  24.315217     27.554348\nAuto(AM-S7)                         25.300781  17.746094     20.425781\nAuto(AM-S8)                         32.000000  23.666667     26.666667\nAuto(AM-S9)                         22.000000  21.000000     21.000000\nAuto(AM5)                           39.000000  33.666667     36.000000\nAuto(AM6)                           31.345455  23.909091     26.736364\nAuto(AM7)                           22.382166  16.248408     18.420382\nAuto(AM8)                           28.600000  22.400000     24.600000\nAuto(AV-S6)                         30.800000  25.944828     27.848276\nAuto(AV-S7)                         33.746032  27.952381     30.206349\nAuto(AV-S8)                         28.538462  22.846154     24.961538\nAuto(L3)                            17.000000  14.000000     15.500000\nAuto(L4)                            19.000000  13.500000     15.500000\nAutomatic (A1)                      31.666667  34.000000     32.666667\nAutomatic (A6)                      21.000000  14.000000     16.500000\nAutomatic (AM5)                     41.000000  33.000000     36.000000\nAutomatic (AM6)                     18.000000  13.000000     15.000000\nAutomatic (AV)                      30.000000  21.750000     24.750000\nAutomatic (AV-S6)                   27.777778  23.666667     25.222222\nAutomatic (S4)                      24.768559  18.074236     20.528384\nAutomatic (S5)                      24.205596  17.087591     19.698297\nAutomatic (S6)                      25.938807  18.337514     21.096921\nAutomatic (S7)                      23.605364  16.804598     19.195402\nAutomatic (S8)                      26.983333  18.450000     21.500000\nAutomatic (S9)                      28.307692  19.923077     23.038462\nAutomatic (variable gear ratios)    31.094815  27.460741     28.777778\nAutomatic 3-spd                     21.630343  17.449750     19.033500\nAutomatic 4-spd                     21.691639  15.944261     18.042607\nAutomatic 5-spd                     21.647167  15.445417     17.693229\nAutomatic 6-spd                     23.768156  16.720670     19.237430\nAutomatic 6spd                      34.000000  21.000000     26.000000\nAutomatic 7-spd                     24.413897  17.117825     19.746224\nAutomatic 8-spd                     24.448560  16.576132     19.279835\nAutomatic 9-spd                     28.366667  20.077778     23.200000\nManual 3-spd                        16.945946  14.229730     15.256757\nManual 4-spd                        21.042113  16.871363     18.462481\nManual 5 spd                        14.000000  14.000000     14.000000\nManual 5-spd                        25.664312  19.242327     21.634391\nManual 6-spd                        26.202229  18.306232     21.153941\nManual 7-spd                        26.205882  18.220588     21.117647\nManual(M7)                          22.333333  14.000000     17.000000",
      "text/html": "<div>\n<style scoped>\n    .dataframe tbody tr th:only-of-type {\n        vertical-align: middle;\n    }\n\n    .dataframe tbody tr th {\n        vertical-align: top;\n    }\n\n    .dataframe thead th {\n        text-align: right;\n    }\n</style>\n<table border=\"1\" class=\"dataframe\">\n  <thead>\n    <tr style=\"text-align: right;\">\n      <th></th>\n      <th>Highway MPG</th>\n      <th>City MPG</th>\n      <th>Combined MPG</th>\n    </tr>\n    <tr>\n      <th>Transmission</th>\n      <th></th>\n      <th></th>\n      <th></th>\n    </tr>\n  </thead>\n  <tbody>\n    <tr>\n      <th>Auto (AV)</th>\n      <td>40.000000</td>\n      <td>35.000000</td>\n      <td>37.000000</td>\n    </tr>\n    <tr>\n      <th>Auto (AV-S6)</th>\n      <td>25.000000</td>\n      <td>22.000000</td>\n      <td>23.000000</td>\n    </tr>\n    <tr>\n      <th>Auto (AV-S8)</th>\n      <td>22.000000</td>\n      <td>20.000000</td>\n      <td>21.000000</td>\n    </tr>\n    <tr>\n      <th>Auto(A1)</th>\n      <td>37.000000</td>\n      <td>41.000000</td>\n      <td>39.000000</td>\n    </tr>\n    <tr>\n      <th>Auto(AM-S6)</th>\n      <td>32.978261</td>\n      <td>24.315217</td>\n      <td>27.554348</td>\n    </tr>\n    <tr>\n      <th>Auto(AM-S7)</th>\n      <td>25.300781</td>\n      <td>17.746094</td>\n      <td>20.425781</td>\n    </tr>\n    <tr>\n      <th>Auto(AM-S8)</th>\n      <td>32.000000</td>\n      <td>23.666667</td>\n      <td>26.666667</td>\n    </tr>\n    <tr>\n      <th>Auto(AM-S9)</th>\n      <td>22.000000</td>\n      <td>21.000000</td>\n      <td>21.000000</td>\n    </tr>\n    <tr>\n      <th>Auto(AM5)</th>\n      <td>39.000000</td>\n      <td>33.666667</td>\n      <td>36.000000</td>\n    </tr>\n    <tr>\n      <th>Auto(AM6)</th>\n      <td>31.345455</td>\n      <td>23.909091</td>\n      <td>26.736364</td>\n    </tr>\n    <tr>\n      <th>Auto(AM7)</th>\n      <td>22.382166</td>\n      <td>16.248408</td>\n      <td>18.420382</td>\n    </tr>\n    <tr>\n      <th>Auto(AM8)</th>\n      <td>28.600000</td>\n      <td>22.400000</td>\n      <td>24.600000</td>\n    </tr>\n    <tr>\n      <th>Auto(AV-S6)</th>\n      <td>30.800000</td>\n      <td>25.944828</td>\n      <td>27.848276</td>\n    </tr>\n    <tr>\n      <th>Auto(AV-S7)</th>\n      <td>33.746032</td>\n      <td>27.952381</td>\n      <td>30.206349</td>\n    </tr>\n    <tr>\n      <th>Auto(AV-S8)</th>\n      <td>28.538462</td>\n      <td>22.846154</td>\n      <td>24.961538</td>\n    </tr>\n    <tr>\n      <th>Auto(L3)</th>\n      <td>17.000000</td>\n      <td>14.000000</td>\n      <td>15.500000</td>\n    </tr>\n    <tr>\n      <th>Auto(L4)</th>\n      <td>19.000000</td>\n      <td>13.500000</td>\n      <td>15.500000</td>\n    </tr>\n    <tr>\n      <th>Automatic (A1)</th>\n      <td>31.666667</td>\n      <td>34.000000</td>\n      <td>32.666667</td>\n    </tr>\n    <tr>\n      <th>Automatic (A6)</th>\n      <td>21.000000</td>\n      <td>14.000000</td>\n      <td>16.500000</td>\n    </tr>\n    <tr>\n      <th>Automatic (AM5)</th>\n      <td>41.000000</td>\n      <td>33.000000</td>\n      <td>36.000000</td>\n    </tr>\n    <tr>\n      <th>Automatic (AM6)</th>\n      <td>18.000000</td>\n      <td>13.000000</td>\n      <td>15.000000</td>\n    </tr>\n    <tr>\n      <th>Automatic (AV)</th>\n      <td>30.000000</td>\n      <td>21.750000</td>\n      <td>24.750000</td>\n    </tr>\n    <tr>\n      <th>Automatic (AV-S6)</th>\n      <td>27.777778</td>\n      <td>23.666667</td>\n      <td>25.222222</td>\n    </tr>\n    <tr>\n      <th>Automatic (S4)</th>\n      <td>24.768559</td>\n      <td>18.074236</td>\n      <td>20.528384</td>\n    </tr>\n    <tr>\n      <th>Automatic (S5)</th>\n      <td>24.205596</td>\n      <td>17.087591</td>\n      <td>19.698297</td>\n    </tr>\n    <tr>\n      <th>Automatic (S6)</th>\n      <td>25.938807</td>\n      <td>18.337514</td>\n      <td>21.096921</td>\n    </tr>\n    <tr>\n      <th>Automatic (S7)</th>\n      <td>23.605364</td>\n      <td>16.804598</td>\n      <td>19.195402</td>\n    </tr>\n    <tr>\n      <th>Automatic (S8)</th>\n      <td>26.983333</td>\n      <td>18.450000</td>\n      <td>21.500000</td>\n    </tr>\n    <tr>\n      <th>Automatic (S9)</th>\n      <td>28.307692</td>\n      <td>19.923077</td>\n      <td>23.038462</td>\n    </tr>\n    <tr>\n      <th>Automatic (variable gear ratios)</th>\n      <td>31.094815</td>\n      <td>27.460741</td>\n      <td>28.777778</td>\n    </tr>\n    <tr>\n      <th>Automatic 3-spd</th>\n      <td>21.630343</td>\n      <td>17.449750</td>\n      <td>19.033500</td>\n    </tr>\n    <tr>\n      <th>Automatic 4-spd</th>\n      <td>21.691639</td>\n      <td>15.944261</td>\n      <td>18.042607</td>\n    </tr>\n    <tr>\n      <th>Automatic 5-spd</th>\n      <td>21.647167</td>\n      <td>15.445417</td>\n      <td>17.693229</td>\n    </tr>\n    <tr>\n      <th>Automatic 6-spd</th>\n      <td>23.768156</td>\n      <td>16.720670</td>\n      <td>19.237430</td>\n    </tr>\n    <tr>\n      <th>Automatic 6spd</th>\n      <td>34.000000</td>\n      <td>21.000000</td>\n      <td>26.000000</td>\n    </tr>\n    <tr>\n      <th>Automatic 7-spd</th>\n      <td>24.413897</td>\n      <td>17.117825</td>\n      <td>19.746224</td>\n    </tr>\n    <tr>\n      <th>Automatic 8-spd</th>\n      <td>24.448560</td>\n      <td>16.576132</td>\n      <td>19.279835</td>\n    </tr>\n    <tr>\n      <th>Automatic 9-spd</th>\n      <td>28.366667</td>\n      <td>20.077778</td>\n      <td>23.200000</td>\n    </tr>\n    <tr>\n      <th>Manual 3-spd</th>\n      <td>16.945946</td>\n      <td>14.229730</td>\n      <td>15.256757</td>\n    </tr>\n    <tr>\n      <th>Manual 4-spd</th>\n      <td>21.042113</td>\n      <td>16.871363</td>\n      <td>18.462481</td>\n    </tr>\n    <tr>\n      <th>Manual 5 spd</th>\n      <td>14.000000</td>\n      <td>14.000000</td>\n      <td>14.000000</td>\n    </tr>\n    <tr>\n      <th>Manual 5-spd</th>\n      <td>25.664312</td>\n      <td>19.242327</td>\n      <td>21.634391</td>\n    </tr>\n    <tr>\n      <th>Manual 6-spd</th>\n      <td>26.202229</td>\n      <td>18.306232</td>\n      <td>21.153941</td>\n    </tr>\n    <tr>\n      <th>Manual 7-spd</th>\n      <td>26.205882</td>\n      <td>18.220588</td>\n      <td>21.117647</td>\n    </tr>\n    <tr>\n      <th>Manual(M7)</th>\n      <td>22.333333</td>\n      <td>14.000000</td>\n      <td>17.000000</td>\n    </tr>\n  </tbody>\n</table>\n</div>"
     },
     "execution_count": 36,
     "metadata": {},
     "output_type": "execute_result"
    }
   ],
   "source": [
    "vehicles.groupby(['Transmission'])['Highway MPG', 'City MPG', 'Combined MPG'].mean()\n",
    "\n"
   ],
   "metadata": {
    "collapsed": false,
    "pycharm": {
     "name": "#%%\n"
    }
   }
  },
  {
   "cell_type": "code",
   "execution_count": 37,
   "outputs": [
    {
     "name": "stderr",
     "output_type": "stream",
     "text": [
      "<ipython-input-37-2c5cf835e522>:1: FutureWarning: Indexing with multiple keys (implicitly converted to a tuple of keys) will be deprecated, use a list instead.\n",
      "  vehicles.groupby(['Transmission'])['Highway MPG', 'City MPG', 'Combined MPG'].sum()\n"
     ]
    },
    {
     "data": {
      "text/plain": "                                  Highway MPG  City MPG  Combined MPG\nTransmission                                                         \nAuto (AV)                                  80        70            74\nAuto (AV-S6)                               25        22            23\nAuto (AV-S8)                               22        20            21\nAuto(A1)                                   37        41            39\nAuto(AM-S6)                              3034      2237          2535\nAuto(AM-S7)                              6477      4543          5229\nAuto(AM-S8)                               192       142           160\nAuto(AM-S9)                                22        21            21\nAuto(AM5)                                 468       404           432\nAuto(AM6)                                3448      2630          2941\nAuto(AM7)                                3514      2551          2892\nAuto(AM8)                                 143       112           123\nAuto(AV-S6)                              4466      3762          4038\nAuto(AV-S7)                              2126      1761          1903\nAuto(AV-S8)                               742       594           649\nAuto(L3)                                   34        28            31\nAuto(L4)                                   38        27            31\nAutomatic (A1)                             95       102            98\nAutomatic (A6)                             84        56            66\nAutomatic (AM5)                            82        66            72\nAutomatic (AM6)                            18        13            15\nAutomatic (AV)                            120        87            99\nAutomatic (AV-S6)                         250       213           227\nAutomatic (S4)                           5672      4139          4701\nAutomatic (S5)                          19897     14046         16192\nAutomatic (S6)                          68245     48246         55506\nAutomatic (S7)                           6161      4386          5010\nAutomatic (S8)                          25904     17712         20640\nAutomatic (S9)                            736       518           599\nAutomatic (variable gear ratios)        20989     18536         19425\nAutomatic 3-spd                         56174     45317         49430\nAutomatic 4-spd                        229606    168770        190981\nAutomatic 5-spd                         46996     33532         38412\nAutomatic 6-spd                         34036     23944         27548\nAutomatic 6spd                             34        21            26\nAutomatic 7-spd                         16162     11332         13072\nAutomatic 8-spd                          5941      4028          4685\nAutomatic 9-spd                          2553      1807          2088\nManual 3-spd                             1254      1053          1129\nManual 4-spd                            27481     22034         24112\nManual 5 spd                               14        14            14\nManual 5-spd                           199848    149840        168467\nManual 6-spd                            63488     44356         51256\nManual 7-spd                             1782      1239          1436\nManual(M7)                                 67        42            51",
      "text/html": "<div>\n<style scoped>\n    .dataframe tbody tr th:only-of-type {\n        vertical-align: middle;\n    }\n\n    .dataframe tbody tr th {\n        vertical-align: top;\n    }\n\n    .dataframe thead th {\n        text-align: right;\n    }\n</style>\n<table border=\"1\" class=\"dataframe\">\n  <thead>\n    <tr style=\"text-align: right;\">\n      <th></th>\n      <th>Highway MPG</th>\n      <th>City MPG</th>\n      <th>Combined MPG</th>\n    </tr>\n    <tr>\n      <th>Transmission</th>\n      <th></th>\n      <th></th>\n      <th></th>\n    </tr>\n  </thead>\n  <tbody>\n    <tr>\n      <th>Auto (AV)</th>\n      <td>80</td>\n      <td>70</td>\n      <td>74</td>\n    </tr>\n    <tr>\n      <th>Auto (AV-S6)</th>\n      <td>25</td>\n      <td>22</td>\n      <td>23</td>\n    </tr>\n    <tr>\n      <th>Auto (AV-S8)</th>\n      <td>22</td>\n      <td>20</td>\n      <td>21</td>\n    </tr>\n    <tr>\n      <th>Auto(A1)</th>\n      <td>37</td>\n      <td>41</td>\n      <td>39</td>\n    </tr>\n    <tr>\n      <th>Auto(AM-S6)</th>\n      <td>3034</td>\n      <td>2237</td>\n      <td>2535</td>\n    </tr>\n    <tr>\n      <th>Auto(AM-S7)</th>\n      <td>6477</td>\n      <td>4543</td>\n      <td>5229</td>\n    </tr>\n    <tr>\n      <th>Auto(AM-S8)</th>\n      <td>192</td>\n      <td>142</td>\n      <td>160</td>\n    </tr>\n    <tr>\n      <th>Auto(AM-S9)</th>\n      <td>22</td>\n      <td>21</td>\n      <td>21</td>\n    </tr>\n    <tr>\n      <th>Auto(AM5)</th>\n      <td>468</td>\n      <td>404</td>\n      <td>432</td>\n    </tr>\n    <tr>\n      <th>Auto(AM6)</th>\n      <td>3448</td>\n      <td>2630</td>\n      <td>2941</td>\n    </tr>\n    <tr>\n      <th>Auto(AM7)</th>\n      <td>3514</td>\n      <td>2551</td>\n      <td>2892</td>\n    </tr>\n    <tr>\n      <th>Auto(AM8)</th>\n      <td>143</td>\n      <td>112</td>\n      <td>123</td>\n    </tr>\n    <tr>\n      <th>Auto(AV-S6)</th>\n      <td>4466</td>\n      <td>3762</td>\n      <td>4038</td>\n    </tr>\n    <tr>\n      <th>Auto(AV-S7)</th>\n      <td>2126</td>\n      <td>1761</td>\n      <td>1903</td>\n    </tr>\n    <tr>\n      <th>Auto(AV-S8)</th>\n      <td>742</td>\n      <td>594</td>\n      <td>649</td>\n    </tr>\n    <tr>\n      <th>Auto(L3)</th>\n      <td>34</td>\n      <td>28</td>\n      <td>31</td>\n    </tr>\n    <tr>\n      <th>Auto(L4)</th>\n      <td>38</td>\n      <td>27</td>\n      <td>31</td>\n    </tr>\n    <tr>\n      <th>Automatic (A1)</th>\n      <td>95</td>\n      <td>102</td>\n      <td>98</td>\n    </tr>\n    <tr>\n      <th>Automatic (A6)</th>\n      <td>84</td>\n      <td>56</td>\n      <td>66</td>\n    </tr>\n    <tr>\n      <th>Automatic (AM5)</th>\n      <td>82</td>\n      <td>66</td>\n      <td>72</td>\n    </tr>\n    <tr>\n      <th>Automatic (AM6)</th>\n      <td>18</td>\n      <td>13</td>\n      <td>15</td>\n    </tr>\n    <tr>\n      <th>Automatic (AV)</th>\n      <td>120</td>\n      <td>87</td>\n      <td>99</td>\n    </tr>\n    <tr>\n      <th>Automatic (AV-S6)</th>\n      <td>250</td>\n      <td>213</td>\n      <td>227</td>\n    </tr>\n    <tr>\n      <th>Automatic (S4)</th>\n      <td>5672</td>\n      <td>4139</td>\n      <td>4701</td>\n    </tr>\n    <tr>\n      <th>Automatic (S5)</th>\n      <td>19897</td>\n      <td>14046</td>\n      <td>16192</td>\n    </tr>\n    <tr>\n      <th>Automatic (S6)</th>\n      <td>68245</td>\n      <td>48246</td>\n      <td>55506</td>\n    </tr>\n    <tr>\n      <th>Automatic (S7)</th>\n      <td>6161</td>\n      <td>4386</td>\n      <td>5010</td>\n    </tr>\n    <tr>\n      <th>Automatic (S8)</th>\n      <td>25904</td>\n      <td>17712</td>\n      <td>20640</td>\n    </tr>\n    <tr>\n      <th>Automatic (S9)</th>\n      <td>736</td>\n      <td>518</td>\n      <td>599</td>\n    </tr>\n    <tr>\n      <th>Automatic (variable gear ratios)</th>\n      <td>20989</td>\n      <td>18536</td>\n      <td>19425</td>\n    </tr>\n    <tr>\n      <th>Automatic 3-spd</th>\n      <td>56174</td>\n      <td>45317</td>\n      <td>49430</td>\n    </tr>\n    <tr>\n      <th>Automatic 4-spd</th>\n      <td>229606</td>\n      <td>168770</td>\n      <td>190981</td>\n    </tr>\n    <tr>\n      <th>Automatic 5-spd</th>\n      <td>46996</td>\n      <td>33532</td>\n      <td>38412</td>\n    </tr>\n    <tr>\n      <th>Automatic 6-spd</th>\n      <td>34036</td>\n      <td>23944</td>\n      <td>27548</td>\n    </tr>\n    <tr>\n      <th>Automatic 6spd</th>\n      <td>34</td>\n      <td>21</td>\n      <td>26</td>\n    </tr>\n    <tr>\n      <th>Automatic 7-spd</th>\n      <td>16162</td>\n      <td>11332</td>\n      <td>13072</td>\n    </tr>\n    <tr>\n      <th>Automatic 8-spd</th>\n      <td>5941</td>\n      <td>4028</td>\n      <td>4685</td>\n    </tr>\n    <tr>\n      <th>Automatic 9-spd</th>\n      <td>2553</td>\n      <td>1807</td>\n      <td>2088</td>\n    </tr>\n    <tr>\n      <th>Manual 3-spd</th>\n      <td>1254</td>\n      <td>1053</td>\n      <td>1129</td>\n    </tr>\n    <tr>\n      <th>Manual 4-spd</th>\n      <td>27481</td>\n      <td>22034</td>\n      <td>24112</td>\n    </tr>\n    <tr>\n      <th>Manual 5 spd</th>\n      <td>14</td>\n      <td>14</td>\n      <td>14</td>\n    </tr>\n    <tr>\n      <th>Manual 5-spd</th>\n      <td>199848</td>\n      <td>149840</td>\n      <td>168467</td>\n    </tr>\n    <tr>\n      <th>Manual 6-spd</th>\n      <td>63488</td>\n      <td>44356</td>\n      <td>51256</td>\n    </tr>\n    <tr>\n      <th>Manual 7-spd</th>\n      <td>1782</td>\n      <td>1239</td>\n      <td>1436</td>\n    </tr>\n    <tr>\n      <th>Manual(M7)</th>\n      <td>67</td>\n      <td>42</td>\n      <td>51</td>\n    </tr>\n  </tbody>\n</table>\n</div>"
     },
     "execution_count": 37,
     "metadata": {},
     "output_type": "execute_result"
    }
   ],
   "source": [
    "vehicles.groupby(['Transmission'])['Highway MPG', 'City MPG', 'Combined MPG'].sum()"
   ],
   "metadata": {
    "collapsed": false,
    "pycharm": {
     "name": "#%%\n"
    }
   }
  },
  {
   "cell_type": "code",
   "execution_count": 38,
   "outputs": [
    {
     "name": "stderr",
     "output_type": "stream",
     "text": [
      "<ipython-input-38-8ff8a086a0c8>:1: FutureWarning: Indexing with multiple keys (implicitly converted to a tuple of keys) will be deprecated, use a list instead.\n",
      "  vehicles.groupby(['Transmission'])['Highway MPG', 'City MPG', 'Combined MPG'].median()\n"
     ]
    },
    {
     "data": {
      "text/plain": "                                  Highway MPG  City MPG  Combined MPG\nTransmission                                                         \nAuto (AV)                                40.0      35.0          37.0\nAuto (AV-S6)                             25.0      22.0          23.0\nAuto (AV-S8)                             22.0      20.0          21.0\nAuto(A1)                                 37.0      41.0          39.0\nAuto(AM-S6)                              31.0      23.0          26.0\nAuto(AM-S7)                              25.0      17.0          21.0\nAuto(AM-S8)                              32.0      23.5          26.5\nAuto(AM-S9)                              22.0      21.0          21.0\nAuto(AM5)                                38.0      34.0          36.0\nAuto(AM6)                                36.5      27.0          31.0\nAuto(AM7)                                19.0      14.0          16.0\nAuto(AM8)                                24.0      21.0          22.0\nAuto(AV-S6)                              30.0      25.0          27.0\nAuto(AV-S7)                              34.0      26.0          29.0\nAuto(AV-S8)                              29.0      24.0          26.0\nAuto(L3)                                 17.0      14.0          15.5\nAuto(L4)                                 19.0      13.5          15.5\nAutomatic (A1)                           37.0      41.0          39.0\nAutomatic (A6)                           21.0      14.0          16.5\nAutomatic (AM5)                          41.0      33.0          36.0\nAutomatic (AM6)                          18.0      13.0          15.0\nAutomatic (AV)                           30.0      22.0          25.0\nAutomatic (AV-S6)                        28.0      22.0          25.0\nAutomatic (S4)                           25.0      18.0          21.0\nAutomatic (S5)                           24.0      17.0          19.0\nAutomatic (S6)                           26.0      18.0          21.0\nAutomatic (S7)                           24.0      17.0          20.0\nAutomatic (S8)                           27.0      18.0          21.0\nAutomatic (S9)                           27.0      20.0          23.0\nAutomatic (variable gear ratios)         29.0      24.0          26.0\nAutomatic 3-spd                          22.0      18.0          20.0\nAutomatic 4-spd                          22.0      16.0          18.0\nAutomatic 5-spd                          21.0      15.0          18.0\nAutomatic 6-spd                          23.0      16.0          19.0\nAutomatic 6spd                           34.0      21.0          26.0\nAutomatic 7-spd                          25.0      17.0          20.0\nAutomatic 8-spd                          24.0      16.0          19.0\nAutomatic 9-spd                          28.0      21.0          23.0\nManual 3-spd                             17.0      14.0          15.0\nManual 4-spd                             20.0      16.0          17.0\nManual 5 spd                             14.0      14.0          14.0\nManual 5-spd                             26.0      19.0          21.0\nManual 6-spd                             26.0      18.0          20.0\nManual 7-spd                             27.0      19.0          22.0\nManual(M7)                               22.0      15.0          18.0",
      "text/html": "<div>\n<style scoped>\n    .dataframe tbody tr th:only-of-type {\n        vertical-align: middle;\n    }\n\n    .dataframe tbody tr th {\n        vertical-align: top;\n    }\n\n    .dataframe thead th {\n        text-align: right;\n    }\n</style>\n<table border=\"1\" class=\"dataframe\">\n  <thead>\n    <tr style=\"text-align: right;\">\n      <th></th>\n      <th>Highway MPG</th>\n      <th>City MPG</th>\n      <th>Combined MPG</th>\n    </tr>\n    <tr>\n      <th>Transmission</th>\n      <th></th>\n      <th></th>\n      <th></th>\n    </tr>\n  </thead>\n  <tbody>\n    <tr>\n      <th>Auto (AV)</th>\n      <td>40.0</td>\n      <td>35.0</td>\n      <td>37.0</td>\n    </tr>\n    <tr>\n      <th>Auto (AV-S6)</th>\n      <td>25.0</td>\n      <td>22.0</td>\n      <td>23.0</td>\n    </tr>\n    <tr>\n      <th>Auto (AV-S8)</th>\n      <td>22.0</td>\n      <td>20.0</td>\n      <td>21.0</td>\n    </tr>\n    <tr>\n      <th>Auto(A1)</th>\n      <td>37.0</td>\n      <td>41.0</td>\n      <td>39.0</td>\n    </tr>\n    <tr>\n      <th>Auto(AM-S6)</th>\n      <td>31.0</td>\n      <td>23.0</td>\n      <td>26.0</td>\n    </tr>\n    <tr>\n      <th>Auto(AM-S7)</th>\n      <td>25.0</td>\n      <td>17.0</td>\n      <td>21.0</td>\n    </tr>\n    <tr>\n      <th>Auto(AM-S8)</th>\n      <td>32.0</td>\n      <td>23.5</td>\n      <td>26.5</td>\n    </tr>\n    <tr>\n      <th>Auto(AM-S9)</th>\n      <td>22.0</td>\n      <td>21.0</td>\n      <td>21.0</td>\n    </tr>\n    <tr>\n      <th>Auto(AM5)</th>\n      <td>38.0</td>\n      <td>34.0</td>\n      <td>36.0</td>\n    </tr>\n    <tr>\n      <th>Auto(AM6)</th>\n      <td>36.5</td>\n      <td>27.0</td>\n      <td>31.0</td>\n    </tr>\n    <tr>\n      <th>Auto(AM7)</th>\n      <td>19.0</td>\n      <td>14.0</td>\n      <td>16.0</td>\n    </tr>\n    <tr>\n      <th>Auto(AM8)</th>\n      <td>24.0</td>\n      <td>21.0</td>\n      <td>22.0</td>\n    </tr>\n    <tr>\n      <th>Auto(AV-S6)</th>\n      <td>30.0</td>\n      <td>25.0</td>\n      <td>27.0</td>\n    </tr>\n    <tr>\n      <th>Auto(AV-S7)</th>\n      <td>34.0</td>\n      <td>26.0</td>\n      <td>29.0</td>\n    </tr>\n    <tr>\n      <th>Auto(AV-S8)</th>\n      <td>29.0</td>\n      <td>24.0</td>\n      <td>26.0</td>\n    </tr>\n    <tr>\n      <th>Auto(L3)</th>\n      <td>17.0</td>\n      <td>14.0</td>\n      <td>15.5</td>\n    </tr>\n    <tr>\n      <th>Auto(L4)</th>\n      <td>19.0</td>\n      <td>13.5</td>\n      <td>15.5</td>\n    </tr>\n    <tr>\n      <th>Automatic (A1)</th>\n      <td>37.0</td>\n      <td>41.0</td>\n      <td>39.0</td>\n    </tr>\n    <tr>\n      <th>Automatic (A6)</th>\n      <td>21.0</td>\n      <td>14.0</td>\n      <td>16.5</td>\n    </tr>\n    <tr>\n      <th>Automatic (AM5)</th>\n      <td>41.0</td>\n      <td>33.0</td>\n      <td>36.0</td>\n    </tr>\n    <tr>\n      <th>Automatic (AM6)</th>\n      <td>18.0</td>\n      <td>13.0</td>\n      <td>15.0</td>\n    </tr>\n    <tr>\n      <th>Automatic (AV)</th>\n      <td>30.0</td>\n      <td>22.0</td>\n      <td>25.0</td>\n    </tr>\n    <tr>\n      <th>Automatic (AV-S6)</th>\n      <td>28.0</td>\n      <td>22.0</td>\n      <td>25.0</td>\n    </tr>\n    <tr>\n      <th>Automatic (S4)</th>\n      <td>25.0</td>\n      <td>18.0</td>\n      <td>21.0</td>\n    </tr>\n    <tr>\n      <th>Automatic (S5)</th>\n      <td>24.0</td>\n      <td>17.0</td>\n      <td>19.0</td>\n    </tr>\n    <tr>\n      <th>Automatic (S6)</th>\n      <td>26.0</td>\n      <td>18.0</td>\n      <td>21.0</td>\n    </tr>\n    <tr>\n      <th>Automatic (S7)</th>\n      <td>24.0</td>\n      <td>17.0</td>\n      <td>20.0</td>\n    </tr>\n    <tr>\n      <th>Automatic (S8)</th>\n      <td>27.0</td>\n      <td>18.0</td>\n      <td>21.0</td>\n    </tr>\n    <tr>\n      <th>Automatic (S9)</th>\n      <td>27.0</td>\n      <td>20.0</td>\n      <td>23.0</td>\n    </tr>\n    <tr>\n      <th>Automatic (variable gear ratios)</th>\n      <td>29.0</td>\n      <td>24.0</td>\n      <td>26.0</td>\n    </tr>\n    <tr>\n      <th>Automatic 3-spd</th>\n      <td>22.0</td>\n      <td>18.0</td>\n      <td>20.0</td>\n    </tr>\n    <tr>\n      <th>Automatic 4-spd</th>\n      <td>22.0</td>\n      <td>16.0</td>\n      <td>18.0</td>\n    </tr>\n    <tr>\n      <th>Automatic 5-spd</th>\n      <td>21.0</td>\n      <td>15.0</td>\n      <td>18.0</td>\n    </tr>\n    <tr>\n      <th>Automatic 6-spd</th>\n      <td>23.0</td>\n      <td>16.0</td>\n      <td>19.0</td>\n    </tr>\n    <tr>\n      <th>Automatic 6spd</th>\n      <td>34.0</td>\n      <td>21.0</td>\n      <td>26.0</td>\n    </tr>\n    <tr>\n      <th>Automatic 7-spd</th>\n      <td>25.0</td>\n      <td>17.0</td>\n      <td>20.0</td>\n    </tr>\n    <tr>\n      <th>Automatic 8-spd</th>\n      <td>24.0</td>\n      <td>16.0</td>\n      <td>19.0</td>\n    </tr>\n    <tr>\n      <th>Automatic 9-spd</th>\n      <td>28.0</td>\n      <td>21.0</td>\n      <td>23.0</td>\n    </tr>\n    <tr>\n      <th>Manual 3-spd</th>\n      <td>17.0</td>\n      <td>14.0</td>\n      <td>15.0</td>\n    </tr>\n    <tr>\n      <th>Manual 4-spd</th>\n      <td>20.0</td>\n      <td>16.0</td>\n      <td>17.0</td>\n    </tr>\n    <tr>\n      <th>Manual 5 spd</th>\n      <td>14.0</td>\n      <td>14.0</td>\n      <td>14.0</td>\n    </tr>\n    <tr>\n      <th>Manual 5-spd</th>\n      <td>26.0</td>\n      <td>19.0</td>\n      <td>21.0</td>\n    </tr>\n    <tr>\n      <th>Manual 6-spd</th>\n      <td>26.0</td>\n      <td>18.0</td>\n      <td>20.0</td>\n    </tr>\n    <tr>\n      <th>Manual 7-spd</th>\n      <td>27.0</td>\n      <td>19.0</td>\n      <td>22.0</td>\n    </tr>\n    <tr>\n      <th>Manual(M7)</th>\n      <td>22.0</td>\n      <td>15.0</td>\n      <td>18.0</td>\n    </tr>\n  </tbody>\n</table>\n</div>"
     },
     "execution_count": 38,
     "metadata": {},
     "output_type": "execute_result"
    }
   ],
   "source": [
    "vehicles.groupby(['Transmission'])['Highway MPG', 'City MPG', 'Combined MPG'].median()"
   ],
   "metadata": {
    "collapsed": false,
    "pycharm": {
     "name": "#%%\n"
    }
   }
  },
  {
   "cell_type": "code",
   "execution_count": 39,
   "outputs": [
    {
     "data": {
      "text/plain": "                                  mean  median       std\nFuel Type                                               \nCNG                          18.133333    14.5  7.436663\nDiesel                       23.488474    21.0  7.054702\nGasoline or E85              17.572385    17.0  3.822538\nGasoline or natural gas      15.350000    12.0  5.343712\nGasoline or propane          13.500000    13.5  1.603567\nMidgrade                     17.378378    17.0  1.848381\nPremium                      19.343816    19.0  4.097972\nPremium Gas or Electricity   31.647059    33.0  7.158397\nPremium and Electricity      26.300000    25.5  5.141165\nPremium or E85               20.090909    20.0  3.676502\nRegular                      20.144698    20.0  5.317500\nRegular Gas and Electricity  41.937500    38.5  5.246824\nRegular Gas or Electricity   42.000000    42.0  0.000000",
      "text/html": "<div>\n<style scoped>\n    .dataframe tbody tr th:only-of-type {\n        vertical-align: middle;\n    }\n\n    .dataframe tbody tr th {\n        vertical-align: top;\n    }\n\n    .dataframe thead th {\n        text-align: right;\n    }\n</style>\n<table border=\"1\" class=\"dataframe\">\n  <thead>\n    <tr style=\"text-align: right;\">\n      <th></th>\n      <th>mean</th>\n      <th>median</th>\n      <th>std</th>\n    </tr>\n    <tr>\n      <th>Fuel Type</th>\n      <th></th>\n      <th></th>\n      <th></th>\n    </tr>\n  </thead>\n  <tbody>\n    <tr>\n      <th>CNG</th>\n      <td>18.133333</td>\n      <td>14.5</td>\n      <td>7.436663</td>\n    </tr>\n    <tr>\n      <th>Diesel</th>\n      <td>23.488474</td>\n      <td>21.0</td>\n      <td>7.054702</td>\n    </tr>\n    <tr>\n      <th>Gasoline or E85</th>\n      <td>17.572385</td>\n      <td>17.0</td>\n      <td>3.822538</td>\n    </tr>\n    <tr>\n      <th>Gasoline or natural gas</th>\n      <td>15.350000</td>\n      <td>12.0</td>\n      <td>5.343712</td>\n    </tr>\n    <tr>\n      <th>Gasoline or propane</th>\n      <td>13.500000</td>\n      <td>13.5</td>\n      <td>1.603567</td>\n    </tr>\n    <tr>\n      <th>Midgrade</th>\n      <td>17.378378</td>\n      <td>17.0</td>\n      <td>1.848381</td>\n    </tr>\n    <tr>\n      <th>Premium</th>\n      <td>19.343816</td>\n      <td>19.0</td>\n      <td>4.097972</td>\n    </tr>\n    <tr>\n      <th>Premium Gas or Electricity</th>\n      <td>31.647059</td>\n      <td>33.0</td>\n      <td>7.158397</td>\n    </tr>\n    <tr>\n      <th>Premium and Electricity</th>\n      <td>26.300000</td>\n      <td>25.5</td>\n      <td>5.141165</td>\n    </tr>\n    <tr>\n      <th>Premium or E85</th>\n      <td>20.090909</td>\n      <td>20.0</td>\n      <td>3.676502</td>\n    </tr>\n    <tr>\n      <th>Regular</th>\n      <td>20.144698</td>\n      <td>20.0</td>\n      <td>5.317500</td>\n    </tr>\n    <tr>\n      <th>Regular Gas and Electricity</th>\n      <td>41.937500</td>\n      <td>38.5</td>\n      <td>5.246824</td>\n    </tr>\n    <tr>\n      <th>Regular Gas or Electricity</th>\n      <td>42.000000</td>\n      <td>42.0</td>\n      <td>0.000000</td>\n    </tr>\n  </tbody>\n</table>\n</div>"
     },
     "execution_count": 39,
     "metadata": {},
     "output_type": "execute_result"
    }
   ],
   "source": [
    "vehicles.groupby(['Fuel Type'])['Combined MPG'].agg(['mean', 'median', 'std'])"
   ],
   "metadata": {
    "collapsed": false,
    "pycharm": {
     "name": "#%%\n"
    }
   }
  },
  {
   "cell_type": "code",
   "execution_count": 45,
   "outputs": [],
   "source": [
    "from scipy import stats\n",
    "\n",
    "def agg_mode(x):\n",
    "    mode, count = stats.mode(x)\n",
    "    #print(count)\n",
    "    return(mode)\n",
    "\n"
   ],
   "metadata": {
    "collapsed": false,
    "pycharm": {
     "name": "#%%\n"
    }
   }
  },
  {
   "cell_type": "code",
   "execution_count": 46,
   "outputs": [
    {
     "data": {
      "text/plain": "Transmission\nAuto (AV)                                                 Compact Cars\nAuto (AV-S6)                                              Compact Cars\nAuto (AV-S8)                                              Midsize Cars\nAuto(A1)                                               Subcompact Cars\nAuto(AM-S6)                                               Compact Cars\nAuto(AM-S7)                                           Minicompact Cars\nAuto(AM-S8)                                               Compact Cars\nAuto(AM-S9)                                                Two Seaters\nAuto(AM5)                                                  Two Seaters\nAuto(AM6)                                                 Compact Cars\nAuto(AM7)                                                  Two Seaters\nAuto(AM8)                           Standard Sport Utility Vehicle 4WD\nAuto(AV-S6)                                               Midsize Cars\nAuto(AV-S7)                                               Midsize Cars\nAuto(AV-S8)                                               Midsize Cars\nAuto(L3)                                      Special Purpose Vehicles\nAuto(L4)                                      Special Purpose Vehicles\nAutomatic (A1)                                         Subcompact Cars\nAutomatic (A6)                                            Compact Cars\nAutomatic (AM5)                                            Two Seaters\nAutomatic (AM6)                                            Two Seaters\nAutomatic (AV)                                            Midsize Cars\nAutomatic (AV-S6)                                         Compact Cars\nAutomatic (S4)                                            Compact Cars\nAutomatic (S5)                                            Compact Cars\nAutomatic (S6)                                            Midsize Cars\nAutomatic (S7)                                            Midsize Cars\nAutomatic (S8)                                            Midsize Cars\nAutomatic (S9)                         Small Sport Utility Vehicle 4WD\nAutomatic (variable gear ratios)                          Midsize Cars\nAutomatic 3-spd                                           Compact Cars\nAutomatic 4-spd                                           Midsize Cars\nAutomatic 5-spd                            Sport Utility Vehicle - 4WD\nAutomatic 6-spd                            Sport Utility Vehicle - 2WD\nAutomatic 6spd                                            Midsize Cars\nAutomatic 7-spd                                           Compact Cars\nAutomatic 8-spd                                             Large Cars\nAutomatic 9-spd                        Small Sport Utility Vehicle 4WD\nManual 3-spd                                                      Vans\nManual 4-spd                                    Standard Pickup Trucks\nManual 5 spd                                                      Vans\nManual 5-spd                                              Compact Cars\nManual 6-spd                                              Compact Cars\nManual 7-spd                                          Minicompact Cars\nManual(M7)                                                 Two Seaters\nName: Vehicle Class, dtype: object"
     },
     "execution_count": 46,
     "metadata": {},
     "output_type": "execute_result"
    }
   ],
   "source": [
    "vehicles.groupby(['Transmission'])['Vehicle Class'].agg(agg_mode)\n"
   ],
   "metadata": {
    "collapsed": false,
    "pycharm": {
     "name": "#%%\n"
    }
   }
  },
  {
   "cell_type": "code",
   "execution_count": 47,
   "outputs": [],
   "source": [
    "animals = pd.read_csv('data/animals.csv')\n",
    "\n"
   ],
   "metadata": {
    "collapsed": false,
    "pycharm": {
     "name": "#%%\n"
    }
   }
  },
  {
   "cell_type": "code",
   "execution_count": 48,
   "outputs": [],
   "source": [
    "animals['bodywtkg'] = animals['bodywt'] * 0.45359237"
   ],
   "metadata": {
    "collapsed": false,
    "pycharm": {
     "name": "#%%\n"
    }
   }
  },
  {
   "cell_type": "code",
   "execution_count": 49,
   "outputs": [],
   "source": [
    "animals['wtratio'] = animals['bodywt'] / animals['brainwt']"
   ],
   "metadata": {
    "collapsed": false,
    "pycharm": {
     "name": "#%%\n"
    }
   }
  },
  {
   "cell_type": "code",
   "execution_count": 50,
   "outputs": [],
   "source": [
    "animals['wtratiozerocheck'] = np.where(animals['brainwt'] != 0, animals['bodywt'] / animals['brainwt'], 0)"
   ],
   "metadata": {
    "collapsed": false,
    "pycharm": {
     "name": "#%%\n"
    }
   }
  },
  {
   "cell_type": "code",
   "execution_count": 54,
   "outputs": [],
   "source": [
    "animals['sumatoria'] = animals[['bodywt', 'brainwt']].sum(axis=1)"
   ],
   "metadata": {
    "collapsed": false,
    "pycharm": {
     "name": "#%%\n"
    }
   }
  },
  {
   "cell_type": "code",
   "execution_count": 52,
   "outputs": [],
   "source": [
    "animals['lacolumnadeRey'] = animals['sumatoria'].apply(lambda x: 1 if x < 50 else 0)\n"
   ],
   "metadata": {
    "collapsed": false,
    "pycharm": {
     "name": "#%%\n"
    }
   }
  },
  {
   "cell_type": "code",
   "execution_count": null,
   "outputs": [],
   "source": [
    "\n"
   ],
   "metadata": {
    "collapsed": false,
    "pycharm": {
     "name": "#%%\n"
    }
   }
  }
 ],
 "metadata": {
  "kernelspec": {
   "display_name": "Python 3",
   "language": "python",
   "name": "python3"
  },
  "language_info": {
   "codemirror_mode": {
    "name": "ipython",
    "version": 2
   },
   "file_extension": ".py",
   "mimetype": "text/x-python",
   "name": "python",
   "nbconvert_exporter": "python",
   "pygments_lexer": "ipython2",
   "version": "2.7.6"
  }
 },
 "nbformat": 4,
 "nbformat_minor": 0
}