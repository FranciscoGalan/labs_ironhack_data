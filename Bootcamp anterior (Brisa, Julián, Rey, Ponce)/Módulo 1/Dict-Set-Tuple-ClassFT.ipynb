{
 "cells": [
  {
   "cell_type": "markdown",
   "metadata": {},
   "source": [
    "# Dicts, Sets and Tuples"
   ]
  },
  {
   "cell_type": "markdown",
   "metadata": {},
   "source": [
    "## Tuples"
   ]
  },
  {
   "cell_type": "markdown",
   "metadata": {},
   "source": [
    "- Similares a la estructura de una lista, sin embargo los arreglos tipo 'tuple' son inmutables (no se puedes re-escribir).\n",
    "\n",
    "- Almacena multiples items en una sola variable (permite items duplicados)\n",
    "\n",
    "- Se definen por medio de '( )'"
   ]
  },
  {
   "cell_type": "code",
   "execution_count": 1,
   "metadata": {},
   "outputs": [
    {
     "name": "stdout",
     "output_type": "stream",
     "text": [
      "('Zeus', 'Hades', 'Artemis', 'Diego Armando Maradona')\n",
      "<class 'tuple'>\n"
     ]
    }
   ],
   "source": [
    "# Declaramos nuestra Tuple \n",
    "\n",
    "mithology = ('Zeus', 'Hades', 'Artemis', 'Diego Armando Maradona')\n",
    "print(mithology)\n",
    "print(type(mithology))"
   ]
  },
  {
   "cell_type": "code",
   "execution_count": 2,
   "metadata": {},
   "outputs": [
    {
     "name": "stdout",
     "output_type": "stream",
     "text": [
      "('Zeus', 'Hades', 'Artemis', 'Diego Armando Maradona')\n",
      "<class 'tuple'>\n"
     ]
    }
   ],
   "source": [
    "# tuple()construtor \n",
    "\n",
    "tuple_mithology = tuple(('Zeus', 'Hades', 'Artemis', 'Diego Armando Maradona'))\n",
    "print(tuple_mithology)\n",
    "print(type(tuple_mithology))"
   ]
  },
  {
   "cell_type": "code",
   "execution_count": 3,
   "metadata": {},
   "outputs": [
    {
     "data": {
      "text/plain": [
       "4"
      ]
     },
     "execution_count": 3,
     "metadata": {},
     "output_type": "execute_result"
    }
   ],
   "source": [
    "\n",
    "len(tuple_mithology)"
   ]
  },
  {
   "cell_type": "code",
   "execution_count": 4,
   "metadata": {},
   "outputs": [
    {
     "data": {
      "text/plain": [
       "4"
      ]
     },
     "execution_count": 4,
     "metadata": {},
     "output_type": "execute_result"
    }
   ],
   "source": [
    "len(mithology)"
   ]
  },
  {
   "cell_type": "code",
   "execution_count": 5,
   "metadata": {},
   "outputs": [
    {
     "data": {
      "text/plain": [
       "'Artemis'"
      ]
     },
     "execution_count": 5,
     "metadata": {},
     "output_type": "execute_result"
    }
   ],
   "source": [
    "# Accedemos a nuestros elementos de la tupla por index \n",
    "\n",
    "mithology[2]"
   ]
  },
  {
   "cell_type": "code",
   "execution_count": 17,
   "metadata": {},
   "outputs": [],
   "source": [
    "# How would you try to change an element?\n",
    "# Demostrando que son inmutables\n",
    "\n",
    "# mithology[3] = 'Diegote'"
   ]
  },
  {
   "cell_type": "code",
   "execution_count": 7,
   "metadata": {},
   "outputs": [
    {
     "name": "stdout",
     "output_type": "stream",
     "text": [
      "Zeus\n",
      "Hades\n",
      "Artemis\n",
      "Diego Armando Maradona\n"
     ]
    }
   ],
   "source": [
    "# Iteramos en nuestra Tuple\n",
    "# *** Alumnos\n",
    "\n",
    "for g in mithology:\n",
    "    print(g)"
   ]
  },
  {
   "cell_type": "code",
   "execution_count": 8,
   "metadata": {},
   "outputs": [
    {
     "name": "stdout",
     "output_type": "stream",
     "text": [
      "Pelusa!\n"
     ]
    }
   ],
   "source": [
    "# Buscamos elementos en la Tupla\n",
    "\n",
    "if 'Diegote' in mithology:\n",
    "    print('Aguante!')\n",
    "else:\n",
    "    print('Pelusa!')"
   ]
  },
  {
   "cell_type": "markdown",
   "metadata": {},
   "source": [
    "# Dicts"
   ]
  },
  {
   "cell_type": "markdown",
   "metadata": {},
   "source": [
    "Secuencias compuestas por conjuntos de pares 'key' : 'value'\n",
    "\n",
    "'key' - index (hash)\n",
    "\n",
    "- Colecciones no ordenadas por indice (para rapido acceso a pares)\n",
    "- Mutables\n",
    "- No permite Duplicados\n",
    "- Se definen por medio de {'key1' : 'value1',...}"
   ]
  },
  {
   "cell_type": "code",
   "execution_count": 9,
   "metadata": {},
   "outputs": [
    {
     "data": {
      "text/plain": [
       "dict"
      ]
     },
     "execution_count": 9,
     "metadata": {},
     "output_type": "execute_result"
    }
   ],
   "source": [
    "# Declarando un Dict con fechas de cumpleanos\n",
    "\n",
    "miles_K = {'Volvo S60' : 19,\n",
    "           'Mercedez G Class' : 22, \n",
    "           'BMW S3' : 10}\n",
    "\n",
    "type(miles_K)"
   ]
  },
  {
   "cell_type": "code",
   "execution_count": 10,
   "metadata": {},
   "outputs": [
    {
     "name": "stdout",
     "output_type": "stream",
     "text": [
      "{'Volvo S60': 19, 'Mercedez G Class': 22, 'BMW S3': 10}\n"
     ]
    }
   ],
   "source": [
    "print(miles_K)"
   ]
  },
  {
   "cell_type": "code",
   "execution_count": 11,
   "metadata": {},
   "outputs": [
    {
     "name": "stdout",
     "output_type": "stream",
     "text": [
      "22\n"
     ]
    }
   ],
   "source": [
    "print(miles_K['Mercedez G Class'])"
   ]
  },
  {
   "cell_type": "code",
   "execution_count": 12,
   "metadata": {},
   "outputs": [
    {
     "data": {
      "text/plain": [
       "3"
      ]
     },
     "execution_count": 12,
     "metadata": {},
     "output_type": "execute_result"
    }
   ],
   "source": [
    "# Pares key:value en el diccionario\n",
    "\n",
    "len(miles_K)"
   ]
  },
  {
   "cell_type": "code",
   "execution_count": 13,
   "metadata": {},
   "outputs": [],
   "source": [
    "'''\n",
    "\n",
    "Operator interface.\n",
    "\n",
    "This module exports a set of functions implemented in C corresponding\n",
    "to the intrinsic operators of Python.  For example, operator.add(x, y)\n",
    "is equivalent to the expression x+y.  The function names are those\n",
    "used for special methods; variants without leading and trailing\n",
    "'__' are also provided for convenience.\n",
    "\n",
    "'''\n",
    "\n",
    "import operator\n",
    "\n",
    "'''\n",
    "sorted(): Return a new list containing all items from the iterable in ascending order.\n",
    "'''\n",
    "\n",
    "miles_K_ordenado = sorted(miles_K.items(), key=operator.itemgetter(1)) \n"
   ]
  },
  {
   "cell_type": "code",
   "execution_count": 14,
   "metadata": {},
   "outputs": [
    {
     "name": "stdout",
     "output_type": "stream",
     "text": [
      "[('BMW S3', 10), ('Volvo S60', 19), ('Mercedez G Class', 22)]\n",
      "<class 'list'>\n"
     ]
    }
   ],
   "source": [
    "print(miles_K_ordenado)\n",
    "print(type(miles_K_ordenado))"
   ]
  },
  {
   "cell_type": "markdown",
   "metadata": {},
   "source": [
    "# Sets"
   ]
  },
  {
   "cell_type": "markdown",
   "metadata": {},
   "source": [
    "- Almacenan multiples items en una sola variable\n",
    "- Inmutable\n",
    "- Coleccion no ordenada y sin indices (no-indexada)\n",
    "- No permite duplicados, los descarta\n",
    "- Se decalara por medio de '{ }' "
   ]
  },
  {
   "cell_type": "code",
   "execution_count": 15,
   "metadata": {},
   "outputs": [
    {
     "name": "stdout",
     "output_type": "stream",
     "text": [
      "{'Item3', 'Item2', 'Item1'}\n",
      "<class 'set'>\n",
      "3\n"
     ]
    }
   ],
   "source": [
    "# Declarando un set\n",
    "\n",
    "set_ej = {'Item1', 'Item2', 'Item1', 'Item3'}\n",
    "\n",
    "print(set_ej)\n",
    "\n",
    "print(type(set_ej))\n",
    "\n",
    "print(len(set_ej))"
   ]
  },
  {
   "cell_type": "code",
   "execution_count": 16,
   "metadata": {},
   "outputs": [
    {
     "name": "stdout",
     "output_type": "stream",
     "text": [
      "{'Item3', True, 43, 'Item1', 'Item2'}\n",
      "<class 'set'>\n",
      "5\n"
     ]
    }
   ],
   "source": [
    "# Set Constructor\n",
    "\n",
    "set_ej2 = set(('Item1', 'Item2', 'Item1', 'Item3', True, 43))\n",
    "\n",
    "print(set_ej2)\n",
    "\n",
    "print(type(set_ej2))\n",
    "\n",
    "print(len(set_ej2))"
   ]
  },
  {
   "cell_type": "code",
   "execution_count": null,
   "metadata": {},
   "outputs": [],
   "source": []
  }
 ],
 "metadata": {
  "kernelspec": {
   "display_name": "Python 3",
   "language": "python",
   "name": "python3"
  },
  "language_info": {
   "codemirror_mode": {
    "name": "ipython",
    "version": 3
   },
   "file_extension": ".py",
   "mimetype": "text/x-python",
   "name": "python",
   "nbconvert_exporter": "python",
   "pygments_lexer": "ipython3",
   "version": "3.8.5"
  }
 },
 "nbformat": 4,
 "nbformat_minor": 4
}
