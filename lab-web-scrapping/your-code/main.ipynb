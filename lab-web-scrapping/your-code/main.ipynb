{
 "cells": [
  {
   "cell_type": "markdown",
   "metadata": {},
   "source": [
    "# Web Scraping Lab\n",
    "\n",
    "You will find in this notebook some scrapy exercises to practise your scraping skills.\n",
    "\n",
    "**Tips:**\n",
    "\n",
    "- Check the response status code for each request to ensure you have obtained the intended contennt.\n",
    "- Print the response text in each request to understand the kind of info you are getting and its format.\n",
    "- Check for patterns in the response text to extract the data/info requested in each question.\n",
    "- Visit each url and take a look at its source through Chrome DevTools. You'll need to identify the html tags, special class names etc. used for the html content you are expected to extract."
   ]
  },
  {
   "cell_type": "markdown",
   "metadata": {},
   "source": [
    "- [Requests library](http://docs.python-requests.org/en/master/#the-user-guide) documentation \n",
    "- [Beautiful Soup Doc](https://www.crummy.com/software/BeautifulSoup/bs4/doc/)\n",
    "- [Urllib](https://docs.python.org/3/library/urllib.html#module-urllib)\n",
    "- [re lib](https://docs.python.org/3/library/re.html)\n",
    "- [lxml lib](https://lxml.de/)\n",
    "- [Scrapy](https://scrapy.org/)\n",
    "- [List of HTTP status codes](https://en.wikipedia.org/wiki/List_of_HTTP_status_codes)\n",
    "- [HTML basics](http://www.simplehtmlguide.com/cheatsheet.php)\n",
    "- [CSS basics](https://www.cssbasics.com/#page_start)"
   ]
  },
  {
   "cell_type": "markdown",
   "metadata": {},
   "source": [
    "#### Below are the libraries and modules you may need. `requests`,  `BeautifulSoup` and `pandas` are imported for you. If you prefer to use additional libraries feel free to uncomment them."
   ]
  },
  {
   "cell_type": "code",
   "execution_count": 30,
   "metadata": {},
   "outputs": [],
   "source": [
    "import requests\n",
    "from bs4 import BeautifulSoup\n",
    "import pandas as pd\n",
    "import re"
   ]
  },
  {
   "cell_type": "markdown",
   "metadata": {},
   "source": [
    "#### Download, parse (using BeautifulSoup), and print the content from the Trending Developers page from GitHub:"
   ]
  },
  {
   "cell_type": "code",
   "execution_count": 2,
   "metadata": {},
   "outputs": [],
   "source": [
    "# This is the url you will scrape in this exercise\n",
    "url = 'https://github.com/trending/developers'"
   ]
  },
  {
   "cell_type": "code",
   "execution_count": 3,
   "metadata": {
    "tags": []
   },
   "outputs": [],
   "source": [
    "#your code\n",
    "html=requests.get(url).content\n",
    "soup = BeautifulSoup(html, 'html')\n",
    "# soup"
   ]
  },
  {
   "cell_type": "markdown",
   "metadata": {},
   "source": [
    "#### Display the names of the trending developers retrieved in the previous step.\n",
    "\n",
    "Your output should be a Python list of developer names. Each name should not contain any html tag.\n",
    "\n",
    "**Instructions:**\n",
    "\n",
    "1. Find out the html tag and class names used for the developer names. You can achieve this using Chrome DevTools.\n",
    "\n",
    "1. Use BeautifulSoup to extract all the html elements that contain the developer names.\n",
    "\n",
    "1. Use string manipulation techniques to replace whitespaces and linebreaks (i.e. `\\n`) in the *text* of each html element. Use a list to store the clean names.\n",
    "\n",
    "1. Print the list of names.\n",
    "\n",
    "Your output should look like below:\n",
    "\n",
    "```\n",
    "['trimstray (@trimstray)',\n",
    " 'joewalnes (JoeWalnes)',\n",
    " 'charlax (Charles-AxelDein)',\n",
    " 'ForrestKnight (ForrestKnight)',\n",
    " 'revery-ui (revery-ui)',\n",
    " 'alibaba (Alibaba)',\n",
    " 'Microsoft (Microsoft)',\n",
    " 'github (GitHub)',\n",
    " 'facebook (Facebook)',\n",
    " 'boazsegev (Bo)',\n",
    " 'google (Google)',\n",
    " 'cloudfetch',\n",
    " 'sindresorhus (SindreSorhus)',\n",
    " 'tensorflow',\n",
    " 'apache (TheApacheSoftwareFoundation)',\n",
    " 'DevonCrawford (DevonCrawford)',\n",
    " 'ARMmbed (ArmMbed)',\n",
    " 'vuejs (vuejs)',\n",
    " 'fastai (fast.ai)',\n",
    " 'QiShaoXuan (Qi)',\n",
    " 'joelparkerhenderson (JoelParkerHenderson)',\n",
    " 'torvalds (LinusTorvalds)',\n",
    " 'CyC2018',\n",
    " 'komeiji-satori (神楽坂覚々)',\n",
    " 'script-8']\n",
    " ```"
   ]
  },
  {
   "cell_type": "code",
   "execution_count": 4,
   "metadata": {},
   "outputs": [
    {
     "data": {
      "text/plain": [
       "['Seth Vargo (@sethvargo)',\n",
       " 'Fons van der Plas (@fonsp)',\n",
       " 'PySimpleGUI (@PySimpleGUI)',\n",
       " 'Jonatan Kłosko (@jonatanklosko)',\n",
       " 'Nico Schlömer (@nschloe)',\n",
       " 'Arseny Kapoulkine (@zeux)',\n",
       " 'Junrou Nishida (@homuler)',\n",
       " 'Greg Bergé (@gregberge)',\n",
       " 'nick black (@dankamongmen)',\n",
       " 'Mike Penz (@mikepenz)',\n",
       " 'Kyle (@kylekatarnls)',\n",
       " 'Adam Argyle (@argyleink)',\n",
       " 'Felix Angelov (@felangel)',\n",
       " 'Alex Goodman (@wagoodman)',\n",
       " 'Yan Zhang (@Eskibear)',\n",
       " 'Jaewoong Eum (@skydoves)',\n",
       " 'Brian Vaughn (@bvaughn)',\n",
       " 'Tony Arcieri (@tarcieri)',\n",
       " 'Jan-Otto Kröpke (@jkroepke)',\n",
       " 'Han Xiao (@hanxiao)',\n",
       " 'Daybrush (Younkue Choi) (@daybrush)',\n",
       " 'James N (@atomiks)',\n",
       " 'José Valim (@josevalim)',\n",
       " 'Robert Mosolgo (@rmosolgo)',\n",
       " 'Rich Harris (@Rich-Harris)']"
      ]
     },
     "execution_count": 4,
     "metadata": {},
     "output_type": "execute_result"
    }
   ],
   "source": [
    "tag=[\"h1\",\"p\"]\n",
    "text = [element.text.replace('\\n',' ').strip() for element in soup.find_all(tag)]\n",
    "listofnames=[text[i]+\" (@\"+text[i+1]+\")\" for i in range(2,76,3)]\n",
    "listofnames"
   ]
  },
  {
   "cell_type": "markdown",
   "metadata": {},
   "source": [
    "#### Display the trending Python repositories in GitHub\n",
    "\n",
    "The steps to solve this problem is similar to the previous one except that you need to find out the repository names instead of developer names."
   ]
  },
  {
   "cell_type": "code",
   "execution_count": 12,
   "metadata": {},
   "outputs": [
    {
     "data": {
      "text/plain": [
       "['ethereum/consensus-specs',\n",
       " 'kholia/OSX-KVM',\n",
       " 'mpcabete/bombcrypto-bot',\n",
       " 'Mas0nShi/typoraCracker',\n",
       " 'open-mmlab/mmtracking',\n",
       " 'ultralytics/yolov5',\n",
       " 'PrefectHQ/prefect',\n",
       " 'wimglenn/advent-of-code-data',\n",
       " 'TencentARC/GFPGAN',\n",
       " 'Pycord-Development/pycord',\n",
       " 'xinntao/Real-ESRGAN',\n",
       " 'psf/black',\n",
       " 'wagtail/wagtail',\n",
       " 'jbarlow83/OCRmyPDF',\n",
       " 'yuval-alaluf/hyperstyle',\n",
       " 'PaddlePaddle/PaddleGAN',\n",
       " 'rizkydermawan1992/Face-Detection',\n",
       " 'microsoft/Swin-Transformer',\n",
       " 'tiangolo/fastapi',\n",
       " 'Ganapati/RsaCtfTool',\n",
       " 'PaddlePaddle/PaddleOCR',\n",
       " 'Azure/azure-sdk-for-python',\n",
       " 'autonomousvision/projected_gan',\n",
       " 'trekhleb/learn-python',\n",
       " 'eriklindernoren/PyTorch-GAN']"
      ]
     },
     "execution_count": 12,
     "metadata": {},
     "output_type": "execute_result"
    }
   ],
   "source": [
    "url = 'https://github.com/trending/python?since=daily'\n",
    "html = requests.get(url).content\n",
    "trep_soup = BeautifulSoup(html)\n",
    "reps = trep_soup.find_all('h1',{'class':'h3 lh-condensed'})\n",
    "repos = [rep.a['href'].strip('/') for rep in reps]\n",
    "repos"
   ]
  },
  {
   "cell_type": "markdown",
   "metadata": {},
   "source": [
    "#### Display all the image links from Walt Disney wikipedia page"
   ]
  },
  {
   "cell_type": "code",
   "execution_count": 17,
   "metadata": {},
   "outputs": [
    {
     "data": {
      "text/plain": [
       "['https://upload.wikimedia.org/wikipedia/commons/thumb/d/df/Walt_Disney_1946.JPG/220px-Walt_Disney_1946.JPG',\n",
       " 'https://upload.wikimedia.org/wikipedia/commons/thumb/8/87/Walt_Disney_1942_signature.svg/150px-Walt_Disney_1942_signature.svg.png',\n",
       " 'https://upload.wikimedia.org/wikipedia/commons/thumb/c/c4/Walt_Disney_envelope_ca._1921.jpg/220px-Walt_Disney_envelope_ca._1921.jpg',\n",
       " 'https://upload.wikimedia.org/wikipedia/commons/thumb/0/0d/Trolley_Troubles_poster.jpg/170px-Trolley_Troubles_poster.jpg',\n",
       " 'https://upload.wikimedia.org/wikipedia/en/thumb/4/4e/Steamboat-willie.jpg/170px-Steamboat-willie.jpg',\n",
       " 'https://upload.wikimedia.org/wikipedia/commons/thumb/5/57/Walt_Disney_1935.jpg/170px-Walt_Disney_1935.jpg',\n",
       " 'https://upload.wikimedia.org/wikipedia/commons/thumb/c/cd/Walt_Disney_Snow_white_1937_trailer_screenshot_%2813%29.jpg/220px-Walt_Disney_Snow_white_1937_trailer_screenshot_%2813%29.jpg',\n",
       " 'https://upload.wikimedia.org/wikipedia/commons/thumb/1/15/Disney_drawing_goofy.jpg/170px-Disney_drawing_goofy.jpg',\n",
       " 'https://upload.wikimedia.org/wikipedia/commons/thumb/1/13/DisneySchiphol1951.jpg/220px-DisneySchiphol1951.jpg',\n",
       " 'https://upload.wikimedia.org/wikipedia/commons/thumb/8/8c/WaltDisneyplansDisneylandDec1954.jpg/220px-WaltDisneyplansDisneylandDec1954.jpg',\n",
       " 'https://upload.wikimedia.org/wikipedia/commons/thumb/f/ff/Walt_disney_portrait_right.jpg/170px-Walt_disney_portrait_right.jpg',\n",
       " 'https://upload.wikimedia.org/wikipedia/commons/thumb/1/1a/Walt_Disney_Grave.JPG/170px-Walt_Disney_Grave.JPG',\n",
       " 'https://upload.wikimedia.org/wikipedia/commons/thumb/2/2d/Roy_O._Disney_with_Company_at_Press_Conference.jpg/170px-Roy_O._Disney_with_Company_at_Press_Conference.jpg',\n",
       " 'https://upload.wikimedia.org/wikipedia/commons/thumb/b/b0/Disney_Oscar_1953_%28cropped%29.jpg/170px-Disney_Oscar_1953_%28cropped%29.jpg',\n",
       " 'https://upload.wikimedia.org/wikipedia/commons/thumb/6/6c/Disney1968.jpg/170px-Disney1968.jpg',\n",
       " 'https://upload.wikimedia.org/wikipedia/commons/thumb/e/e3/Disneyland_Resort_logo.svg/135px-Disneyland_Resort_logo.svg.png',\n",
       " 'https://upload.wikimedia.org/wikipedia/commons/thumb/d/da/Animation_disc.svg/30px-Animation_disc.svg.png',\n",
       " 'https://upload.wikimedia.org/wikipedia/en/thumb/6/69/P_vip.svg/29px-P_vip.svg.png',\n",
       " 'https://upload.wikimedia.org/wikipedia/commons/thumb/1/1a/Magic_Kingdom_castle.jpg/24px-Magic_Kingdom_castle.jpg',\n",
       " 'https://upload.wikimedia.org/wikipedia/en/thumb/e/e7/Video-x-generic.svg/30px-Video-x-generic.svg.png',\n",
       " 'https://upload.wikimedia.org/wikipedia/commons/thumb/a/a3/Flag_of_Los_Angeles_County%2C_California.svg/30px-Flag_of_Los_Angeles_County%2C_California.svg.png',\n",
       " 'https://upload.wikimedia.org/wikipedia/commons/thumb/8/8c/Blank_television_set.svg/30px-Blank_television_set.svg.png',\n",
       " 'https://upload.wikimedia.org/wikipedia/en/thumb/a/a4/Flag_of_the_United_States.svg/30px-Flag_of_the_United_States.svg.png']"
      ]
     },
     "execution_count": 17,
     "metadata": {},
     "output_type": "execute_result"
    }
   ],
   "source": [
    "url = 'https://en.wikipedia.org/wiki/Walt_Disney'\n",
    "html=requests.get(url).content\n",
    "wdimg_soup=BeautifulSoup(html)\n",
    "imgs=wdimg_soup.find_all('a',{'class':'image'})\n",
    "images=['https:'+img.img['src'] for img in imgs]\n",
    "images"
   ]
  },
  {
   "cell_type": "markdown",
   "metadata": {},
   "source": [
    "#### Retrieve an arbitary Wikipedia page of \"Python\" and create a list of links on that page"
   ]
  },
  {
   "cell_type": "code",
   "execution_count": 26,
   "metadata": {},
   "outputs": [
    {
     "data": {
      "text/plain": [
       "['https://en.wikipedia.org/wiki/Pythonidae',\n",
       " 'https://en.wikipedia.org/wiki/Python_(genus)',\n",
       " 'https://en.wikipedia.org/wiki/Python#Computing',\n",
       " 'https://en.wikipedia.org/wiki/Python#People',\n",
       " 'https://en.wikipedia.org/wiki/Python#Roller_coasters',\n",
       " 'https://en.wikipedia.org/wiki/Python#Vehicles',\n",
       " 'https://en.wikipedia.org/wiki/Python#Weaponry',\n",
       " 'https://en.wikipedia.org/wiki/Python#Other_uses',\n",
       " 'https://en.wikipedia.org/wiki/Python#See_also',\n",
       " 'https://en.wikipedia.org/wiki/Python_(programming_language)']"
      ]
     },
     "execution_count": 26,
     "metadata": {},
     "output_type": "execute_result"
    }
   ],
   "source": [
    "url ='https://en.wikipedia.org/wiki/Python' \n",
    "html=requests.get(url).content\n",
    "wpy_soup=BeautifulSoup(html)\n",
    "lks=wpy_soup.find_all('li')\n",
    "links=[lk.a['href'] for lk in lks if lk.a != None]\n",
    "\n",
    "# Sí la referencia es interna, se completa el link y en caso de no contar con el https se añade\n",
    "fixed_links=[url+link if link.startswith('#')\n",
    "             else 'https://en.wikipedia.org'+ link  if link.startswith('/wiki') \n",
    "             else 'https:'+ link if not link.startswith('https')\n",
    "             else link for link in links]\n",
    "fixed_links[:10]"
   ]
  },
  {
   "cell_type": "markdown",
   "metadata": {
    "tags": []
   },
   "source": [
    "#### Number of Titles that have changed in the United States Code since its last release point "
   ]
  },
  {
   "cell_type": "code",
   "execution_count": 31,
   "metadata": {},
   "outputs": [
    {
     "name": "stdout",
     "output_type": "stream",
     "text": [
      "Number of titles: 1\n",
      "Title list: ['38']\n"
     ]
    }
   ],
   "source": [
    "url = 'http://uscode.house.gov/download/download.shtml' \n",
    "html=requests.get(url).content\n",
    "usc_soup=BeautifulSoup(html)\n",
    "\n",
    "chgd = usc_soup.find_all('div',{'class':\"usctitlechanged\"})\n",
    "changed = [x.text.replace('\\n','').strip() for x in chgd]\n",
    "\n",
    "num_titles=[re.findall('Title (\\d+)',title)[0] for title in changed]\n",
    "print('Number of titles: {}\\nTitle list: {}'.format(len(num_titles),num_titles))"
   ]
  },
  {
   "cell_type": "markdown",
   "metadata": {
    "tags": []
   },
   "source": [
    "#### A Python list with the top ten FBI's Most Wanted names "
   ]
  },
  {
   "cell_type": "code",
   "execution_count": 32,
   "metadata": {},
   "outputs": [
    {
     "data": {
      "text/plain": [
       "['JOSE RODOLFO VILLARREAL-HERNANDEZ',\n",
       " 'OCTAVIANO JUAREZ-CORRO',\n",
       " 'RAFAEL CARO-QUINTERO',\n",
       " 'YULAN ADONAY ARCHAGA CARIAS',\n",
       " 'EUGENE PALMER',\n",
       " 'BHADRESHKUMAR CHETANBHAI PATEL',\n",
       " 'ALEJANDRO ROSALES CASTILLO',\n",
       " 'ARNOLDO JIMENEZ',\n",
       " 'JASON DEREK BROWN',\n",
       " 'ALEXIS FLORES']"
      ]
     },
     "execution_count": 32,
     "metadata": {},
     "output_type": "execute_result"
    }
   ],
   "source": [
    "url = 'https://www.fbi.gov/wanted/topten'\n",
    "html=requests.get(url).content\n",
    "fbi_soup=BeautifulSoup(html)\n",
    "wanted=fbi_soup.find_all('h3',{'class':\"title\"})\n",
    "most_wanted=[top.text.strip('\\n') for top in wanted]\n",
    "most_wanted"
   ]
  },
  {
   "cell_type": "markdown",
   "metadata": {},
   "source": [
    "#### 20 latest earthquakes info (date, time, latitude, longitude and region name) by the EMSC as a pandas dataframe"
   ]
  },
  {
   "cell_type": "code",
   "execution_count": 64,
   "metadata": {},
   "outputs": [
    {
     "data": {
      "text/html": [
       "<div>\n",
       "<style scoped>\n",
       "    .dataframe tbody tr th:only-of-type {\n",
       "        vertical-align: middle;\n",
       "    }\n",
       "\n",
       "    .dataframe tbody tr th {\n",
       "        vertical-align: top;\n",
       "    }\n",
       "\n",
       "    .dataframe thead th {\n",
       "        text-align: right;\n",
       "    }\n",
       "</style>\n",
       "<table border=\"1\" class=\"dataframe\">\n",
       "  <thead>\n",
       "    <tr style=\"text-align: right;\">\n",
       "      <th></th>\n",
       "      <th>Date</th>\n",
       "      <th>Time</th>\n",
       "      <th>Latitude</th>\n",
       "      <th>Longitude</th>\n",
       "      <th>Region</th>\n",
       "    </tr>\n",
       "  </thead>\n",
       "  <tbody>\n",
       "    <tr>\n",
       "      <th>0</th>\n",
       "      <td>2021-12-04</td>\n",
       "      <td>18:04:50.0</td>\n",
       "      <td>16.20</td>\n",
       "      <td>97.29</td>\n",
       "      <td>OAXACA, MEXICO</td>\n",
       "    </tr>\n",
       "    <tr>\n",
       "      <th>1</th>\n",
       "      <td>2021-12-04</td>\n",
       "      <td>17:59:26.0</td>\n",
       "      <td>5.99</td>\n",
       "      <td>126.04</td>\n",
       "      <td>MINDANAO, PHILIPPINES</td>\n",
       "    </tr>\n",
       "    <tr>\n",
       "      <th>2</th>\n",
       "      <td>2021-12-04</td>\n",
       "      <td>17:39:25.0</td>\n",
       "      <td>22.91</td>\n",
       "      <td>66.36</td>\n",
       "      <td>JUJUY, ARGENTINA</td>\n",
       "    </tr>\n",
       "    <tr>\n",
       "      <th>3</th>\n",
       "      <td>2021-12-04</td>\n",
       "      <td>17:23:10.7</td>\n",
       "      <td>32.03</td>\n",
       "      <td>179.73</td>\n",
       "      <td>SOUTH OF KERMADEC ISLANDS</td>\n",
       "    </tr>\n",
       "    <tr>\n",
       "      <th>4</th>\n",
       "      <td>2021-12-04</td>\n",
       "      <td>16:52:17.8</td>\n",
       "      <td>33.67</td>\n",
       "      <td>116.73</td>\n",
       "      <td>SOUTHERN CALIFORNIA</td>\n",
       "    </tr>\n",
       "    <tr>\n",
       "      <th>5</th>\n",
       "      <td>2021-12-04</td>\n",
       "      <td>16:39:11.0</td>\n",
       "      <td>22.42</td>\n",
       "      <td>69.01</td>\n",
       "      <td>ANTOFAGASTA, CHILE</td>\n",
       "    </tr>\n",
       "    <tr>\n",
       "      <th>6</th>\n",
       "      <td>2021-12-04</td>\n",
       "      <td>16:32:55.3</td>\n",
       "      <td>28.56</td>\n",
       "      <td>17.82</td>\n",
       "      <td>CANARY ISLANDS, SPAIN REGION</td>\n",
       "    </tr>\n",
       "    <tr>\n",
       "      <th>7</th>\n",
       "      <td>2021-12-04</td>\n",
       "      <td>16:21:51.6</td>\n",
       "      <td>19.23</td>\n",
       "      <td>155.39</td>\n",
       "      <td>ISLAND OF HAWAII, HAWAII</td>\n",
       "    </tr>\n",
       "    <tr>\n",
       "      <th>8</th>\n",
       "      <td>2021-12-04</td>\n",
       "      <td>16:20:47.5</td>\n",
       "      <td>28.57</td>\n",
       "      <td>17.84</td>\n",
       "      <td>CANARY ISLANDS, SPAIN REGION</td>\n",
       "    </tr>\n",
       "    <tr>\n",
       "      <th>9</th>\n",
       "      <td>2021-12-04</td>\n",
       "      <td>16:18:07.0</td>\n",
       "      <td>20.85</td>\n",
       "      <td>69.13</td>\n",
       "      <td>TARAPACA, CHILE</td>\n",
       "    </tr>\n",
       "  </tbody>\n",
       "</table>\n",
       "</div>"
      ],
      "text/plain": [
       "         Date        Time Latitude Longitude                         Region\n",
       "0  2021-12-04  18:04:50.0    16.20     97.29                 OAXACA, MEXICO\n",
       "1  2021-12-04  17:59:26.0     5.99    126.04          MINDANAO, PHILIPPINES\n",
       "2  2021-12-04  17:39:25.0    22.91     66.36               JUJUY, ARGENTINA\n",
       "3  2021-12-04  17:23:10.7    32.03    179.73      SOUTH OF KERMADEC ISLANDS\n",
       "4  2021-12-04  16:52:17.8    33.67    116.73            SOUTHERN CALIFORNIA\n",
       "5  2021-12-04  16:39:11.0    22.42     69.01             ANTOFAGASTA, CHILE\n",
       "6  2021-12-04  16:32:55.3    28.56     17.82   CANARY ISLANDS, SPAIN REGION\n",
       "7  2021-12-04  16:21:51.6    19.23    155.39       ISLAND OF HAWAII, HAWAII\n",
       "8  2021-12-04  16:20:47.5    28.57     17.84   CANARY ISLANDS, SPAIN REGION\n",
       "9  2021-12-04  16:18:07.0    20.85     69.13                TARAPACA, CHILE"
      ]
     },
     "execution_count": 64,
     "metadata": {},
     "output_type": "execute_result"
    }
   ],
   "source": [
    "url = 'https://www.emsc-csem.org/Earthquake/'\n",
    "html=requests.get(url).content\n",
    "soup = BeautifulSoup(html, 'html')\n",
    "\n",
    "soupdate=[i.text for i in soup.find_all('a',href=True)]\n",
    "date=[j[0:10] for j in soupdate if j[0:4]==\"2021\"]\n",
    "time=[j[-10:] for j in soupdate if j[0:4]==\"2021\"]\n",
    "\n",
    "souplace=[i.text for i in soup.find_all('td',class_=\"tabev1\")]\n",
    "latitude=[souplace[i].replace('\\xa0','') for i in range(0,len(souplace),2)]\n",
    "longitude=[souplace[i].replace('\\xa0','') for i in range(1,len(souplace),2)]\n",
    "\n",
    "region=[i.text for i in soup.find_all('td',class_='tb_region')]\n",
    "df = pd.DataFrame(list(zip(date,time,latitude,longitude,region)),columns=['Date','Time','Latitude','Longitude','Region'])\n",
    "df.head(10)"
   ]
  },
  {
   "cell_type": "markdown",
   "metadata": {},
   "source": [
    "#### Display the date, days, title, city, country of next 25 hackathon events as a Pandas dataframe table"
   ]
  },
  {
   "cell_type": "code",
   "execution_count": null,
   "metadata": {},
   "outputs": [
    {
     "data": {
      "text/html": [
       "<div>\n",
       "<style scoped>\n",
       "    .dataframe tbody tr th:only-of-type {\n",
       "        vertical-align: middle;\n",
       "    }\n",
       "\n",
       "    .dataframe tbody tr th {\n",
       "        vertical-align: top;\n",
       "    }\n",
       "\n",
       "    .dataframe thead th {\n",
       "        text-align: right;\n",
       "    }\n",
       "</style>\n",
       "<table border=\"1\" class=\"dataframe\">\n",
       "  <thead>\n",
       "    <tr style=\"text-align: right;\">\n",
       "      <th></th>\n",
       "      <th>title</th>\n",
       "      <th>date</th>\n",
       "      <th>city</th>\n",
       "      <th>country/state</th>\n",
       "      <th>format</th>\n",
       "    </tr>\n",
       "  </thead>\n",
       "  <tbody>\n",
       "    <tr>\n",
       "      <th>0</th>\n",
       "      <td>HackMTY</td>\n",
       "      <td>Aug 24th - 25th</td>\n",
       "      <td>Monterrey</td>\n",
       "      <td>MX</td>\n",
       "      <td>In-Person Only</td>\n",
       "    </tr>\n",
       "    <tr>\n",
       "      <th>1</th>\n",
       "      <td>Citizen Hacks</td>\n",
       "      <td>Sep 6th - 8th</td>\n",
       "      <td>Toronto</td>\n",
       "      <td>ON</td>\n",
       "      <td>In-Person Only</td>\n",
       "    </tr>\n",
       "    <tr>\n",
       "      <th>2</th>\n",
       "      <td>PennApps</td>\n",
       "      <td>Sep 6th - 8th</td>\n",
       "      <td>Philadelphia</td>\n",
       "      <td>PA</td>\n",
       "      <td>In-Person Only</td>\n",
       "    </tr>\n",
       "    <tr>\n",
       "      <th>3</th>\n",
       "      <td>Hackathon de Futuras Tecnologías</td>\n",
       "      <td>Sep 7th - 8th</td>\n",
       "      <td>Torreón</td>\n",
       "      <td>MX</td>\n",
       "      <td>In-Person Only</td>\n",
       "    </tr>\n",
       "    <tr>\n",
       "      <th>4</th>\n",
       "      <td>Hack the North</td>\n",
       "      <td>Sep 13th - 15th</td>\n",
       "      <td>Waterloo</td>\n",
       "      <td>ON</td>\n",
       "      <td>In-Person Only</td>\n",
       "    </tr>\n",
       "  </tbody>\n",
       "</table>\n",
       "</div>"
      ],
      "text/plain": [
       "                               title                     date          city  \\\n",
       "0                            HackMTY  Aug 24th - 25th             Monterrey   \n",
       "1                      Citizen Hacks    Sep 6th - 8th               Toronto   \n",
       "2                           PennApps    Sep 6th - 8th          Philadelphia   \n",
       "3  Hackathon de Futuras Tecnologías     Sep 7th - 8th               Torreón   \n",
       "4                     Hack the North  Sep 13th - 15th              Waterloo   \n",
       "\n",
       "  country/state          format  \n",
       "0            MX  In-Person Only  \n",
       "1            ON  In-Person Only  \n",
       "2            PA  In-Person Only  \n",
       "3            MX  In-Person Only  \n",
       "4            ON  In-Person Only  "
      ]
     },
     "execution_count": 61,
     "metadata": {},
     "output_type": "execute_result"
    }
   ],
   "source": [
    "url = 'https://www.mlh.io/seasons/na-2020/events'\n",
    "html=requests.get(url).content\n",
    "hck_soup=BeautifulSoup(html)\n",
    "\n",
    "events=hck_soup.find_all('div',{'class':'event'})\n",
    "events=[re.sub('[\\s\\S]*DIGITAL','',event.text) for event in events]\n",
    "events=[re.sub('HIGH SCHOOL','',event) for event in events]\n",
    "events=[re.sub(',','',event) for event in events]\n",
    "data=[re.sub('\\n+ *','\\n',event).strip('\\n').split('\\n') for event in events]\n",
    "colnames=['title','date','city','country/state', 'format']\n",
    "df_hack=pd.DataFrame(data, columns=colnames)\n",
    "df_hack.head()"
   ]
  },
  {
   "cell_type": "markdown",
   "metadata": {},
   "source": [
    "#### Count number of tweets by a given Twitter account."
   ]
  },
  {
   "cell_type": "markdown",
   "metadata": {},
   "source": [
    "You will need to include a ***try/except block*** for account names not found. \n",
    "<br>***Hint:*** the program should count the number of tweets for any provided account"
   ]
  },
  {
   "cell_type": "code",
   "execution_count": 125,
   "metadata": {},
   "outputs": [],
   "source": [
    "from selenium import webdriver\n",
    "from selenium.webdriver.common.keys import Keys\n",
    "import time"
   ]
  },
  {
   "cell_type": "code",
   "execution_count": 138,
   "metadata": {
    "tags": []
   },
   "outputs": [
    {
     "name": "stdin",
     "output_type": "stream",
     "text": [
      " jsjsjsjsjs\n"
     ]
    },
    {
     "name": "stdout",
     "output_type": "stream",
     "text": [
      "User jsjsjsjsjs got 1 Tweet\n"
     ]
    }
   ],
   "source": [
    "# This is the url you will scrape in this exercise \n",
    "# You will need to add the account credentials to this url\n",
    "user = input()\n",
    "url = f'https://twitter.com/{user}'\n",
    "driver = webdriver.Chrome(\"C:/Users/sarun/Desktop/Ironhack/webdriver/chromedriver.exe\")\n",
    "\n",
    "try:\n",
    "    driver.get(url)\n",
    "    time.sleep(2)\n",
    "    html_source = driver.page_source\n",
    "    soup = BeautifulSoup(html_source, 'html.parser')\n",
    "    tweets = soup.select(\"div [class = 'css-1dbjc4n r-1habvwh'] > div[dir='auto']\")\n",
    "    num_tweets = tweets[0].text.replace(\"\\xa0\",' ')\n",
    "    driver.quit()\n",
    "    print(f'User {user} got {num_tweets}')\n",
    "    \n",
    "except:\n",
    "    print('User invalid, try again.')\n",
    "    driver.quit()\n"
   ]
  },
  {
   "cell_type": "code",
   "execution_count": 139,
   "metadata": {},
   "outputs": [
    {
     "name": "stdout",
     "output_type": "stream",
     "text": [
      "User invalid, try again.\n"
     ]
    }
   ],
   "source": [
    "user = input()\n",
    "url = f'https://twitter.com/{user}'\n",
    "driver = webdriver.Chrome(\"C:/Users/sarun/Desktop/Ironhack/webdriver/chromedriver.exe\")\n",
    "\n",
    "try:\n",
    "    driver.get(url)\n",
    "    time.sleep(2)\n",
    "    html_source = driver.page_source\n",
    "    soup = BeautifulSoup(html_source, 'html.parser')\n",
    "    tweets = soup.select(\"div [class = 'css-1dbjc4n r-1habvwh'] > div[dir='auto']\")\n",
    "    num_tweets = tweets[0].text.replace(\"\\xa0\",' ')\n",
    "    driver.quit()\n",
    "    print(f'User {user} got {num_tweets}')\n",
    "    \n",
    "except:\n",
    "    print('User invalid, try again.')\n",
    "    driver.quit()"
   ]
  },
  {
   "cell_type": "markdown",
   "metadata": {},
   "source": [
    "#### Number of followers of a given twitter account"
   ]
  },
  {
   "cell_type": "markdown",
   "metadata": {},
   "source": [
    "You will need to include a ***try/except block*** in case account/s name not found. \n",
    "<br>***Hint:*** the program should count the followers for any provided account"
   ]
  },
  {
   "cell_type": "code",
   "execution_count": 142,
   "metadata": {},
   "outputs": [
    {
     "name": "stdin",
     "output_type": "stream",
     "text": [
      " BarackObama\n"
     ]
    },
    {
     "name": "stdout",
     "output_type": "stream",
     "text": [
      "User BarackObama got 130,3 M followers\n"
     ]
    }
   ],
   "source": [
    "user = input()\n",
    "url = f'https://twitter.com/{user}'\n",
    "driver = webdriver.Chrome(\"C:/Users/sarun/Desktop/Ironhack/webdriver/chromedriver.exe\")\n",
    "\n",
    "try:\n",
    "    driver.get(url)\n",
    "    time.sleep(2)\n",
    "    html_source = driver.page_source\n",
    "    soup = BeautifulSoup(html_source, 'html.parser')\n",
    "    follow = soup.select(f\"a[href = '/{user}/followers']\")\n",
    "    followers = follow[0].text.replace(\"\\xa0\",' ').replace('Seguidores','followers')\n",
    "    driver.quit()\n",
    "    print(f'User: {user} got {followers}')\n",
    "    \n",
    "except:\n",
    "    print('User invalid, try again.')\n",
    "    driver.quit()"
   ]
  },
  {
   "cell_type": "markdown",
   "metadata": {},
   "source": [
    "#### List all language names and number of related articles in the order they appear in wikipedia.org"
   ]
  },
  {
   "cell_type": "code",
   "execution_count": 48,
   "metadata": {},
   "outputs": [],
   "source": [
    "# This is the url you will scrape in this exercise\n",
    "url = 'https://www.wikipedia.org/'\n",
    "html=requests.get(url).content\n",
    "soup = BeautifulSoup(html, 'html')"
   ]
  },
  {
   "cell_type": "code",
   "execution_count": 49,
   "metadata": {},
   "outputs": [
    {
     "data": {
      "text/html": [
       "<div>\n",
       "<style scoped>\n",
       "    .dataframe tbody tr th:only-of-type {\n",
       "        vertical-align: middle;\n",
       "    }\n",
       "\n",
       "    .dataframe tbody tr th {\n",
       "        vertical-align: top;\n",
       "    }\n",
       "\n",
       "    .dataframe thead th {\n",
       "        text-align: right;\n",
       "    }\n",
       "</style>\n",
       "<table border=\"1\" class=\"dataframe\">\n",
       "  <thead>\n",
       "    <tr style=\"text-align: right;\">\n",
       "      <th></th>\n",
       "      <th>Languages</th>\n",
       "      <th>No. Articles</th>\n",
       "    </tr>\n",
       "  </thead>\n",
       "  <tbody>\n",
       "    <tr>\n",
       "      <th>0</th>\n",
       "      <td>English</td>\n",
       "      <td>6 383 000+</td>\n",
       "    </tr>\n",
       "    <tr>\n",
       "      <th>1</th>\n",
       "      <td>日本語</td>\n",
       "      <td>1 292 000+</td>\n",
       "    </tr>\n",
       "    <tr>\n",
       "      <th>2</th>\n",
       "      <td>Русский</td>\n",
       "      <td>1 756 000+</td>\n",
       "    </tr>\n",
       "    <tr>\n",
       "      <th>3</th>\n",
       "      <td>Deutsch</td>\n",
       "      <td>2 617 000+</td>\n",
       "    </tr>\n",
       "    <tr>\n",
       "      <th>4</th>\n",
       "      <td>Español</td>\n",
       "      <td>1 717 000+</td>\n",
       "    </tr>\n",
       "    <tr>\n",
       "      <th>5</th>\n",
       "      <td>Français</td>\n",
       "      <td>2 362 000+</td>\n",
       "    </tr>\n",
       "    <tr>\n",
       "      <th>6</th>\n",
       "      <td>中文</td>\n",
       "      <td>1 231 000+</td>\n",
       "    </tr>\n",
       "    <tr>\n",
       "      <th>7</th>\n",
       "      <td>Italiano</td>\n",
       "      <td>1 718 000+</td>\n",
       "    </tr>\n",
       "    <tr>\n",
       "      <th>8</th>\n",
       "      <td>Português</td>\n",
       "      <td>1 074 000+</td>\n",
       "    </tr>\n",
       "    <tr>\n",
       "      <th>9</th>\n",
       "      <td>Polski</td>\n",
       "      <td>1 490 000+</td>\n",
       "    </tr>\n",
       "  </tbody>\n",
       "</table>\n",
       "</div>"
      ],
      "text/plain": [
       "   Languages No. Articles\n",
       "0    English   6 383 000+\n",
       "1        日本語   1 292 000+\n",
       "2    Русский   1 756 000+\n",
       "3    Deutsch   2 617 000+\n",
       "4    Español   1 717 000+\n",
       "5   Français   2 362 000+\n",
       "6         中文   1 231 000+\n",
       "7   Italiano   1 718 000+\n",
       "8  Português   1 074 000+\n",
       "9     Polski   1 490 000+"
      ]
     },
     "execution_count": 49,
     "metadata": {},
     "output_type": "execute_result"
    }
   ],
   "source": [
    "lenguages=[i.text for i in soup.find_all('strong',class_=False)]\n",
    "souparticles=[i.text.replace(u'\\xa0', ' ') for i in soup.find_all('bdi')]\n",
    "articles=souparticles[0:10]\n",
    "df=pd.DataFrame(list(zip(lenguages,articles)),columns=['Languages','No. Articles'])\n",
    "df"
   ]
  },
  {
   "cell_type": "markdown",
   "metadata": {},
   "source": [
    "#### A list with the different kind of datasets available in data.gov.uk "
   ]
  },
  {
   "cell_type": "code",
   "execution_count": 50,
   "metadata": {},
   "outputs": [],
   "source": [
    "url = 'https://data.gov.uk/'\n",
    "html=requests.get(url).content\n",
    "soup = BeautifulSoup(html, 'html')"
   ]
  },
  {
   "cell_type": "code",
   "execution_count": 52,
   "metadata": {},
   "outputs": [
    {
     "data": {
      "text/plain": [
       "['Business and economy',\n",
       " 'Crime and justice',\n",
       " 'Defence',\n",
       " 'Education',\n",
       " 'Environment',\n",
       " 'Government',\n",
       " 'Government spending',\n",
       " 'Health',\n",
       " 'Mapping',\n",
       " 'Society',\n",
       " 'Towns and cities',\n",
       " 'Transport',\n",
       " 'Digital service performance',\n",
       " 'Government reference data']"
      ]
     },
     "execution_count": 52,
     "metadata": {},
     "output_type": "execute_result"
    }
   ],
   "source": [
    "datasets=[i.text for i in soup.find_all('h3')]\n",
    "datasets"
   ]
  },
  {
   "cell_type": "markdown",
   "metadata": {},
   "source": [
    "#### Top 10 languages by number of native speakers stored in a Pandas Dataframe"
   ]
  },
  {
   "cell_type": "code",
   "execution_count": 101,
   "metadata": {},
   "outputs": [
    {
     "data": {
      "text/html": [
       "<div>\n",
       "<style scoped>\n",
       "    .dataframe tbody tr th:only-of-type {\n",
       "        vertical-align: middle;\n",
       "    }\n",
       "\n",
       "    .dataframe tbody tr th {\n",
       "        vertical-align: top;\n",
       "    }\n",
       "\n",
       "    .dataframe thead th {\n",
       "        text-align: right;\n",
       "    }\n",
       "</style>\n",
       "<table border=\"1\" class=\"dataframe\">\n",
       "  <thead>\n",
       "    <tr style=\"text-align: right;\">\n",
       "      <th></th>\n",
       "      <th>position</th>\n",
       "      <th>language</th>\n",
       "    </tr>\n",
       "  </thead>\n",
       "  <tbody>\n",
       "    <tr>\n",
       "      <th>0</th>\n",
       "      <td>1</td>\n",
       "      <td>Mandarin Chinese</td>\n",
       "    </tr>\n",
       "    <tr>\n",
       "      <th>1</th>\n",
       "      <td>2</td>\n",
       "      <td>Spanish</td>\n",
       "    </tr>\n",
       "    <tr>\n",
       "      <th>2</th>\n",
       "      <td>3</td>\n",
       "      <td>English</td>\n",
       "    </tr>\n",
       "    <tr>\n",
       "      <th>3</th>\n",
       "      <td>4</td>\n",
       "      <td>Hindi</td>\n",
       "    </tr>\n",
       "    <tr>\n",
       "      <th>4</th>\n",
       "      <td>5</td>\n",
       "      <td>Bengali</td>\n",
       "    </tr>\n",
       "    <tr>\n",
       "      <th>5</th>\n",
       "      <td>6</td>\n",
       "      <td>Portuguese</td>\n",
       "    </tr>\n",
       "    <tr>\n",
       "      <th>6</th>\n",
       "      <td>7</td>\n",
       "      <td>Russian</td>\n",
       "    </tr>\n",
       "    <tr>\n",
       "      <th>7</th>\n",
       "      <td>8</td>\n",
       "      <td>Japanese</td>\n",
       "    </tr>\n",
       "    <tr>\n",
       "      <th>8</th>\n",
       "      <td>9</td>\n",
       "      <td>Western Punjabi</td>\n",
       "    </tr>\n",
       "    <tr>\n",
       "      <th>9</th>\n",
       "      <td>10</td>\n",
       "      <td>Marathi</td>\n",
       "    </tr>\n",
       "  </tbody>\n",
       "</table>\n",
       "</div>"
      ],
      "text/plain": [
       "  position          language\n",
       "0        1  Mandarin Chinese\n",
       "1        2           Spanish\n",
       "2        3           English\n",
       "3        4             Hindi\n",
       "4        5           Bengali\n",
       "5        6        Portuguese\n",
       "6        7           Russian\n",
       "7        8          Japanese\n",
       "8        9   Western Punjabi\n",
       "9       10           Marathi"
      ]
     },
     "execution_count": 101,
     "metadata": {},
     "output_type": "execute_result"
    }
   ],
   "source": [
    "url = 'https://en.wikipedia.org/wiki/List_of_languages_by_number_of_native_speakers'\n",
    "html=requests.get(url).content\n",
    "top_lang_soup=BeautifulSoup(html)\n",
    "top_langs=top_lang_soup.find('table',{'class':'sortable'})\n",
    "rows= top_langs.find_all('tr')\n",
    "top_languages=[row.find('a').text for row in rows[1:]][:10]\n",
    "\n",
    "top_lan = pd.DataFrame((range(1,11),top_languages), index = ['position','language']).T\n",
    "top_lan"
   ]
  },
  {
   "cell_type": "markdown",
   "metadata": {},
   "source": [
    "### BONUS QUESTIONS"
   ]
  },
  {
   "cell_type": "markdown",
   "metadata": {},
   "source": [
    "#### Scrape a certain number of tweets of a given Twitter account."
   ]
  },
  {
   "cell_type": "code",
   "execution_count": null,
   "metadata": {},
   "outputs": [],
   "source": [
    "# This is the url you will scrape in this exercise \n",
    "# You will need to add the account credentials to this url\n",
    "url = 'https://twitter.com/'"
   ]
  },
  {
   "cell_type": "markdown",
   "metadata": {},
   "source": [
    "#### IMDB's Top 250 data (movie name, Initial release, director name and stars) as a pandas dataframe"
   ]
  },
  {
   "cell_type": "code",
   "execution_count": 72,
   "metadata": {},
   "outputs": [
    {
     "data": {
      "text/html": [
       "<div>\n",
       "<style scoped>\n",
       "    .dataframe tbody tr th:only-of-type {\n",
       "        vertical-align: middle;\n",
       "    }\n",
       "\n",
       "    .dataframe tbody tr th {\n",
       "        vertical-align: top;\n",
       "    }\n",
       "\n",
       "    .dataframe thead th {\n",
       "        text-align: right;\n",
       "    }\n",
       "</style>\n",
       "<table border=\"1\" class=\"dataframe\">\n",
       "  <thead>\n",
       "    <tr style=\"text-align: right;\">\n",
       "      <th></th>\n",
       "      <th>Movie</th>\n",
       "      <th>Release</th>\n",
       "      <th>Director</th>\n",
       "      <th>Stars</th>\n",
       "    </tr>\n",
       "  </thead>\n",
       "  <tbody>\n",
       "    <tr>\n",
       "      <th>0</th>\n",
       "      <td>Sueño de fuga</td>\n",
       "      <td>1994</td>\n",
       "      <td>Frank Darabont</td>\n",
       "      <td>9.2</td>\n",
       "    </tr>\n",
       "    <tr>\n",
       "      <th>1</th>\n",
       "      <td>El padrino</td>\n",
       "      <td>1972</td>\n",
       "      <td>Francis Ford Coppola</td>\n",
       "      <td>9.1</td>\n",
       "    </tr>\n",
       "    <tr>\n",
       "      <th>2</th>\n",
       "      <td>El padrino II</td>\n",
       "      <td>1974</td>\n",
       "      <td>Francis Ford Coppola</td>\n",
       "      <td>9.0</td>\n",
       "    </tr>\n",
       "    <tr>\n",
       "      <th>3</th>\n",
       "      <td>Batman: El Caballero de la Noche</td>\n",
       "      <td>2008</td>\n",
       "      <td>Christopher Nolan</td>\n",
       "      <td>9.0</td>\n",
       "    </tr>\n",
       "    <tr>\n",
       "      <th>4</th>\n",
       "      <td>12 hombres en pugna</td>\n",
       "      <td>1957</td>\n",
       "      <td>Sidney Lumet</td>\n",
       "      <td>8.9</td>\n",
       "    </tr>\n",
       "  </tbody>\n",
       "</table>\n",
       "</div>"
      ],
      "text/plain": [
       "                              Movie Release              Director Stars\n",
       "0                     Sueño de fuga    1994        Frank Darabont   9.2\n",
       "1                        El padrino    1972  Francis Ford Coppola   9.1\n",
       "2                     El padrino II    1974  Francis Ford Coppola   9.0\n",
       "3  Batman: El Caballero de la Noche    2008     Christopher Nolan   9.0\n",
       "4               12 hombres en pugna    1957          Sidney Lumet   8.9"
      ]
     },
     "execution_count": 72,
     "metadata": {},
     "output_type": "execute_result"
    }
   ],
   "source": [
    "# This is the url you will scrape in this exercise \n",
    "url = 'https://www.imdb.com/chart/top'\n",
    "html=requests.get(url).content\n",
    "imdb_soup=BeautifulSoup(html)\n",
    "\n",
    "titles=[x.a.text for x in imdb_soup.select('.titleColumn')]\n",
    "links=['https://www.imdb.com/'+x.a['href'] for x in imdb_soup.select('.titleColumn')]\n",
    "releases=[x.span.text.strip('[()]') for x in imdb_soup.select('.titleColumn')]\n",
    "directors=[re.findall('(.*) \\(dir.\\)',x.a['title'])[0] for x in imdb_soup.select('.titleColumn')]\n",
    "ratings=[x.text.strip('\\n') for x in imdb_soup.find_all('td',{'class':'ratingColumn imdbRating'})]\n",
    "imdb_df=pd.DataFrame(list(zip(titles,releases,directors,ratings)),columns=['Movie','Release','Director','Stars'])\n",
    "\n",
    "imdb_df.head()"
   ]
  },
  {
   "cell_type": "markdown",
   "metadata": {},
   "source": [
    "#### Movie name, year and a brief summary of the top 10 random movies (IMDB) as a pandas dataframe."
   ]
  },
  {
   "cell_type": "code",
   "execution_count": null,
   "metadata": {},
   "outputs": [],
   "source": []
  },
  {
   "cell_type": "markdown",
   "metadata": {},
   "source": [
    "#### Find the live weather report (temperature, wind speed, description and weather) of a given city."
   ]
  },
  {
   "cell_type": "code",
   "execution_count": 84,
   "metadata": {},
   "outputs": [],
   "source": [
    "#https://openweathermap.org/current\n",
    "# El API KEY ya se venció"
   ]
  },
  {
   "cell_type": "markdown",
   "metadata": {},
   "source": [
    "#### Book name,price and stock availability as a pandas dataframe."
   ]
  },
  {
   "cell_type": "code",
   "execution_count": 95,
   "metadata": {},
   "outputs": [
    {
     "data": {
      "text/html": [
       "<div>\n",
       "<style scoped>\n",
       "    .dataframe tbody tr th:only-of-type {\n",
       "        vertical-align: middle;\n",
       "    }\n",
       "\n",
       "    .dataframe tbody tr th {\n",
       "        vertical-align: top;\n",
       "    }\n",
       "\n",
       "    .dataframe thead th {\n",
       "        text-align: right;\n",
       "    }\n",
       "</style>\n",
       "<table border=\"1\" class=\"dataframe\">\n",
       "  <thead>\n",
       "    <tr style=\"text-align: right;\">\n",
       "      <th></th>\n",
       "      <th>Title</th>\n",
       "      <th>Price</th>\n",
       "      <th>Availability</th>\n",
       "      <th>Stars</th>\n",
       "    </tr>\n",
       "  </thead>\n",
       "  <tbody>\n",
       "    <tr>\n",
       "      <th>0</th>\n",
       "      <td>A Light in the Attic</td>\n",
       "      <td>£51.77</td>\n",
       "      <td>In stock</td>\n",
       "      <td>Three</td>\n",
       "    </tr>\n",
       "    <tr>\n",
       "      <th>1</th>\n",
       "      <td>Tipping the Velvet</td>\n",
       "      <td>£53.74</td>\n",
       "      <td>In stock</td>\n",
       "      <td>One</td>\n",
       "    </tr>\n",
       "    <tr>\n",
       "      <th>2</th>\n",
       "      <td>Soumission</td>\n",
       "      <td>£50.10</td>\n",
       "      <td>In stock</td>\n",
       "      <td>One</td>\n",
       "    </tr>\n",
       "    <tr>\n",
       "      <th>3</th>\n",
       "      <td>Sharp Objects</td>\n",
       "      <td>£47.82</td>\n",
       "      <td>In stock</td>\n",
       "      <td>Four</td>\n",
       "    </tr>\n",
       "    <tr>\n",
       "      <th>4</th>\n",
       "      <td>Sapiens: A Brief History of Humankind</td>\n",
       "      <td>£54.23</td>\n",
       "      <td>In stock</td>\n",
       "      <td>Five</td>\n",
       "    </tr>\n",
       "    <tr>\n",
       "      <th>...</th>\n",
       "      <td>...</td>\n",
       "      <td>...</td>\n",
       "      <td>...</td>\n",
       "      <td>...</td>\n",
       "    </tr>\n",
       "    <tr>\n",
       "      <th>995</th>\n",
       "      <td>Alice in Wonderland (Alice's Adventures in Won...</td>\n",
       "      <td>£55.53</td>\n",
       "      <td>In stock</td>\n",
       "      <td>One</td>\n",
       "    </tr>\n",
       "    <tr>\n",
       "      <th>996</th>\n",
       "      <td>Ajin: Demi-Human, Volume 1 (Ajin: Demi-Human #1)</td>\n",
       "      <td>£57.06</td>\n",
       "      <td>In stock</td>\n",
       "      <td>Four</td>\n",
       "    </tr>\n",
       "    <tr>\n",
       "      <th>997</th>\n",
       "      <td>A Spy's Devotion (The Regency Spies of London #1)</td>\n",
       "      <td>£16.97</td>\n",
       "      <td>In stock</td>\n",
       "      <td>Five</td>\n",
       "    </tr>\n",
       "    <tr>\n",
       "      <th>998</th>\n",
       "      <td>1st to Die (Women's Murder Club #1)</td>\n",
       "      <td>£53.98</td>\n",
       "      <td>In stock</td>\n",
       "      <td>One</td>\n",
       "    </tr>\n",
       "    <tr>\n",
       "      <th>999</th>\n",
       "      <td>1,000 Places to See Before You Die</td>\n",
       "      <td>£26.08</td>\n",
       "      <td>In stock</td>\n",
       "      <td>Five</td>\n",
       "    </tr>\n",
       "  </tbody>\n",
       "</table>\n",
       "<p>1000 rows × 4 columns</p>\n",
       "</div>"
      ],
      "text/plain": [
       "                                                 Title   Price Availability  \\\n",
       "0                                 A Light in the Attic  £51.77     In stock   \n",
       "1                                   Tipping the Velvet  £53.74     In stock   \n",
       "2                                           Soumission  £50.10     In stock   \n",
       "3                                        Sharp Objects  £47.82     In stock   \n",
       "4                Sapiens: A Brief History of Humankind  £54.23     In stock   \n",
       "..                                                 ...     ...          ...   \n",
       "995  Alice in Wonderland (Alice's Adventures in Won...  £55.53     In stock   \n",
       "996   Ajin: Demi-Human, Volume 1 (Ajin: Demi-Human #1)  £57.06     In stock   \n",
       "997  A Spy's Devotion (The Regency Spies of London #1)  £16.97     In stock   \n",
       "998                1st to Die (Women's Murder Club #1)  £53.98     In stock   \n",
       "999                 1,000 Places to See Before You Die  £26.08     In stock   \n",
       "\n",
       "     Stars  \n",
       "0    Three  \n",
       "1      One  \n",
       "2      One  \n",
       "3     Four  \n",
       "4     Five  \n",
       "..     ...  \n",
       "995    One  \n",
       "996   Four  \n",
       "997   Five  \n",
       "998    One  \n",
       "999   Five  \n",
       "\n",
       "[1000 rows x 4 columns]"
      ]
     },
     "execution_count": 95,
     "metadata": {},
     "output_type": "execute_result"
    }
   ],
   "source": [
    "# This is the url you will scrape in this exercise. \n",
    "# It is a fictional bookstore created to be scraped. \n",
    "\n",
    "book_df=pd.DataFrame(columns=['Title','Price','Availability','Stars'])\n",
    "url_pattern = 'http://books.toscrape.com/catalogue/page-%s.html'\n",
    "\n",
    "for i in range(1,51):\n",
    "    url=url_pattern%i\n",
    "    html=requests.get(url).content\n",
    "    book_soup=BeautifulSoup(html)\n",
    "    titles=[x.a['title'] for x in book_soup.find_all('h3')]\n",
    "    prices=[x.text for x in book_soup.select('.price_color')]\n",
    "    in_stock=[re.sub('\\n','',x.text).strip() for x in book_soup.select('.instock')]\n",
    "    ratings=[x['class'][1] for x in book_soup.select('.star-rating')]\n",
    "    temp_books_df=pd.DataFrame(list(zip(titles,prices,in_stock,ratings)),columns=['Title','Price','Availability','Stars'])\n",
    "    book_df=book_df.append(temp_books_df,ignore_index=True)\n",
    "    \n",
    "book_df"
   ]
  }
 ],
 "metadata": {
  "kernelspec": {
   "display_name": "Python 3 (ipykernel)",
   "language": "python",
   "name": "python3"
  },
  "language_info": {
   "codemirror_mode": {
    "name": "ipython",
    "version": 3
   },
   "file_extension": ".py",
   "mimetype": "text/x-python",
   "name": "python",
   "nbconvert_exporter": "python",
   "pygments_lexer": "ipython3",
   "version": "3.8.12"
  }
 },
 "nbformat": 4,
 "nbformat_minor": 4
}
