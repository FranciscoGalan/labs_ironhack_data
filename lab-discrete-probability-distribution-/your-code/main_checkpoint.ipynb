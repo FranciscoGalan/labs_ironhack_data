{
  "cells": [
    {
      "cell_type": "markdown",
      "metadata": {
        "id": "ivoCkVklo3d-"
      },
      "source": [
        "# Before your start:\n",
        "\n",
        "    Read the README.md file\n",
        "    Comment as much as you can and use the resources (README.md file)\n",
        "    Happy learning!\n",
        "\n",
        "*Notes:* \n",
        "\n",
        "- Solve the questions with python.\n",
        "\n",
        "- Round the final answer to three decimal places."
      ]
    },
    {
      "cell_type": "code",
      "execution_count": 1,
      "metadata": {
        "id": "Gnr_uDiio3eF"
      },
      "outputs": [],
      "source": [
        "# Importamos las librerias que vamos a utilizar\n",
        "from scipy import stats\n",
        "from scipy.stats import binom, bernoulli, poisson\n",
        "import matplotlib.pyplot as plt "
      ]
    },
    {
      "cell_type": "markdown",
      "metadata": {
        "id": "BpBPcUtCo3eI"
      },
      "source": [
        "## Bernoulli's Distribution\n",
        "\n",
        "In a basket containing 100 fruits, there are 60 apples and 40 oranges. \n",
        "\n",
        "A fruit is picked randomly from the basket. \n",
        "\n",
        "1. **What is the probability that the fruit is apple?**\n",
        "1. **What is the probability that it is an orange?**"
      ]
    },
    {
      "cell_type": "code",
      "execution_count": 2,
      "metadata": {
        "colab": {
          "base_uri": "https://localhost:8080/"
        },
        "id": "--W_4UKzo3eK",
        "outputId": "2ad09f36-5103-4aff-f7eb-e87856cefcc2"
      },
      "outputs": [
        {
          "output_type": "stream",
          "name": "stdout",
          "text": [
            "probability that the fruit is an apple is: 0.6\n",
            "probability that the fruit is an orange is: 0.4\n"
          ]
        }
      ],
      "source": [
        "\"\"\"\n",
        "Calculate:\n",
        "p = probability that the fruit is an apple \n",
        "q = probability that the fruit is an orange\n",
        "\"\"\"\n",
        "model = bernoulli(60/100)\n",
        "\n",
        "print('probability that the fruit is an apple is:',model.pmf(1))\n",
        "print('probability that the fruit is an orange is:',model.pmf(0))\n",
        "\n",
        "# your code here"
      ]
    },
    {
      "cell_type": "markdown",
      "metadata": {
        "id": "ckAH_zoUo3eO"
      },
      "source": [
        "Now we take a random sample of 20 fruits from the basket. After each fruit is taken, a new fruit of the same type is replaced in the basket. Therefore, every time we are taking 1 fruit from 100 fruits. \n",
        "\n",
        "1. **What is the probability that the first 5 fruits are all apples?**\n",
        "\n",
        "1. **What is the probability that the first 5 fruits are all apples and the next 15 fruits are all oranges?**\n",
        "\n",
        "You can include the `p` and `q` probabilities you previous calculated in your solution."
      ]
    },
    {
      "cell_type": "code",
      "execution_count": 9,
      "metadata": {
        "colab": {
          "base_uri": "https://localhost:8080/"
        },
        "id": "L5-KVy5xo3eP",
        "outputId": "7c82992a-3bc9-4a78-91a6-b5b3ce418200"
      },
      "outputs": [
        {
          "output_type": "stream",
          "name": "stdout",
          "text": [
            "1.- 0.07775999999999998 5\n",
            "2.- 8.349416423424006e-08\n"
          ]
        }
      ],
      "source": [
        "print('1.-',model.pmf(1)**5,5)\n",
        "\n",
        "print('2.-',(model.pmf(1)**5)*(model.pmf(0)**15))"
      ]
    },
    {
      "cell_type": "markdown",
      "metadata": {
        "id": "cE8oP9MAo3eT"
      },
      "source": [
        "## Binomial Distribution\n",
        "\n",
        "Similar to the above problem, this time again we randomly sample 20 fruits.\n",
        "\n",
        "**What is the probability that this time the sample contains 5 apples and 15 oranges?**\n",
        "\n",
        "Please note that this time the order of the fruits being picked does not matter."
      ]
    },
    {
      "cell_type": "code",
      "execution_count": 11,
      "metadata": {
        "colab": {
          "base_uri": "https://localhost:8080/"
        },
        "id": "pyYumsdno3eW",
        "outputId": "1f8aa055-4bc6-48b3-9d95-d805b4c12a35"
      },
      "outputs": [
        {
          "output_type": "execute_result",
          "data": {
            "text/plain": [
              "0.0012944935222876511"
            ]
          },
          "metadata": {},
          "execution_count": 11
        }
      ],
      "source": [
        "# Definimos p = obtener una manzana\n",
        "binomial = stats.binom(20, 6/10)\n",
        "\n",
        "# La probabilidad de obtener justo 5 manzanas es:\n",
        "binomial.pmf(5)"
      ]
    },
    {
      "cell_type": "markdown",
      "source": [
        "Si lo quisieramos resolver directamente de la fórmula:\n",
        "\n",
        ">$P_X(k) =\n",
        "\\begin {cases}\n",
        "\\binom{n}{k} p^k (1-p)^{(n-k)} \\text { para $k$ de 0 hasta $n$} \n",
        "\\end {cases}$ "
      ],
      "metadata": {
        "id": "evMTLb7dqrwA"
      }
    },
    {
      "cell_type": "code",
      "source": [
        "from scipy.special import comb"
      ],
      "metadata": {
        "id": "pONCe9aprN_G"
      },
      "execution_count": 21,
      "outputs": []
    },
    {
      "cell_type": "code",
      "source": [
        "# Es lo mismo (:\n",
        "comb(20,5) * (.6)**(5) * (1 - .6)**(20-5)"
      ],
      "metadata": {
        "colab": {
          "base_uri": "https://localhost:8080/"
        },
        "id": "wSpt94uSqwIs",
        "outputId": "3f3a5983-0600-4ce9-c136-cf34d4b6773f"
      },
      "execution_count": 25,
      "outputs": [
        {
          "output_type": "execute_result",
          "data": {
            "text/plain": [
              "0.0012944935222876579"
            ]
          },
          "metadata": {},
          "execution_count": 25
        }
      ]
    },
    {
      "cell_type": "markdown",
      "metadata": {
        "id": "nRV15eVko3eZ"
      },
      "source": [
        "In the lesson we also discussed CDF (cumulative distribution function). In the context of the above problem, **what is the probability that less than 5 fruits picked are apples?**\n",
        "\n",
        "Write the formula and calculate the probability below."
      ]
    },
    {
      "cell_type": "code",
      "execution_count": 30,
      "metadata": {
        "colab": {
          "base_uri": "https://localhost:8080/"
        },
        "id": "x5LDzjn0o3ed",
        "outputId": "c3ed9e97-f602-4b48-9655-9fb4c89437b1"
      },
      "outputs": [
        {
          "output_type": "execute_result",
          "data": {
            "text/plain": [
              "0.0003170311211686301"
            ]
          },
          "metadata": {},
          "execution_count": 30
        }
      ],
      "source": [
        "# Es la probabilidad de P(0) + P(1) + P(2) + P(3) + P(4)\n",
        "binomial.cdf(4)"
      ]
    },
    {
      "cell_type": "markdown",
      "metadata": {
        "id": "7vGGVogDo3eg"
      },
      "source": [
        "**Plot the PDF (probability distributiom function) for the above binomial distribution.**\n",
        "\n",
        "*Hint: The range of x in a binomial distribution is from `0` to `n`.*"
      ]
    },
    {
      "cell_type": "code",
      "execution_count": 31,
      "metadata": {
        "colab": {
          "base_uri": "https://localhost:8080/",
          "height": 295
        },
        "id": "YqE4C9Pho3eh",
        "outputId": "7d52e45c-34d4-407d-c639-d722695069bd"
      },
      "outputs": [
        {
          "output_type": "display_data",
          "data": {
            "image/png": "[encoded data removed]",
            "text/plain": [
              "<Figure size 432x288 with 1 Axes>"
            ]
          },
          "metadata": {
            "needs_background": "light"
          }
        }
      ],
      "source": [
        "x = range(0,20)\n",
        "\n",
        "fig, ax = plt.subplots(1, 1)\n",
        "ax.plot(x, binomial.pmf(x), 'co', ms=8)\n",
        "ax.vlines(x, 0, binomial.pmf(x), colors='g', lw=5, alpha=0.5)\n",
        "plt.xlabel('x')\n",
        "plt.ylabel('Probability')\n",
        "plt.title('Binomial Dist');"
      ]
    },
    {
      "cell_type": "markdown",
      "metadata": {
        "id": "-fIMoUbTo3ej"
      },
      "source": [
        "## Poisson Distribution\n",
        "\n",
        "In this challenge you are required to use the Math library in python to solve the problems.\n",
        "\n",
        "In the UEFA champions league tournament, the average number of goals scored in a match is 2.3. \n",
        "\n",
        "**What is the probability that the number of goals scored in a match is 5?**\n",
        "\n",
        "*Hint: Use the exp() in the math library*\n",
        "\n",
        "And to calculate the factorial, you can use the following code:\n",
        "\n",
        "```python\n",
        "import math\n",
        "math.factorial(n) # n is the number you want to find the factorial of\n",
        "```"
      ]
    },
    {
      "cell_type": "markdown",
      "source": [
        "Como lo vimos en clase\n",
        ">$P_X(k) = \n",
        "\\begin{cases}\n",
        "\\frac {\\lambda^k e^{-\\lambda}}{k!}\n",
        "\\end{cases}\n",
        "$"
      ],
      "metadata": {
        "id": "h2DmNc8o-bz1"
      }
    },
    {
      "cell_type": "code",
      "execution_count": 32,
      "metadata": {
        "colab": {
          "base_uri": "https://localhost:8080/"
        },
        "id": "5QHECWMno3el",
        "outputId": "426ae1a3-782d-4f1c-d11e-dedef1cff832"
      },
      "outputs": [
        {
          "output_type": "execute_result",
          "data": {
            "text/plain": [
              "0.053775"
            ]
          },
          "metadata": {},
          "execution_count": 32
        }
      ],
      "source": [
        "import math\n",
        "\n",
        "# A manita\n",
        "round((2.3**5/math.factorial(5))*math.exp(-2.3),6)"
      ]
    },
    {
      "cell_type": "code",
      "execution_count": 33,
      "metadata": {
        "colab": {
          "base_uri": "https://localhost:8080/"
        },
        "id": "qaK436Iwo3em",
        "outputId": "6ab19b29-5a6b-4795-8e2f-bcec7c0cb2a7"
      },
      "outputs": [
        {
          "output_type": "execute_result",
          "data": {
            "text/plain": [
              "0.053775"
            ]
          },
          "metadata": {},
          "execution_count": 33
        }
      ],
      "source": [
        "# Con la librería de la distribución \n",
        "po = stats.poisson(2.3)\n",
        "round(po.pmf(5),6)"
      ]
    },
    {
      "cell_type": "markdown",
      "metadata": {
        "id": "vkZlCLoLo3en"
      },
      "source": [
        "**Draw a poisson probability distribution plot for the number of goals to be between 0 to 10.**"
      ]
    },
    {
      "cell_type": "code",
      "execution_count": 34,
      "metadata": {
        "colab": {
          "base_uri": "https://localhost:8080/",
          "height": 295
        },
        "id": "e63IeXUTo3eo",
        "outputId": "f0857090-bb5e-438f-cb7e-82292e26a0ca"
      },
      "outputs": [
        {
          "output_type": "display_data",
          "data": {
            "image/png": "[encoded data removed]",
            "text/plain": [
              "<Figure size 432x288 with 1 Axes>"
            ]
          },
          "metadata": {
            "needs_background": "light"
          }
        }
      ],
      "source": [
        "x = range(0,10)\n",
        "fig, ax = plt.subplots(1, 1)\n",
        "ax.plot(x, poisson.pmf(x, 2.3), 'co', ms=8)\n",
        "ax.vlines(x, 0, poisson.pmf(x, 2.3), colors='g', lw=5, alpha=0.5)\n",
        "plt.xlabel('x')\n",
        "plt.ylabel('Probability')\n",
        "plt.title('Poisson Dist');"
      ]
    }
  ],
  "metadata": {
    "kernelspec": {
      "display_name": "Python 3",
      "language": "python",
      "name": "python3"
    },
    "language_info": {
      "codemirror_mode": {
        "name": "ipython",
        "version": 3
      },
      "file_extension": ".py",
      "mimetype": "text/x-python",
      "name": "python",
      "nbconvert_exporter": "python",
      "pygments_lexer": "ipython3",
      "version": "3.8.3"
    },
    "colab": {
      "name": "main-checkpoint.ipynb",
      "provenance": []
    }
  },
  "nbformat": 4,
  "nbformat_minor": 0
}